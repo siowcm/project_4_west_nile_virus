{
 "cells": [
  {
   "cell_type": "markdown",
   "id": "1412e604",
   "metadata": {},
   "source": [
    "# Project 4: West Nile Virus\n",
    "\n",
    "---\n",
    "#### 03. Modelling\n",
    "\n",
    "# Table of Contents\n",
    "\n",
    "- Import Libraries and Data\n",
    "- Preprocessing\n",
    "- Modelling\n",
    "- Evaluating and Interpreting Results\n",
    "- Generating Predictions for Kaggle\n",
    "- Conclusion\n",
    "---\n",
    "7 different models are tested & evaluated and the metric used for scoring is ROC-AUC."
   ]
  },
  {
   "cell_type": "markdown",
   "id": "008aa032",
   "metadata": {},
   "source": [
    "# Import Libraries and Data"
   ]
  },
  {
   "cell_type": "code",
   "execution_count": 48,
   "id": "18ad3bd2",
   "metadata": {
    "execution": {
     "iopub.execute_input": "2022-02-06T01:01:48.110671Z",
     "iopub.status.busy": "2022-02-06T01:01:48.109865Z",
     "iopub.status.idle": "2022-02-06T01:01:48.128836Z",
     "shell.execute_reply": "2022-02-06T01:01:48.128072Z",
     "shell.execute_reply.started": "2022-02-06T01:01:48.110631Z"
    },
    "tags": []
   },
   "outputs": [],
   "source": [
    "# import libraries\n",
    "import pandas as pd\n",
    "import numpy as np\n",
    "import matplotlib.pyplot as plt\n",
    "\n",
    "from sklearn.model_selection import train_test_split, GridSearchCV\n",
    "from sklearn.preprocessing import StandardScaler, OneHotEncoder, OrdinalEncoder\n",
    "from sklearn.compose import make_column_transformer, make_column_selector\n",
    "from imblearn.over_sampling import SMOTE\n",
    "\n",
    "from sklearn.dummy import DummyClassifier\n",
    "from sklearn.ensemble import (\n",
    "    RandomForestClassifier,\n",
    "    GradientBoostingClassifier,\n",
    "    ExtraTreesClassifier,\n",
    ")\n",
    "from sklearn.neighbors import KNeighborsClassifier\n",
    "from sklearn.linear_model import LogisticRegression\n",
    "from sklearn.svm import SVC\n",
    "from xgboost import XGBClassifier\n",
    "\n",
    "from sklearn.metrics import (\n",
    "    confusion_matrix,\n",
    "    roc_auc_score,\n",
    "    RocCurveDisplay,\n",
    "    PrecisionRecallDisplay,\n",
    ")"
   ]
  },
  {
   "cell_type": "code",
   "execution_count": 2,
   "id": "ff8afd48",
   "metadata": {
    "execution": {
     "iopub.execute_input": "2022-02-05T10:05:31.603819Z",
     "iopub.status.busy": "2022-02-05T10:05:31.603718Z",
     "iopub.status.idle": "2022-02-05T10:05:31.660379Z",
     "shell.execute_reply": "2022-02-05T10:05:31.660070Z",
     "shell.execute_reply.started": "2022-02-05T10:05:31.603805Z"
    }
   },
   "outputs": [
    {
     "name": "stdout",
     "output_type": "stream",
     "text": [
      "Features in training set : ['species', 'latitude', 'longitude', 'wnvpresent', 'tmax', 'tmin', 'tavg', 'depart', 'dewpoint', 'wetbulb', 'heat', 'cool', 'preciptotal', 'temp_fluct', 'daylight', 'relative_hum', 'tavg_weekly', 'relative_hum_weekly', 'preciptotal_weekly', 'tavg_weekly_lag1', 'tavg_weekly_lag2', 'relative_hum_weekly_lag1', 'relative_hum_weekly_lag2', 'preciptotal_weekly_lag1', 'preciptotal_weekly_lag2']\n"
     ]
    }
   ],
   "source": [
    "# import training dataset\n",
    "train = pd.read_csv(\"../output_data/merged_train.csv\")\n",
    "\n",
    "# data cleaning\n",
    "train.set_index(\"date\", inplace=True)\n",
    "\n",
    "# check the df columns\n",
    "print(f\"Features in training set : {train.columns.tolist()}\")"
   ]
  },
  {
   "cell_type": "code",
   "execution_count": 3,
   "id": "f489778c",
   "metadata": {
    "execution": {
     "iopub.execute_input": "2022-02-05T10:05:31.661913Z",
     "iopub.status.busy": "2022-02-05T10:05:31.661789Z",
     "iopub.status.idle": "2022-02-05T10:05:31.666439Z",
     "shell.execute_reply": "2022-02-05T10:05:31.666047Z",
     "shell.execute_reply.started": "2022-02-05T10:05:31.661900Z"
    }
   },
   "outputs": [],
   "source": [
    "# define feature matrix and target vector\n",
    "X = train.drop(columns=\"wnvpresent\")\n",
    "y = train[\"wnvpresent\"]"
   ]
  },
  {
   "cell_type": "markdown",
   "id": "76ec5e32",
   "metadata": {},
   "source": [
    "# Preprocessing \n",
    "## Train-validation  split"
   ]
  },
  {
   "cell_type": "markdown",
   "id": "d8760e17",
   "metadata": {},
   "source": [
    "The data is split into train & validation sets. Stratify = y was used because they generate better prediction results."
   ]
  },
  {
   "cell_type": "code",
   "execution_count": 4,
   "id": "36818dda",
   "metadata": {
    "execution": {
     "iopub.execute_input": "2022-02-05T10:05:31.667104Z",
     "iopub.status.busy": "2022-02-05T10:05:31.666973Z",
     "iopub.status.idle": "2022-02-05T10:05:31.679632Z",
     "shell.execute_reply": "2022-02-05T10:05:31.679132Z",
     "shell.execute_reply.started": "2022-02-05T10:05:31.667092Z"
    }
   },
   "outputs": [],
   "source": [
    "# split dataset into train and validation set\n",
    "X_train, X_val, y_train, y_val = train_test_split(\n",
    "    X, y, random_state=42, stratify=y\n",
    ")"
   ]
  },
  {
   "cell_type": "code",
   "execution_count": 5,
   "id": "f5212f70",
   "metadata": {
    "execution": {
     "iopub.execute_input": "2022-02-05T10:05:31.680511Z",
     "iopub.status.busy": "2022-02-05T10:05:31.680389Z",
     "iopub.status.idle": "2022-02-05T10:05:31.684053Z",
     "shell.execute_reply": "2022-02-05T10:05:31.683749Z",
     "shell.execute_reply.started": "2022-02-05T10:05:31.680496Z"
    }
   },
   "outputs": [
    {
     "name": "stdout",
     "output_type": "stream",
     "text": [
      "===== Train Set Shape =====\n",
      "Features X_train: (7879, 24)\n",
      "Targets y_train:  (7879,)\n",
      "\n",
      "== Validation Set Shape ==\n",
      "Features X_val:   (2627, 24)\n",
      "Targets y_val:    (2627,)\n"
     ]
    }
   ],
   "source": [
    "# check the shape of training and testing vectors\n",
    "print(\" Train Set Shape \".center(27, \"=\"))\n",
    "print(f\"Features X_train: {X_train.shape}\")\n",
    "print(f\"Targets y_train:  {y_train.shape}\")\n",
    "print()\n",
    "print(\" Validation Set Shape \".center(26, \"=\"))\n",
    "print(f\"Features X_val:   {X_val.shape}\")\n",
    "print(f\"Targets y_val:    {y_val.shape}\")"
   ]
  },
  {
   "cell_type": "markdown",
   "id": "6b45adb6",
   "metadata": {},
   "source": [
    "## Features transformation "
   ]
  },
  {
   "cell_type": "markdown",
   "id": "ab8d609e",
   "metadata": {},
   "source": [
    "One Hot Encoder was used for categorical features such as Mosquito Species, as explained on the EDA/ Feature Engineering notebook. Numerical features are transformed using StandardScaler to ensure that they have the same range, which is important for certain classifiers like Logistic Regression."
   ]
  },
  {
   "cell_type": "code",
   "execution_count": 6,
   "id": "55b49eaf",
   "metadata": {
    "execution": {
     "iopub.execute_input": "2022-02-05T10:05:31.685226Z",
     "iopub.status.busy": "2022-02-05T10:05:31.684977Z",
     "iopub.status.idle": "2022-02-05T10:05:31.722716Z",
     "shell.execute_reply": "2022-02-05T10:05:31.722256Z",
     "shell.execute_reply.started": "2022-02-05T10:05:31.685208Z"
    }
   },
   "outputs": [
    {
     "data": {
      "text/html": [
       "<div>\n",
       "<style scoped>\n",
       "    .dataframe tbody tr th:only-of-type {\n",
       "        vertical-align: middle;\n",
       "    }\n",
       "\n",
       "    .dataframe tbody tr th {\n",
       "        vertical-align: top;\n",
       "    }\n",
       "\n",
       "    .dataframe thead th {\n",
       "        text-align: right;\n",
       "    }\n",
       "</style>\n",
       "<table border=\"1\" class=\"dataframe\">\n",
       "  <thead>\n",
       "    <tr style=\"text-align: right;\">\n",
       "      <th></th>\n",
       "      <th>latitude</th>\n",
       "      <th>longitude</th>\n",
       "      <th>tmax</th>\n",
       "      <th>tmin</th>\n",
       "      <th>tavg</th>\n",
       "      <th>depart</th>\n",
       "      <th>dewpoint</th>\n",
       "      <th>wetbulb</th>\n",
       "      <th>heat</th>\n",
       "      <th>cool</th>\n",
       "      <th>...</th>\n",
       "      <th>relative_hum_weekly_lag2</th>\n",
       "      <th>preciptotal_weekly_lag1</th>\n",
       "      <th>preciptotal_weekly_lag2</th>\n",
       "      <th>species_ERRATICUS</th>\n",
       "      <th>species_PIPIENS</th>\n",
       "      <th>species_PIPIENS/RESTUANS</th>\n",
       "      <th>species_RESTUANS</th>\n",
       "      <th>species_SALINARIUS</th>\n",
       "      <th>species_TARSALIS</th>\n",
       "      <th>species_TERRITANS</th>\n",
       "    </tr>\n",
       "  </thead>\n",
       "  <tbody>\n",
       "    <tr>\n",
       "      <th>0</th>\n",
       "      <td>0.627512</td>\n",
       "      <td>-0.279292</td>\n",
       "      <td>0.074525</td>\n",
       "      <td>-0.149319</td>\n",
       "      <td>-0.065976</td>\n",
       "      <td>0.660970</td>\n",
       "      <td>-0.148577</td>\n",
       "      <td>-0.118680</td>\n",
       "      <td>-0.330573</td>\n",
       "      <td>-0.241910</td>\n",
       "      <td>...</td>\n",
       "      <td>0.890670</td>\n",
       "      <td>-0.718824</td>\n",
       "      <td>-0.185112</td>\n",
       "      <td>0.0</td>\n",
       "      <td>1.0</td>\n",
       "      <td>0.0</td>\n",
       "      <td>0.0</td>\n",
       "      <td>0.0</td>\n",
       "      <td>0.0</td>\n",
       "      <td>0.0</td>\n",
       "    </tr>\n",
       "    <tr>\n",
       "      <th>1</th>\n",
       "      <td>-0.351569</td>\n",
       "      <td>-0.658353</td>\n",
       "      <td>-1.856803</td>\n",
       "      <td>-2.343141</td>\n",
       "      <td>-2.202696</td>\n",
       "      <td>-1.646831</td>\n",
       "      <td>-2.182258</td>\n",
       "      <td>-2.268127</td>\n",
       "      <td>2.814834</td>\n",
       "      <td>-1.549664</td>\n",
       "      <td>...</td>\n",
       "      <td>0.890670</td>\n",
       "      <td>-0.718824</td>\n",
       "      <td>-0.185112</td>\n",
       "      <td>0.0</td>\n",
       "      <td>0.0</td>\n",
       "      <td>1.0</td>\n",
       "      <td>0.0</td>\n",
       "      <td>0.0</td>\n",
       "      <td>0.0</td>\n",
       "      <td>0.0</td>\n",
       "    </tr>\n",
       "    <tr>\n",
       "      <th>2</th>\n",
       "      <td>1.185404</td>\n",
       "      <td>-1.972897</td>\n",
       "      <td>-2.822467</td>\n",
       "      <td>-2.210182</td>\n",
       "      <td>-2.670104</td>\n",
       "      <td>-2.262245</td>\n",
       "      <td>-2.627126</td>\n",
       "      <td>-2.638722</td>\n",
       "      <td>4.110001</td>\n",
       "      <td>-1.549664</td>\n",
       "      <td>...</td>\n",
       "      <td>0.890670</td>\n",
       "      <td>-0.718824</td>\n",
       "      <td>-0.185112</td>\n",
       "      <td>0.0</td>\n",
       "      <td>1.0</td>\n",
       "      <td>0.0</td>\n",
       "      <td>0.0</td>\n",
       "      <td>0.0</td>\n",
       "      <td>0.0</td>\n",
       "      <td>0.0</td>\n",
       "    </tr>\n",
       "    <tr>\n",
       "      <th>3</th>\n",
       "      <td>1.035515</td>\n",
       "      <td>-2.390206</td>\n",
       "      <td>-0.408307</td>\n",
       "      <td>-0.016360</td>\n",
       "      <td>-0.266293</td>\n",
       "      <td>-0.877564</td>\n",
       "      <td>-1.610285</td>\n",
       "      <td>-1.008107</td>\n",
       "      <td>-0.330573</td>\n",
       "      <td>-0.503461</td>\n",
       "      <td>...</td>\n",
       "      <td>-1.930212</td>\n",
       "      <td>-0.103824</td>\n",
       "      <td>-1.033891</td>\n",
       "      <td>0.0</td>\n",
       "      <td>1.0</td>\n",
       "      <td>0.0</td>\n",
       "      <td>0.0</td>\n",
       "      <td>0.0</td>\n",
       "      <td>0.0</td>\n",
       "      <td>0.0</td>\n",
       "    </tr>\n",
       "    <tr>\n",
       "      <th>4</th>\n",
       "      <td>1.185404</td>\n",
       "      <td>-1.972897</td>\n",
       "      <td>-1.675741</td>\n",
       "      <td>-1.412429</td>\n",
       "      <td>-1.668516</td>\n",
       "      <td>-1.339124</td>\n",
       "      <td>-1.928048</td>\n",
       "      <td>-1.897533</td>\n",
       "      <td>1.334643</td>\n",
       "      <td>-1.549664</td>\n",
       "      <td>...</td>\n",
       "      <td>0.222000</td>\n",
       "      <td>-0.799921</td>\n",
       "      <td>0.096492</td>\n",
       "      <td>0.0</td>\n",
       "      <td>0.0</td>\n",
       "      <td>0.0</td>\n",
       "      <td>1.0</td>\n",
       "      <td>0.0</td>\n",
       "      <td>0.0</td>\n",
       "      <td>0.0</td>\n",
       "    </tr>\n",
       "  </tbody>\n",
       "</table>\n",
       "<p>5 rows × 30 columns</p>\n",
       "</div>"
      ],
      "text/plain": [
       "   latitude  longitude      tmax      tmin      tavg    depart  dewpoint  \\\n",
       "0  0.627512  -0.279292  0.074525 -0.149319 -0.065976  0.660970 -0.148577   \n",
       "1 -0.351569  -0.658353 -1.856803 -2.343141 -2.202696 -1.646831 -2.182258   \n",
       "2  1.185404  -1.972897 -2.822467 -2.210182 -2.670104 -2.262245 -2.627126   \n",
       "3  1.035515  -2.390206 -0.408307 -0.016360 -0.266293 -0.877564 -1.610285   \n",
       "4  1.185404  -1.972897 -1.675741 -1.412429 -1.668516 -1.339124 -1.928048   \n",
       "\n",
       "    wetbulb      heat      cool  ...  relative_hum_weekly_lag2  \\\n",
       "0 -0.118680 -0.330573 -0.241910  ...                  0.890670   \n",
       "1 -2.268127  2.814834 -1.549664  ...                  0.890670   \n",
       "2 -2.638722  4.110001 -1.549664  ...                  0.890670   \n",
       "3 -1.008107 -0.330573 -0.503461  ...                 -1.930212   \n",
       "4 -1.897533  1.334643 -1.549664  ...                  0.222000   \n",
       "\n",
       "   preciptotal_weekly_lag1  preciptotal_weekly_lag2  species_ERRATICUS  \\\n",
       "0                -0.718824                -0.185112                0.0   \n",
       "1                -0.718824                -0.185112                0.0   \n",
       "2                -0.718824                -0.185112                0.0   \n",
       "3                -0.103824                -1.033891                0.0   \n",
       "4                -0.799921                 0.096492                0.0   \n",
       "\n",
       "   species_PIPIENS  species_PIPIENS/RESTUANS  species_RESTUANS  \\\n",
       "0              1.0                       0.0               0.0   \n",
       "1              0.0                       1.0               0.0   \n",
       "2              1.0                       0.0               0.0   \n",
       "3              1.0                       0.0               0.0   \n",
       "4              0.0                       0.0               1.0   \n",
       "\n",
       "   species_SALINARIUS  species_TARSALIS  species_TERRITANS  \n",
       "0                 0.0               0.0                0.0  \n",
       "1                 0.0               0.0                0.0  \n",
       "2                 0.0               0.0                0.0  \n",
       "3                 0.0               0.0                0.0  \n",
       "4                 0.0               0.0                0.0  \n",
       "\n",
       "[5 rows x 30 columns]"
      ]
     },
     "execution_count": 6,
     "metadata": {},
     "output_type": "execute_result"
    }
   ],
   "source": [
    "# instantiate transformers\n",
    "ohe = OneHotEncoder(sparse=False, handle_unknown=\"ignore\")\n",
    "sc = StandardScaler()\n",
    "\n",
    "\n",
    "# instantiate transformers into column transformer\n",
    "ct = make_column_transformer(\n",
    "    (sc, make_column_selector(dtype_include=\"number\")),\n",
    "    (ohe, make_column_selector(dtype_exclude=\"number\")),\n",
    "    remainder=\"passthrough\",\n",
    "    verbose_feature_names_out=False,\n",
    ")\n",
    "\n",
    "# transform feature matrix\n",
    "X_train = pd.DataFrame(\n",
    "    ct.fit_transform(X_train), columns=ct.get_feature_names_out()\n",
    ")\n",
    "\n",
    "X_val = pd.DataFrame(ct.transform(X_val), columns=ct.get_feature_names_out())\n",
    "\n",
    "# check X matrix after transformation\n",
    "X_train.head()"
   ]
  },
  {
   "cell_type": "code",
   "execution_count": 7,
   "id": "f99f9239",
   "metadata": {
    "execution": {
     "iopub.execute_input": "2022-02-05T10:05:31.723703Z",
     "iopub.status.busy": "2022-02-05T10:05:31.723549Z",
     "iopub.status.idle": "2022-02-05T10:05:31.726705Z",
     "shell.execute_reply": "2022-02-05T10:05:31.726309Z",
     "shell.execute_reply.started": "2022-02-05T10:05:31.723689Z"
    }
   },
   "outputs": [
    {
     "name": "stdout",
     "output_type": "stream",
     "text": [
      "Features in X matrix: ['latitude', 'longitude', 'tmax', 'tmin', 'tavg', 'depart', 'dewpoint', 'wetbulb', 'heat', 'cool', 'preciptotal', 'temp_fluct', 'daylight', 'relative_hum', 'tavg_weekly', 'relative_hum_weekly', 'preciptotal_weekly', 'tavg_weekly_lag1', 'tavg_weekly_lag2', 'relative_hum_weekly_lag1', 'relative_hum_weekly_lag2', 'preciptotal_weekly_lag1', 'preciptotal_weekly_lag2', 'species_ERRATICUS', 'species_PIPIENS', 'species_PIPIENS/RESTUANS', 'species_RESTUANS', 'species_SALINARIUS', 'species_TARSALIS', 'species_TERRITANS']\n"
     ]
    }
   ],
   "source": [
    "# check the df cloumns\n",
    "print(f\"Features in X matrix: {X_train.columns.tolist()}\")"
   ]
  },
  {
   "cell_type": "code",
   "execution_count": 8,
   "id": "129670c8",
   "metadata": {
    "execution": {
     "iopub.execute_input": "2022-02-05T10:05:31.727479Z",
     "iopub.status.busy": "2022-02-05T10:05:31.727359Z",
     "iopub.status.idle": "2022-02-05T10:05:31.731812Z",
     "shell.execute_reply": "2022-02-05T10:05:31.731488Z",
     "shell.execute_reply.started": "2022-02-05T10:05:31.727467Z"
    }
   },
   "outputs": [
    {
     "name": "stdout",
     "output_type": "stream",
     "text": [
      "===== Train Set Shape =====\n",
      "Features X_train: (7879, 30)\n",
      "Targets y_train:  (7879,)\n",
      "\n",
      "== Validation Set Shape ==\n",
      "Features X_val:   (2627, 30)\n",
      "Targets y_val:    (2627,)\n"
     ]
    }
   ],
   "source": [
    "# check the shape of training and testing vectors\n",
    "print(\" Train Set Shape \".center(27, \"=\"))\n",
    "print(f\"Features X_train: {X_train.shape}\")\n",
    "print(f\"Targets y_train:  {y_train.shape}\")\n",
    "print()\n",
    "print(\" Validation Set Shape \".center(26, \"=\"))\n",
    "print(f\"Features X_val:   {X_val.shape}\")\n",
    "print(f\"Targets y_val:    {y_val.shape}\")"
   ]
  },
  {
   "cell_type": "markdown",
   "id": "40800c5b",
   "metadata": {},
   "source": [
    "We confirm that the train & validation set shapes are similar and proceed to the modelling section."
   ]
  },
  {
   "cell_type": "markdown",
   "id": "0d51e421",
   "metadata": {},
   "source": [
    "# Modelling\n"
   ]
  },
  {
   "cell_type": "markdown",
   "id": "07589312",
   "metadata": {},
   "source": [
    "In this section, we define a modelling and scoring function, as well as run the following models:\n",
    "\n",
    "- Dummy Classifier\n",
    "- Random Forest Classifier\n",
    "- Support Vector Classifier\n",
    "- Logistic Regression\n",
    "- K Nearest Neighbors\n",
    "- Gradient Boosting Classifier\n",
    "- XGBoost Classifier\n",
    "- Extra Trees Classifier"
   ]
  },
  {
   "cell_type": "markdown",
   "id": "1e0a7b7b",
   "metadata": {},
   "source": [
    "## Functions used"
   ]
  },
  {
   "cell_type": "markdown",
   "id": "63702ef5",
   "metadata": {},
   "source": [
    "Two functions are defined here. Fit_gs fits a GridSearchCV to a classifier, prints best parameters and returns model. Eval_model returns a dataframe of scoring & evaluation metrics."
   ]
  },
  {
   "cell_type": "code",
   "execution_count": 9,
   "id": "9cb8300d",
   "metadata": {
    "execution": {
     "iopub.execute_input": "2022-02-05T10:05:31.732855Z",
     "iopub.status.busy": "2022-02-05T10:05:31.732749Z",
     "iopub.status.idle": "2022-02-05T10:05:31.736518Z",
     "shell.execute_reply": "2022-02-05T10:05:31.736212Z",
     "shell.execute_reply.started": "2022-02-05T10:05:31.732843Z"
    },
    "tags": []
   },
   "outputs": [],
   "source": [
    "def fit_gs(clf, params):\n",
    "    \"\"\"fits a GridSearchCV to a classifier, prints best params and returns model\"\"\"\n",
    "\n",
    "    gs = GridSearchCV(clf, params, cv=5, n_jobs=-1, scoring=\"roc_auc\")\n",
    "    gs.fit(X_train, y_train)\n",
    "    print(\" GridSearchCV \".center(45, \"=\"))\n",
    "    print(f\"Best Parameters: {gs.best_params_}\")\n",
    "    print(f\"Best Score (ROC AUC): {gs.best_score_}\")\n",
    "    print()\n",
    "    print(\" Evaluation \".center(45, \"=\"))\n",
    "    print(\n",
    "        f\"Train Score (ROC AUC): {roc_auc_score(y_train, gs.predict_proba(X_train)[:,1])}\"\n",
    "    )\n",
    "    print(\n",
    "        f\"Testing Score (ROC AUC): {roc_auc_score(y_val,gs.predict_proba(X_val)[:,1])}\"\n",
    "    )\n",
    "\n",
    "    return gs"
   ]
  },
  {
   "cell_type": "code",
   "execution_count": 10,
   "id": "fb7f7a24",
   "metadata": {
    "execution": {
     "iopub.execute_input": "2022-02-05T10:05:31.737261Z",
     "iopub.status.busy": "2022-02-05T10:05:31.737172Z",
     "iopub.status.idle": "2022-02-05T10:05:31.743949Z",
     "shell.execute_reply": "2022-02-05T10:05:31.743592Z",
     "shell.execute_reply.started": "2022-02-05T10:05:31.737249Z"
    }
   },
   "outputs": [],
   "source": [
    "def eval_model(model):\n",
    "    \"\"\"returns dataframe of evaluation metrics for classifier\"\"\"\n",
    "\n",
    "    # get predictions\n",
    "    y_pred = model.predict(X_val)\n",
    "    y_proba = model.predict_proba(X_val)[:, 1]\n",
    "\n",
    "    # metrics for evaluating classifier\n",
    "    tn, fp, fn, tp = confusion_matrix(y_val, y_pred).ravel()\n",
    "\n",
    "    accuracy = (tn + tp) / (tn + fp + fn + tp)\n",
    "\n",
    "    if (tn + fp) != 0:\n",
    "        spec = tn / (tn + fp)\n",
    "    else:\n",
    "        spec = \"NA\"\n",
    "\n",
    "    if (tp + fn) != 0:\n",
    "        recall = tp / (tp + fn)\n",
    "    else:\n",
    "        recall = np.nan\n",
    "\n",
    "    if (tp + fp) != 0:\n",
    "        precision = tp / (tp + fp)\n",
    "    else:\n",
    "        precision = np.nan\n",
    "\n",
    "    if recall == np.nan or precision == np.nan:\n",
    "        f1 = np.nan\n",
    "    else:\n",
    "        f1 = 2 * ((precision * recall) / (precision + recall))\n",
    "\n",
    "    roc = roc_auc_score(y_val, y_proba)\n",
    "\n",
    "    try:\n",
    "        model_name = str(model.estimator)[:-2]\n",
    "        if len(model_name) > 30:\n",
    "            model_name = model_name[:13]\n",
    "    except:\n",
    "        model_name = \"Dummy\"\n",
    "\n",
    "    df = pd.DataFrame(\n",
    "        [np.round([accuracy, spec, recall, precision, f1, fp, fn, roc], 3)],\n",
    "        columns=[\n",
    "            \"Accuracy\",\n",
    "            \"Specificity\",\n",
    "            \"Recall\",\n",
    "            \"Precision\",\n",
    "            \"F1\",\n",
    "            \"False Positives\",\n",
    "            \"False Negatives\",\n",
    "            \"ROC-AUC\",\n",
    "        ],\n",
    "        index=[model_name],\n",
    "        dtype=\"str\",\n",
    "    )\n",
    "    return df"
   ]
  },
  {
   "cell_type": "markdown",
   "id": "9308a9a4",
   "metadata": {},
   "source": [
    "## (0) Dummy Model"
   ]
  },
  {
   "cell_type": "markdown",
   "id": "70f64d97",
   "metadata": {},
   "source": [
    "The dummy model is used as the baseline model, which is the simplest possible prediction of a model. Because this is an imbalanced classification problem with majority of the data being 0, the dummy classifier produces a high specificity (1.0) with a 0 recall (0.0) and a ROC-AUC of 0.5, which will be used as the baseline for comparison with relatively more complex models."
   ]
  },
  {
   "cell_type": "code",
   "execution_count": 11,
   "id": "4d676926",
   "metadata": {
    "execution": {
     "iopub.execute_input": "2022-02-05T10:05:31.744656Z",
     "iopub.status.busy": "2022-02-05T10:05:31.744552Z",
     "iopub.status.idle": "2022-02-05T10:05:31.757143Z",
     "shell.execute_reply": "2022-02-05T10:05:31.756784Z",
     "shell.execute_reply.started": "2022-02-05T10:05:31.744644Z"
    },
    "tags": []
   },
   "outputs": [
    {
     "data": {
      "text/html": [
       "<div>\n",
       "<style scoped>\n",
       "    .dataframe tbody tr th:only-of-type {\n",
       "        vertical-align: middle;\n",
       "    }\n",
       "\n",
       "    .dataframe tbody tr th {\n",
       "        vertical-align: top;\n",
       "    }\n",
       "\n",
       "    .dataframe thead th {\n",
       "        text-align: right;\n",
       "    }\n",
       "</style>\n",
       "<table border=\"1\" class=\"dataframe\">\n",
       "  <thead>\n",
       "    <tr style=\"text-align: right;\">\n",
       "      <th></th>\n",
       "      <th>Accuracy</th>\n",
       "      <th>Specificity</th>\n",
       "      <th>Recall</th>\n",
       "      <th>Precision</th>\n",
       "      <th>F1</th>\n",
       "      <th>False Positives</th>\n",
       "      <th>False Negatives</th>\n",
       "      <th>ROC-AUC</th>\n",
       "    </tr>\n",
       "  </thead>\n",
       "  <tbody>\n",
       "    <tr>\n",
       "      <th>Dummy</th>\n",
       "      <td>0.947</td>\n",
       "      <td>1.0</td>\n",
       "      <td>0.0</td>\n",
       "      <td>NaN</td>\n",
       "      <td>NaN</td>\n",
       "      <td>0.0</td>\n",
       "      <td>138.0</td>\n",
       "      <td>0.5</td>\n",
       "    </tr>\n",
       "  </tbody>\n",
       "</table>\n",
       "</div>"
      ],
      "text/plain": [
       "      Accuracy Specificity Recall Precision   F1 False Positives  \\\n",
       "Dummy    0.947         1.0    0.0       NaN  NaN             0.0   \n",
       "\n",
       "      False Negatives ROC-AUC  \n",
       "Dummy           138.0     0.5  "
      ]
     },
     "execution_count": 11,
     "metadata": {},
     "output_type": "execute_result"
    }
   ],
   "source": [
    "# fit dummy model\n",
    "dummy = DummyClassifier(strategy=\"most_frequent\", random_state=42)\n",
    "dummy.fit(X_train, y_train)\n",
    "\n",
    "dummy_result = eval_model(dummy)\n",
    "dummy_result"
   ]
  },
  {
   "cell_type": "markdown",
   "id": "d06550dc",
   "metadata": {},
   "source": [
    "## (1) Random Forest Classifier"
   ]
  },
  {
   "cell_type": "markdown",
   "id": "6b4bbc75",
   "metadata": {},
   "source": [
    "Random Forest has its advantages in this classification problem because it is non-parameteric and makes no underlying assumptions of the data distribution. However, it has a tendency to overfit onto training & validation data and underperform on the test set (the Kaggle dataset)."
   ]
  },
  {
   "cell_type": "code",
   "execution_count": 12,
   "id": "1bb5943f",
   "metadata": {
    "execution": {
     "iopub.execute_input": "2022-02-05T10:05:31.760105Z",
     "iopub.status.busy": "2022-02-05T10:05:31.759949Z",
     "iopub.status.idle": "2022-02-05T10:05:48.574375Z",
     "shell.execute_reply": "2022-02-05T10:05:48.573978Z",
     "shell.execute_reply.started": "2022-02-05T10:05:31.760091Z"
    },
    "tags": []
   },
   "outputs": [
    {
     "name": "stdout",
     "output_type": "stream",
     "text": [
      "================ GridSearchCV ===============\n",
      "Best Parameters: {'class_weight': 'balanced_subsample', 'max_depth': 8, 'n_estimators': 150, 'random_state': 42}\n",
      "Best Score (ROC AUC): 0.8397458112062054\n",
      "\n",
      "================= Evaluation ================\n",
      "Train Score (ROC AUC): 0.9111562408179388\n",
      "Testing Score (ROC AUC): 0.8215219429256846\n"
     ]
    }
   ],
   "source": [
    "rfc_params = {\n",
    "    \"n_estimators\": [100, 150, 200],\n",
    "    \"max_depth\": [5, 8, 15],\n",
    "    \"class_weight\": [None, \"balanced\", \"balanced_subsample\"],\n",
    "    \"random_state\": [42],\n",
    "}\n",
    "\n",
    "rfc = fit_gs(RandomForestClassifier(), rfc_params)"
   ]
  },
  {
   "cell_type": "code",
   "execution_count": 13,
   "id": "c3d25bde",
   "metadata": {
    "execution": {
     "iopub.execute_input": "2022-02-05T10:05:48.575457Z",
     "iopub.status.busy": "2022-02-05T10:05:48.575295Z",
     "iopub.status.idle": "2022-02-05T10:05:48.661109Z",
     "shell.execute_reply": "2022-02-05T10:05:48.660844Z",
     "shell.execute_reply.started": "2022-02-05T10:05:48.575440Z"
    },
    "tags": []
   },
   "outputs": [
    {
     "data": {
      "text/html": [
       "<div>\n",
       "<style scoped>\n",
       "    .dataframe tbody tr th:only-of-type {\n",
       "        vertical-align: middle;\n",
       "    }\n",
       "\n",
       "    .dataframe tbody tr th {\n",
       "        vertical-align: top;\n",
       "    }\n",
       "\n",
       "    .dataframe thead th {\n",
       "        text-align: right;\n",
       "    }\n",
       "</style>\n",
       "<table border=\"1\" class=\"dataframe\">\n",
       "  <thead>\n",
       "    <tr style=\"text-align: right;\">\n",
       "      <th></th>\n",
       "      <th>Accuracy</th>\n",
       "      <th>Specificity</th>\n",
       "      <th>Recall</th>\n",
       "      <th>Precision</th>\n",
       "      <th>F1</th>\n",
       "      <th>False Positives</th>\n",
       "      <th>False Negatives</th>\n",
       "      <th>ROC-AUC</th>\n",
       "    </tr>\n",
       "  </thead>\n",
       "  <tbody>\n",
       "    <tr>\n",
       "      <th>RandomForestClassifier</th>\n",
       "      <td>0.774</td>\n",
       "      <td>0.777</td>\n",
       "      <td>0.703</td>\n",
       "      <td>0.149</td>\n",
       "      <td>0.246</td>\n",
       "      <td>554.0</td>\n",
       "      <td>41.0</td>\n",
       "      <td>0.822</td>\n",
       "    </tr>\n",
       "  </tbody>\n",
       "</table>\n",
       "</div>"
      ],
      "text/plain": [
       "                       Accuracy Specificity Recall Precision     F1  \\\n",
       "RandomForestClassifier    0.774       0.777  0.703     0.149  0.246   \n",
       "\n",
       "                       False Positives False Negatives ROC-AUC  \n",
       "RandomForestClassifier           554.0            41.0   0.822  "
      ]
     },
     "execution_count": 13,
     "metadata": {},
     "output_type": "execute_result"
    }
   ],
   "source": [
    "rfc_result = eval_model(rfc)\n",
    "rfc_result"
   ]
  },
  {
   "cell_type": "markdown",
   "id": "12c45416",
   "metadata": {},
   "source": [
    "## (2) Support Vector Classifier"
   ]
  },
  {
   "cell_type": "markdown",
   "id": "9f72e909",
   "metadata": {},
   "source": [
    "SVC has one of the lowest performing model accuracy but its ROC-AUC score is decent and comparable to other models. It talso has the lowest false negative rate, which is beneficial because false negatives are more dangerous than false positives in this problem set. It is worse to leave a WNV-positive mosquito undetected than to falsely predict a WNV-negative mosquito as WNV-positive."
   ]
  },
  {
   "cell_type": "code",
   "execution_count": 14,
   "id": "b436d0ec",
   "metadata": {
    "execution": {
     "iopub.execute_input": "2022-02-05T10:05:48.661798Z",
     "iopub.status.busy": "2022-02-05T10:05:48.661712Z",
     "iopub.status.idle": "2022-02-05T10:07:52.538752Z",
     "shell.execute_reply": "2022-02-05T10:07:52.537882Z",
     "shell.execute_reply.started": "2022-02-05T10:05:48.661788Z"
    }
   },
   "outputs": [
    {
     "name": "stdout",
     "output_type": "stream",
     "text": [
      "================ GridSearchCV ===============\n",
      "Best Parameters: {'C': 1, 'class_weight': {0: 1, 1: 10}, 'probability': True, 'random_state': 42}\n",
      "Best Score (ROC AUC): 0.8181143378889143\n",
      "\n",
      "================= Evaluation ================\n",
      "Train Score (ROC AUC): 0.8834409289829795\n",
      "Testing Score (ROC AUC): 0.815328023011395\n"
     ]
    }
   ],
   "source": [
    "svc_params = {\n",
    "    \"C\": [10 ** -2, 10 ** -1, 10 ** 0, 10 ** 1, 10 ** 2],\n",
    "    \"class_weight\": [None, {0: 1, 1: 10}, {0: 1, 1: 25}],\n",
    "    \"probability\": [True],\n",
    "    \"random_state\": [42],\n",
    "}\n",
    "svc = fit_gs(SVC(), svc_params)"
   ]
  },
  {
   "cell_type": "code",
   "execution_count": 15,
   "id": "3ff83845",
   "metadata": {
    "execution": {
     "iopub.execute_input": "2022-02-05T10:07:52.541037Z",
     "iopub.status.busy": "2022-02-05T10:07:52.540908Z",
     "iopub.status.idle": "2022-02-05T10:07:54.098936Z",
     "shell.execute_reply": "2022-02-05T10:07:54.098672Z",
     "shell.execute_reply.started": "2022-02-05T10:07:52.541021Z"
    }
   },
   "outputs": [
    {
     "data": {
      "text/html": [
       "<div>\n",
       "<style scoped>\n",
       "    .dataframe tbody tr th:only-of-type {\n",
       "        vertical-align: middle;\n",
       "    }\n",
       "\n",
       "    .dataframe tbody tr th {\n",
       "        vertical-align: top;\n",
       "    }\n",
       "\n",
       "    .dataframe thead th {\n",
       "        text-align: right;\n",
       "    }\n",
       "</style>\n",
       "<table border=\"1\" class=\"dataframe\">\n",
       "  <thead>\n",
       "    <tr style=\"text-align: right;\">\n",
       "      <th></th>\n",
       "      <th>Accuracy</th>\n",
       "      <th>Specificity</th>\n",
       "      <th>Recall</th>\n",
       "      <th>Precision</th>\n",
       "      <th>F1</th>\n",
       "      <th>False Positives</th>\n",
       "      <th>False Negatives</th>\n",
       "      <th>ROC-AUC</th>\n",
       "    </tr>\n",
       "  </thead>\n",
       "  <tbody>\n",
       "    <tr>\n",
       "      <th>SVC</th>\n",
       "      <td>0.809</td>\n",
       "      <td>0.818</td>\n",
       "      <td>0.63</td>\n",
       "      <td>0.161</td>\n",
       "      <td>0.257</td>\n",
       "      <td>452.0</td>\n",
       "      <td>51.0</td>\n",
       "      <td>0.815</td>\n",
       "    </tr>\n",
       "  </tbody>\n",
       "</table>\n",
       "</div>"
      ],
      "text/plain": [
       "    Accuracy Specificity Recall Precision     F1 False Positives  \\\n",
       "SVC    0.809       0.818   0.63     0.161  0.257           452.0   \n",
       "\n",
       "    False Negatives ROC-AUC  \n",
       "SVC            51.0   0.815  "
      ]
     },
     "execution_count": 15,
     "metadata": {},
     "output_type": "execute_result"
    }
   ],
   "source": [
    "svc_result = eval_model(svc)\n",
    "svc_result"
   ]
  },
  {
   "cell_type": "markdown",
   "id": "fca44efc",
   "metadata": {},
   "source": [
    "## (3) Logistic Regression"
   ]
  },
  {
   "cell_type": "markdown",
   "id": "a6ca52b9",
   "metadata": {},
   "source": [
    "The best penalty is L1 (Lasso) rather than L2 (Ridge), which implies that some features are given a weight of 0 during the modelling process. The C of 1 suggests a moderate level of regularization.\n",
    "\n",
    "The benefit of using Logistic Regression is the interpretability of coefficients. However, because its false negative rate is too high, it yields little benefit to our classification task."
   ]
  },
  {
   "cell_type": "code",
   "execution_count": 16,
   "id": "eaee6595",
   "metadata": {
    "execution": {
     "iopub.execute_input": "2022-02-05T10:07:54.099615Z",
     "iopub.status.busy": "2022-02-05T10:07:54.099517Z",
     "iopub.status.idle": "2022-02-05T10:10:58.179216Z",
     "shell.execute_reply": "2022-02-05T10:10:58.177512Z",
     "shell.execute_reply.started": "2022-02-05T10:07:54.099604Z"
    }
   },
   "outputs": [
    {
     "name": "stdout",
     "output_type": "stream",
     "text": [
      "================ GridSearchCV ===============\n",
      "Best Parameters: {'C': 100, 'class_weight': None, 'max_iter': 20, 'penalty': 'l2', 'random_state': 42, 'solver': 'liblinear'}\n",
      "Best Score (ROC AUC): 0.809037749241347\n",
      "\n",
      "================= Evaluation ================\n",
      "Train Score (ROC AUC): 0.8196664264601625\n",
      "Testing Score (ROC AUC): 0.7686327085553246\n"
     ]
    }
   ],
   "source": [
    "lr_params = {\n",
    "    \"C\": [10 ** -2, 10 ** -1, 10 ** 0, 10 ** 1, 10 ** 2],\n",
    "    \"penalty\": [\"l1\", \"l2\"],\n",
    "    \"max_iter\": [20, 50, 100, 200],\n",
    "    \"class_weight\": [None, {0: 1, 1: 10}, {0: 1, 1: 25}],\n",
    "    \"solver\": [\"liblinear\"],\n",
    "    \"random_state\": [42],\n",
    "}\n",
    "\n",
    "lr = fit_gs(LogisticRegression(), lr_params)"
   ]
  },
  {
   "cell_type": "code",
   "execution_count": 17,
   "id": "e9a32852",
   "metadata": {
    "execution": {
     "iopub.execute_input": "2022-02-05T10:10:58.189427Z",
     "iopub.status.busy": "2022-02-05T10:10:58.189108Z",
     "iopub.status.idle": "2022-02-05T10:10:58.220912Z",
     "shell.execute_reply": "2022-02-05T10:10:58.220496Z",
     "shell.execute_reply.started": "2022-02-05T10:10:58.189406Z"
    }
   },
   "outputs": [
    {
     "data": {
      "text/html": [
       "<div>\n",
       "<style scoped>\n",
       "    .dataframe tbody tr th:only-of-type {\n",
       "        vertical-align: middle;\n",
       "    }\n",
       "\n",
       "    .dataframe tbody tr th {\n",
       "        vertical-align: top;\n",
       "    }\n",
       "\n",
       "    .dataframe thead th {\n",
       "        text-align: right;\n",
       "    }\n",
       "</style>\n",
       "<table border=\"1\" class=\"dataframe\">\n",
       "  <thead>\n",
       "    <tr style=\"text-align: right;\">\n",
       "      <th></th>\n",
       "      <th>Accuracy</th>\n",
       "      <th>Specificity</th>\n",
       "      <th>Recall</th>\n",
       "      <th>Precision</th>\n",
       "      <th>F1</th>\n",
       "      <th>False Positives</th>\n",
       "      <th>False Negatives</th>\n",
       "      <th>ROC-AUC</th>\n",
       "    </tr>\n",
       "  </thead>\n",
       "  <tbody>\n",
       "    <tr>\n",
       "      <th>LogisticRegression</th>\n",
       "      <td>0.947</td>\n",
       "      <td>1.0</td>\n",
       "      <td>0.0</td>\n",
       "      <td>NaN</td>\n",
       "      <td>NaN</td>\n",
       "      <td>0.0</td>\n",
       "      <td>138.0</td>\n",
       "      <td>0.769</td>\n",
       "    </tr>\n",
       "  </tbody>\n",
       "</table>\n",
       "</div>"
      ],
      "text/plain": [
       "                   Accuracy Specificity Recall Precision   F1 False Positives  \\\n",
       "LogisticRegression    0.947         1.0    0.0       NaN  NaN             0.0   \n",
       "\n",
       "                   False Negatives ROC-AUC  \n",
       "LogisticRegression           138.0   0.769  "
      ]
     },
     "execution_count": 17,
     "metadata": {},
     "output_type": "execute_result"
    }
   ],
   "source": [
    "lr_result = eval_model(lr)\n",
    "lr_result"
   ]
  },
  {
   "cell_type": "markdown",
   "id": "bf8e1d54",
   "metadata": {},
   "source": [
    "## (4) K-nearest neighbours"
   ]
  },
  {
   "cell_type": "markdown",
   "id": "05d45b90",
   "metadata": {},
   "source": [
    "K Nearest Neighbors produced very similar results to Logistic Regression."
   ]
  },
  {
   "cell_type": "code",
   "execution_count": 18,
   "id": "6ca2a4fa",
   "metadata": {
    "execution": {
     "iopub.execute_input": "2022-02-05T10:10:58.222757Z",
     "iopub.status.busy": "2022-02-05T10:10:58.222556Z",
     "iopub.status.idle": "2022-02-05T10:11:04.064357Z",
     "shell.execute_reply": "2022-02-05T10:11:04.063417Z",
     "shell.execute_reply.started": "2022-02-05T10:10:58.222738Z"
    }
   },
   "outputs": [
    {
     "name": "stdout",
     "output_type": "stream",
     "text": [
      "================ GridSearchCV ===============\n",
      "Best Parameters: {'n_neighbors': 65}\n",
      "Best Score (ROC AUC): 0.8129837156936439\n",
      "\n",
      "================= Evaluation ================\n",
      "Train Score (ROC AUC): 0.8601425736948582\n",
      "Testing Score (ROC AUC): 0.7928566853576025\n"
     ]
    }
   ],
   "source": [
    "knn_params = {\"n_neighbors\": [5, 35, 65, 95]}\n",
    "\n",
    "knn = fit_gs(KNeighborsClassifier(), knn_params)"
   ]
  },
  {
   "cell_type": "code",
   "execution_count": 19,
   "id": "0e123164",
   "metadata": {
    "execution": {
     "iopub.execute_input": "2022-02-05T10:11:04.066203Z",
     "iopub.status.busy": "2022-02-05T10:11:04.066087Z",
     "iopub.status.idle": "2022-02-05T10:11:05.057785Z",
     "shell.execute_reply": "2022-02-05T10:11:05.057399Z",
     "shell.execute_reply.started": "2022-02-05T10:11:04.066187Z"
    }
   },
   "outputs": [
    {
     "data": {
      "text/html": [
       "<div>\n",
       "<style scoped>\n",
       "    .dataframe tbody tr th:only-of-type {\n",
       "        vertical-align: middle;\n",
       "    }\n",
       "\n",
       "    .dataframe tbody tr th {\n",
       "        vertical-align: top;\n",
       "    }\n",
       "\n",
       "    .dataframe thead th {\n",
       "        text-align: right;\n",
       "    }\n",
       "</style>\n",
       "<table border=\"1\" class=\"dataframe\">\n",
       "  <thead>\n",
       "    <tr style=\"text-align: right;\">\n",
       "      <th></th>\n",
       "      <th>Accuracy</th>\n",
       "      <th>Specificity</th>\n",
       "      <th>Recall</th>\n",
       "      <th>Precision</th>\n",
       "      <th>F1</th>\n",
       "      <th>False Positives</th>\n",
       "      <th>False Negatives</th>\n",
       "      <th>ROC-AUC</th>\n",
       "    </tr>\n",
       "  </thead>\n",
       "  <tbody>\n",
       "    <tr>\n",
       "      <th>KNeighborsClassifier</th>\n",
       "      <td>0.947</td>\n",
       "      <td>1.0</td>\n",
       "      <td>0.0</td>\n",
       "      <td>NaN</td>\n",
       "      <td>NaN</td>\n",
       "      <td>0.0</td>\n",
       "      <td>138.0</td>\n",
       "      <td>0.793</td>\n",
       "    </tr>\n",
       "  </tbody>\n",
       "</table>\n",
       "</div>"
      ],
      "text/plain": [
       "                     Accuracy Specificity Recall Precision   F1  \\\n",
       "KNeighborsClassifier    0.947         1.0    0.0       NaN  NaN   \n",
       "\n",
       "                     False Positives False Negatives ROC-AUC  \n",
       "KNeighborsClassifier             0.0           138.0   0.793  "
      ]
     },
     "execution_count": 19,
     "metadata": {},
     "output_type": "execute_result"
    }
   ],
   "source": [
    "knn_result = eval_model(knn)\n",
    "knn_result"
   ]
  },
  {
   "cell_type": "markdown",
   "id": "9882cfee",
   "metadata": {},
   "source": [
    "## (5) Gradient boosting classifier"
   ]
  },
  {
   "cell_type": "markdown",
   "id": "0512dd7f",
   "metadata": {},
   "source": [
    "Gradient Boosting Classifier has the highest ROC-AUC score among all the models and will be selected as the production model."
   ]
  },
  {
   "cell_type": "code",
   "execution_count": 20,
   "id": "a74c90a8",
   "metadata": {
    "execution": {
     "iopub.execute_input": "2022-02-05T10:11:05.058583Z",
     "iopub.status.busy": "2022-02-05T10:11:05.058483Z",
     "iopub.status.idle": "2022-02-05T10:11:29.548404Z",
     "shell.execute_reply": "2022-02-05T10:11:29.546991Z",
     "shell.execute_reply.started": "2022-02-05T10:11:05.058571Z"
    }
   },
   "outputs": [
    {
     "name": "stdout",
     "output_type": "stream",
     "text": [
      "================ GridSearchCV ===============\n",
      "Best Parameters: {'max_depth': 3, 'n_estimators': 200, 'random_state': 42}\n",
      "Best Score (ROC AUC): 0.8397836522769234\n",
      "\n",
      "================= Evaluation ================\n",
      "Train Score (ROC AUC): 0.9218337009941435\n",
      "Testing Score (ROC AUC): 0.8257099353095649\n"
     ]
    }
   ],
   "source": [
    "gbc_params = {\n",
    "    \"n_estimators\": [150, 200, 250],\n",
    "    \"max_depth\": [3, 5],\n",
    "    \"random_state\": [42],\n",
    "}\n",
    "gbc = fit_gs(GradientBoostingClassifier(), gbc_params)"
   ]
  },
  {
   "cell_type": "code",
   "execution_count": 21,
   "id": "14f4473c",
   "metadata": {
    "execution": {
     "iopub.execute_input": "2022-02-05T10:11:29.554905Z",
     "iopub.status.busy": "2022-02-05T10:11:29.554641Z",
     "iopub.status.idle": "2022-02-05T10:11:29.593433Z",
     "shell.execute_reply": "2022-02-05T10:11:29.593092Z",
     "shell.execute_reply.started": "2022-02-05T10:11:29.554886Z"
    }
   },
   "outputs": [
    {
     "data": {
      "text/html": [
       "<div>\n",
       "<style scoped>\n",
       "    .dataframe tbody tr th:only-of-type {\n",
       "        vertical-align: middle;\n",
       "    }\n",
       "\n",
       "    .dataframe tbody tr th {\n",
       "        vertical-align: top;\n",
       "    }\n",
       "\n",
       "    .dataframe thead th {\n",
       "        text-align: right;\n",
       "    }\n",
       "</style>\n",
       "<table border=\"1\" class=\"dataframe\">\n",
       "  <thead>\n",
       "    <tr style=\"text-align: right;\">\n",
       "      <th></th>\n",
       "      <th>Accuracy</th>\n",
       "      <th>Specificity</th>\n",
       "      <th>Recall</th>\n",
       "      <th>Precision</th>\n",
       "      <th>F1</th>\n",
       "      <th>False Positives</th>\n",
       "      <th>False Negatives</th>\n",
       "      <th>ROC-AUC</th>\n",
       "    </tr>\n",
       "  </thead>\n",
       "  <tbody>\n",
       "    <tr>\n",
       "      <th>GradientBoostingClassifier</th>\n",
       "      <td>0.944</td>\n",
       "      <td>0.992</td>\n",
       "      <td>0.08</td>\n",
       "      <td>0.367</td>\n",
       "      <td>0.131</td>\n",
       "      <td>19.0</td>\n",
       "      <td>127.0</td>\n",
       "      <td>0.826</td>\n",
       "    </tr>\n",
       "  </tbody>\n",
       "</table>\n",
       "</div>"
      ],
      "text/plain": [
       "                           Accuracy Specificity Recall Precision     F1  \\\n",
       "GradientBoostingClassifier    0.944       0.992   0.08     0.367  0.131   \n",
       "\n",
       "                           False Positives False Negatives ROC-AUC  \n",
       "GradientBoostingClassifier            19.0           127.0   0.826  "
      ]
     },
     "execution_count": 21,
     "metadata": {},
     "output_type": "execute_result"
    }
   ],
   "source": [
    "gbc_result = eval_model(gbc)\n",
    "gbc_result"
   ]
  },
  {
   "cell_type": "markdown",
   "id": "c572dba5",
   "metadata": {},
   "source": [
    "## (6) XGB classifier"
   ]
  },
  {
   "cell_type": "markdown",
   "id": "3ab1d53c",
   "metadata": {},
   "source": [
    "XGB classifier is widely regarded as the best performing classifier. However, it has a very high computational cost. Disappointingly, it did not yield better ROC-AUC scores than Gradient Boost Classifier, although it had the best accuracy score among all of the models."
   ]
  },
  {
   "cell_type": "code",
   "execution_count": 22,
   "id": "fd8af866",
   "metadata": {
    "execution": {
     "iopub.execute_input": "2022-02-05T10:11:29.594158Z",
     "iopub.status.busy": "2022-02-05T10:11:29.594055Z",
     "iopub.status.idle": "2022-02-05T12:18:45.420456Z",
     "shell.execute_reply": "2022-02-05T12:18:45.416929Z",
     "shell.execute_reply.started": "2022-02-05T10:11:29.594147Z"
    },
    "tags": []
   },
   "outputs": [
    {
     "name": "stdout",
     "output_type": "stream",
     "text": [
      "================ GridSearchCV ===============\n",
      "Best Parameters: {'eval_metric': 'auc', 'gamma': 5.0, 'learning_rate': 0.5, 'max_depth': 8, 'objective': 'binary:logistic', 'reg_alpha': 0.0001, 'reg_lambda': 5.0, 'use_label_encoder': False}\n",
      "Best Score (ROC AUC): 0.8372151072502099\n",
      "\n",
      "================= Evaluation ================\n",
      "Train Score (ROC AUC): 0.8853840396074797\n",
      "Testing Score (ROC AUC): 0.8128242527992734\n"
     ]
    }
   ],
   "source": [
    "xgb_params = {\n",
    "    \"use_label_encoder\": [False],\n",
    "    \"objective\": [\"binary:logistic\"],\n",
    "    \"eval_metric\": [\"auc\"],\n",
    "    \"learning_rate\": [0.2, 0.5],\n",
    "    \"max_depth\": [5, 8],\n",
    "    \"gamma\": np.linspace(5, 100, 8),\n",
    "    \"reg_alpha\": np.linspace(0.0001, 1, 8),\n",
    "    \"reg_lambda\": np.linspace(5, 100, 5),\n",
    "}\n",
    "\n",
    "xgb = fit_gs(XGBClassifier(random_state=42), xgb_params)"
   ]
  },
  {
   "cell_type": "code",
   "execution_count": 23,
   "id": "efe7431d",
   "metadata": {
    "execution": {
     "iopub.execute_input": "2022-02-05T12:18:45.457228Z",
     "iopub.status.busy": "2022-02-05T12:18:45.455983Z",
     "iopub.status.idle": "2022-02-05T12:18:45.527719Z",
     "shell.execute_reply": "2022-02-05T12:18:45.527330Z",
     "shell.execute_reply.started": "2022-02-05T12:18:45.457200Z"
    }
   },
   "outputs": [
    {
     "data": {
      "text/html": [
       "<div>\n",
       "<style scoped>\n",
       "    .dataframe tbody tr th:only-of-type {\n",
       "        vertical-align: middle;\n",
       "    }\n",
       "\n",
       "    .dataframe tbody tr th {\n",
       "        vertical-align: top;\n",
       "    }\n",
       "\n",
       "    .dataframe thead th {\n",
       "        text-align: right;\n",
       "    }\n",
       "</style>\n",
       "<table border=\"1\" class=\"dataframe\">\n",
       "  <thead>\n",
       "    <tr style=\"text-align: right;\">\n",
       "      <th></th>\n",
       "      <th>Accuracy</th>\n",
       "      <th>Specificity</th>\n",
       "      <th>Recall</th>\n",
       "      <th>Precision</th>\n",
       "      <th>F1</th>\n",
       "      <th>False Positives</th>\n",
       "      <th>False Negatives</th>\n",
       "      <th>ROC-AUC</th>\n",
       "    </tr>\n",
       "  </thead>\n",
       "  <tbody>\n",
       "    <tr>\n",
       "      <th>XGBClassifier</th>\n",
       "      <td>0.946</td>\n",
       "      <td>0.996</td>\n",
       "      <td>0.029</td>\n",
       "      <td>0.308</td>\n",
       "      <td>0.053</td>\n",
       "      <td>9.0</td>\n",
       "      <td>134.0</td>\n",
       "      <td>0.813</td>\n",
       "    </tr>\n",
       "  </tbody>\n",
       "</table>\n",
       "</div>"
      ],
      "text/plain": [
       "              Accuracy Specificity Recall Precision     F1 False Positives  \\\n",
       "XGBClassifier    0.946       0.996  0.029     0.308  0.053             9.0   \n",
       "\n",
       "              False Negatives ROC-AUC  \n",
       "XGBClassifier           134.0   0.813  "
      ]
     },
     "execution_count": 23,
     "metadata": {},
     "output_type": "execute_result"
    }
   ],
   "source": [
    "xgb_result = eval_model(xgb)\n",
    "xgb_result"
   ]
  },
  {
   "cell_type": "markdown",
   "id": "d3922b2e",
   "metadata": {},
   "source": [
    "## (7) Extra trees classifier"
   ]
  },
  {
   "cell_type": "markdown",
   "id": "8544a43d",
   "metadata": {},
   "source": [
    "Extra trees yielded one of the most impressive accuracy scores but with an ROC-AUC comparable to the other models. These results strongly suggest overfitting."
   ]
  },
  {
   "cell_type": "code",
   "execution_count": 24,
   "id": "9e3a4748",
   "metadata": {
    "execution": {
     "iopub.execute_input": "2022-02-05T12:18:45.528940Z",
     "iopub.status.busy": "2022-02-05T12:18:45.528769Z",
     "iopub.status.idle": "2022-02-05T12:18:58.843294Z",
     "shell.execute_reply": "2022-02-05T12:18:58.842890Z",
     "shell.execute_reply.started": "2022-02-05T12:18:45.528921Z"
    }
   },
   "outputs": [
    {
     "name": "stdout",
     "output_type": "stream",
     "text": [
      "================ GridSearchCV ===============\n",
      "Best Parameters: {'max_depth': 10, 'max_leaf_nodes': None, 'min_samples_leaf': 1, 'random_state': 42}\n",
      "Best Score (ROC AUC): 0.8304832194235805\n",
      "\n",
      "================= Evaluation ================\n",
      "Train Score (ROC AUC): 0.9324130570288293\n",
      "Testing Score (ROC AUC): 0.8142653763515992\n"
     ]
    }
   ],
   "source": [
    "et_params = {\n",
    "    \"max_depth\": [3, 5, 10, 20],\n",
    "    \"min_samples_leaf\": [1, 3, 10, 20],\n",
    "    \"max_leaf_nodes\": [None, 5, 10],\n",
    "    \"random_state\": [42],\n",
    "}\n",
    "et = fit_gs(ExtraTreesClassifier(), et_params)"
   ]
  },
  {
   "cell_type": "code",
   "execution_count": 25,
   "id": "02147f5e",
   "metadata": {
    "execution": {
     "iopub.execute_input": "2022-02-05T12:18:58.844748Z",
     "iopub.status.busy": "2022-02-05T12:18:58.844618Z",
     "iopub.status.idle": "2022-02-05T12:18:58.914099Z",
     "shell.execute_reply": "2022-02-05T12:18:58.913835Z",
     "shell.execute_reply.started": "2022-02-05T12:18:58.844734Z"
    }
   },
   "outputs": [
    {
     "data": {
      "text/html": [
       "<div>\n",
       "<style scoped>\n",
       "    .dataframe tbody tr th:only-of-type {\n",
       "        vertical-align: middle;\n",
       "    }\n",
       "\n",
       "    .dataframe tbody tr th {\n",
       "        vertical-align: top;\n",
       "    }\n",
       "\n",
       "    .dataframe thead th {\n",
       "        text-align: right;\n",
       "    }\n",
       "</style>\n",
       "<table border=\"1\" class=\"dataframe\">\n",
       "  <thead>\n",
       "    <tr style=\"text-align: right;\">\n",
       "      <th></th>\n",
       "      <th>Accuracy</th>\n",
       "      <th>Specificity</th>\n",
       "      <th>Recall</th>\n",
       "      <th>Precision</th>\n",
       "      <th>F1</th>\n",
       "      <th>False Positives</th>\n",
       "      <th>False Negatives</th>\n",
       "      <th>ROC-AUC</th>\n",
       "    </tr>\n",
       "  </thead>\n",
       "  <tbody>\n",
       "    <tr>\n",
       "      <th>ExtraTreesClassifier</th>\n",
       "      <td>0.947</td>\n",
       "      <td>1.0</td>\n",
       "      <td>0.0</td>\n",
       "      <td>NaN</td>\n",
       "      <td>NaN</td>\n",
       "      <td>0.0</td>\n",
       "      <td>138.0</td>\n",
       "      <td>0.814</td>\n",
       "    </tr>\n",
       "  </tbody>\n",
       "</table>\n",
       "</div>"
      ],
      "text/plain": [
       "                     Accuracy Specificity Recall Precision   F1  \\\n",
       "ExtraTreesClassifier    0.947         1.0    0.0       NaN  NaN   \n",
       "\n",
       "                     False Positives False Negatives ROC-AUC  \n",
       "ExtraTreesClassifier             0.0           138.0   0.814  "
      ]
     },
     "execution_count": 25,
     "metadata": {},
     "output_type": "execute_result"
    }
   ],
   "source": [
    "et_result = eval_model(et)\n",
    "et_result"
   ]
  },
  {
   "cell_type": "markdown",
   "id": "76ffb9be-43c2-4377-b5cf-18d1abc85841",
   "metadata": {
    "tags": []
   },
   "source": [
    "# Modelling with oversampling "
   ]
  },
  {
   "cell_type": "markdown",
   "id": "8365d631-18a8-4455-a0c3-41d49cf035ea",
   "metadata": {},
   "source": [
    "In this section, due to the class imbalance, we applied oversampling on the training set using SMOTE."
   ]
  },
  {
   "cell_type": "code",
   "execution_count": 26,
   "id": "8804a28b-da0b-4071-b784-c9c8f7747ab5",
   "metadata": {
    "execution": {
     "iopub.execute_input": "2022-02-05T12:18:58.915050Z",
     "iopub.status.busy": "2022-02-05T12:18:58.914938Z",
     "iopub.status.idle": "2022-02-05T12:18:59.007851Z",
     "shell.execute_reply": "2022-02-05T12:18:59.007426Z",
     "shell.execute_reply.started": "2022-02-05T12:18:58.915038Z"
    },
    "tags": []
   },
   "outputs": [],
   "source": [
    "# instantiate smote\n",
    "sm = SMOTE()\n",
    "\n",
    "# apply oversampling\n",
    "X_train, y_train = sm.fit_resample(X_train, y_train)"
   ]
  },
  {
   "cell_type": "code",
   "execution_count": 27,
   "id": "601cd69a-492a-4481-a8ba-f363363ca743",
   "metadata": {
    "execution": {
     "iopub.execute_input": "2022-02-05T12:18:59.008501Z",
     "iopub.status.busy": "2022-02-05T12:18:59.008412Z",
     "iopub.status.idle": "2022-02-05T12:18:59.024882Z",
     "shell.execute_reply": "2022-02-05T12:18:59.024550Z",
     "shell.execute_reply.started": "2022-02-05T12:18:59.008489Z"
    }
   },
   "outputs": [
    {
     "data": {
      "text/plain": [
       "1    0.5\n",
       "0    0.5\n",
       "Name: wnvpresent, dtype: float64"
      ]
     },
     "execution_count": 27,
     "metadata": {},
     "output_type": "execute_result"
    }
   ],
   "source": [
    "# verify the distribution of classes\n",
    "y_train.value_counts(normalize=True)"
   ]
  },
  {
   "cell_type": "markdown",
   "id": "32e74536-a568-4945-8f94-6bde59647c45",
   "metadata": {
    "tags": []
   },
   "source": [
    "## (0) Dummy Model with Oversampling"
   ]
  },
  {
   "cell_type": "code",
   "execution_count": 28,
   "id": "89fbc84f-c8ad-48e0-9b03-1676bf3939a0",
   "metadata": {
    "execution": {
     "iopub.execute_input": "2022-02-05T12:18:59.025995Z",
     "iopub.status.busy": "2022-02-05T12:18:59.025879Z",
     "iopub.status.idle": "2022-02-05T12:18:59.051053Z",
     "shell.execute_reply": "2022-02-05T12:18:59.050654Z",
     "shell.execute_reply.started": "2022-02-05T12:18:59.025980Z"
    }
   },
   "outputs": [
    {
     "data": {
      "text/html": [
       "<div>\n",
       "<style scoped>\n",
       "    .dataframe tbody tr th:only-of-type {\n",
       "        vertical-align: middle;\n",
       "    }\n",
       "\n",
       "    .dataframe tbody tr th {\n",
       "        vertical-align: top;\n",
       "    }\n",
       "\n",
       "    .dataframe thead th {\n",
       "        text-align: right;\n",
       "    }\n",
       "</style>\n",
       "<table border=\"1\" class=\"dataframe\">\n",
       "  <thead>\n",
       "    <tr style=\"text-align: right;\">\n",
       "      <th></th>\n",
       "      <th>Accuracy</th>\n",
       "      <th>Specificity</th>\n",
       "      <th>Recall</th>\n",
       "      <th>Precision</th>\n",
       "      <th>F1</th>\n",
       "      <th>False Positives</th>\n",
       "      <th>False Negatives</th>\n",
       "      <th>ROC-AUC</th>\n",
       "    </tr>\n",
       "  </thead>\n",
       "  <tbody>\n",
       "    <tr>\n",
       "      <th>Dummy</th>\n",
       "      <td>0.947</td>\n",
       "      <td>1.0</td>\n",
       "      <td>0.0</td>\n",
       "      <td>NaN</td>\n",
       "      <td>NaN</td>\n",
       "      <td>0.0</td>\n",
       "      <td>138.0</td>\n",
       "      <td>0.5</td>\n",
       "    </tr>\n",
       "  </tbody>\n",
       "</table>\n",
       "</div>"
      ],
      "text/plain": [
       "      Accuracy Specificity Recall Precision   F1 False Positives  \\\n",
       "Dummy    0.947         1.0    0.0       NaN  NaN             0.0   \n",
       "\n",
       "      False Negatives ROC-AUC  \n",
       "Dummy           138.0     0.5  "
      ]
     },
     "execution_count": 28,
     "metadata": {},
     "output_type": "execute_result"
    }
   ],
   "source": [
    "# fit dummy model\n",
    "dummy_os = DummyClassifier(strategy=\"most_frequent\", random_state=42)\n",
    "dummy_os.fit(X_train, y_train)\n",
    "\n",
    "dummy_os_result = eval_model(dummy_os)\n",
    "dummy_os_result"
   ]
  },
  {
   "cell_type": "markdown",
   "id": "852024a8-d82e-43a9-a000-7052b0f866aa",
   "metadata": {},
   "source": [
    "## (1) Random Forest Classifier with Oversampling"
   ]
  },
  {
   "cell_type": "code",
   "execution_count": 29,
   "id": "e3d27c3f-0ec7-4c60-a294-2283b8116768",
   "metadata": {
    "execution": {
     "iopub.execute_input": "2022-02-05T12:18:59.051895Z",
     "iopub.status.busy": "2022-02-05T12:18:59.051806Z",
     "iopub.status.idle": "2022-02-05T12:19:45.528251Z",
     "shell.execute_reply": "2022-02-05T12:19:45.527817Z",
     "shell.execute_reply.started": "2022-02-05T12:18:59.051884Z"
    }
   },
   "outputs": [
    {
     "name": "stdout",
     "output_type": "stream",
     "text": [
      "================ GridSearchCV ===============\n",
      "Best Parameters: {'class_weight': None, 'max_depth': 20, 'n_estimators': 250, 'random_state': 42}\n",
      "Best Score (ROC AUC): 0.9775672297124437\n",
      "\n",
      "================= Evaluation ================\n",
      "Train Score (ROC AUC): 0.9973312806788577\n",
      "Testing Score (ROC AUC): 0.8039431469480205\n"
     ]
    }
   ],
   "source": [
    "rfc_params = {\n",
    "    \"n_estimators\": [10, 50, 100, 250],\n",
    "    \"max_depth\": [5, 10, 20],\n",
    "    \"class_weight\": [None, \"balanced\", \"balanced_subsample\"],\n",
    "    \"random_state\": [42],\n",
    "}\n",
    "rfc_os = fit_gs(RandomForestClassifier(), rfc_params)"
   ]
  },
  {
   "cell_type": "code",
   "execution_count": 30,
   "id": "abdbd991-4396-4257-be15-842cbe9c91ca",
   "metadata": {
    "execution": {
     "iopub.execute_input": "2022-02-05T12:19:45.529769Z",
     "iopub.status.busy": "2022-02-05T12:19:45.529680Z",
     "iopub.status.idle": "2022-02-05T12:19:45.701502Z",
     "shell.execute_reply": "2022-02-05T12:19:45.701159Z",
     "shell.execute_reply.started": "2022-02-05T12:19:45.529757Z"
    }
   },
   "outputs": [
    {
     "data": {
      "text/html": [
       "<div>\n",
       "<style scoped>\n",
       "    .dataframe tbody tr th:only-of-type {\n",
       "        vertical-align: middle;\n",
       "    }\n",
       "\n",
       "    .dataframe tbody tr th {\n",
       "        vertical-align: top;\n",
       "    }\n",
       "\n",
       "    .dataframe thead th {\n",
       "        text-align: right;\n",
       "    }\n",
       "</style>\n",
       "<table border=\"1\" class=\"dataframe\">\n",
       "  <thead>\n",
       "    <tr style=\"text-align: right;\">\n",
       "      <th></th>\n",
       "      <th>Accuracy</th>\n",
       "      <th>Specificity</th>\n",
       "      <th>Recall</th>\n",
       "      <th>Precision</th>\n",
       "      <th>F1</th>\n",
       "      <th>False Positives</th>\n",
       "      <th>False Negatives</th>\n",
       "      <th>ROC-AUC</th>\n",
       "    </tr>\n",
       "  </thead>\n",
       "  <tbody>\n",
       "    <tr>\n",
       "      <th>RandomForestClassifier</th>\n",
       "      <td>0.887</td>\n",
       "      <td>0.917</td>\n",
       "      <td>0.341</td>\n",
       "      <td>0.185</td>\n",
       "      <td>0.24</td>\n",
       "      <td>207.0</td>\n",
       "      <td>91.0</td>\n",
       "      <td>0.804</td>\n",
       "    </tr>\n",
       "  </tbody>\n",
       "</table>\n",
       "</div>"
      ],
      "text/plain": [
       "                       Accuracy Specificity Recall Precision    F1  \\\n",
       "RandomForestClassifier    0.887       0.917  0.341     0.185  0.24   \n",
       "\n",
       "                       False Positives False Negatives ROC-AUC  \n",
       "RandomForestClassifier           207.0            91.0   0.804  "
      ]
     },
     "execution_count": 30,
     "metadata": {},
     "output_type": "execute_result"
    }
   ],
   "source": [
    "rfc_os_result = eval_model(rfc_os)\n",
    "rfc_os_result"
   ]
  },
  {
   "cell_type": "markdown",
   "id": "e8f03ba7-b4f9-437c-aa61-bb4396842133",
   "metadata": {},
   "source": [
    "## (2) Support Vector Classifier with Oversampling"
   ]
  },
  {
   "cell_type": "code",
   "execution_count": 31,
   "id": "4f5295be-cb3f-4e2e-b86c-ee619888480c",
   "metadata": {
    "execution": {
     "iopub.execute_input": "2022-02-05T12:19:45.702523Z",
     "iopub.status.busy": "2022-02-05T12:19:45.702415Z",
     "iopub.status.idle": "2022-02-05T12:34:39.366451Z",
     "shell.execute_reply": "2022-02-05T12:34:39.359724Z",
     "shell.execute_reply.started": "2022-02-05T12:19:45.702511Z"
    }
   },
   "outputs": [
    {
     "name": "stdout",
     "output_type": "stream",
     "text": [
      "================ GridSearchCV ===============\n",
      "Best Parameters: {'C': 100, 'class_weight': None, 'probability': True, 'random_state': 42}\n",
      "Best Score (ROC AUC): 0.9501073414465285\n",
      "\n",
      "================= Evaluation ================\n",
      "Train Score (ROC AUC): 0.9584480540733673\n",
      "Testing Score (ROC AUC): 0.804103271787168\n"
     ]
    }
   ],
   "source": [
    "svc_params = {\n",
    "    \"C\": [10 ** -2, 10 ** -1, 10 ** 0, 10 ** 1, 10 ** 2],\n",
    "    \"class_weight\": [None, {0: 1, 1: 10}, {0: 1, 1: 25}],\n",
    "    \"probability\": [True],\n",
    "    \"random_state\": [42],\n",
    "}\n",
    "svc_os = fit_gs(SVC(), svc_params)"
   ]
  },
  {
   "cell_type": "code",
   "execution_count": 32,
   "id": "e3096225-5b39-4c34-9b5f-7eaf58e43023",
   "metadata": {
    "execution": {
     "iopub.execute_input": "2022-02-05T12:34:39.462802Z",
     "iopub.status.busy": "2022-02-05T12:34:39.462588Z",
     "iopub.status.idle": "2022-02-05T12:34:41.662411Z",
     "shell.execute_reply": "2022-02-05T12:34:41.662133Z",
     "shell.execute_reply.started": "2022-02-05T12:34:39.462781Z"
    }
   },
   "outputs": [
    {
     "data": {
      "text/html": [
       "<div>\n",
       "<style scoped>\n",
       "    .dataframe tbody tr th:only-of-type {\n",
       "        vertical-align: middle;\n",
       "    }\n",
       "\n",
       "    .dataframe tbody tr th {\n",
       "        vertical-align: top;\n",
       "    }\n",
       "\n",
       "    .dataframe thead th {\n",
       "        text-align: right;\n",
       "    }\n",
       "</style>\n",
       "<table border=\"1\" class=\"dataframe\">\n",
       "  <thead>\n",
       "    <tr style=\"text-align: right;\">\n",
       "      <th></th>\n",
       "      <th>Accuracy</th>\n",
       "      <th>Specificity</th>\n",
       "      <th>Recall</th>\n",
       "      <th>Precision</th>\n",
       "      <th>F1</th>\n",
       "      <th>False Positives</th>\n",
       "      <th>False Negatives</th>\n",
       "      <th>ROC-AUC</th>\n",
       "    </tr>\n",
       "  </thead>\n",
       "  <tbody>\n",
       "    <tr>\n",
       "      <th>SVC</th>\n",
       "      <td>0.83</td>\n",
       "      <td>0.844</td>\n",
       "      <td>0.58</td>\n",
       "      <td>0.171</td>\n",
       "      <td>0.264</td>\n",
       "      <td>388.0</td>\n",
       "      <td>58.0</td>\n",
       "      <td>0.804</td>\n",
       "    </tr>\n",
       "  </tbody>\n",
       "</table>\n",
       "</div>"
      ],
      "text/plain": [
       "    Accuracy Specificity Recall Precision     F1 False Positives  \\\n",
       "SVC     0.83       0.844   0.58     0.171  0.264           388.0   \n",
       "\n",
       "    False Negatives ROC-AUC  \n",
       "SVC            58.0   0.804  "
      ]
     },
     "execution_count": 32,
     "metadata": {},
     "output_type": "execute_result"
    }
   ],
   "source": [
    "svc_os_result = eval_model(svc_os)\n",
    "svc_os_result"
   ]
  },
  {
   "cell_type": "markdown",
   "id": "be6b7850-ad43-4bbe-aba8-9ab0f220fb80",
   "metadata": {},
   "source": [
    "## (3) Logistic Regression with Oversampling"
   ]
  },
  {
   "cell_type": "code",
   "execution_count": 33,
   "id": "b4880d1f-5bff-4d6c-8a86-7382e8951934",
   "metadata": {
    "execution": {
     "iopub.execute_input": "2022-02-05T12:34:41.670291Z",
     "iopub.status.busy": "2022-02-05T12:34:41.670173Z",
     "iopub.status.idle": "2022-02-05T12:37:28.371343Z",
     "shell.execute_reply": "2022-02-05T12:37:28.370411Z",
     "shell.execute_reply.started": "2022-02-05T12:34:41.670279Z"
    }
   },
   "outputs": [
    {
     "name": "stdout",
     "output_type": "stream",
     "text": [
      "================ GridSearchCV ===============\n",
      "Best Parameters: {'C': 10, 'class_weight': None, 'max_iter': 20, 'penalty': 'l2', 'random_state': 42, 'solver': 'liblinear'}\n",
      "Best Score (ROC AUC): 0.8248646421964224\n",
      "\n",
      "================= Evaluation ================\n",
      "Train Score (ROC AUC): 0.8259697018124273\n",
      "Testing Score (ROC AUC): 0.7764919267967463\n"
     ]
    }
   ],
   "source": [
    "lr_params = {\n",
    "    \"C\": [10 ** -2, 10 ** -1, 10 ** 0, 10 ** 1, 10 ** 2],\n",
    "    \"penalty\": [\"l1\", \"l2\"],\n",
    "    \"max_iter\": [20, 50, 100, 200],\n",
    "    \"class_weight\": [None, {0: 1, 1: 10}, {0: 1, 1: 25}],\n",
    "    \"solver\": [\"liblinear\"],\n",
    "    \"random_state\": [42],\n",
    "}\n",
    "\n",
    "lr_os = fit_gs(LogisticRegression(), lr_params)"
   ]
  },
  {
   "cell_type": "code",
   "execution_count": 34,
   "id": "4619ad66-5f85-454f-ab87-f59e893f6873",
   "metadata": {
    "execution": {
     "iopub.execute_input": "2022-02-05T12:37:28.378076Z",
     "iopub.status.busy": "2022-02-05T12:37:28.377907Z",
     "iopub.status.idle": "2022-02-05T12:37:28.471948Z",
     "shell.execute_reply": "2022-02-05T12:37:28.471445Z",
     "shell.execute_reply.started": "2022-02-05T12:37:28.378061Z"
    }
   },
   "outputs": [
    {
     "data": {
      "text/html": [
       "<div>\n",
       "<style scoped>\n",
       "    .dataframe tbody tr th:only-of-type {\n",
       "        vertical-align: middle;\n",
       "    }\n",
       "\n",
       "    .dataframe tbody tr th {\n",
       "        vertical-align: top;\n",
       "    }\n",
       "\n",
       "    .dataframe thead th {\n",
       "        text-align: right;\n",
       "    }\n",
       "</style>\n",
       "<table border=\"1\" class=\"dataframe\">\n",
       "  <thead>\n",
       "    <tr style=\"text-align: right;\">\n",
       "      <th></th>\n",
       "      <th>Accuracy</th>\n",
       "      <th>Specificity</th>\n",
       "      <th>Recall</th>\n",
       "      <th>Precision</th>\n",
       "      <th>F1</th>\n",
       "      <th>False Positives</th>\n",
       "      <th>False Negatives</th>\n",
       "      <th>ROC-AUC</th>\n",
       "    </tr>\n",
       "  </thead>\n",
       "  <tbody>\n",
       "    <tr>\n",
       "      <th>LogisticRegression</th>\n",
       "      <td>0.679</td>\n",
       "      <td>0.675</td>\n",
       "      <td>0.768</td>\n",
       "      <td>0.116</td>\n",
       "      <td>0.201</td>\n",
       "      <td>810.0</td>\n",
       "      <td>32.0</td>\n",
       "      <td>0.776</td>\n",
       "    </tr>\n",
       "  </tbody>\n",
       "</table>\n",
       "</div>"
      ],
      "text/plain": [
       "                   Accuracy Specificity Recall Precision     F1  \\\n",
       "LogisticRegression    0.679       0.675  0.768     0.116  0.201   \n",
       "\n",
       "                   False Positives False Negatives ROC-AUC  \n",
       "LogisticRegression           810.0            32.0   0.776  "
      ]
     },
     "execution_count": 34,
     "metadata": {},
     "output_type": "execute_result"
    }
   ],
   "source": [
    "lr_os_result = eval_model(lr_os)\n",
    "lr_os_result"
   ]
  },
  {
   "cell_type": "markdown",
   "id": "41c717ae-65a2-46bd-bf8f-3af4ceab5d1a",
   "metadata": {},
   "source": [
    "## (4) K-nearest neighbours with Oversampling"
   ]
  },
  {
   "cell_type": "code",
   "execution_count": 35,
   "id": "8188b244-79cb-4f88-8779-7a3ba191071f",
   "metadata": {
    "execution": {
     "iopub.execute_input": "2022-02-05T12:37:28.473488Z",
     "iopub.status.busy": "2022-02-05T12:37:28.473292Z",
     "iopub.status.idle": "2022-02-05T12:37:47.229884Z",
     "shell.execute_reply": "2022-02-05T12:37:47.229483Z",
     "shell.execute_reply.started": "2022-02-05T12:37:28.473473Z"
    }
   },
   "outputs": [
    {
     "name": "stdout",
     "output_type": "stream",
     "text": [
      "================ GridSearchCV ===============\n",
      "Best Parameters: {'n_neighbors': 5}\n",
      "Best Score (ROC AUC): 0.9517869305503643\n",
      "\n",
      "================= Evaluation ================\n",
      "Train Score (ROC AUC): 0.98584707321104\n",
      "Testing Score (ROC AUC): 0.7213274640301384\n"
     ]
    }
   ],
   "source": [
    "knn_params = {\"n_neighbors\": [5, 35, 65, 95]}\n",
    "\n",
    "knn_os = fit_gs(KNeighborsClassifier(), knn_params)"
   ]
  },
  {
   "cell_type": "code",
   "execution_count": 36,
   "id": "5179790f-3e60-49d7-9ae3-ed2da7eebb8f",
   "metadata": {
    "execution": {
     "iopub.execute_input": "2022-02-05T12:37:47.231086Z",
     "iopub.status.busy": "2022-02-05T12:37:47.230997Z",
     "iopub.status.idle": "2022-02-05T12:37:48.611724Z",
     "shell.execute_reply": "2022-02-05T12:37:48.611462Z",
     "shell.execute_reply.started": "2022-02-05T12:37:47.231074Z"
    }
   },
   "outputs": [
    {
     "data": {
      "text/html": [
       "<div>\n",
       "<style scoped>\n",
       "    .dataframe tbody tr th:only-of-type {\n",
       "        vertical-align: middle;\n",
       "    }\n",
       "\n",
       "    .dataframe tbody tr th {\n",
       "        vertical-align: top;\n",
       "    }\n",
       "\n",
       "    .dataframe thead th {\n",
       "        text-align: right;\n",
       "    }\n",
       "</style>\n",
       "<table border=\"1\" class=\"dataframe\">\n",
       "  <thead>\n",
       "    <tr style=\"text-align: right;\">\n",
       "      <th></th>\n",
       "      <th>Accuracy</th>\n",
       "      <th>Specificity</th>\n",
       "      <th>Recall</th>\n",
       "      <th>Precision</th>\n",
       "      <th>F1</th>\n",
       "      <th>False Positives</th>\n",
       "      <th>False Negatives</th>\n",
       "      <th>ROC-AUC</th>\n",
       "    </tr>\n",
       "  </thead>\n",
       "  <tbody>\n",
       "    <tr>\n",
       "      <th>KNeighborsClassifier</th>\n",
       "      <td>0.835</td>\n",
       "      <td>0.861</td>\n",
       "      <td>0.377</td>\n",
       "      <td>0.13</td>\n",
       "      <td>0.194</td>\n",
       "      <td>347.0</td>\n",
       "      <td>86.0</td>\n",
       "      <td>0.721</td>\n",
       "    </tr>\n",
       "  </tbody>\n",
       "</table>\n",
       "</div>"
      ],
      "text/plain": [
       "                     Accuracy Specificity Recall Precision     F1  \\\n",
       "KNeighborsClassifier    0.835       0.861  0.377      0.13  0.194   \n",
       "\n",
       "                     False Positives False Negatives ROC-AUC  \n",
       "KNeighborsClassifier           347.0            86.0   0.721  "
      ]
     },
     "execution_count": 36,
     "metadata": {},
     "output_type": "execute_result"
    }
   ],
   "source": [
    "knn_os_result = eval_model(knn_os)\n",
    "knn_os_result"
   ]
  },
  {
   "cell_type": "markdown",
   "id": "4ff48ece-7b10-4a0b-9bc8-0970dab1c549",
   "metadata": {},
   "source": [
    "## (5) Gradient boosting classifier with Oversampling"
   ]
  },
  {
   "cell_type": "code",
   "execution_count": 37,
   "id": "8f47b1bb-b32d-4802-99e6-b2715d8a1eab",
   "metadata": {
    "execution": {
     "iopub.execute_input": "2022-02-05T12:37:48.612739Z",
     "iopub.status.busy": "2022-02-05T12:37:48.612663Z",
     "iopub.status.idle": "2022-02-05T12:38:38.394727Z",
     "shell.execute_reply": "2022-02-05T12:38:38.394253Z",
     "shell.execute_reply.started": "2022-02-05T12:37:48.612728Z"
    }
   },
   "outputs": [
    {
     "name": "stdout",
     "output_type": "stream",
     "text": [
      "================ GridSearchCV ===============\n",
      "Best Parameters: {'max_depth': 5, 'n_estimators': 250, 'random_state': 42}\n",
      "Best Score (ROC AUC): 0.9861162493172488\n",
      "\n",
      "================= Evaluation ================\n",
      "Train Score (ROC AUC): 0.9940116060743341\n",
      "Testing Score (ROC AUC): 0.826708532033702\n"
     ]
    }
   ],
   "source": [
    "gbc_params = {\n",
    "    \"n_estimators\": [150, 200, 250],\n",
    "    \"max_depth\": [3, 5],\n",
    "    \"random_state\": [42],\n",
    "}\n",
    "gbc_os = fit_gs(GradientBoostingClassifier(), gbc_params)"
   ]
  },
  {
   "cell_type": "code",
   "execution_count": 38,
   "id": "cd1452e5-270c-450e-93bb-c04ccc87d5b9",
   "metadata": {
    "execution": {
     "iopub.execute_input": "2022-02-05T12:38:38.400958Z",
     "iopub.status.busy": "2022-02-05T12:38:38.400748Z",
     "iopub.status.idle": "2022-02-05T12:38:38.438637Z",
     "shell.execute_reply": "2022-02-05T12:38:38.438292Z",
     "shell.execute_reply.started": "2022-02-05T12:38:38.400945Z"
    }
   },
   "outputs": [
    {
     "data": {
      "text/html": [
       "<div>\n",
       "<style scoped>\n",
       "    .dataframe tbody tr th:only-of-type {\n",
       "        vertical-align: middle;\n",
       "    }\n",
       "\n",
       "    .dataframe tbody tr th {\n",
       "        vertical-align: top;\n",
       "    }\n",
       "\n",
       "    .dataframe thead th {\n",
       "        text-align: right;\n",
       "    }\n",
       "</style>\n",
       "<table border=\"1\" class=\"dataframe\">\n",
       "  <thead>\n",
       "    <tr style=\"text-align: right;\">\n",
       "      <th></th>\n",
       "      <th>Accuracy</th>\n",
       "      <th>Specificity</th>\n",
       "      <th>Recall</th>\n",
       "      <th>Precision</th>\n",
       "      <th>F1</th>\n",
       "      <th>False Positives</th>\n",
       "      <th>False Negatives</th>\n",
       "      <th>ROC-AUC</th>\n",
       "    </tr>\n",
       "  </thead>\n",
       "  <tbody>\n",
       "    <tr>\n",
       "      <th>GradientBoostingClassifier</th>\n",
       "      <td>0.899</td>\n",
       "      <td>0.929</td>\n",
       "      <td>0.355</td>\n",
       "      <td>0.218</td>\n",
       "      <td>0.27</td>\n",
       "      <td>176.0</td>\n",
       "      <td>89.0</td>\n",
       "      <td>0.827</td>\n",
       "    </tr>\n",
       "  </tbody>\n",
       "</table>\n",
       "</div>"
      ],
      "text/plain": [
       "                           Accuracy Specificity Recall Precision    F1  \\\n",
       "GradientBoostingClassifier    0.899       0.929  0.355     0.218  0.27   \n",
       "\n",
       "                           False Positives False Negatives ROC-AUC  \n",
       "GradientBoostingClassifier           176.0            89.0   0.827  "
      ]
     },
     "execution_count": 38,
     "metadata": {},
     "output_type": "execute_result"
    }
   ],
   "source": [
    "gbc_os_result = eval_model(gbc_os)\n",
    "gbc_os_result"
   ]
  },
  {
   "cell_type": "markdown",
   "id": "3f06508a-1e36-4667-9fe9-fef9c00739ee",
   "metadata": {},
   "source": [
    "## (6) XGB classifier with Oversampling"
   ]
  },
  {
   "cell_type": "code",
   "execution_count": 39,
   "id": "b90f1052-ba09-46d6-93cb-67b456da851f",
   "metadata": {
    "execution": {
     "iopub.execute_input": "2022-02-05T12:38:38.455342Z",
     "iopub.status.busy": "2022-02-05T12:38:38.455203Z",
     "iopub.status.idle": "2022-02-05T16:52:01.172812Z",
     "shell.execute_reply": "2022-02-05T16:52:01.164030Z",
     "shell.execute_reply.started": "2022-02-05T12:38:38.455330Z"
    },
    "tags": []
   },
   "outputs": [
    {
     "name": "stdout",
     "output_type": "stream",
     "text": [
      "================ GridSearchCV ===============\n",
      "Best Parameters: {'eval_metric': 'auc', 'gamma': 5.0, 'learning_rate': 0.5, 'max_depth': 8, 'objective': 'binary:logistic', 'reg_alpha': 0.42862857142857136, 'reg_lambda': 5.0, 'use_label_encoder': False}\n",
      "Best Score (ROC AUC): 0.9809258205678641\n",
      "\n",
      "================= Evaluation ================\n",
      "Train Score (ROC AUC): 0.9882703903736766\n",
      "Testing Score (ROC AUC): 0.8171301552919803\n"
     ]
    }
   ],
   "source": [
    "xgb_params = {\n",
    "    \"use_label_encoder\": [False],\n",
    "    \"objective\": [\"binary:logistic\"],\n",
    "    \"eval_metric\": [\"auc\"],\n",
    "    \"learning_rate\": [0.2, 0.5],\n",
    "    \"max_depth\": [5, 8],\n",
    "    \"gamma\": np.linspace(5, 100, 8),\n",
    "    \"reg_alpha\": np.linspace(0.0001, 1, 8),\n",
    "    \"reg_lambda\": np.linspace(5, 100, 5),\n",
    "}\n",
    "\n",
    "xgb_os = fit_gs(XGBClassifier(random_state=42), xgb_params)"
   ]
  },
  {
   "cell_type": "code",
   "execution_count": 40,
   "id": "c9ef0159-753e-4e7d-a86d-66ba2c3ce38a",
   "metadata": {
    "execution": {
     "iopub.execute_input": "2022-02-05T16:52:01.226950Z",
     "iopub.status.busy": "2022-02-05T16:52:01.222420Z",
     "iopub.status.idle": "2022-02-05T16:52:01.385590Z",
     "shell.execute_reply": "2022-02-05T16:52:01.385252Z",
     "shell.execute_reply.started": "2022-02-05T16:52:01.226927Z"
    }
   },
   "outputs": [
    {
     "data": {
      "text/html": [
       "<div>\n",
       "<style scoped>\n",
       "    .dataframe tbody tr th:only-of-type {\n",
       "        vertical-align: middle;\n",
       "    }\n",
       "\n",
       "    .dataframe tbody tr th {\n",
       "        vertical-align: top;\n",
       "    }\n",
       "\n",
       "    .dataframe thead th {\n",
       "        text-align: right;\n",
       "    }\n",
       "</style>\n",
       "<table border=\"1\" class=\"dataframe\">\n",
       "  <thead>\n",
       "    <tr style=\"text-align: right;\">\n",
       "      <th></th>\n",
       "      <th>Accuracy</th>\n",
       "      <th>Specificity</th>\n",
       "      <th>Recall</th>\n",
       "      <th>Precision</th>\n",
       "      <th>F1</th>\n",
       "      <th>False Positives</th>\n",
       "      <th>False Negatives</th>\n",
       "      <th>ROC-AUC</th>\n",
       "    </tr>\n",
       "  </thead>\n",
       "  <tbody>\n",
       "    <tr>\n",
       "      <th>XGBClassifier</th>\n",
       "      <td>0.886</td>\n",
       "      <td>0.914</td>\n",
       "      <td>0.377</td>\n",
       "      <td>0.196</td>\n",
       "      <td>0.258</td>\n",
       "      <td>213.0</td>\n",
       "      <td>86.0</td>\n",
       "      <td>0.817</td>\n",
       "    </tr>\n",
       "  </tbody>\n",
       "</table>\n",
       "</div>"
      ],
      "text/plain": [
       "              Accuracy Specificity Recall Precision     F1 False Positives  \\\n",
       "XGBClassifier    0.886       0.914  0.377     0.196  0.258           213.0   \n",
       "\n",
       "              False Negatives ROC-AUC  \n",
       "XGBClassifier            86.0   0.817  "
      ]
     },
     "execution_count": 40,
     "metadata": {},
     "output_type": "execute_result"
    }
   ],
   "source": [
    "xgb_os_result = eval_model(xgb_os)\n",
    "xgb_os_result"
   ]
  },
  {
   "cell_type": "markdown",
   "id": "b34cc5ef-99df-4c8c-96a5-4908b7c56bae",
   "metadata": {},
   "source": [
    "## (7) Extra trees classifier with Oversampling"
   ]
  },
  {
   "cell_type": "code",
   "execution_count": 41,
   "id": "ecddb837-f30a-45d2-89e0-bbee7144130e",
   "metadata": {
    "execution": {
     "iopub.execute_input": "2022-02-05T16:52:01.391492Z",
     "iopub.status.busy": "2022-02-05T16:52:01.391367Z",
     "iopub.status.idle": "2022-02-05T16:52:21.209540Z",
     "shell.execute_reply": "2022-02-05T16:52:21.209139Z",
     "shell.execute_reply.started": "2022-02-05T16:52:01.391479Z"
    }
   },
   "outputs": [
    {
     "name": "stdout",
     "output_type": "stream",
     "text": [
      "================ GridSearchCV ===============\n",
      "Best Parameters: {'max_depth': 20, 'max_leaf_nodes': None, 'min_samples_leaf': 1, 'random_state': 42}\n",
      "Best Score (ROC AUC): 0.9760115017275638\n",
      "\n",
      "================= Evaluation ================\n",
      "Train Score (ROC AUC): 0.9937360735755103\n",
      "Testing Score (ROC AUC): 0.8123948270942873\n"
     ]
    }
   ],
   "source": [
    "et_params = {\n",
    "    \"max_depth\": [3, 5, 10, 20],\n",
    "    \"min_samples_leaf\": [1, 3, 10, 20],\n",
    "    \"max_leaf_nodes\": [None, 5, 10],\n",
    "    \"random_state\": [42],\n",
    "}\n",
    "et_os = fit_gs(ExtraTreesClassifier(), et_params)"
   ]
  },
  {
   "cell_type": "code",
   "execution_count": 42,
   "id": "3ef1eb09-b811-4887-b5c1-b26ee5708b5b",
   "metadata": {
    "execution": {
     "iopub.execute_input": "2022-02-05T16:52:21.210851Z",
     "iopub.status.busy": "2022-02-05T16:52:21.210628Z",
     "iopub.status.idle": "2022-02-05T16:52:21.297321Z",
     "shell.execute_reply": "2022-02-05T16:52:21.297056Z",
     "shell.execute_reply.started": "2022-02-05T16:52:21.210835Z"
    }
   },
   "outputs": [
    {
     "data": {
      "text/html": [
       "<div>\n",
       "<style scoped>\n",
       "    .dataframe tbody tr th:only-of-type {\n",
       "        vertical-align: middle;\n",
       "    }\n",
       "\n",
       "    .dataframe tbody tr th {\n",
       "        vertical-align: top;\n",
       "    }\n",
       "\n",
       "    .dataframe thead th {\n",
       "        text-align: right;\n",
       "    }\n",
       "</style>\n",
       "<table border=\"1\" class=\"dataframe\">\n",
       "  <thead>\n",
       "    <tr style=\"text-align: right;\">\n",
       "      <th></th>\n",
       "      <th>Accuracy</th>\n",
       "      <th>Specificity</th>\n",
       "      <th>Recall</th>\n",
       "      <th>Precision</th>\n",
       "      <th>F1</th>\n",
       "      <th>False Positives</th>\n",
       "      <th>False Negatives</th>\n",
       "      <th>ROC-AUC</th>\n",
       "    </tr>\n",
       "  </thead>\n",
       "  <tbody>\n",
       "    <tr>\n",
       "      <th>ExtraTreesClassifier</th>\n",
       "      <td>0.873</td>\n",
       "      <td>0.897</td>\n",
       "      <td>0.435</td>\n",
       "      <td>0.19</td>\n",
       "      <td>0.264</td>\n",
       "      <td>256.0</td>\n",
       "      <td>78.0</td>\n",
       "      <td>0.812</td>\n",
       "    </tr>\n",
       "  </tbody>\n",
       "</table>\n",
       "</div>"
      ],
      "text/plain": [
       "                     Accuracy Specificity Recall Precision     F1  \\\n",
       "ExtraTreesClassifier    0.873       0.897  0.435      0.19  0.264   \n",
       "\n",
       "                     False Positives False Negatives ROC-AUC  \n",
       "ExtraTreesClassifier           256.0            78.0   0.812  "
      ]
     },
     "execution_count": 42,
     "metadata": {},
     "output_type": "execute_result"
    }
   ],
   "source": [
    "et_os_result = eval_model(et_os)\n",
    "et_os_result"
   ]
  },
  {
   "cell_type": "markdown",
   "id": "6b96530e",
   "metadata": {},
   "source": [
    "# Evaluating and Interpreting Results\n",
    "## Summary of results for all models"
   ]
  },
  {
   "cell_type": "markdown",
   "id": "b4aec204-c34a-46dc-8586-ae1b6ca4bdfd",
   "metadata": {},
   "source": [
    "Summary results for models *without* oversampling"
   ]
  },
  {
   "cell_type": "code",
   "execution_count": 43,
   "id": "3237085f",
   "metadata": {
    "execution": {
     "iopub.execute_input": "2022-02-05T16:52:21.298490Z",
     "iopub.status.busy": "2022-02-05T16:52:21.298195Z",
     "iopub.status.idle": "2022-02-05T16:52:21.314093Z",
     "shell.execute_reply": "2022-02-05T16:52:21.313825Z",
     "shell.execute_reply.started": "2022-02-05T16:52:21.298477Z"
    },
    "scrolled": true
   },
   "outputs": [
    {
     "data": {
      "text/html": [
       "<div>\n",
       "<style scoped>\n",
       "    .dataframe tbody tr th:only-of-type {\n",
       "        vertical-align: middle;\n",
       "    }\n",
       "\n",
       "    .dataframe tbody tr th {\n",
       "        vertical-align: top;\n",
       "    }\n",
       "\n",
       "    .dataframe thead th {\n",
       "        text-align: right;\n",
       "    }\n",
       "</style>\n",
       "<table border=\"1\" class=\"dataframe\">\n",
       "  <thead>\n",
       "    <tr style=\"text-align: right;\">\n",
       "      <th></th>\n",
       "      <th>Accuracy</th>\n",
       "      <th>Specificity</th>\n",
       "      <th>Recall</th>\n",
       "      <th>Precision</th>\n",
       "      <th>F1</th>\n",
       "      <th>False Positives</th>\n",
       "      <th>False Negatives</th>\n",
       "      <th>ROC-AUC</th>\n",
       "    </tr>\n",
       "  </thead>\n",
       "  <tbody>\n",
       "    <tr>\n",
       "      <th>Dummy</th>\n",
       "      <td>0.947</td>\n",
       "      <td>1.0</td>\n",
       "      <td>0.0</td>\n",
       "      <td>NaN</td>\n",
       "      <td>NaN</td>\n",
       "      <td>0.0</td>\n",
       "      <td>138.0</td>\n",
       "      <td>0.5</td>\n",
       "    </tr>\n",
       "    <tr>\n",
       "      <th>RandomForestClassifier</th>\n",
       "      <td>0.774</td>\n",
       "      <td>0.777</td>\n",
       "      <td>0.703</td>\n",
       "      <td>0.149</td>\n",
       "      <td>0.246</td>\n",
       "      <td>554.0</td>\n",
       "      <td>41.0</td>\n",
       "      <td>0.822</td>\n",
       "    </tr>\n",
       "    <tr>\n",
       "      <th>SVC</th>\n",
       "      <td>0.809</td>\n",
       "      <td>0.818</td>\n",
       "      <td>0.63</td>\n",
       "      <td>0.161</td>\n",
       "      <td>0.257</td>\n",
       "      <td>452.0</td>\n",
       "      <td>51.0</td>\n",
       "      <td>0.815</td>\n",
       "    </tr>\n",
       "    <tr>\n",
       "      <th>LogisticRegression</th>\n",
       "      <td>0.947</td>\n",
       "      <td>1.0</td>\n",
       "      <td>0.0</td>\n",
       "      <td>NaN</td>\n",
       "      <td>NaN</td>\n",
       "      <td>0.0</td>\n",
       "      <td>138.0</td>\n",
       "      <td>0.769</td>\n",
       "    </tr>\n",
       "    <tr>\n",
       "      <th>KNeighborsClassifier</th>\n",
       "      <td>0.947</td>\n",
       "      <td>1.0</td>\n",
       "      <td>0.0</td>\n",
       "      <td>NaN</td>\n",
       "      <td>NaN</td>\n",
       "      <td>0.0</td>\n",
       "      <td>138.0</td>\n",
       "      <td>0.793</td>\n",
       "    </tr>\n",
       "    <tr>\n",
       "      <th>GradientBoostingClassifier</th>\n",
       "      <td>0.944</td>\n",
       "      <td>0.992</td>\n",
       "      <td>0.08</td>\n",
       "      <td>0.367</td>\n",
       "      <td>0.131</td>\n",
       "      <td>19.0</td>\n",
       "      <td>127.0</td>\n",
       "      <td>0.826</td>\n",
       "    </tr>\n",
       "    <tr>\n",
       "      <th>XGBClassifier</th>\n",
       "      <td>0.946</td>\n",
       "      <td>0.996</td>\n",
       "      <td>0.029</td>\n",
       "      <td>0.308</td>\n",
       "      <td>0.053</td>\n",
       "      <td>9.0</td>\n",
       "      <td>134.0</td>\n",
       "      <td>0.813</td>\n",
       "    </tr>\n",
       "    <tr>\n",
       "      <th>ExtraTreesClassifier</th>\n",
       "      <td>0.947</td>\n",
       "      <td>1.0</td>\n",
       "      <td>0.0</td>\n",
       "      <td>NaN</td>\n",
       "      <td>NaN</td>\n",
       "      <td>0.0</td>\n",
       "      <td>138.0</td>\n",
       "      <td>0.814</td>\n",
       "    </tr>\n",
       "  </tbody>\n",
       "</table>\n",
       "</div>"
      ],
      "text/plain": [
       "                           Accuracy Specificity Recall Precision     F1  \\\n",
       "Dummy                         0.947         1.0    0.0       NaN    NaN   \n",
       "RandomForestClassifier        0.774       0.777  0.703     0.149  0.246   \n",
       "SVC                           0.809       0.818   0.63     0.161  0.257   \n",
       "LogisticRegression            0.947         1.0    0.0       NaN    NaN   \n",
       "KNeighborsClassifier          0.947         1.0    0.0       NaN    NaN   \n",
       "GradientBoostingClassifier    0.944       0.992   0.08     0.367  0.131   \n",
       "XGBClassifier                 0.946       0.996  0.029     0.308  0.053   \n",
       "ExtraTreesClassifier          0.947         1.0    0.0       NaN    NaN   \n",
       "\n",
       "                           False Positives False Negatives ROC-AUC  \n",
       "Dummy                                  0.0           138.0     0.5  \n",
       "RandomForestClassifier               554.0            41.0   0.822  \n",
       "SVC                                  452.0            51.0   0.815  \n",
       "LogisticRegression                     0.0           138.0   0.769  \n",
       "KNeighborsClassifier                   0.0           138.0   0.793  \n",
       "GradientBoostingClassifier            19.0           127.0   0.826  \n",
       "XGBClassifier                          9.0           134.0   0.813  \n",
       "ExtraTreesClassifier                   0.0           138.0   0.814  "
      ]
     },
     "execution_count": 43,
     "metadata": {},
     "output_type": "execute_result"
    }
   ],
   "source": [
    "summary = pd.concat(\n",
    "    [\n",
    "        dummy_result,\n",
    "        rfc_result,\n",
    "        svc_result,\n",
    "        lr_result,\n",
    "        knn_result,\n",
    "        gbc_result,\n",
    "        xgb_result,\n",
    "        et_result,\n",
    "    ]\n",
    ")\n",
    "summary"
   ]
  },
  {
   "cell_type": "markdown",
   "id": "b3c26264-2b14-48d6-b970-d83d4250dd68",
   "metadata": {},
   "source": [
    "Summary results for models with oversampling"
   ]
  },
  {
   "cell_type": "code",
   "execution_count": 44,
   "id": "d73f66c3-cbc7-47ff-a2ee-6d030196af79",
   "metadata": {
    "execution": {
     "iopub.execute_input": "2022-02-05T16:52:21.315593Z",
     "iopub.status.busy": "2022-02-05T16:52:21.315437Z",
     "iopub.status.idle": "2022-02-05T16:52:21.325383Z",
     "shell.execute_reply": "2022-02-05T16:52:21.325088Z",
     "shell.execute_reply.started": "2022-02-05T16:52:21.315577Z"
    }
   },
   "outputs": [
    {
     "data": {
      "text/html": [
       "<div>\n",
       "<style scoped>\n",
       "    .dataframe tbody tr th:only-of-type {\n",
       "        vertical-align: middle;\n",
       "    }\n",
       "\n",
       "    .dataframe tbody tr th {\n",
       "        vertical-align: top;\n",
       "    }\n",
       "\n",
       "    .dataframe thead th {\n",
       "        text-align: right;\n",
       "    }\n",
       "</style>\n",
       "<table border=\"1\" class=\"dataframe\">\n",
       "  <thead>\n",
       "    <tr style=\"text-align: right;\">\n",
       "      <th></th>\n",
       "      <th>Accuracy</th>\n",
       "      <th>Specificity</th>\n",
       "      <th>Recall</th>\n",
       "      <th>Precision</th>\n",
       "      <th>F1</th>\n",
       "      <th>False Positives</th>\n",
       "      <th>False Negatives</th>\n",
       "      <th>ROC-AUC</th>\n",
       "    </tr>\n",
       "  </thead>\n",
       "  <tbody>\n",
       "    <tr>\n",
       "      <th>Dummy</th>\n",
       "      <td>0.947</td>\n",
       "      <td>1.0</td>\n",
       "      <td>0.0</td>\n",
       "      <td>NaN</td>\n",
       "      <td>NaN</td>\n",
       "      <td>0.0</td>\n",
       "      <td>138.0</td>\n",
       "      <td>0.5</td>\n",
       "    </tr>\n",
       "    <tr>\n",
       "      <th>RandomForestClassifier</th>\n",
       "      <td>0.887</td>\n",
       "      <td>0.917</td>\n",
       "      <td>0.341</td>\n",
       "      <td>0.185</td>\n",
       "      <td>0.24</td>\n",
       "      <td>207.0</td>\n",
       "      <td>91.0</td>\n",
       "      <td>0.804</td>\n",
       "    </tr>\n",
       "    <tr>\n",
       "      <th>SVC</th>\n",
       "      <td>0.83</td>\n",
       "      <td>0.844</td>\n",
       "      <td>0.58</td>\n",
       "      <td>0.171</td>\n",
       "      <td>0.264</td>\n",
       "      <td>388.0</td>\n",
       "      <td>58.0</td>\n",
       "      <td>0.804</td>\n",
       "    </tr>\n",
       "    <tr>\n",
       "      <th>LogisticRegression</th>\n",
       "      <td>0.679</td>\n",
       "      <td>0.675</td>\n",
       "      <td>0.768</td>\n",
       "      <td>0.116</td>\n",
       "      <td>0.201</td>\n",
       "      <td>810.0</td>\n",
       "      <td>32.0</td>\n",
       "      <td>0.776</td>\n",
       "    </tr>\n",
       "    <tr>\n",
       "      <th>KNeighborsClassifier</th>\n",
       "      <td>0.835</td>\n",
       "      <td>0.861</td>\n",
       "      <td>0.377</td>\n",
       "      <td>0.13</td>\n",
       "      <td>0.194</td>\n",
       "      <td>347.0</td>\n",
       "      <td>86.0</td>\n",
       "      <td>0.721</td>\n",
       "    </tr>\n",
       "    <tr>\n",
       "      <th>GradientBoostingClassifier</th>\n",
       "      <td>0.899</td>\n",
       "      <td>0.929</td>\n",
       "      <td>0.355</td>\n",
       "      <td>0.218</td>\n",
       "      <td>0.27</td>\n",
       "      <td>176.0</td>\n",
       "      <td>89.0</td>\n",
       "      <td>0.827</td>\n",
       "    </tr>\n",
       "    <tr>\n",
       "      <th>XGBClassifier</th>\n",
       "      <td>0.886</td>\n",
       "      <td>0.914</td>\n",
       "      <td>0.377</td>\n",
       "      <td>0.196</td>\n",
       "      <td>0.258</td>\n",
       "      <td>213.0</td>\n",
       "      <td>86.0</td>\n",
       "      <td>0.817</td>\n",
       "    </tr>\n",
       "    <tr>\n",
       "      <th>ExtraTreesClassifier</th>\n",
       "      <td>0.873</td>\n",
       "      <td>0.897</td>\n",
       "      <td>0.435</td>\n",
       "      <td>0.19</td>\n",
       "      <td>0.264</td>\n",
       "      <td>256.0</td>\n",
       "      <td>78.0</td>\n",
       "      <td>0.812</td>\n",
       "    </tr>\n",
       "  </tbody>\n",
       "</table>\n",
       "</div>"
      ],
      "text/plain": [
       "                           Accuracy Specificity Recall Precision     F1  \\\n",
       "Dummy                         0.947         1.0    0.0       NaN    NaN   \n",
       "RandomForestClassifier        0.887       0.917  0.341     0.185   0.24   \n",
       "SVC                            0.83       0.844   0.58     0.171  0.264   \n",
       "LogisticRegression            0.679       0.675  0.768     0.116  0.201   \n",
       "KNeighborsClassifier          0.835       0.861  0.377      0.13  0.194   \n",
       "GradientBoostingClassifier    0.899       0.929  0.355     0.218   0.27   \n",
       "XGBClassifier                 0.886       0.914  0.377     0.196  0.258   \n",
       "ExtraTreesClassifier          0.873       0.897  0.435      0.19  0.264   \n",
       "\n",
       "                           False Positives False Negatives ROC-AUC  \n",
       "Dummy                                  0.0           138.0     0.5  \n",
       "RandomForestClassifier               207.0            91.0   0.804  \n",
       "SVC                                  388.0            58.0   0.804  \n",
       "LogisticRegression                   810.0            32.0   0.776  \n",
       "KNeighborsClassifier                 347.0            86.0   0.721  \n",
       "GradientBoostingClassifier           176.0            89.0   0.827  \n",
       "XGBClassifier                        213.0            86.0   0.817  \n",
       "ExtraTreesClassifier                 256.0            78.0   0.812  "
      ]
     },
     "execution_count": 44,
     "metadata": {},
     "output_type": "execute_result"
    }
   ],
   "source": [
    "summary = pd.concat(\n",
    "    [\n",
    "        dummy_os_result,\n",
    "        rfc_os_result,\n",
    "        svc_os_result,\n",
    "        lr_os_result,\n",
    "        knn_os_result,\n",
    "        gbc_os_result,\n",
    "        xgb_os_result,\n",
    "        et_os_result,\n",
    "    ]\n",
    ")\n",
    "summary"
   ]
  },
  {
   "cell_type": "markdown",
   "id": "f506664f",
   "metadata": {},
   "source": [
    "Dummy, Extra Trees, K Nearest Neighbors and Logistic regression produced very similar results, which makes accuracy an unsuitable metric for evaluation - just by predicting all instances as negative (absence of WNV), one will get the highest accuracy rate).\n",
    "\n",
    "Instead, the following metrics will be used for evaluation:\n",
    "- ROC-AUC\n",
    "- False negatives\n",
    "\n",
    "False negatives: The classifier with the lowest false negative rate was SVC. SVC also had the 2nd highest ROC-AUC scores.\n",
    "\n",
    "ROC-AUC: Gradient Boosting Classifier outperformed all the other models and will be used as the final model for production."
   ]
  },
  {
   "cell_type": "markdown",
   "id": "21dba185",
   "metadata": {},
   "source": [
    "## ROC plot"
   ]
  },
  {
   "cell_type": "code",
   "execution_count": 45,
   "id": "f98dabc9",
   "metadata": {
    "execution": {
     "iopub.execute_input": "2022-02-05T16:52:21.326108Z",
     "iopub.status.busy": "2022-02-05T16:52:21.325984Z",
     "iopub.status.idle": "2022-02-05T16:52:25.589606Z",
     "shell.execute_reply": "2022-02-05T16:52:25.589268Z",
     "shell.execute_reply.started": "2022-02-05T16:52:21.326095Z"
    }
   },
   "outputs": [
    {
     "data": {
      "image/png": "[encoded data removed]",
      "text/plain": [
       "<Figure size 720x576 with 1 Axes>"
      ]
     },
     "metadata": {
      "needs_background": "light"
     },
     "output_type": "display_data"
    }
   ],
   "source": [
    "models = [dummy, rfc, svc, lr, knn, gbc, xgb, et]\n",
    "\n",
    "fig, ax = plt.subplots(figsize=(10, 8))\n",
    "plt.plot([0, 1], [0, 1], \"k--\")\n",
    "for i, model in enumerate(models):\n",
    "    RocCurveDisplay.from_estimator(\n",
    "        model, X_val, y_val, ax=ax, name=f\"{summary.index[i]}\"\n",
    "    )"
   ]
  },
  {
   "cell_type": "markdown",
   "id": "0ef39348",
   "metadata": {},
   "source": [
    "From the graph, it can be observed that the Gradient Boosting Classifier outperforms almost every other model in terms of ROC-AUC. The SVC is the 2nd best, but its accuracy score is very compromised."
   ]
  },
  {
   "cell_type": "markdown",
   "id": "7a24f5ea-ce98-4c85-bd58-f5b5b0818566",
   "metadata": {},
   "source": [
    "## Precision-Recall Curve plot"
   ]
  },
  {
   "cell_type": "code",
   "execution_count": 53,
   "id": "3de9ec08-1bca-4e8e-866f-03971f0d6551",
   "metadata": {
    "execution": {
     "iopub.execute_input": "2022-02-06T01:10:00.991657Z",
     "iopub.status.busy": "2022-02-06T01:10:00.991185Z",
     "iopub.status.idle": "2022-02-06T01:10:02.338033Z",
     "shell.execute_reply": "2022-02-06T01:10:02.337452Z",
     "shell.execute_reply.started": "2022-02-06T01:10:00.991611Z"
    },
    "tags": []
   },
   "outputs": [
    {
     "data": {
      "text/plain": [
       "<matplotlib.legend.Legend at 0x7fc97c1d42e0>"
      ]
     },
     "execution_count": 53,
     "metadata": {},
     "output_type": "execute_result"
    },
    {
     "data": {
      "image/png": "[encoded data removed]",
      "text/plain": [
       "<Figure size 720x576 with 1 Axes>"
      ]
     },
     "metadata": {
      "needs_background": "light"
     },
     "output_type": "display_data"
    }
   ],
   "source": [
    "models = [dummy, rfc, svc, lr, knn, gbc, xgb, et]\n",
    "\n",
    "fig, ax = plt.subplots(figsize=(10, 8))\n",
    "for i, model in enumerate(models):\n",
    "    PrecisionRecallDisplay.from_estimator(\n",
    "        model, X_val, y_val, ax=ax, name=f\"{summary.index[i]}\"\n",
    "    )\n",
    "plt.legend(loc='upper right')"
   ]
  },
  {
   "cell_type": "markdown",
   "id": "7e468949",
   "metadata": {},
   "source": [
    "## Important features"
   ]
  },
  {
   "cell_type": "code",
   "execution_count": 54,
   "id": "07a768b1",
   "metadata": {
    "execution": {
     "iopub.execute_input": "2022-02-06T01:10:49.852609Z",
     "iopub.status.busy": "2022-02-06T01:10:49.841202Z",
     "iopub.status.idle": "2022-02-06T01:10:49.872187Z",
     "shell.execute_reply": "2022-02-06T01:10:49.871433Z",
     "shell.execute_reply.started": "2022-02-06T01:10:49.852505Z"
    },
    "tags": []
   },
   "outputs": [],
   "source": [
    "def get_impt_features(models):\n",
    "    result = pd.DataFrame()\n",
    "    for i, model in enumerate(models):\n",
    "        try:\n",
    "            importances = model.best_estimator_.feature_importances_\n",
    "            df = (\n",
    "                pd.DataFrame(\n",
    "                    zip(X_train.columns, importances),\n",
    "                    columns=[f\"{summary.index[i]}\", \"importance\"],\n",
    "                )\n",
    "                .sort_values(\"importance\", ascending=False)\n",
    "                .reset_index(drop=True)\n",
    "            )\n",
    "            result = pd.concat([result, df], axis=1)\n",
    "\n",
    "        except:\n",
    "            pass\n",
    "\n",
    "        try:\n",
    "            coef = model.best_estimator_.coef_\n",
    "            df = (\n",
    "                pd.DataFrame([X_train.columns, (*coef)])\n",
    "                .T.rename(columns={0: f\"{summary.index[i]}\", 1: \"coefficient\"})\n",
    "                .sort_values(\"coefficient\", ascending=False, key=abs)\n",
    "                .reset_index(drop=True)\n",
    "            )\n",
    "            result = pd.concat([result, df], axis=1)\n",
    "\n",
    "        except:\n",
    "            pass\n",
    "\n",
    "    return result"
   ]
  },
  {
   "cell_type": "code",
   "execution_count": 55,
   "id": "6bdfb441",
   "metadata": {
    "execution": {
     "iopub.execute_input": "2022-02-06T01:10:51.300007Z",
     "iopub.status.busy": "2022-02-06T01:10:51.299440Z",
     "iopub.status.idle": "2022-02-06T01:10:51.402791Z",
     "shell.execute_reply": "2022-02-06T01:10:51.402429Z",
     "shell.execute_reply.started": "2022-02-06T01:10:51.299949Z"
    },
    "scrolled": true,
    "tags": []
   },
   "outputs": [
    {
     "data": {
      "text/html": [
       "<div>\n",
       "<style scoped>\n",
       "    .dataframe tbody tr th:only-of-type {\n",
       "        vertical-align: middle;\n",
       "    }\n",
       "\n",
       "    .dataframe tbody tr th {\n",
       "        vertical-align: top;\n",
       "    }\n",
       "\n",
       "    .dataframe thead th {\n",
       "        text-align: right;\n",
       "    }\n",
       "</style>\n",
       "<table border=\"1\" class=\"dataframe\">\n",
       "  <thead>\n",
       "    <tr style=\"text-align: right;\">\n",
       "      <th></th>\n",
       "      <th>RandomForestClassifier</th>\n",
       "      <th>importance</th>\n",
       "      <th>LogisticRegression</th>\n",
       "      <th>coefficient</th>\n",
       "      <th>GradientBoostingClassifier</th>\n",
       "      <th>importance</th>\n",
       "      <th>XGBClassifier</th>\n",
       "      <th>importance</th>\n",
       "      <th>ExtraTreesClassifier</th>\n",
       "      <th>importance</th>\n",
       "    </tr>\n",
       "  </thead>\n",
       "  <tbody>\n",
       "    <tr>\n",
       "      <th>0</th>\n",
       "      <td>daylight</td>\n",
       "      <td>0.130022</td>\n",
       "      <td>dewpoint</td>\n",
       "      <td>4.337617</td>\n",
       "      <td>longitude</td>\n",
       "      <td>0.212056</td>\n",
       "      <td>tavg_weekly_lag1</td>\n",
       "      <td>0.110388</td>\n",
       "      <td>longitude</td>\n",
       "      <td>0.164932</td>\n",
       "    </tr>\n",
       "    <tr>\n",
       "      <th>1</th>\n",
       "      <td>longitude</td>\n",
       "      <td>0.107634</td>\n",
       "      <td>species_TERRITANS</td>\n",
       "      <td>-3.959661</td>\n",
       "      <td>daylight</td>\n",
       "      <td>0.199823</td>\n",
       "      <td>daylight</td>\n",
       "      <td>0.086401</td>\n",
       "      <td>latitude</td>\n",
       "      <td>0.131379</td>\n",
       "    </tr>\n",
       "    <tr>\n",
       "      <th>2</th>\n",
       "      <td>tavg_weekly_lag1</td>\n",
       "      <td>0.088004</td>\n",
       "      <td>species_SALINARIUS</td>\n",
       "      <td>-3.196961</td>\n",
       "      <td>latitude</td>\n",
       "      <td>0.113669</td>\n",
       "      <td>relative_hum_weekly_lag2</td>\n",
       "      <td>0.062645</td>\n",
       "      <td>daylight</td>\n",
       "      <td>0.065507</td>\n",
       "    </tr>\n",
       "    <tr>\n",
       "      <th>3</th>\n",
       "      <td>latitude</td>\n",
       "      <td>0.083411</td>\n",
       "      <td>wetbulb</td>\n",
       "      <td>-3.019824</td>\n",
       "      <td>tavg_weekly_lag1</td>\n",
       "      <td>0.059110</td>\n",
       "      <td>wetbulb</td>\n",
       "      <td>0.059319</td>\n",
       "      <td>tavg_weekly_lag1</td>\n",
       "      <td>0.050393</td>\n",
       "    </tr>\n",
       "    <tr>\n",
       "      <th>4</th>\n",
       "      <td>tavg_weekly_lag2</td>\n",
       "      <td>0.075317</td>\n",
       "      <td>cool</td>\n",
       "      <td>-2.247931</td>\n",
       "      <td>temp_fluct</td>\n",
       "      <td>0.045789</td>\n",
       "      <td>relative_hum_weekly_lag1</td>\n",
       "      <td>0.056001</td>\n",
       "      <td>species_PIPIENS</td>\n",
       "      <td>0.046159</td>\n",
       "    </tr>\n",
       "    <tr>\n",
       "      <th>5</th>\n",
       "      <td>tavg</td>\n",
       "      <td>0.053403</td>\n",
       "      <td>tavg</td>\n",
       "      <td>-2.048473</td>\n",
       "      <td>tmin</td>\n",
       "      <td>0.042682</td>\n",
       "      <td>longitude</td>\n",
       "      <td>0.050417</td>\n",
       "      <td>tavg_weekly_lag2</td>\n",
       "      <td>0.042012</td>\n",
       "    </tr>\n",
       "    <tr>\n",
       "      <th>6</th>\n",
       "      <td>cool</td>\n",
       "      <td>0.039705</td>\n",
       "      <td>tmin</td>\n",
       "      <td>2.018279</td>\n",
       "      <td>relative_hum_weekly</td>\n",
       "      <td>0.034392</td>\n",
       "      <td>species_PIPIENS</td>\n",
       "      <td>0.047678</td>\n",
       "      <td>relative_hum_weekly</td>\n",
       "      <td>0.036359</td>\n",
       "    </tr>\n",
       "    <tr>\n",
       "      <th>7</th>\n",
       "      <td>preciptotal_weekly_lag1</td>\n",
       "      <td>0.035699</td>\n",
       "      <td>tmax</td>\n",
       "      <td>1.913486</td>\n",
       "      <td>species_PIPIENS</td>\n",
       "      <td>0.029557</td>\n",
       "      <td>depart</td>\n",
       "      <td>0.047139</td>\n",
       "      <td>relative_hum_weekly_lag1</td>\n",
       "      <td>0.036108</td>\n",
       "    </tr>\n",
       "    <tr>\n",
       "      <th>8</th>\n",
       "      <td>tmax</td>\n",
       "      <td>0.034116</td>\n",
       "      <td>species_PIPIENS</td>\n",
       "      <td>1.802235</td>\n",
       "      <td>relative_hum</td>\n",
       "      <td>0.027580</td>\n",
       "      <td>tavg</td>\n",
       "      <td>0.045311</td>\n",
       "      <td>species_RESTUANS</td>\n",
       "      <td>0.036084</td>\n",
       "    </tr>\n",
       "    <tr>\n",
       "      <th>9</th>\n",
       "      <td>wetbulb</td>\n",
       "      <td>0.032553</td>\n",
       "      <td>species_ERRATICUS</td>\n",
       "      <td>-1.522391</td>\n",
       "      <td>tavg_weekly_lag2</td>\n",
       "      <td>0.026898</td>\n",
       "      <td>tmin</td>\n",
       "      <td>0.043876</td>\n",
       "      <td>relative_hum_weekly_lag2</td>\n",
       "      <td>0.030214</td>\n",
       "    </tr>\n",
       "    <tr>\n",
       "      <th>10</th>\n",
       "      <td>relative_hum_weekly_lag1</td>\n",
       "      <td>0.028763</td>\n",
       "      <td>species_PIPIENS/RESTUANS</td>\n",
       "      <td>1.508385</td>\n",
       "      <td>wetbulb</td>\n",
       "      <td>0.025606</td>\n",
       "      <td>tavg_weekly_lag2</td>\n",
       "      <td>0.042674</td>\n",
       "      <td>tavg</td>\n",
       "      <td>0.029235</td>\n",
       "    </tr>\n",
       "    <tr>\n",
       "      <th>11</th>\n",
       "      <td>relative_hum_weekly_lag2</td>\n",
       "      <td>0.027808</td>\n",
       "      <td>relative_hum</td>\n",
       "      <td>-1.31409</td>\n",
       "      <td>relative_hum_weekly_lag2</td>\n",
       "      <td>0.024106</td>\n",
       "      <td>tavg_weekly</td>\n",
       "      <td>0.041245</td>\n",
       "      <td>tmin</td>\n",
       "      <td>0.027669</td>\n",
       "    </tr>\n",
       "    <tr>\n",
       "      <th>12</th>\n",
       "      <td>temp_fluct</td>\n",
       "      <td>0.026145</td>\n",
       "      <td>tavg_weekly_lag2</td>\n",
       "      <td>1.105061</td>\n",
       "      <td>dewpoint</td>\n",
       "      <td>0.023864</td>\n",
       "      <td>dewpoint</td>\n",
       "      <td>0.040291</td>\n",
       "      <td>cool</td>\n",
       "      <td>0.026851</td>\n",
       "    </tr>\n",
       "    <tr>\n",
       "      <th>13</th>\n",
       "      <td>tmin</td>\n",
       "      <td>0.025174</td>\n",
       "      <td>heat</td>\n",
       "      <td>0.9056</td>\n",
       "      <td>tmax</td>\n",
       "      <td>0.023193</td>\n",
       "      <td>species_RESTUANS</td>\n",
       "      <td>0.038664</td>\n",
       "      <td>temp_fluct</td>\n",
       "      <td>0.025650</td>\n",
       "    </tr>\n",
       "    <tr>\n",
       "      <th>14</th>\n",
       "      <td>relative_hum_weekly</td>\n",
       "      <td>0.024868</td>\n",
       "      <td>species_TARSALIS</td>\n",
       "      <td>-0.806758</td>\n",
       "      <td>preciptotal</td>\n",
       "      <td>0.019031</td>\n",
       "      <td>relative_hum_weekly</td>\n",
       "      <td>0.037458</td>\n",
       "      <td>tmax</td>\n",
       "      <td>0.025414</td>\n",
       "    </tr>\n",
       "    <tr>\n",
       "      <th>15</th>\n",
       "      <td>relative_hum</td>\n",
       "      <td>0.024118</td>\n",
       "      <td>tavg_weekly_lag1</td>\n",
       "      <td>0.770103</td>\n",
       "      <td>species_PIPIENS/RESTUANS</td>\n",
       "      <td>0.018073</td>\n",
       "      <td>species_PIPIENS/RESTUANS</td>\n",
       "      <td>0.034278</td>\n",
       "      <td>species_PIPIENS/RESTUANS</td>\n",
       "      <td>0.024955</td>\n",
       "    </tr>\n",
       "    <tr>\n",
       "      <th>16</th>\n",
       "      <td>dewpoint</td>\n",
       "      <td>0.023855</td>\n",
       "      <td>species_RESTUANS</td>\n",
       "      <td>0.757961</td>\n",
       "      <td>tavg</td>\n",
       "      <td>0.015689</td>\n",
       "      <td>tmax</td>\n",
       "      <td>0.033773</td>\n",
       "      <td>wetbulb</td>\n",
       "      <td>0.024611</td>\n",
       "    </tr>\n",
       "    <tr>\n",
       "      <th>17</th>\n",
       "      <td>species_RESTUANS</td>\n",
       "      <td>0.022758</td>\n",
       "      <td>daylight</td>\n",
       "      <td>-0.751249</td>\n",
       "      <td>relative_hum_weekly_lag1</td>\n",
       "      <td>0.011887</td>\n",
       "      <td>temp_fluct</td>\n",
       "      <td>0.030568</td>\n",
       "      <td>preciptotal_weekly_lag2</td>\n",
       "      <td>0.024426</td>\n",
       "    </tr>\n",
       "    <tr>\n",
       "      <th>18</th>\n",
       "      <td>depart</td>\n",
       "      <td>0.022556</td>\n",
       "      <td>longitude</td>\n",
       "      <td>-0.496181</td>\n",
       "      <td>cool</td>\n",
       "      <td>0.011102</td>\n",
       "      <td>latitude</td>\n",
       "      <td>0.029491</td>\n",
       "      <td>relative_hum</td>\n",
       "      <td>0.023092</td>\n",
       "    </tr>\n",
       "    <tr>\n",
       "      <th>19</th>\n",
       "      <td>preciptotal_weekly_lag2</td>\n",
       "      <td>0.020250</td>\n",
       "      <td>tavg_weekly</td>\n",
       "      <td>0.462855</td>\n",
       "      <td>species_RESTUANS</td>\n",
       "      <td>0.009000</td>\n",
       "      <td>preciptotal</td>\n",
       "      <td>0.027080</td>\n",
       "      <td>dewpoint</td>\n",
       "      <td>0.022477</td>\n",
       "    </tr>\n",
       "    <tr>\n",
       "      <th>20</th>\n",
       "      <td>tavg_weekly</td>\n",
       "      <td>0.016273</td>\n",
       "      <td>depart</td>\n",
       "      <td>0.316617</td>\n",
       "      <td>depart</td>\n",
       "      <td>0.005723</td>\n",
       "      <td>relative_hum</td>\n",
       "      <td>0.018985</td>\n",
       "      <td>preciptotal_weekly_lag1</td>\n",
       "      <td>0.022037</td>\n",
       "    </tr>\n",
       "    <tr>\n",
       "      <th>21</th>\n",
       "      <td>species_PIPIENS/RESTUANS</td>\n",
       "      <td>0.013061</td>\n",
       "      <td>relative_hum_weekly</td>\n",
       "      <td>0.233735</td>\n",
       "      <td>preciptotal_weekly_lag1</td>\n",
       "      <td>0.005721</td>\n",
       "      <td>species_TERRITANS</td>\n",
       "      <td>0.016318</td>\n",
       "      <td>depart</td>\n",
       "      <td>0.020583</td>\n",
       "    </tr>\n",
       "    <tr>\n",
       "      <th>22</th>\n",
       "      <td>preciptotal_weekly</td>\n",
       "      <td>0.012923</td>\n",
       "      <td>preciptotal</td>\n",
       "      <td>0.179279</td>\n",
       "      <td>preciptotal_weekly_lag2</td>\n",
       "      <td>0.005614</td>\n",
       "      <td>preciptotal_weekly</td>\n",
       "      <td>0.000000</td>\n",
       "      <td>preciptotal_weekly</td>\n",
       "      <td>0.019781</td>\n",
       "    </tr>\n",
       "    <tr>\n",
       "      <th>23</th>\n",
       "      <td>species_PIPIENS</td>\n",
       "      <td>0.012186</td>\n",
       "      <td>preciptotal_weekly</td>\n",
       "      <td>0.176919</td>\n",
       "      <td>preciptotal_weekly</td>\n",
       "      <td>0.004119</td>\n",
       "      <td>preciptotal_weekly_lag1</td>\n",
       "      <td>0.000000</td>\n",
       "      <td>tavg_weekly</td>\n",
       "      <td>0.018311</td>\n",
       "    </tr>\n",
       "    <tr>\n",
       "      <th>24</th>\n",
       "      <td>preciptotal</td>\n",
       "      <td>0.010607</td>\n",
       "      <td>temp_fluct</td>\n",
       "      <td>0.129087</td>\n",
       "      <td>species_TERRITANS</td>\n",
       "      <td>0.002136</td>\n",
       "      <td>preciptotal_weekly_lag2</td>\n",
       "      <td>0.000000</td>\n",
       "      <td>preciptotal</td>\n",
       "      <td>0.015458</td>\n",
       "    </tr>\n",
       "    <tr>\n",
       "      <th>25</th>\n",
       "      <td>heat</td>\n",
       "      <td>0.004281</td>\n",
       "      <td>relative_hum_weekly_lag1</td>\n",
       "      <td>0.059303</td>\n",
       "      <td>species_ERRATICUS</td>\n",
       "      <td>0.001639</td>\n",
       "      <td>species_ERRATICUS</td>\n",
       "      <td>0.000000</td>\n",
       "      <td>heat</td>\n",
       "      <td>0.004761</td>\n",
       "    </tr>\n",
       "    <tr>\n",
       "      <th>26</th>\n",
       "      <td>species_TERRITANS</td>\n",
       "      <td>0.004117</td>\n",
       "      <td>preciptotal_weekly_lag2</td>\n",
       "      <td>0.042184</td>\n",
       "      <td>heat</td>\n",
       "      <td>0.001143</td>\n",
       "      <td>cool</td>\n",
       "      <td>0.000000</td>\n",
       "      <td>species_TERRITANS</td>\n",
       "      <td>0.004150</td>\n",
       "    </tr>\n",
       "    <tr>\n",
       "      <th>27</th>\n",
       "      <td>species_SALINARIUS</td>\n",
       "      <td>0.000362</td>\n",
       "      <td>relative_hum_weekly_lag2</td>\n",
       "      <td>-0.028593</td>\n",
       "      <td>species_SALINARIUS</td>\n",
       "      <td>0.000548</td>\n",
       "      <td>heat</td>\n",
       "      <td>0.000000</td>\n",
       "      <td>species_ERRATICUS</td>\n",
       "      <td>0.000697</td>\n",
       "    </tr>\n",
       "    <tr>\n",
       "      <th>28</th>\n",
       "      <td>species_ERRATICUS</td>\n",
       "      <td>0.000026</td>\n",
       "      <td>latitude</td>\n",
       "      <td>-0.003723</td>\n",
       "      <td>tavg_weekly</td>\n",
       "      <td>0.000252</td>\n",
       "      <td>species_SALINARIUS</td>\n",
       "      <td>0.000000</td>\n",
       "      <td>species_SALINARIUS</td>\n",
       "      <td>0.000673</td>\n",
       "    </tr>\n",
       "    <tr>\n",
       "      <th>29</th>\n",
       "      <td>species_TARSALIS</td>\n",
       "      <td>0.000006</td>\n",
       "      <td>preciptotal_weekly_lag1</td>\n",
       "      <td>-0.001317</td>\n",
       "      <td>species_TARSALIS</td>\n",
       "      <td>0.000000</td>\n",
       "      <td>species_TARSALIS</td>\n",
       "      <td>0.000000</td>\n",
       "      <td>species_TARSALIS</td>\n",
       "      <td>0.000022</td>\n",
       "    </tr>\n",
       "  </tbody>\n",
       "</table>\n",
       "</div>"
      ],
      "text/plain": [
       "      RandomForestClassifier  importance        LogisticRegression  \\\n",
       "0                   daylight    0.130022                  dewpoint   \n",
       "1                  longitude    0.107634         species_TERRITANS   \n",
       "2           tavg_weekly_lag1    0.088004        species_SALINARIUS   \n",
       "3                   latitude    0.083411                   wetbulb   \n",
       "4           tavg_weekly_lag2    0.075317                      cool   \n",
       "5                       tavg    0.053403                      tavg   \n",
       "6                       cool    0.039705                      tmin   \n",
       "7    preciptotal_weekly_lag1    0.035699                      tmax   \n",
       "8                       tmax    0.034116           species_PIPIENS   \n",
       "9                    wetbulb    0.032553         species_ERRATICUS   \n",
       "10  relative_hum_weekly_lag1    0.028763  species_PIPIENS/RESTUANS   \n",
       "11  relative_hum_weekly_lag2    0.027808              relative_hum   \n",
       "12                temp_fluct    0.026145          tavg_weekly_lag2   \n",
       "13                      tmin    0.025174                      heat   \n",
       "14       relative_hum_weekly    0.024868          species_TARSALIS   \n",
       "15              relative_hum    0.024118          tavg_weekly_lag1   \n",
       "16                  dewpoint    0.023855          species_RESTUANS   \n",
       "17          species_RESTUANS    0.022758                  daylight   \n",
       "18                    depart    0.022556                 longitude   \n",
       "19   preciptotal_weekly_lag2    0.020250               tavg_weekly   \n",
       "20               tavg_weekly    0.016273                    depart   \n",
       "21  species_PIPIENS/RESTUANS    0.013061       relative_hum_weekly   \n",
       "22        preciptotal_weekly    0.012923               preciptotal   \n",
       "23           species_PIPIENS    0.012186        preciptotal_weekly   \n",
       "24               preciptotal    0.010607                temp_fluct   \n",
       "25                      heat    0.004281  relative_hum_weekly_lag1   \n",
       "26         species_TERRITANS    0.004117   preciptotal_weekly_lag2   \n",
       "27        species_SALINARIUS    0.000362  relative_hum_weekly_lag2   \n",
       "28         species_ERRATICUS    0.000026                  latitude   \n",
       "29          species_TARSALIS    0.000006   preciptotal_weekly_lag1   \n",
       "\n",
       "   coefficient GradientBoostingClassifier  importance  \\\n",
       "0     4.337617                  longitude    0.212056   \n",
       "1    -3.959661                   daylight    0.199823   \n",
       "2    -3.196961                   latitude    0.113669   \n",
       "3    -3.019824           tavg_weekly_lag1    0.059110   \n",
       "4    -2.247931                 temp_fluct    0.045789   \n",
       "5    -2.048473                       tmin    0.042682   \n",
       "6     2.018279        relative_hum_weekly    0.034392   \n",
       "7     1.913486            species_PIPIENS    0.029557   \n",
       "8     1.802235               relative_hum    0.027580   \n",
       "9    -1.522391           tavg_weekly_lag2    0.026898   \n",
       "10    1.508385                    wetbulb    0.025606   \n",
       "11    -1.31409   relative_hum_weekly_lag2    0.024106   \n",
       "12    1.105061                   dewpoint    0.023864   \n",
       "13      0.9056                       tmax    0.023193   \n",
       "14   -0.806758                preciptotal    0.019031   \n",
       "15    0.770103   species_PIPIENS/RESTUANS    0.018073   \n",
       "16    0.757961                       tavg    0.015689   \n",
       "17   -0.751249   relative_hum_weekly_lag1    0.011887   \n",
       "18   -0.496181                       cool    0.011102   \n",
       "19    0.462855           species_RESTUANS    0.009000   \n",
       "20    0.316617                     depart    0.005723   \n",
       "21    0.233735    preciptotal_weekly_lag1    0.005721   \n",
       "22    0.179279    preciptotal_weekly_lag2    0.005614   \n",
       "23    0.176919         preciptotal_weekly    0.004119   \n",
       "24    0.129087          species_TERRITANS    0.002136   \n",
       "25    0.059303          species_ERRATICUS    0.001639   \n",
       "26    0.042184                       heat    0.001143   \n",
       "27   -0.028593         species_SALINARIUS    0.000548   \n",
       "28   -0.003723                tavg_weekly    0.000252   \n",
       "29   -0.001317           species_TARSALIS    0.000000   \n",
       "\n",
       "               XGBClassifier  importance      ExtraTreesClassifier  importance  \n",
       "0           tavg_weekly_lag1    0.110388                 longitude    0.164932  \n",
       "1                   daylight    0.086401                  latitude    0.131379  \n",
       "2   relative_hum_weekly_lag2    0.062645                  daylight    0.065507  \n",
       "3                    wetbulb    0.059319          tavg_weekly_lag1    0.050393  \n",
       "4   relative_hum_weekly_lag1    0.056001           species_PIPIENS    0.046159  \n",
       "5                  longitude    0.050417          tavg_weekly_lag2    0.042012  \n",
       "6            species_PIPIENS    0.047678       relative_hum_weekly    0.036359  \n",
       "7                     depart    0.047139  relative_hum_weekly_lag1    0.036108  \n",
       "8                       tavg    0.045311          species_RESTUANS    0.036084  \n",
       "9                       tmin    0.043876  relative_hum_weekly_lag2    0.030214  \n",
       "10          tavg_weekly_lag2    0.042674                      tavg    0.029235  \n",
       "11               tavg_weekly    0.041245                      tmin    0.027669  \n",
       "12                  dewpoint    0.040291                      cool    0.026851  \n",
       "13          species_RESTUANS    0.038664                temp_fluct    0.025650  \n",
       "14       relative_hum_weekly    0.037458                      tmax    0.025414  \n",
       "15  species_PIPIENS/RESTUANS    0.034278  species_PIPIENS/RESTUANS    0.024955  \n",
       "16                      tmax    0.033773                   wetbulb    0.024611  \n",
       "17                temp_fluct    0.030568   preciptotal_weekly_lag2    0.024426  \n",
       "18                  latitude    0.029491              relative_hum    0.023092  \n",
       "19               preciptotal    0.027080                  dewpoint    0.022477  \n",
       "20              relative_hum    0.018985   preciptotal_weekly_lag1    0.022037  \n",
       "21         species_TERRITANS    0.016318                    depart    0.020583  \n",
       "22        preciptotal_weekly    0.000000        preciptotal_weekly    0.019781  \n",
       "23   preciptotal_weekly_lag1    0.000000               tavg_weekly    0.018311  \n",
       "24   preciptotal_weekly_lag2    0.000000               preciptotal    0.015458  \n",
       "25         species_ERRATICUS    0.000000                      heat    0.004761  \n",
       "26                      cool    0.000000         species_TERRITANS    0.004150  \n",
       "27                      heat    0.000000         species_ERRATICUS    0.000697  \n",
       "28        species_SALINARIUS    0.000000        species_SALINARIUS    0.000673  \n",
       "29          species_TARSALIS    0.000000          species_TARSALIS    0.000022  "
      ]
     },
     "execution_count": 55,
     "metadata": {},
     "output_type": "execute_result"
    }
   ],
   "source": [
    "get_impt_features(models)"
   ]
  },
  {
   "cell_type": "markdown",
   "id": "045aa0df",
   "metadata": {},
   "source": [
    "The selected model, Gradient Boosting Classifier, predicted that these are the most important features;\n",
    "- Longitude & Latitude\n",
    "- Daylight\n",
    "- Lagged temperature\n",
    "- Temperature fluctuation\n",
    "- Relative humidity\n",
    "- Species pipiens\n",
    "\n",
    "Location (operationalized by longitude and latitude) is not surprising considering the fact that infected mosquitoes tend to cluster at certain locations.\n",
    "\n",
    "Light intensity (operationalized by daylight hours) and relative humidity are 2 of the features identified during EDA. However, what was unexpected was that lagged temperature and temperature fluctuation are more predictive of WNV presence as compared to max temperature or average temperature. For a more in depth interpretation of meterological features on WNV presence, it is best to consult a biologist specializing in WNV and other infectious diseases that are transmitted by mosquitoes.\n",
    "\n",
    "Culex Pipiens was also the most likely transmission vector of WNV, according to our model."
   ]
  },
  {
   "cell_type": "markdown",
   "id": "3e12fdcc",
   "metadata": {},
   "source": [
    "# Generating Predictions for Kaggle"
   ]
  },
  {
   "cell_type": "code",
   "execution_count": 56,
   "id": "1081c77f",
   "metadata": {
    "execution": {
     "iopub.execute_input": "2022-02-06T01:11:03.823032Z",
     "iopub.status.busy": "2022-02-06T01:11:03.822339Z",
     "iopub.status.idle": "2022-02-06T01:11:04.234809Z",
     "shell.execute_reply": "2022-02-06T01:11:04.234507Z",
     "shell.execute_reply.started": "2022-02-06T01:11:03.822979Z"
    },
    "tags": []
   },
   "outputs": [
    {
     "name": "stdout",
     "output_type": "stream",
     "text": [
      "<class 'pandas.core.frame.DataFrame'>\n",
      "RangeIndex: 116293 entries, 0 to 116292\n",
      "Data columns (total 11 columns):\n",
      " #   Column                  Non-Null Count   Dtype  \n",
      "---  ------                  --------------   -----  \n",
      " 0   Id                      116293 non-null  int64  \n",
      " 1   Date                    116293 non-null  object \n",
      " 2   Address                 116293 non-null  object \n",
      " 3   Species                 116293 non-null  object \n",
      " 4   Block                   116293 non-null  int64  \n",
      " 5   Street                  116293 non-null  object \n",
      " 6   Trap                    116293 non-null  object \n",
      " 7   AddressNumberAndStreet  116293 non-null  object \n",
      " 8   Latitude                116293 non-null  float64\n",
      " 9   Longitude               116293 non-null  float64\n",
      " 10  AddressAccuracy         116293 non-null  int64  \n",
      "dtypes: float64(2), int64(3), object(6)\n",
      "memory usage: 9.8+ MB\n"
     ]
    }
   ],
   "source": [
    "# import test dataset and final weather data\n",
    "test = pd.read_csv(\"../input_data/test.csv\")\n",
    "weather = pd.read_csv(\"../output_data/weather_final.csv\")\n",
    "\n",
    "# check test dataframe\n",
    "test.info()"
   ]
  },
  {
   "cell_type": "code",
   "execution_count": 57,
   "id": "d6f4797b",
   "metadata": {
    "execution": {
     "iopub.execute_input": "2022-02-06T01:11:05.239601Z",
     "iopub.status.busy": "2022-02-06T01:11:05.238861Z",
     "iopub.status.idle": "2022-02-06T01:11:05.308243Z",
     "shell.execute_reply": "2022-02-06T01:11:05.307936Z",
     "shell.execute_reply.started": "2022-02-06T01:11:05.239475Z"
    },
    "tags": []
   },
   "outputs": [
    {
     "data": {
      "text/html": [
       "<div>\n",
       "<style scoped>\n",
       "    .dataframe tbody tr th:only-of-type {\n",
       "        vertical-align: middle;\n",
       "    }\n",
       "\n",
       "    .dataframe tbody tr th {\n",
       "        vertical-align: top;\n",
       "    }\n",
       "\n",
       "    .dataframe thead th {\n",
       "        text-align: right;\n",
       "    }\n",
       "</style>\n",
       "<table border=\"1\" class=\"dataframe\">\n",
       "  <thead>\n",
       "    <tr style=\"text-align: right;\">\n",
       "      <th></th>\n",
       "      <th>id</th>\n",
       "      <th>date</th>\n",
       "      <th>species</th>\n",
       "      <th>latitude</th>\n",
       "      <th>longitude</th>\n",
       "    </tr>\n",
       "  </thead>\n",
       "  <tbody>\n",
       "    <tr>\n",
       "      <th>0</th>\n",
       "      <td>1</td>\n",
       "      <td>2008-06-11</td>\n",
       "      <td>PIPIENS/RESTUANS</td>\n",
       "      <td>41.95469</td>\n",
       "      <td>-87.800991</td>\n",
       "    </tr>\n",
       "    <tr>\n",
       "      <th>1</th>\n",
       "      <td>2</td>\n",
       "      <td>2008-06-11</td>\n",
       "      <td>RESTUANS</td>\n",
       "      <td>41.95469</td>\n",
       "      <td>-87.800991</td>\n",
       "    </tr>\n",
       "    <tr>\n",
       "      <th>2</th>\n",
       "      <td>3</td>\n",
       "      <td>2008-06-11</td>\n",
       "      <td>PIPIENS</td>\n",
       "      <td>41.95469</td>\n",
       "      <td>-87.800991</td>\n",
       "    </tr>\n",
       "    <tr>\n",
       "      <th>3</th>\n",
       "      <td>4</td>\n",
       "      <td>2008-06-11</td>\n",
       "      <td>SALINARIUS</td>\n",
       "      <td>41.95469</td>\n",
       "      <td>-87.800991</td>\n",
       "    </tr>\n",
       "    <tr>\n",
       "      <th>4</th>\n",
       "      <td>5</td>\n",
       "      <td>2008-06-11</td>\n",
       "      <td>TERRITANS</td>\n",
       "      <td>41.95469</td>\n",
       "      <td>-87.800991</td>\n",
       "    </tr>\n",
       "  </tbody>\n",
       "</table>\n",
       "</div>"
      ],
      "text/plain": [
       "   id        date           species  latitude  longitude\n",
       "0   1  2008-06-11  PIPIENS/RESTUANS  41.95469 -87.800991\n",
       "1   2  2008-06-11          RESTUANS  41.95469 -87.800991\n",
       "2   3  2008-06-11           PIPIENS  41.95469 -87.800991\n",
       "3   4  2008-06-11        SALINARIUS  41.95469 -87.800991\n",
       "4   5  2008-06-11         TERRITANS  41.95469 -87.800991"
      ]
     },
     "execution_count": 57,
     "metadata": {},
     "output_type": "execute_result"
    }
   ],
   "source": [
    "# drop unnecessary columns\n",
    "test.drop(\n",
    "    columns=[\n",
    "        \"Address\",\n",
    "        \"Block\",\n",
    "        \"Street\",\n",
    "        \"Trap\",\n",
    "        \"AddressNumberAndStreet\",\n",
    "        \"AddressAccuracy\",\n",
    "    ],\n",
    "    inplace=True,\n",
    ")\n",
    "\n",
    "# rename columns to lowercase\n",
    "test.columns = test.columns.str.lower()\n",
    "\n",
    "# rename Species to drop 'CULEX'\n",
    "test[\"species\"] = [i[6:] for i in test[\"species\"]]\n",
    "\n",
    "# check dataframe\n",
    "test.head()"
   ]
  },
  {
   "cell_type": "code",
   "execution_count": 58,
   "id": "4d2ca67c",
   "metadata": {
    "execution": {
     "iopub.execute_input": "2022-02-06T01:11:05.812525Z",
     "iopub.status.busy": "2022-02-06T01:11:05.812120Z",
     "iopub.status.idle": "2022-02-06T01:11:05.842546Z",
     "shell.execute_reply": "2022-02-06T01:11:05.841889Z",
     "shell.execute_reply.started": "2022-02-06T01:11:05.812489Z"
    },
    "tags": []
   },
   "outputs": [
    {
     "data": {
      "text/html": [
       "<div>\n",
       "<style scoped>\n",
       "    .dataframe tbody tr th:only-of-type {\n",
       "        vertical-align: middle;\n",
       "    }\n",
       "\n",
       "    .dataframe tbody tr th {\n",
       "        vertical-align: top;\n",
       "    }\n",
       "\n",
       "    .dataframe thead th {\n",
       "        text-align: right;\n",
       "    }\n",
       "</style>\n",
       "<table border=\"1\" class=\"dataframe\">\n",
       "  <thead>\n",
       "    <tr style=\"text-align: right;\">\n",
       "      <th></th>\n",
       "      <th>date</th>\n",
       "      <th>tmax</th>\n",
       "      <th>tmin</th>\n",
       "      <th>tavg</th>\n",
       "      <th>depart</th>\n",
       "      <th>dewpoint</th>\n",
       "      <th>wetbulb</th>\n",
       "      <th>heat</th>\n",
       "      <th>cool</th>\n",
       "      <th>preciptotal</th>\n",
       "      <th>...</th>\n",
       "      <th>relative_hum</th>\n",
       "      <th>tavg_weekly</th>\n",
       "      <th>relative_hum_weekly</th>\n",
       "      <th>preciptotal_weekly</th>\n",
       "      <th>tavg_weekly_lag1</th>\n",
       "      <th>tavg_weekly_lag2</th>\n",
       "      <th>relative_hum_weekly_lag1</th>\n",
       "      <th>relative_hum_weekly_lag2</th>\n",
       "      <th>preciptotal_weekly_lag1</th>\n",
       "      <th>preciptotal_weekly_lag2</th>\n",
       "    </tr>\n",
       "  </thead>\n",
       "  <tbody>\n",
       "    <tr>\n",
       "      <th>0</th>\n",
       "      <td>2007-05-01</td>\n",
       "      <td>83.5</td>\n",
       "      <td>51.0</td>\n",
       "      <td>67.50</td>\n",
       "      <td>14.0</td>\n",
       "      <td>51.0</td>\n",
       "      <td>56.5</td>\n",
       "      <td>0.0</td>\n",
       "      <td>2.5</td>\n",
       "      <td>0.0</td>\n",
       "      <td>...</td>\n",
       "      <td>0.554538</td>\n",
       "      <td>56.910714</td>\n",
       "      <td>0.594914</td>\n",
       "      <td>0.09369</td>\n",
       "      <td>60.833333</td>\n",
       "      <td>60.7</td>\n",
       "      <td>0.621687</td>\n",
       "      <td>0.622469</td>\n",
       "      <td>0.226667</td>\n",
       "      <td>0.15</td>\n",
       "    </tr>\n",
       "    <tr>\n",
       "      <th>1</th>\n",
       "      <td>2007-05-02</td>\n",
       "      <td>59.5</td>\n",
       "      <td>42.5</td>\n",
       "      <td>51.50</td>\n",
       "      <td>-3.0</td>\n",
       "      <td>42.0</td>\n",
       "      <td>47.0</td>\n",
       "      <td>13.5</td>\n",
       "      <td>0.0</td>\n",
       "      <td>0.0</td>\n",
       "      <td>...</td>\n",
       "      <td>0.698858</td>\n",
       "      <td>56.910714</td>\n",
       "      <td>0.594914</td>\n",
       "      <td>0.09369</td>\n",
       "      <td>60.833333</td>\n",
       "      <td>60.7</td>\n",
       "      <td>0.621687</td>\n",
       "      <td>0.622469</td>\n",
       "      <td>0.226667</td>\n",
       "      <td>0.15</td>\n",
       "    </tr>\n",
       "    <tr>\n",
       "      <th>2</th>\n",
       "      <td>2007-05-03</td>\n",
       "      <td>66.5</td>\n",
       "      <td>47.0</td>\n",
       "      <td>57.00</td>\n",
       "      <td>2.0</td>\n",
       "      <td>40.0</td>\n",
       "      <td>49.0</td>\n",
       "      <td>8.0</td>\n",
       "      <td>0.0</td>\n",
       "      <td>0.0</td>\n",
       "      <td>...</td>\n",
       "      <td>0.529395</td>\n",
       "      <td>56.910714</td>\n",
       "      <td>0.594914</td>\n",
       "      <td>0.09369</td>\n",
       "      <td>60.833333</td>\n",
       "      <td>60.7</td>\n",
       "      <td>0.621687</td>\n",
       "      <td>0.622469</td>\n",
       "      <td>0.226667</td>\n",
       "      <td>0.15</td>\n",
       "    </tr>\n",
       "    <tr>\n",
       "      <th>3</th>\n",
       "      <td>2007-05-04</td>\n",
       "      <td>72.0</td>\n",
       "      <td>50.0</td>\n",
       "      <td>61.25</td>\n",
       "      <td>4.0</td>\n",
       "      <td>41.5</td>\n",
       "      <td>50.0</td>\n",
       "      <td>7.0</td>\n",
       "      <td>0.0</td>\n",
       "      <td>0.0</td>\n",
       "      <td>...</td>\n",
       "      <td>0.484224</td>\n",
       "      <td>56.910714</td>\n",
       "      <td>0.594914</td>\n",
       "      <td>0.09369</td>\n",
       "      <td>60.833333</td>\n",
       "      <td>60.7</td>\n",
       "      <td>0.621687</td>\n",
       "      <td>0.622469</td>\n",
       "      <td>0.226667</td>\n",
       "      <td>0.15</td>\n",
       "    </tr>\n",
       "    <tr>\n",
       "      <th>4</th>\n",
       "      <td>2007-05-05</td>\n",
       "      <td>66.0</td>\n",
       "      <td>53.5</td>\n",
       "      <td>60.00</td>\n",
       "      <td>5.0</td>\n",
       "      <td>38.5</td>\n",
       "      <td>49.5</td>\n",
       "      <td>5.0</td>\n",
       "      <td>0.0</td>\n",
       "      <td>0.0</td>\n",
       "      <td>...</td>\n",
       "      <td>0.448141</td>\n",
       "      <td>56.910714</td>\n",
       "      <td>0.594914</td>\n",
       "      <td>0.09369</td>\n",
       "      <td>60.833333</td>\n",
       "      <td>60.7</td>\n",
       "      <td>0.621687</td>\n",
       "      <td>0.622469</td>\n",
       "      <td>0.226667</td>\n",
       "      <td>0.15</td>\n",
       "    </tr>\n",
       "  </tbody>\n",
       "</table>\n",
       "<p>5 rows × 22 columns</p>\n",
       "</div>"
      ],
      "text/plain": [
       "         date  tmax  tmin   tavg  depart  dewpoint  wetbulb  heat  cool  \\\n",
       "0  2007-05-01  83.5  51.0  67.50    14.0      51.0     56.5   0.0   2.5   \n",
       "1  2007-05-02  59.5  42.5  51.50    -3.0      42.0     47.0  13.5   0.0   \n",
       "2  2007-05-03  66.5  47.0  57.00     2.0      40.0     49.0   8.0   0.0   \n",
       "3  2007-05-04  72.0  50.0  61.25     4.0      41.5     50.0   7.0   0.0   \n",
       "4  2007-05-05  66.0  53.5  60.00     5.0      38.5     49.5   5.0   0.0   \n",
       "\n",
       "   preciptotal  ...  relative_hum  tavg_weekly  relative_hum_weekly  \\\n",
       "0          0.0  ...      0.554538    56.910714             0.594914   \n",
       "1          0.0  ...      0.698858    56.910714             0.594914   \n",
       "2          0.0  ...      0.529395    56.910714             0.594914   \n",
       "3          0.0  ...      0.484224    56.910714             0.594914   \n",
       "4          0.0  ...      0.448141    56.910714             0.594914   \n",
       "\n",
       "   preciptotal_weekly  tavg_weekly_lag1  tavg_weekly_lag2  \\\n",
       "0             0.09369         60.833333              60.7   \n",
       "1             0.09369         60.833333              60.7   \n",
       "2             0.09369         60.833333              60.7   \n",
       "3             0.09369         60.833333              60.7   \n",
       "4             0.09369         60.833333              60.7   \n",
       "\n",
       "   relative_hum_weekly_lag1  relative_hum_weekly_lag2  \\\n",
       "0                  0.621687                  0.622469   \n",
       "1                  0.621687                  0.622469   \n",
       "2                  0.621687                  0.622469   \n",
       "3                  0.621687                  0.622469   \n",
       "4                  0.621687                  0.622469   \n",
       "\n",
       "   preciptotal_weekly_lag1  preciptotal_weekly_lag2  \n",
       "0                 0.226667                     0.15  \n",
       "1                 0.226667                     0.15  \n",
       "2                 0.226667                     0.15  \n",
       "3                 0.226667                     0.15  \n",
       "4                 0.226667                     0.15  \n",
       "\n",
       "[5 rows x 22 columns]"
      ]
     },
     "execution_count": 58,
     "metadata": {},
     "output_type": "execute_result"
    }
   ],
   "source": [
    "# check weather dataframe\n",
    "weather.head()"
   ]
  },
  {
   "cell_type": "code",
   "execution_count": 59,
   "id": "21ff3b1c",
   "metadata": {
    "execution": {
     "iopub.execute_input": "2022-02-06T01:11:06.160068Z",
     "iopub.status.busy": "2022-02-06T01:11:06.159305Z",
     "iopub.status.idle": "2022-02-06T01:11:06.274957Z",
     "shell.execute_reply": "2022-02-06T01:11:06.274547Z",
     "shell.execute_reply.started": "2022-02-06T01:11:06.159997Z"
    },
    "tags": []
   },
   "outputs": [
    {
     "data": {
      "text/html": [
       "<div>\n",
       "<style scoped>\n",
       "    .dataframe tbody tr th:only-of-type {\n",
       "        vertical-align: middle;\n",
       "    }\n",
       "\n",
       "    .dataframe tbody tr th {\n",
       "        vertical-align: top;\n",
       "    }\n",
       "\n",
       "    .dataframe thead th {\n",
       "        text-align: right;\n",
       "    }\n",
       "</style>\n",
       "<table border=\"1\" class=\"dataframe\">\n",
       "  <thead>\n",
       "    <tr style=\"text-align: right;\">\n",
       "      <th></th>\n",
       "      <th>id</th>\n",
       "      <th>date</th>\n",
       "      <th>species</th>\n",
       "      <th>latitude</th>\n",
       "      <th>longitude</th>\n",
       "      <th>tmax</th>\n",
       "      <th>tmin</th>\n",
       "      <th>tavg</th>\n",
       "      <th>depart</th>\n",
       "      <th>dewpoint</th>\n",
       "      <th>...</th>\n",
       "      <th>relative_hum</th>\n",
       "      <th>tavg_weekly</th>\n",
       "      <th>relative_hum_weekly</th>\n",
       "      <th>preciptotal_weekly</th>\n",
       "      <th>tavg_weekly_lag1</th>\n",
       "      <th>tavg_weekly_lag2</th>\n",
       "      <th>relative_hum_weekly_lag1</th>\n",
       "      <th>relative_hum_weekly_lag2</th>\n",
       "      <th>preciptotal_weekly_lag1</th>\n",
       "      <th>preciptotal_weekly_lag2</th>\n",
       "    </tr>\n",
       "  </thead>\n",
       "  <tbody>\n",
       "    <tr>\n",
       "      <th>0</th>\n",
       "      <td>1</td>\n",
       "      <td>2008-06-11</td>\n",
       "      <td>PIPIENS/RESTUANS</td>\n",
       "      <td>41.95469</td>\n",
       "      <td>-87.800991</td>\n",
       "      <td>86.0</td>\n",
       "      <td>63.5</td>\n",
       "      <td>75.0</td>\n",
       "      <td>7.0</td>\n",
       "      <td>55.5</td>\n",
       "      <td>...</td>\n",
       "      <td>0.507584</td>\n",
       "      <td>71.026786</td>\n",
       "      <td>0.607337</td>\n",
       "      <td>0.131607</td>\n",
       "      <td>67.3125</td>\n",
       "      <td>67.946429</td>\n",
       "      <td>0.608548</td>\n",
       "      <td>0.628498</td>\n",
       "      <td>0.149464</td>\n",
       "      <td>0.180982</td>\n",
       "    </tr>\n",
       "    <tr>\n",
       "      <th>1</th>\n",
       "      <td>2</td>\n",
       "      <td>2008-06-11</td>\n",
       "      <td>RESTUANS</td>\n",
       "      <td>41.95469</td>\n",
       "      <td>-87.800991</td>\n",
       "      <td>86.0</td>\n",
       "      <td>63.5</td>\n",
       "      <td>75.0</td>\n",
       "      <td>7.0</td>\n",
       "      <td>55.5</td>\n",
       "      <td>...</td>\n",
       "      <td>0.507584</td>\n",
       "      <td>71.026786</td>\n",
       "      <td>0.607337</td>\n",
       "      <td>0.131607</td>\n",
       "      <td>67.3125</td>\n",
       "      <td>67.946429</td>\n",
       "      <td>0.608548</td>\n",
       "      <td>0.628498</td>\n",
       "      <td>0.149464</td>\n",
       "      <td>0.180982</td>\n",
       "    </tr>\n",
       "    <tr>\n",
       "      <th>2</th>\n",
       "      <td>3</td>\n",
       "      <td>2008-06-11</td>\n",
       "      <td>PIPIENS</td>\n",
       "      <td>41.95469</td>\n",
       "      <td>-87.800991</td>\n",
       "      <td>86.0</td>\n",
       "      <td>63.5</td>\n",
       "      <td>75.0</td>\n",
       "      <td>7.0</td>\n",
       "      <td>55.5</td>\n",
       "      <td>...</td>\n",
       "      <td>0.507584</td>\n",
       "      <td>71.026786</td>\n",
       "      <td>0.607337</td>\n",
       "      <td>0.131607</td>\n",
       "      <td>67.3125</td>\n",
       "      <td>67.946429</td>\n",
       "      <td>0.608548</td>\n",
       "      <td>0.628498</td>\n",
       "      <td>0.149464</td>\n",
       "      <td>0.180982</td>\n",
       "    </tr>\n",
       "    <tr>\n",
       "      <th>3</th>\n",
       "      <td>4</td>\n",
       "      <td>2008-06-11</td>\n",
       "      <td>SALINARIUS</td>\n",
       "      <td>41.95469</td>\n",
       "      <td>-87.800991</td>\n",
       "      <td>86.0</td>\n",
       "      <td>63.5</td>\n",
       "      <td>75.0</td>\n",
       "      <td>7.0</td>\n",
       "      <td>55.5</td>\n",
       "      <td>...</td>\n",
       "      <td>0.507584</td>\n",
       "      <td>71.026786</td>\n",
       "      <td>0.607337</td>\n",
       "      <td>0.131607</td>\n",
       "      <td>67.3125</td>\n",
       "      <td>67.946429</td>\n",
       "      <td>0.608548</td>\n",
       "      <td>0.628498</td>\n",
       "      <td>0.149464</td>\n",
       "      <td>0.180982</td>\n",
       "    </tr>\n",
       "    <tr>\n",
       "      <th>4</th>\n",
       "      <td>5</td>\n",
       "      <td>2008-06-11</td>\n",
       "      <td>TERRITANS</td>\n",
       "      <td>41.95469</td>\n",
       "      <td>-87.800991</td>\n",
       "      <td>86.0</td>\n",
       "      <td>63.5</td>\n",
       "      <td>75.0</td>\n",
       "      <td>7.0</td>\n",
       "      <td>55.5</td>\n",
       "      <td>...</td>\n",
       "      <td>0.507584</td>\n",
       "      <td>71.026786</td>\n",
       "      <td>0.607337</td>\n",
       "      <td>0.131607</td>\n",
       "      <td>67.3125</td>\n",
       "      <td>67.946429</td>\n",
       "      <td>0.608548</td>\n",
       "      <td>0.628498</td>\n",
       "      <td>0.149464</td>\n",
       "      <td>0.180982</td>\n",
       "    </tr>\n",
       "  </tbody>\n",
       "</table>\n",
       "<p>5 rows × 26 columns</p>\n",
       "</div>"
      ],
      "text/plain": [
       "   id        date           species  latitude  longitude  tmax  tmin  tavg  \\\n",
       "0   1  2008-06-11  PIPIENS/RESTUANS  41.95469 -87.800991  86.0  63.5  75.0   \n",
       "1   2  2008-06-11          RESTUANS  41.95469 -87.800991  86.0  63.5  75.0   \n",
       "2   3  2008-06-11           PIPIENS  41.95469 -87.800991  86.0  63.5  75.0   \n",
       "3   4  2008-06-11        SALINARIUS  41.95469 -87.800991  86.0  63.5  75.0   \n",
       "4   5  2008-06-11         TERRITANS  41.95469 -87.800991  86.0  63.5  75.0   \n",
       "\n",
       "   depart  dewpoint  ...  relative_hum  tavg_weekly  relative_hum_weekly  \\\n",
       "0     7.0      55.5  ...      0.507584    71.026786             0.607337   \n",
       "1     7.0      55.5  ...      0.507584    71.026786             0.607337   \n",
       "2     7.0      55.5  ...      0.507584    71.026786             0.607337   \n",
       "3     7.0      55.5  ...      0.507584    71.026786             0.607337   \n",
       "4     7.0      55.5  ...      0.507584    71.026786             0.607337   \n",
       "\n",
       "   preciptotal_weekly  tavg_weekly_lag1  tavg_weekly_lag2  \\\n",
       "0            0.131607           67.3125         67.946429   \n",
       "1            0.131607           67.3125         67.946429   \n",
       "2            0.131607           67.3125         67.946429   \n",
       "3            0.131607           67.3125         67.946429   \n",
       "4            0.131607           67.3125         67.946429   \n",
       "\n",
       "   relative_hum_weekly_lag1  relative_hum_weekly_lag2  \\\n",
       "0                  0.608548                  0.628498   \n",
       "1                  0.608548                  0.628498   \n",
       "2                  0.608548                  0.628498   \n",
       "3                  0.608548                  0.628498   \n",
       "4                  0.608548                  0.628498   \n",
       "\n",
       "   preciptotal_weekly_lag1  preciptotal_weekly_lag2  \n",
       "0                 0.149464                 0.180982  \n",
       "1                 0.149464                 0.180982  \n",
       "2                 0.149464                 0.180982  \n",
       "3                 0.149464                 0.180982  \n",
       "4                 0.149464                 0.180982  \n",
       "\n",
       "[5 rows x 26 columns]"
      ]
     },
     "execution_count": 59,
     "metadata": {},
     "output_type": "execute_result"
    }
   ],
   "source": [
    "# merge test with weather\n",
    "test = test.merge(weather, on=\"date\", how=\"left\")\n",
    "test.head()"
   ]
  },
  {
   "cell_type": "code",
   "execution_count": 60,
   "id": "8c9c53cf",
   "metadata": {
    "execution": {
     "iopub.execute_input": "2022-02-06T01:11:06.811168Z",
     "iopub.status.busy": "2022-02-06T01:11:06.810679Z",
     "iopub.status.idle": "2022-02-06T01:11:06.956760Z",
     "shell.execute_reply": "2022-02-06T01:11:06.956411Z",
     "shell.execute_reply.started": "2022-02-06T01:11:06.811098Z"
    },
    "tags": []
   },
   "outputs": [],
   "source": [
    "# transform feature matrix\n",
    "X = pd.DataFrame(\n",
    "    ct.fit_transform(test.drop(columns=[\"id\", \"date\"])),\n",
    "    columns=ct.get_feature_names_out(),\n",
    ")"
   ]
  },
  {
   "cell_type": "code",
   "execution_count": 61,
   "id": "1875a397",
   "metadata": {
    "execution": {
     "iopub.execute_input": "2022-02-06T01:11:07.364422Z",
     "iopub.status.busy": "2022-02-06T01:11:07.363601Z",
     "iopub.status.idle": "2022-02-06T01:11:07.372529Z",
     "shell.execute_reply": "2022-02-06T01:11:07.371676Z",
     "shell.execute_reply.started": "2022-02-06T01:11:07.364276Z"
    },
    "scrolled": true,
    "tags": []
   },
   "outputs": [
    {
     "data": {
      "text/plain": [
       "Index(['latitude', 'longitude', 'tmax', 'tmin', 'tavg', 'depart', 'dewpoint',\n",
       "       'wetbulb', 'heat', 'cool', 'preciptotal', 'temp_fluct', 'daylight',\n",
       "       'relative_hum', 'tavg_weekly', 'relative_hum_weekly',\n",
       "       'preciptotal_weekly', 'tavg_weekly_lag1', 'tavg_weekly_lag2',\n",
       "       'relative_hum_weekly_lag1', 'relative_hum_weekly_lag2',\n",
       "       'preciptotal_weekly_lag1', 'preciptotal_weekly_lag2',\n",
       "       'species_ERRATICUS', 'species_IFIED CULEX', 'species_PIPIENS',\n",
       "       'species_PIPIENS/RESTUANS', 'species_RESTUANS', 'species_SALINARIUS',\n",
       "       'species_TARSALIS', 'species_TERRITANS'],\n",
       "      dtype='object')"
      ]
     },
     "execution_count": 61,
     "metadata": {},
     "output_type": "execute_result"
    }
   ],
   "source": [
    "X.columns"
   ]
  },
  {
   "cell_type": "code",
   "execution_count": 62,
   "id": "77dffae5",
   "metadata": {
    "execution": {
     "iopub.execute_input": "2022-02-06T01:11:08.810865Z",
     "iopub.status.busy": "2022-02-06T01:11:08.810192Z",
     "iopub.status.idle": "2022-02-06T01:11:08.838396Z",
     "shell.execute_reply": "2022-02-06T01:11:08.837924Z",
     "shell.execute_reply.started": "2022-02-06T01:11:08.810794Z"
    },
    "tags": []
   },
   "outputs": [],
   "source": [
    "X.drop(columns=[\"species_IFIED CULEX\"], inplace=True)"
   ]
  },
  {
   "cell_type": "code",
   "execution_count": 63,
   "id": "e9e23697",
   "metadata": {
    "execution": {
     "iopub.execute_input": "2022-02-06T01:11:33.094329Z",
     "iopub.status.busy": "2022-02-06T01:11:33.092677Z",
     "iopub.status.idle": "2022-02-06T01:12:29.215219Z",
     "shell.execute_reply": "2022-02-06T01:12:29.214849Z",
     "shell.execute_reply.started": "2022-02-06T01:11:33.094239Z"
    },
    "tags": []
   },
   "outputs": [],
   "source": [
    "# get predictions in csv format\n",
    "def get_predictions(model):\n",
    "    df = pd.DataFrame([test.id, model.predict_proba(X)[:, 1]]).T\n",
    "    df.rename(columns={\"Unnamed 0\": \"WnvPresent\", \"id\": \"Id\"}, inplace=True)\n",
    "    df.Id = df.Id.astype(int)\n",
    "    return df\n",
    "\n",
    "\n",
    "get_predictions(rfc).to_csv(\"../output_data/submit_rfc.csv\", index=False)\n",
    "get_predictions(svc).to_csv(\"../output_data/submit_svc.csv\", index=False)\n",
    "get_predictions(lr).to_csv(\"../output_data/submit_lr.csv\", index=False)\n",
    "get_predictions(knn).to_csv(\"../output_data/submit_knn.csv\", index=False)\n",
    "get_predictions(gbc).to_csv(\"../output_data/submit_gbc.csv\", index=False)\n",
    "get_predictions(xgb).to_csv(\"../output_data/submit_xgb.csv\", index=False)\n",
    "get_predictions(et).to_csv(\"../output_data/submit_et.csv\", index=False)"
   ]
  },
  {
   "cell_type": "code",
   "execution_count": null,
   "id": "e35f4529",
   "metadata": {},
   "outputs": [],
   "source": []
  }
 ],
 "metadata": {
  "kernelspec": {
   "display_name": "Python 3 (ipykernel)",
   "language": "python",
   "name": "python3"
  },
  "language_info": {
   "codemirror_mode": {
    "name": "ipython",
    "version": 3
   },
   "file_extension": ".py",
   "mimetype": "text/x-python",
   "name": "python",
   "nbconvert_exporter": "python",
   "pygments_lexer": "ipython3",
   "version": "3.8.12"
  }
 },
 "nbformat": 4,
 "nbformat_minor": 5
}
