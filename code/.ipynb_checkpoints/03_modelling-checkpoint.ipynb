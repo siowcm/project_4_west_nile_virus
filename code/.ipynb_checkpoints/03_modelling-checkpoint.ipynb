{
 "cells": [
  {
   "cell_type": "markdown",
   "id": "1412e604",
   "metadata": {},
   "source": [
    "# Project 4: West Nile Virus\n",
    "\n",
    "---\n",
    "#### 03. Modelling\n",
    "\n",
    "# Table of Contents\n",
    "\n",
    "- Import Libraries and Data\n",
    "- Preprocessing\n",
    "- Modelling\n",
    "- Evaluating and Interpreting Results\n",
    "- Generating Predictions for Kaggle\n",
    "- Conclusion\n",
    "---\n",
    "7 different models are tested & evaluated and the metric used for scoring is ROC-AUC."
   ]
  },
  {
   "cell_type": "markdown",
   "id": "008aa032",
   "metadata": {},
   "source": [
    "# Import Libraries and Data"
   ]
  },
  {
   "cell_type": "code",
   "execution_count": 1,
   "id": "18ad3bd2",
   "metadata": {
    "execution": {
     "iopub.execute_input": "2022-02-05T10:05:24.781600Z",
     "iopub.status.busy": "2022-02-05T10:05:24.780062Z",
     "iopub.status.idle": "2022-02-05T10:05:31.602987Z",
     "shell.execute_reply": "2022-02-05T10:05:31.602577Z",
     "shell.execute_reply.started": "2022-02-05T10:05:24.781492Z"
    }
   },
   "outputs": [],
   "source": [
    "# import libraries\n",
    "import pandas as pd\n",
    "import numpy as np\n",
    "import matplotlib.pyplot as plt\n",
    "\n",
    "from sklearn.model_selection import train_test_split, GridSearchCV\n",
    "from sklearn.preprocessing import StandardScaler, OneHotEncoder, OrdinalEncoder\n",
    "from sklearn.compose import make_column_transformer, make_column_selector\n",
    "from imblearn.over_sampling import SMOTE\n",
    "\n",
    "from sklearn.dummy import DummyClassifier\n",
    "from sklearn.ensemble import (\n",
    "    RandomForestClassifier,\n",
    "    GradientBoostingClassifier,\n",
    "    ExtraTreesClassifier,\n",
    ")\n",
    "from sklearn.neighbors import KNeighborsClassifier\n",
    "from sklearn.linear_model import LogisticRegression\n",
    "from sklearn.svm import SVC\n",
    "from xgboost import XGBClassifier\n",
    "\n",
    "from sklearn.metrics import confusion_matrix, roc_auc_score, RocCurveDisplay"
   ]
  },
  {
   "cell_type": "code",
   "execution_count": 2,
   "id": "ff8afd48",
   "metadata": {
    "execution": {
     "iopub.execute_input": "2022-02-05T10:05:31.603819Z",
     "iopub.status.busy": "2022-02-05T10:05:31.603718Z",
     "iopub.status.idle": "2022-02-05T10:05:31.660379Z",
     "shell.execute_reply": "2022-02-05T10:05:31.660070Z",
     "shell.execute_reply.started": "2022-02-05T10:05:31.603805Z"
    }
   },
   "outputs": [
    {
     "name": "stdout",
     "output_type": "stream",
     "text": [
      "Features in training set : ['species', 'latitude', 'longitude', 'wnvpresent', 'tmax', 'tmin', 'tavg', 'depart', 'dewpoint', 'wetbulb', 'heat', 'cool', 'preciptotal', 'temp_fluct', 'daylight', 'relative_hum', 'tavg_weekly', 'relative_hum_weekly', 'preciptotal_weekly', 'tavg_weekly_lag1', 'tavg_weekly_lag2', 'relative_hum_weekly_lag1', 'relative_hum_weekly_lag2', 'preciptotal_weekly_lag1', 'preciptotal_weekly_lag2']\n"
     ]
    }
   ],
   "source": [
    "# import training dataset\n",
    "train = pd.read_csv(\"../output_data/merged_train.csv\")\n",
    "\n",
    "# data cleaning\n",
    "train.set_index(\"date\", inplace=True)\n",
    "\n",
    "# check the df columns\n",
    "print(f\"Features in training set : {train.columns.tolist()}\")"
   ]
  },
  {
   "cell_type": "code",
   "execution_count": 3,
   "id": "f489778c",
   "metadata": {
    "execution": {
     "iopub.execute_input": "2022-02-05T10:05:31.661913Z",
     "iopub.status.busy": "2022-02-05T10:05:31.661789Z",
     "iopub.status.idle": "2022-02-05T10:05:31.666439Z",
     "shell.execute_reply": "2022-02-05T10:05:31.666047Z",
     "shell.execute_reply.started": "2022-02-05T10:05:31.661900Z"
    }
   },
   "outputs": [],
   "source": [
    "# define feature matrix and target vector\n",
    "X = train.drop(columns=\"wnvpresent\")\n",
    "y = train[\"wnvpresent\"]"
   ]
  },
  {
   "cell_type": "markdown",
   "id": "76ec5e32",
   "metadata": {},
   "source": [
    "# Preprocessing \n",
    "## Train-validation  split"
   ]
  },
  {
   "cell_type": "markdown",
   "id": "d8760e17",
   "metadata": {},
   "source": [
    "The data is split into train & validation sets. Stratify = y was used because they generate better prediction results."
   ]
  },
  {
   "cell_type": "code",
   "execution_count": 4,
   "id": "36818dda",
   "metadata": {
    "execution": {
     "iopub.execute_input": "2022-02-05T10:05:31.667104Z",
     "iopub.status.busy": "2022-02-05T10:05:31.666973Z",
     "iopub.status.idle": "2022-02-05T10:05:31.679632Z",
     "shell.execute_reply": "2022-02-05T10:05:31.679132Z",
     "shell.execute_reply.started": "2022-02-05T10:05:31.667092Z"
    }
   },
   "outputs": [],
   "source": [
    "# split dataset into train and validation set\n",
    "X_train, X_val, y_train, y_val = train_test_split(\n",
    "    X, y, random_state=42, stratify=y\n",
    ")"
   ]
  },
  {
   "cell_type": "code",
   "execution_count": 5,
   "id": "f5212f70",
   "metadata": {
    "execution": {
     "iopub.execute_input": "2022-02-05T10:05:31.680511Z",
     "iopub.status.busy": "2022-02-05T10:05:31.680389Z",
     "iopub.status.idle": "2022-02-05T10:05:31.684053Z",
     "shell.execute_reply": "2022-02-05T10:05:31.683749Z",
     "shell.execute_reply.started": "2022-02-05T10:05:31.680496Z"
    }
   },
   "outputs": [
    {
     "name": "stdout",
     "output_type": "stream",
     "text": [
      "===== Train Set Shape =====\n",
      "Features X_train: (7879, 24)\n",
      "Targets y_train:  (7879,)\n",
      "\n",
      "== Validation Set Shape ==\n",
      "Features X_val:   (2627, 24)\n",
      "Targets y_val:    (2627,)\n"
     ]
    }
   ],
   "source": [
    "# check the shape of training and testing vectors\n",
    "print(\" Train Set Shape \".center(27, \"=\"))\n",
    "print(f\"Features X_train: {X_train.shape}\")\n",
    "print(f\"Targets y_train:  {y_train.shape}\")\n",
    "print()\n",
    "print(\" Validation Set Shape \".center(26, \"=\"))\n",
    "print(f\"Features X_val:   {X_val.shape}\")\n",
    "print(f\"Targets y_val:    {y_val.shape}\")"
   ]
  },
  {
   "cell_type": "markdown",
   "id": "6b45adb6",
   "metadata": {},
   "source": [
    "## Features transformation "
   ]
  },
  {
   "cell_type": "markdown",
   "id": "ab8d609e",
   "metadata": {},
   "source": [
    "One Hot Encoder was used for categorical features such as Mosquito Species, as explained on the EDA/ Feature Engineering notebook. Numerical features are transformed using StandardScaler to ensure that they have the same range, which is important for certain classifiers like Logistic Regression."
   ]
  },
  {
   "cell_type": "code",
   "execution_count": 6,
   "id": "55b49eaf",
   "metadata": {
    "execution": {
     "iopub.execute_input": "2022-02-05T10:05:31.685226Z",
     "iopub.status.busy": "2022-02-05T10:05:31.684977Z",
     "iopub.status.idle": "2022-02-05T10:05:31.722716Z",
     "shell.execute_reply": "2022-02-05T10:05:31.722256Z",
     "shell.execute_reply.started": "2022-02-05T10:05:31.685208Z"
    }
   },
   "outputs": [
    {
     "data": {
      "text/html": [
       "<div>\n",
       "<style scoped>\n",
       "    .dataframe tbody tr th:only-of-type {\n",
       "        vertical-align: middle;\n",
       "    }\n",
       "\n",
       "    .dataframe tbody tr th {\n",
       "        vertical-align: top;\n",
       "    }\n",
       "\n",
       "    .dataframe thead th {\n",
       "        text-align: right;\n",
       "    }\n",
       "</style>\n",
       "<table border=\"1\" class=\"dataframe\">\n",
       "  <thead>\n",
       "    <tr style=\"text-align: right;\">\n",
       "      <th></th>\n",
       "      <th>latitude</th>\n",
       "      <th>longitude</th>\n",
       "      <th>tmax</th>\n",
       "      <th>tmin</th>\n",
       "      <th>tavg</th>\n",
       "      <th>depart</th>\n",
       "      <th>dewpoint</th>\n",
       "      <th>wetbulb</th>\n",
       "      <th>heat</th>\n",
       "      <th>cool</th>\n",
       "      <th>...</th>\n",
       "      <th>relative_hum_weekly_lag2</th>\n",
       "      <th>preciptotal_weekly_lag1</th>\n",
       "      <th>preciptotal_weekly_lag2</th>\n",
       "      <th>species_ERRATICUS</th>\n",
       "      <th>species_PIPIENS</th>\n",
       "      <th>species_PIPIENS/RESTUANS</th>\n",
       "      <th>species_RESTUANS</th>\n",
       "      <th>species_SALINARIUS</th>\n",
       "      <th>species_TARSALIS</th>\n",
       "      <th>species_TERRITANS</th>\n",
       "    </tr>\n",
       "  </thead>\n",
       "  <tbody>\n",
       "    <tr>\n",
       "      <th>0</th>\n",
       "      <td>0.627512</td>\n",
       "      <td>-0.279292</td>\n",
       "      <td>0.074525</td>\n",
       "      <td>-0.149319</td>\n",
       "      <td>-0.065976</td>\n",
       "      <td>0.660970</td>\n",
       "      <td>-0.148577</td>\n",
       "      <td>-0.118680</td>\n",
       "      <td>-0.330573</td>\n",
       "      <td>-0.241910</td>\n",
       "      <td>...</td>\n",
       "      <td>0.890670</td>\n",
       "      <td>-0.718824</td>\n",
       "      <td>-0.185112</td>\n",
       "      <td>0.0</td>\n",
       "      <td>1.0</td>\n",
       "      <td>0.0</td>\n",
       "      <td>0.0</td>\n",
       "      <td>0.0</td>\n",
       "      <td>0.0</td>\n",
       "      <td>0.0</td>\n",
       "    </tr>\n",
       "    <tr>\n",
       "      <th>1</th>\n",
       "      <td>-0.351569</td>\n",
       "      <td>-0.658353</td>\n",
       "      <td>-1.856803</td>\n",
       "      <td>-2.343141</td>\n",
       "      <td>-2.202696</td>\n",
       "      <td>-1.646831</td>\n",
       "      <td>-2.182258</td>\n",
       "      <td>-2.268127</td>\n",
       "      <td>2.814834</td>\n",
       "      <td>-1.549664</td>\n",
       "      <td>...</td>\n",
       "      <td>0.890670</td>\n",
       "      <td>-0.718824</td>\n",
       "      <td>-0.185112</td>\n",
       "      <td>0.0</td>\n",
       "      <td>0.0</td>\n",
       "      <td>1.0</td>\n",
       "      <td>0.0</td>\n",
       "      <td>0.0</td>\n",
       "      <td>0.0</td>\n",
       "      <td>0.0</td>\n",
       "    </tr>\n",
       "    <tr>\n",
       "      <th>2</th>\n",
       "      <td>1.185404</td>\n",
       "      <td>-1.972897</td>\n",
       "      <td>-2.822467</td>\n",
       "      <td>-2.210182</td>\n",
       "      <td>-2.670104</td>\n",
       "      <td>-2.262245</td>\n",
       "      <td>-2.627126</td>\n",
       "      <td>-2.638722</td>\n",
       "      <td>4.110001</td>\n",
       "      <td>-1.549664</td>\n",
       "      <td>...</td>\n",
       "      <td>0.890670</td>\n",
       "      <td>-0.718824</td>\n",
       "      <td>-0.185112</td>\n",
       "      <td>0.0</td>\n",
       "      <td>1.0</td>\n",
       "      <td>0.0</td>\n",
       "      <td>0.0</td>\n",
       "      <td>0.0</td>\n",
       "      <td>0.0</td>\n",
       "      <td>0.0</td>\n",
       "    </tr>\n",
       "    <tr>\n",
       "      <th>3</th>\n",
       "      <td>1.035515</td>\n",
       "      <td>-2.390206</td>\n",
       "      <td>-0.408307</td>\n",
       "      <td>-0.016360</td>\n",
       "      <td>-0.266293</td>\n",
       "      <td>-0.877564</td>\n",
       "      <td>-1.610285</td>\n",
       "      <td>-1.008107</td>\n",
       "      <td>-0.330573</td>\n",
       "      <td>-0.503461</td>\n",
       "      <td>...</td>\n",
       "      <td>-1.930212</td>\n",
       "      <td>-0.103824</td>\n",
       "      <td>-1.033891</td>\n",
       "      <td>0.0</td>\n",
       "      <td>1.0</td>\n",
       "      <td>0.0</td>\n",
       "      <td>0.0</td>\n",
       "      <td>0.0</td>\n",
       "      <td>0.0</td>\n",
       "      <td>0.0</td>\n",
       "    </tr>\n",
       "    <tr>\n",
       "      <th>4</th>\n",
       "      <td>1.185404</td>\n",
       "      <td>-1.972897</td>\n",
       "      <td>-1.675741</td>\n",
       "      <td>-1.412429</td>\n",
       "      <td>-1.668516</td>\n",
       "      <td>-1.339124</td>\n",
       "      <td>-1.928048</td>\n",
       "      <td>-1.897533</td>\n",
       "      <td>1.334643</td>\n",
       "      <td>-1.549664</td>\n",
       "      <td>...</td>\n",
       "      <td>0.222000</td>\n",
       "      <td>-0.799921</td>\n",
       "      <td>0.096492</td>\n",
       "      <td>0.0</td>\n",
       "      <td>0.0</td>\n",
       "      <td>0.0</td>\n",
       "      <td>1.0</td>\n",
       "      <td>0.0</td>\n",
       "      <td>0.0</td>\n",
       "      <td>0.0</td>\n",
       "    </tr>\n",
       "  </tbody>\n",
       "</table>\n",
       "<p>5 rows × 30 columns</p>\n",
       "</div>"
      ],
      "text/plain": [
       "   latitude  longitude      tmax      tmin      tavg    depart  dewpoint  \\\n",
       "0  0.627512  -0.279292  0.074525 -0.149319 -0.065976  0.660970 -0.148577   \n",
       "1 -0.351569  -0.658353 -1.856803 -2.343141 -2.202696 -1.646831 -2.182258   \n",
       "2  1.185404  -1.972897 -2.822467 -2.210182 -2.670104 -2.262245 -2.627126   \n",
       "3  1.035515  -2.390206 -0.408307 -0.016360 -0.266293 -0.877564 -1.610285   \n",
       "4  1.185404  -1.972897 -1.675741 -1.412429 -1.668516 -1.339124 -1.928048   \n",
       "\n",
       "    wetbulb      heat      cool  ...  relative_hum_weekly_lag2  \\\n",
       "0 -0.118680 -0.330573 -0.241910  ...                  0.890670   \n",
       "1 -2.268127  2.814834 -1.549664  ...                  0.890670   \n",
       "2 -2.638722  4.110001 -1.549664  ...                  0.890670   \n",
       "3 -1.008107 -0.330573 -0.503461  ...                 -1.930212   \n",
       "4 -1.897533  1.334643 -1.549664  ...                  0.222000   \n",
       "\n",
       "   preciptotal_weekly_lag1  preciptotal_weekly_lag2  species_ERRATICUS  \\\n",
       "0                -0.718824                -0.185112                0.0   \n",
       "1                -0.718824                -0.185112                0.0   \n",
       "2                -0.718824                -0.185112                0.0   \n",
       "3                -0.103824                -1.033891                0.0   \n",
       "4                -0.799921                 0.096492                0.0   \n",
       "\n",
       "   species_PIPIENS  species_PIPIENS/RESTUANS  species_RESTUANS  \\\n",
       "0              1.0                       0.0               0.0   \n",
       "1              0.0                       1.0               0.0   \n",
       "2              1.0                       0.0               0.0   \n",
       "3              1.0                       0.0               0.0   \n",
       "4              0.0                       0.0               1.0   \n",
       "\n",
       "   species_SALINARIUS  species_TARSALIS  species_TERRITANS  \n",
       "0                 0.0               0.0                0.0  \n",
       "1                 0.0               0.0                0.0  \n",
       "2                 0.0               0.0                0.0  \n",
       "3                 0.0               0.0                0.0  \n",
       "4                 0.0               0.0                0.0  \n",
       "\n",
       "[5 rows x 30 columns]"
      ]
     },
     "execution_count": 6,
     "metadata": {},
     "output_type": "execute_result"
    }
   ],
   "source": [
    "# instantiate transformers\n",
    "ohe = OneHotEncoder(sparse=False, handle_unknown=\"ignore\")\n",
    "sc = StandardScaler()\n",
    "\n",
    "\n",
    "# instantiate transformers into column transformer\n",
    "ct = make_column_transformer(\n",
    "    (sc, make_column_selector(dtype_include=\"number\")),\n",
    "    (ohe, make_column_selector(dtype_exclude=\"number\")),\n",
    "    remainder=\"passthrough\",\n",
    "    verbose_feature_names_out=False,\n",
    ")\n",
    "\n",
    "# transform feature matrix\n",
    "X_train = pd.DataFrame(\n",
    "    ct.fit_transform(X_train), columns=ct.get_feature_names_out()\n",
    ")\n",
    "\n",
    "X_val = pd.DataFrame(ct.transform(X_val), columns=ct.get_feature_names_out())\n",
    "\n",
    "# check X matrix after transformation\n",
    "X_train.head()"
   ]
  },
  {
   "cell_type": "code",
   "execution_count": 7,
   "id": "f99f9239",
   "metadata": {
    "execution": {
     "iopub.execute_input": "2022-02-05T10:05:31.723703Z",
     "iopub.status.busy": "2022-02-05T10:05:31.723549Z",
     "iopub.status.idle": "2022-02-05T10:05:31.726705Z",
     "shell.execute_reply": "2022-02-05T10:05:31.726309Z",
     "shell.execute_reply.started": "2022-02-05T10:05:31.723689Z"
    }
   },
   "outputs": [
    {
     "name": "stdout",
     "output_type": "stream",
     "text": [
      "Features in X matrix: ['latitude', 'longitude', 'tmax', 'tmin', 'tavg', 'depart', 'dewpoint', 'wetbulb', 'heat', 'cool', 'preciptotal', 'temp_fluct', 'daylight', 'relative_hum', 'tavg_weekly', 'relative_hum_weekly', 'preciptotal_weekly', 'tavg_weekly_lag1', 'tavg_weekly_lag2', 'relative_hum_weekly_lag1', 'relative_hum_weekly_lag2', 'preciptotal_weekly_lag1', 'preciptotal_weekly_lag2', 'species_ERRATICUS', 'species_PIPIENS', 'species_PIPIENS/RESTUANS', 'species_RESTUANS', 'species_SALINARIUS', 'species_TARSALIS', 'species_TERRITANS']\n"
     ]
    }
   ],
   "source": [
    "# check the df cloumns\n",
    "print(f\"Features in X matrix: {X_train.columns.tolist()}\")"
   ]
  },
  {
   "cell_type": "code",
   "execution_count": 8,
   "id": "129670c8",
   "metadata": {
    "execution": {
     "iopub.execute_input": "2022-02-05T10:05:31.727479Z",
     "iopub.status.busy": "2022-02-05T10:05:31.727359Z",
     "iopub.status.idle": "2022-02-05T10:05:31.731812Z",
     "shell.execute_reply": "2022-02-05T10:05:31.731488Z",
     "shell.execute_reply.started": "2022-02-05T10:05:31.727467Z"
    }
   },
   "outputs": [
    {
     "name": "stdout",
     "output_type": "stream",
     "text": [
      "===== Train Set Shape =====\n",
      "Features X_train: (7879, 30)\n",
      "Targets y_train:  (7879,)\n",
      "\n",
      "== Validation Set Shape ==\n",
      "Features X_val:   (2627, 30)\n",
      "Targets y_val:    (2627,)\n"
     ]
    }
   ],
   "source": [
    "# check the shape of training and testing vectors\n",
    "print(\" Train Set Shape \".center(27, \"=\"))\n",
    "print(f\"Features X_train: {X_train.shape}\")\n",
    "print(f\"Targets y_train:  {y_train.shape}\")\n",
    "print()\n",
    "print(\" Validation Set Shape \".center(26, \"=\"))\n",
    "print(f\"Features X_val:   {X_val.shape}\")\n",
    "print(f\"Targets y_val:    {y_val.shape}\")"
   ]
  },
  {
   "cell_type": "markdown",
   "id": "40800c5b",
   "metadata": {},
   "source": [
    "We confirm that the train & validation set shapes are similar and proceed to the modelling section."
   ]
  },
  {
   "cell_type": "markdown",
   "id": "0d51e421",
   "metadata": {},
   "source": [
    "# Modelling\n"
   ]
  },
  {
   "cell_type": "markdown",
   "id": "07589312",
   "metadata": {},
   "source": [
    "In this section, we define a modelling and scoring function, as well as run the following models:\n",
    "\n",
    "- Dummy Classifier\n",
    "- Random Forest Classifier\n",
    "- Support Vector Classifier\n",
    "- Logistic Regression\n",
    "- K Nearest Neighbors\n",
    "- Gradient Boosting Classifier\n",
    "- XGBoost Classifier\n",
    "- Extra Trees Classifier"
   ]
  },
  {
   "cell_type": "markdown",
   "id": "1e0a7b7b",
   "metadata": {},
   "source": [
    "## Functions used"
   ]
  },
  {
   "cell_type": "markdown",
   "id": "63702ef5",
   "metadata": {},
   "source": [
    "Two functions are defined here. Fit_gs fits a GridSearchCV to a classifier, prints best parameters and returns model. Eval_model returns a dataframe of scoring & evaluation metrics."
   ]
  },
  {
   "cell_type": "code",
   "execution_count": 9,
   "id": "9cb8300d",
   "metadata": {
    "execution": {
     "iopub.execute_input": "2022-02-05T10:05:31.732855Z",
     "iopub.status.busy": "2022-02-05T10:05:31.732749Z",
     "iopub.status.idle": "2022-02-05T10:05:31.736518Z",
     "shell.execute_reply": "2022-02-05T10:05:31.736212Z",
     "shell.execute_reply.started": "2022-02-05T10:05:31.732843Z"
    },
    "tags": []
   },
   "outputs": [],
   "source": [
    "def fit_gs(clf, params):\n",
    "    \"\"\"fits a GridSearchCV to a classifier, prints best params and returns model\"\"\"\n",
    "\n",
    "    gs = GridSearchCV(clf, params, cv=5, n_jobs=-1, scoring=\"roc_auc\")\n",
    "    gs.fit(X_train, y_train)\n",
    "    print(\" GridSearchCV \".center(45, \"=\"))\n",
    "    print(f\"Best Parameters: {gs.best_params_}\")\n",
    "    print(f\"Best Score (ROC AUC): {gs.best_score_}\")\n",
    "    print()\n",
    "    print(\" Evaluation \".center(45, \"=\"))\n",
    "    print(\n",
    "        f\"Train Score (ROC AUC): {roc_auc_score(y_train, gs.predict_proba(X_train)[:,1])}\"\n",
    "    )\n",
    "    print(\n",
    "        f\"Testing Score (ROC AUC): {roc_auc_score(y_val,gs.predict_proba(X_val)[:,1])}\"\n",
    "    )\n",
    "\n",
    "    return gs"
   ]
  },
  {
   "cell_type": "code",
   "execution_count": 10,
   "id": "fb7f7a24",
   "metadata": {
    "execution": {
     "iopub.execute_input": "2022-02-05T10:05:31.737261Z",
     "iopub.status.busy": "2022-02-05T10:05:31.737172Z",
     "iopub.status.idle": "2022-02-05T10:05:31.743949Z",
     "shell.execute_reply": "2022-02-05T10:05:31.743592Z",
     "shell.execute_reply.started": "2022-02-05T10:05:31.737249Z"
    }
   },
   "outputs": [],
   "source": [
    "def eval_model(model):\n",
    "    \"\"\"returns dataframe of evaluation metrics for classifier\"\"\"\n",
    "\n",
    "    # get predictions\n",
    "    y_pred = model.predict(X_val)\n",
    "    y_proba = model.predict_proba(X_val)[:, 1]\n",
    "\n",
    "    # metrics for evaluating classifier\n",
    "    tn, fp, fn, tp = confusion_matrix(y_val, y_pred).ravel()\n",
    "\n",
    "    accuracy = (tn + tp) / (tn + fp + fn + tp)\n",
    "\n",
    "    if (tn + fp) != 0:\n",
    "        spec = tn / (tn + fp)\n",
    "    else:\n",
    "        spec = \"NA\"\n",
    "\n",
    "    if (tp + fn) != 0:\n",
    "        recall = tp / (tp + fn)\n",
    "    else:\n",
    "        recall = np.nan\n",
    "\n",
    "    if (tp + fp) != 0:\n",
    "        precision = tp / (tp + fp)\n",
    "    else:\n",
    "        precision = np.nan\n",
    "\n",
    "    if recall == np.nan or precision == np.nan:\n",
    "        f1 = np.nan\n",
    "    else:\n",
    "        f1 = 2 * ((precision * recall) / (precision + recall))\n",
    "\n",
    "    roc = roc_auc_score(y_val, y_proba)\n",
    "\n",
    "    try:\n",
    "        model_name = str(model.estimator)[:-2]\n",
    "        if len(model_name) > 30:\n",
    "            model_name = model_name[:13]\n",
    "    except:\n",
    "        model_name = \"Dummy\"\n",
    "\n",
    "    df = pd.DataFrame(\n",
    "        [np.round([accuracy, spec, recall, precision, f1, fp, fn, roc], 3)],\n",
    "        columns=[\n",
    "            \"Accuracy\",\n",
    "            \"Specificity\",\n",
    "            \"Recall\",\n",
    "            \"Precision\",\n",
    "            \"F1\",\n",
    "            \"False Positives\",\n",
    "            \"False Negatives\",\n",
    "            \"ROC-AUC\",\n",
    "        ],\n",
    "        index=[model_name],\n",
    "        dtype=\"str\",\n",
    "    )\n",
    "    return df"
   ]
  },
  {
   "cell_type": "markdown",
   "id": "9308a9a4",
   "metadata": {},
   "source": [
    "## (0) Dummy Model"
   ]
  },
  {
   "cell_type": "markdown",
   "id": "70f64d97",
   "metadata": {},
   "source": [
    "The dummy model is used as the baseline model, which is the simplest possible prediction of a model. Because this is an imbalanced classification problem with majority of the data being 0, the dummy classifier produces a high specificity (1.0) with a 0 recall (0.0) and a ROC-AUC of 0.5, which will be used as the baseline for comparison with relatively more complex models."
   ]
  },
  {
   "cell_type": "code",
   "execution_count": 11,
   "id": "4d676926",
   "metadata": {
    "execution": {
     "iopub.execute_input": "2022-02-05T10:05:31.744656Z",
     "iopub.status.busy": "2022-02-05T10:05:31.744552Z",
     "iopub.status.idle": "2022-02-05T10:05:31.757143Z",
     "shell.execute_reply": "2022-02-05T10:05:31.756784Z",
     "shell.execute_reply.started": "2022-02-05T10:05:31.744644Z"
    },
    "tags": []
   },
   "outputs": [
    {
     "data": {
      "text/html": [
       "<div>\n",
       "<style scoped>\n",
       "    .dataframe tbody tr th:only-of-type {\n",
       "        vertical-align: middle;\n",
       "    }\n",
       "\n",
       "    .dataframe tbody tr th {\n",
       "        vertical-align: top;\n",
       "    }\n",
       "\n",
       "    .dataframe thead th {\n",
       "        text-align: right;\n",
       "    }\n",
       "</style>\n",
       "<table border=\"1\" class=\"dataframe\">\n",
       "  <thead>\n",
       "    <tr style=\"text-align: right;\">\n",
       "      <th></th>\n",
       "      <th>Accuracy</th>\n",
       "      <th>Specificity</th>\n",
       "      <th>Recall</th>\n",
       "      <th>Precision</th>\n",
       "      <th>F1</th>\n",
       "      <th>False Positives</th>\n",
       "      <th>False Negatives</th>\n",
       "      <th>ROC-AUC</th>\n",
       "    </tr>\n",
       "  </thead>\n",
       "  <tbody>\n",
       "    <tr>\n",
       "      <th>Dummy</th>\n",
       "      <td>0.947</td>\n",
       "      <td>1.0</td>\n",
       "      <td>0.0</td>\n",
       "      <td>NaN</td>\n",
       "      <td>NaN</td>\n",
       "      <td>0.0</td>\n",
       "      <td>138.0</td>\n",
       "      <td>0.5</td>\n",
       "    </tr>\n",
       "  </tbody>\n",
       "</table>\n",
       "</div>"
      ],
      "text/plain": [
       "      Accuracy Specificity Recall Precision   F1 False Positives  \\\n",
       "Dummy    0.947         1.0    0.0       NaN  NaN             0.0   \n",
       "\n",
       "      False Negatives ROC-AUC  \n",
       "Dummy           138.0     0.5  "
      ]
     },
     "execution_count": 11,
     "metadata": {},
     "output_type": "execute_result"
    }
   ],
   "source": [
    "# fit dummy model\n",
    "dummy = DummyClassifier(strategy=\"most_frequent\", random_state=42)\n",
    "dummy.fit(X_train, y_train)\n",
    "\n",
    "dummy_result = eval_model(dummy)\n",
    "dummy_result"
   ]
  },
  {
   "cell_type": "markdown",
   "id": "d06550dc",
   "metadata": {},
   "source": [
    "## (1) Random Forest Classifier"
   ]
  },
  {
   "cell_type": "markdown",
   "id": "6b4bbc75",
   "metadata": {},
   "source": [
    "Random Forest has its advantages in this classification problem because it is non-parameteric and makes no underlying assumptions of the data distribution. However, it has a tendency to overfit onto training & validation data and underperform on the test set (the Kaggle dataset)."
   ]
  },
  {
   "cell_type": "code",
   "execution_count": 12,
   "id": "1bb5943f",
   "metadata": {
    "execution": {
     "iopub.execute_input": "2022-02-05T10:05:31.760105Z",
     "iopub.status.busy": "2022-02-05T10:05:31.759949Z",
     "iopub.status.idle": "2022-02-05T10:05:48.574375Z",
     "shell.execute_reply": "2022-02-05T10:05:48.573978Z",
     "shell.execute_reply.started": "2022-02-05T10:05:31.760091Z"
    },
    "tags": []
   },
   "outputs": [
    {
     "name": "stdout",
     "output_type": "stream",
     "text": [
      "================ GridSearchCV ===============\n",
      "Best Parameters: {'class_weight': 'balanced_subsample', 'max_depth': 8, 'n_estimators': 150, 'random_state': 42}\n",
      "Best Score (ROC AUC): 0.8397458112062054\n",
      "\n",
      "================= Evaluation ================\n",
      "Train Score (ROC AUC): 0.9111562408179388\n",
      "Testing Score (ROC AUC): 0.8215219429256846\n"
     ]
    }
   ],
   "source": [
    "rfc_params = {\n",
    "    \"n_estimators\": [100, 150, 200],\n",
    "    \"max_depth\": [5, 8, 15],\n",
    "    \"class_weight\": [None, \"balanced\", \"balanced_subsample\"],\n",
    "    \"random_state\": [42],\n",
    "}\n",
    "\n",
    "rfc = fit_gs(RandomForestClassifier(), rfc_params)"
   ]
  },
  {
   "cell_type": "code",
   "execution_count": 13,
   "id": "c3d25bde",
   "metadata": {
    "execution": {
     "iopub.execute_input": "2022-02-05T10:05:48.575457Z",
     "iopub.status.busy": "2022-02-05T10:05:48.575295Z",
     "iopub.status.idle": "2022-02-05T10:05:48.661109Z",
     "shell.execute_reply": "2022-02-05T10:05:48.660844Z",
     "shell.execute_reply.started": "2022-02-05T10:05:48.575440Z"
    },
    "tags": []
   },
   "outputs": [
    {
     "data": {
      "text/html": [
       "<div>\n",
       "<style scoped>\n",
       "    .dataframe tbody tr th:only-of-type {\n",
       "        vertical-align: middle;\n",
       "    }\n",
       "\n",
       "    .dataframe tbody tr th {\n",
       "        vertical-align: top;\n",
       "    }\n",
       "\n",
       "    .dataframe thead th {\n",
       "        text-align: right;\n",
       "    }\n",
       "</style>\n",
       "<table border=\"1\" class=\"dataframe\">\n",
       "  <thead>\n",
       "    <tr style=\"text-align: right;\">\n",
       "      <th></th>\n",
       "      <th>Accuracy</th>\n",
       "      <th>Specificity</th>\n",
       "      <th>Recall</th>\n",
       "      <th>Precision</th>\n",
       "      <th>F1</th>\n",
       "      <th>False Positives</th>\n",
       "      <th>False Negatives</th>\n",
       "      <th>ROC-AUC</th>\n",
       "    </tr>\n",
       "  </thead>\n",
       "  <tbody>\n",
       "    <tr>\n",
       "      <th>RandomForestClassifier</th>\n",
       "      <td>0.774</td>\n",
       "      <td>0.777</td>\n",
       "      <td>0.703</td>\n",
       "      <td>0.149</td>\n",
       "      <td>0.246</td>\n",
       "      <td>554.0</td>\n",
       "      <td>41.0</td>\n",
       "      <td>0.822</td>\n",
       "    </tr>\n",
       "  </tbody>\n",
       "</table>\n",
       "</div>"
      ],
      "text/plain": [
       "                       Accuracy Specificity Recall Precision     F1  \\\n",
       "RandomForestClassifier    0.774       0.777  0.703     0.149  0.246   \n",
       "\n",
       "                       False Positives False Negatives ROC-AUC  \n",
       "RandomForestClassifier           554.0            41.0   0.822  "
      ]
     },
     "execution_count": 13,
     "metadata": {},
     "output_type": "execute_result"
    }
   ],
   "source": [
    "rfc_result = eval_model(rfc)\n",
    "rfc_result"
   ]
  },
  {
   "cell_type": "markdown",
   "id": "12c45416",
   "metadata": {},
   "source": [
    "## (2) Support Vector Classifier"
   ]
  },
  {
   "cell_type": "markdown",
   "id": "9f72e909",
   "metadata": {},
   "source": [
    "SVC has one of the lowest performing model accuracy but its ROC-AUC score is decent and comparable to other models. It talso has the lowest false negative rate, which is beneficial because false negatives are more dangerous than false positives in this problem set. It is worse to leave a WNV-positive mosquito undetected than to falsely predict a WNV-negative mosquito as WNV-positive."
   ]
  },
  {
   "cell_type": "code",
   "execution_count": 14,
   "id": "b436d0ec",
   "metadata": {
    "execution": {
     "iopub.execute_input": "2022-02-05T10:05:48.661798Z",
     "iopub.status.busy": "2022-02-05T10:05:48.661712Z",
     "iopub.status.idle": "2022-02-05T10:07:52.538752Z",
     "shell.execute_reply": "2022-02-05T10:07:52.537882Z",
     "shell.execute_reply.started": "2022-02-05T10:05:48.661788Z"
    }
   },
   "outputs": [
    {
     "name": "stdout",
     "output_type": "stream",
     "text": [
      "================ GridSearchCV ===============\n",
      "Best Parameters: {'C': 1, 'class_weight': {0: 1, 1: 10}, 'probability': True, 'random_state': 42}\n",
      "Best Score (ROC AUC): 0.8181143378889143\n",
      "\n",
      "================= Evaluation ================\n",
      "Train Score (ROC AUC): 0.8834409289829795\n",
      "Testing Score (ROC AUC): 0.815328023011395\n"
     ]
    }
   ],
   "source": [
    "svc_params = {\n",
    "    \"C\": [10 ** -2, 10 ** -1, 10 ** 0, 10 ** 1, 10 ** 2],\n",
    "    \"class_weight\": [None, {0: 1, 1: 10}, {0: 1, 1: 25}],\n",
    "    \"probability\": [True],\n",
    "    \"random_state\": [42],\n",
    "}\n",
    "svc = fit_gs(SVC(), svc_params)"
   ]
  },
  {
   "cell_type": "code",
   "execution_count": 15,
   "id": "3ff83845",
   "metadata": {
    "execution": {
     "iopub.execute_input": "2022-02-05T10:07:52.541037Z",
     "iopub.status.busy": "2022-02-05T10:07:52.540908Z",
     "iopub.status.idle": "2022-02-05T10:07:54.098936Z",
     "shell.execute_reply": "2022-02-05T10:07:54.098672Z",
     "shell.execute_reply.started": "2022-02-05T10:07:52.541021Z"
    }
   },
   "outputs": [
    {
     "data": {
      "text/html": [
       "<div>\n",
       "<style scoped>\n",
       "    .dataframe tbody tr th:only-of-type {\n",
       "        vertical-align: middle;\n",
       "    }\n",
       "\n",
       "    .dataframe tbody tr th {\n",
       "        vertical-align: top;\n",
       "    }\n",
       "\n",
       "    .dataframe thead th {\n",
       "        text-align: right;\n",
       "    }\n",
       "</style>\n",
       "<table border=\"1\" class=\"dataframe\">\n",
       "  <thead>\n",
       "    <tr style=\"text-align: right;\">\n",
       "      <th></th>\n",
       "      <th>Accuracy</th>\n",
       "      <th>Specificity</th>\n",
       "      <th>Recall</th>\n",
       "      <th>Precision</th>\n",
       "      <th>F1</th>\n",
       "      <th>False Positives</th>\n",
       "      <th>False Negatives</th>\n",
       "      <th>ROC-AUC</th>\n",
       "    </tr>\n",
       "  </thead>\n",
       "  <tbody>\n",
       "    <tr>\n",
       "      <th>SVC</th>\n",
       "      <td>0.809</td>\n",
       "      <td>0.818</td>\n",
       "      <td>0.63</td>\n",
       "      <td>0.161</td>\n",
       "      <td>0.257</td>\n",
       "      <td>452.0</td>\n",
       "      <td>51.0</td>\n",
       "      <td>0.815</td>\n",
       "    </tr>\n",
       "  </tbody>\n",
       "</table>\n",
       "</div>"
      ],
      "text/plain": [
       "    Accuracy Specificity Recall Precision     F1 False Positives  \\\n",
       "SVC    0.809       0.818   0.63     0.161  0.257           452.0   \n",
       "\n",
       "    False Negatives ROC-AUC  \n",
       "SVC            51.0   0.815  "
      ]
     },
     "execution_count": 15,
     "metadata": {},
     "output_type": "execute_result"
    }
   ],
   "source": [
    "svc_result = eval_model(svc)\n",
    "svc_result"
   ]
  },
  {
   "cell_type": "markdown",
   "id": "fca44efc",
   "metadata": {},
   "source": [
    "## (3) Logistic Regression"
   ]
  },
  {
   "cell_type": "markdown",
   "id": "a6ca52b9",
   "metadata": {},
   "source": [
    "The best penalty is L1 (Lasso) rather than L2 (Ridge), which implies that some features are given a weight of 0 during the modelling process. The C of 1 suggests a moderate level of regularization.\n",
    "\n",
    "The benefit of using Logistic Regression is the interpretability of coefficients. However, because its false negative rate is too high, it yields little benefit to our classification task."
   ]
  },
  {
   "cell_type": "code",
   "execution_count": 16,
   "id": "eaee6595",
   "metadata": {
    "execution": {
     "iopub.execute_input": "2022-02-05T10:07:54.099615Z",
     "iopub.status.busy": "2022-02-05T10:07:54.099517Z",
     "iopub.status.idle": "2022-02-05T10:10:58.179216Z",
     "shell.execute_reply": "2022-02-05T10:10:58.177512Z",
     "shell.execute_reply.started": "2022-02-05T10:07:54.099604Z"
    }
   },
   "outputs": [
    {
     "name": "stdout",
     "output_type": "stream",
     "text": [
      "================ GridSearchCV ===============\n",
      "Best Parameters: {'C': 100, 'class_weight': None, 'max_iter': 20, 'penalty': 'l2', 'random_state': 42, 'solver': 'liblinear'}\n",
      "Best Score (ROC AUC): 0.809037749241347\n",
      "\n",
      "================= Evaluation ================\n",
      "Train Score (ROC AUC): 0.8196664264601625\n",
      "Testing Score (ROC AUC): 0.7686327085553246\n"
     ]
    }
   ],
   "source": [
    "lr_params = {\n",
    "    \"C\": [10 ** -2, 10 ** -1, 10 ** 0, 10 ** 1, 10 ** 2],\n",
    "    \"penalty\": [\"l1\", \"l2\"],\n",
    "    \"max_iter\": [20, 50, 100, 200],\n",
    "    \"class_weight\": [None, {0: 1, 1: 10}, {0: 1, 1: 25}],\n",
    "    \"solver\": [\"liblinear\"],\n",
    "    \"random_state\": [42],\n",
    "}\n",
    "\n",
    "lr = fit_gs(LogisticRegression(), lr_params)"
   ]
  },
  {
   "cell_type": "code",
   "execution_count": 17,
   "id": "e9a32852",
   "metadata": {
    "execution": {
     "iopub.execute_input": "2022-02-05T10:10:58.189427Z",
     "iopub.status.busy": "2022-02-05T10:10:58.189108Z",
     "iopub.status.idle": "2022-02-05T10:10:58.220912Z",
     "shell.execute_reply": "2022-02-05T10:10:58.220496Z",
     "shell.execute_reply.started": "2022-02-05T10:10:58.189406Z"
    }
   },
   "outputs": [
    {
     "data": {
      "text/html": [
       "<div>\n",
       "<style scoped>\n",
       "    .dataframe tbody tr th:only-of-type {\n",
       "        vertical-align: middle;\n",
       "    }\n",
       "\n",
       "    .dataframe tbody tr th {\n",
       "        vertical-align: top;\n",
       "    }\n",
       "\n",
       "    .dataframe thead th {\n",
       "        text-align: right;\n",
       "    }\n",
       "</style>\n",
       "<table border=\"1\" class=\"dataframe\">\n",
       "  <thead>\n",
       "    <tr style=\"text-align: right;\">\n",
       "      <th></th>\n",
       "      <th>Accuracy</th>\n",
       "      <th>Specificity</th>\n",
       "      <th>Recall</th>\n",
       "      <th>Precision</th>\n",
       "      <th>F1</th>\n",
       "      <th>False Positives</th>\n",
       "      <th>False Negatives</th>\n",
       "      <th>ROC-AUC</th>\n",
       "    </tr>\n",
       "  </thead>\n",
       "  <tbody>\n",
       "    <tr>\n",
       "      <th>LogisticRegression</th>\n",
       "      <td>0.947</td>\n",
       "      <td>1.0</td>\n",
       "      <td>0.0</td>\n",
       "      <td>NaN</td>\n",
       "      <td>NaN</td>\n",
       "      <td>0.0</td>\n",
       "      <td>138.0</td>\n",
       "      <td>0.769</td>\n",
       "    </tr>\n",
       "  </tbody>\n",
       "</table>\n",
       "</div>"
      ],
      "text/plain": [
       "                   Accuracy Specificity Recall Precision   F1 False Positives  \\\n",
       "LogisticRegression    0.947         1.0    0.0       NaN  NaN             0.0   \n",
       "\n",
       "                   False Negatives ROC-AUC  \n",
       "LogisticRegression           138.0   0.769  "
      ]
     },
     "execution_count": 17,
     "metadata": {},
     "output_type": "execute_result"
    }
   ],
   "source": [
    "lr_result = eval_model(lr)\n",
    "lr_result"
   ]
  },
  {
   "cell_type": "markdown",
   "id": "bf8e1d54",
   "metadata": {},
   "source": [
    "## (4) K-nearest neighbours"
   ]
  },
  {
   "cell_type": "markdown",
   "id": "05d45b90",
   "metadata": {},
   "source": [
    "K Nearest Neighbors produced very similar results to Logistic Regression."
   ]
  },
  {
   "cell_type": "code",
   "execution_count": 18,
   "id": "6ca2a4fa",
   "metadata": {
    "execution": {
     "iopub.execute_input": "2022-02-05T10:10:58.222757Z",
     "iopub.status.busy": "2022-02-05T10:10:58.222556Z",
     "iopub.status.idle": "2022-02-05T10:11:04.064357Z",
     "shell.execute_reply": "2022-02-05T10:11:04.063417Z",
     "shell.execute_reply.started": "2022-02-05T10:10:58.222738Z"
    }
   },
   "outputs": [
    {
     "name": "stdout",
     "output_type": "stream",
     "text": [
      "================ GridSearchCV ===============\n",
      "Best Parameters: {'n_neighbors': 65}\n",
      "Best Score (ROC AUC): 0.8129837156936439\n",
      "\n",
      "================= Evaluation ================\n",
      "Train Score (ROC AUC): 0.8601425736948582\n",
      "Testing Score (ROC AUC): 0.7928566853576025\n"
     ]
    }
   ],
   "source": [
    "knn_params = {\"n_neighbors\": [5, 35, 65, 95]}\n",
    "\n",
    "knn = fit_gs(KNeighborsClassifier(), knn_params)"
   ]
  },
  {
   "cell_type": "code",
   "execution_count": 19,
   "id": "0e123164",
   "metadata": {
    "execution": {
     "iopub.execute_input": "2022-02-05T10:11:04.066203Z",
     "iopub.status.busy": "2022-02-05T10:11:04.066087Z",
     "iopub.status.idle": "2022-02-05T10:11:05.057785Z",
     "shell.execute_reply": "2022-02-05T10:11:05.057399Z",
     "shell.execute_reply.started": "2022-02-05T10:11:04.066187Z"
    }
   },
   "outputs": [
    {
     "data": {
      "text/html": [
       "<div>\n",
       "<style scoped>\n",
       "    .dataframe tbody tr th:only-of-type {\n",
       "        vertical-align: middle;\n",
       "    }\n",
       "\n",
       "    .dataframe tbody tr th {\n",
       "        vertical-align: top;\n",
       "    }\n",
       "\n",
       "    .dataframe thead th {\n",
       "        text-align: right;\n",
       "    }\n",
       "</style>\n",
       "<table border=\"1\" class=\"dataframe\">\n",
       "  <thead>\n",
       "    <tr style=\"text-align: right;\">\n",
       "      <th></th>\n",
       "      <th>Accuracy</th>\n",
       "      <th>Specificity</th>\n",
       "      <th>Recall</th>\n",
       "      <th>Precision</th>\n",
       "      <th>F1</th>\n",
       "      <th>False Positives</th>\n",
       "      <th>False Negatives</th>\n",
       "      <th>ROC-AUC</th>\n",
       "    </tr>\n",
       "  </thead>\n",
       "  <tbody>\n",
       "    <tr>\n",
       "      <th>KNeighborsClassifier</th>\n",
       "      <td>0.947</td>\n",
       "      <td>1.0</td>\n",
       "      <td>0.0</td>\n",
       "      <td>NaN</td>\n",
       "      <td>NaN</td>\n",
       "      <td>0.0</td>\n",
       "      <td>138.0</td>\n",
       "      <td>0.793</td>\n",
       "    </tr>\n",
       "  </tbody>\n",
       "</table>\n",
       "</div>"
      ],
      "text/plain": [
       "                     Accuracy Specificity Recall Precision   F1  \\\n",
       "KNeighborsClassifier    0.947         1.0    0.0       NaN  NaN   \n",
       "\n",
       "                     False Positives False Negatives ROC-AUC  \n",
       "KNeighborsClassifier             0.0           138.0   0.793  "
      ]
     },
     "execution_count": 19,
     "metadata": {},
     "output_type": "execute_result"
    }
   ],
   "source": [
    "knn_result = eval_model(knn)\n",
    "knn_result"
   ]
  },
  {
   "cell_type": "markdown",
   "id": "9882cfee",
   "metadata": {},
   "source": [
    "## (5) Gradient boosting classifier"
   ]
  },
  {
   "cell_type": "markdown",
   "id": "0512dd7f",
   "metadata": {},
   "source": [
    "Gradient Boosting Classifier has the highest ROC-AUC score among all the models and will be selected as the production model."
   ]
  },
  {
   "cell_type": "code",
   "execution_count": 20,
   "id": "a74c90a8",
   "metadata": {
    "execution": {
     "iopub.execute_input": "2022-02-05T10:11:05.058583Z",
     "iopub.status.busy": "2022-02-05T10:11:05.058483Z",
     "iopub.status.idle": "2022-02-05T10:11:29.548404Z",
     "shell.execute_reply": "2022-02-05T10:11:29.546991Z",
     "shell.execute_reply.started": "2022-02-05T10:11:05.058571Z"
    }
   },
   "outputs": [
    {
     "name": "stdout",
     "output_type": "stream",
     "text": [
      "================ GridSearchCV ===============\n",
      "Best Parameters: {'max_depth': 3, 'n_estimators': 200, 'random_state': 42}\n",
      "Best Score (ROC AUC): 0.8397836522769234\n",
      "\n",
      "================= Evaluation ================\n",
      "Train Score (ROC AUC): 0.9218337009941435\n",
      "Testing Score (ROC AUC): 0.8257099353095649\n"
     ]
    }
   ],
   "source": [
    "gbc_params = {\n",
    "    \"n_estimators\": [150, 200, 250],\n",
    "    \"max_depth\": [3, 5],\n",
    "    \"random_state\": [42],\n",
    "}\n",
    "gbc = fit_gs(GradientBoostingClassifier(), gbc_params)"
   ]
  },
  {
   "cell_type": "code",
   "execution_count": 21,
   "id": "14f4473c",
   "metadata": {
    "execution": {
     "iopub.execute_input": "2022-02-05T10:11:29.554905Z",
     "iopub.status.busy": "2022-02-05T10:11:29.554641Z",
     "iopub.status.idle": "2022-02-05T10:11:29.593433Z",
     "shell.execute_reply": "2022-02-05T10:11:29.593092Z",
     "shell.execute_reply.started": "2022-02-05T10:11:29.554886Z"
    }
   },
   "outputs": [
    {
     "data": {
      "text/html": [
       "<div>\n",
       "<style scoped>\n",
       "    .dataframe tbody tr th:only-of-type {\n",
       "        vertical-align: middle;\n",
       "    }\n",
       "\n",
       "    .dataframe tbody tr th {\n",
       "        vertical-align: top;\n",
       "    }\n",
       "\n",
       "    .dataframe thead th {\n",
       "        text-align: right;\n",
       "    }\n",
       "</style>\n",
       "<table border=\"1\" class=\"dataframe\">\n",
       "  <thead>\n",
       "    <tr style=\"text-align: right;\">\n",
       "      <th></th>\n",
       "      <th>Accuracy</th>\n",
       "      <th>Specificity</th>\n",
       "      <th>Recall</th>\n",
       "      <th>Precision</th>\n",
       "      <th>F1</th>\n",
       "      <th>False Positives</th>\n",
       "      <th>False Negatives</th>\n",
       "      <th>ROC-AUC</th>\n",
       "    </tr>\n",
       "  </thead>\n",
       "  <tbody>\n",
       "    <tr>\n",
       "      <th>GradientBoostingClassifier</th>\n",
       "      <td>0.944</td>\n",
       "      <td>0.992</td>\n",
       "      <td>0.08</td>\n",
       "      <td>0.367</td>\n",
       "      <td>0.131</td>\n",
       "      <td>19.0</td>\n",
       "      <td>127.0</td>\n",
       "      <td>0.826</td>\n",
       "    </tr>\n",
       "  </tbody>\n",
       "</table>\n",
       "</div>"
      ],
      "text/plain": [
       "                           Accuracy Specificity Recall Precision     F1  \\\n",
       "GradientBoostingClassifier    0.944       0.992   0.08     0.367  0.131   \n",
       "\n",
       "                           False Positives False Negatives ROC-AUC  \n",
       "GradientBoostingClassifier            19.0           127.0   0.826  "
      ]
     },
     "execution_count": 21,
     "metadata": {},
     "output_type": "execute_result"
    }
   ],
   "source": [
    "gbc_result = eval_model(gbc)\n",
    "gbc_result"
   ]
  },
  {
   "cell_type": "markdown",
   "id": "c572dba5",
   "metadata": {},
   "source": [
    "## (6) XGB classifier"
   ]
  },
  {
   "cell_type": "markdown",
   "id": "3ab1d53c",
   "metadata": {},
   "source": [
    "XGB classifier is widely regarded as the best performing classifier. However, it has a very high computational cost. Disappointingly, it did not yield better ROC-AUC scores than Gradient Boost Classifier, although it had the best accuracy score among all of the models."
   ]
  },
  {
   "cell_type": "code",
   "execution_count": null,
   "id": "fd8af866",
   "metadata": {
    "execution": {
     "iopub.execute_input": "2022-02-05T10:11:29.594158Z",
     "iopub.status.busy": "2022-02-05T10:11:29.594055Z"
    }
   },
   "outputs": [],
   "source": [
    "xgb_params = {\n",
    "    \"use_label_encoder\": [False],\n",
    "    \"objective\": [\"binary:logistic\"],\n",
    "    \"eval_metric\": [\"auc\"],\n",
    "    \"learning_rate\": [0.2, 0.5],\n",
    "    \"max_depth\": [5, 8],\n",
    "    \"gamma\": np.linspace(5, 100, 8),\n",
    "    \"reg_alpha\": np.linspace(0.0001, 1, 8),\n",
    "    \"reg_lambda\": np.linspace(5, 100, 5),\n",
    "}\n",
    "\n",
    "xgb = fit_gs(XGBClassifier(random_state=42), xgb_params)"
   ]
  },
  {
   "cell_type": "code",
   "execution_count": null,
   "id": "efe7431d",
   "metadata": {},
   "outputs": [],
   "source": [
    "xgb_result = eval_model(xgb)\n",
    "xgb_result"
   ]
  },
  {
   "cell_type": "markdown",
   "id": "d3922b2e",
   "metadata": {},
   "source": [
    "## (7) Extra trees classifier"
   ]
  },
  {
   "cell_type": "markdown",
   "id": "8544a43d",
   "metadata": {},
   "source": [
    "Extra trees yielded one of the most impressive accuracy scores but with an ROC-AUC comparable to the other models. These results strongly suggest overfitting."
   ]
  },
  {
   "cell_type": "code",
   "execution_count": null,
   "id": "9e3a4748",
   "metadata": {},
   "outputs": [],
   "source": [
    "et_params = {\n",
    "    \"max_depth\": [3, 5, 10, 20],\n",
    "    \"min_samples_leaf\": [1, 3, 10, 20],\n",
    "    \"max_leaf_nodes\": [None, 5, 10],\n",
    "    \"random_state\": [42],\n",
    "}\n",
    "et = fit_gs(ExtraTreesClassifier(), et_params)"
   ]
  },
  {
   "cell_type": "code",
   "execution_count": null,
   "id": "02147f5e",
   "metadata": {},
   "outputs": [],
   "source": [
    "et_result = eval_model(et)\n",
    "et_result"
   ]
  },
  {
   "cell_type": "markdown",
   "id": "76ffb9be-43c2-4377-b5cf-18d1abc85841",
   "metadata": {
    "tags": []
   },
   "source": [
    "# Modelling with oversampling "
   ]
  },
  {
   "cell_type": "markdown",
   "id": "8365d631-18a8-4455-a0c3-41d49cf035ea",
   "metadata": {},
   "source": [
    "In this section, due to the class imbalance, we applied oversampling on the training set using SMOTE."
   ]
  },
  {
   "cell_type": "code",
   "execution_count": null,
   "id": "8804a28b-da0b-4071-b784-c9c8f7747ab5",
   "metadata": {
    "tags": []
   },
   "outputs": [],
   "source": [
    "# instantiate smote\n",
    "sm = SMOTE()\n",
    "\n",
    "# apply oversampling\n",
    "X_train, y_train = sm.fit_resample(X_train, y_train)"
   ]
  },
  {
   "cell_type": "code",
   "execution_count": null,
   "id": "601cd69a-492a-4481-a8ba-f363363ca743",
   "metadata": {},
   "outputs": [],
   "source": [
    "# verify the distribution of classes\n",
    "y_train.value_counts(normalize=True)"
   ]
  },
  {
   "cell_type": "markdown",
   "id": "32e74536-a568-4945-8f94-6bde59647c45",
   "metadata": {
    "tags": []
   },
   "source": [
    "## (0) Dummy Model with Oversampling"
   ]
  },
  {
   "cell_type": "code",
   "execution_count": null,
   "id": "89fbc84f-c8ad-48e0-9b03-1676bf3939a0",
   "metadata": {},
   "outputs": [],
   "source": [
    "# fit dummy model\n",
    "dummy_os = DummyClassifier(strategy=\"most_frequent\", random_state=42)\n",
    "dummy_os.fit(X_train, y_train)\n",
    "\n",
    "dummy_os_result = eval_model(dummy_os)\n",
    "dummy_os_result"
   ]
  },
  {
   "cell_type": "markdown",
   "id": "852024a8-d82e-43a9-a000-7052b0f866aa",
   "metadata": {},
   "source": [
    "## (1) Random Forest Classifier with Oversampling"
   ]
  },
  {
   "cell_type": "code",
   "execution_count": null,
   "id": "e3d27c3f-0ec7-4c60-a294-2283b8116768",
   "metadata": {},
   "outputs": [],
   "source": [
    "rfc_params = {\n",
    "    \"n_estimators\": [10, 50, 100, 250],\n",
    "    \"max_depth\": [5, 10, 20],\n",
    "    \"class_weight\": [None, \"balanced\", \"balanced_subsample\"],\n",
    "    \"random_state\": [42],\n",
    "}\n",
    "rfc_os = fit_gs(RandomForestClassifier(), rfc_params)"
   ]
  },
  {
   "cell_type": "code",
   "execution_count": null,
   "id": "abdbd991-4396-4257-be15-842cbe9c91ca",
   "metadata": {},
   "outputs": [],
   "source": [
    "rfc_os_result = eval_model(rfc_os)\n",
    "rfc_os_result"
   ]
  },
  {
   "cell_type": "markdown",
   "id": "e8f03ba7-b4f9-437c-aa61-bb4396842133",
   "metadata": {},
   "source": [
    "## (2) Support Vector Classifier with Oversampling"
   ]
  },
  {
   "cell_type": "code",
   "execution_count": null,
   "id": "4f5295be-cb3f-4e2e-b86c-ee619888480c",
   "metadata": {},
   "outputs": [],
   "source": [
    "svc_params = {\n",
    "    \"C\": [10 ** -2, 10 ** -1, 10 ** 0, 10 ** 1, 10 ** 2],\n",
    "    \"class_weight\": [None, {0: 1, 1: 10}, {0: 1, 1: 25}],\n",
    "    \"probability\": [True],\n",
    "    \"random_state\": [42],\n",
    "}\n",
    "svc_os = fit_gs(SVC(), svc_params)"
   ]
  },
  {
   "cell_type": "code",
   "execution_count": null,
   "id": "e3096225-5b39-4c34-9b5f-7eaf58e43023",
   "metadata": {},
   "outputs": [],
   "source": [
    "svc_os_result = eval_model(svc_os)\n",
    "svc_os_result"
   ]
  },
  {
   "cell_type": "markdown",
   "id": "be6b7850-ad43-4bbe-aba8-9ab0f220fb80",
   "metadata": {},
   "source": [
    "## (3) Logistic Regression with Oversampling"
   ]
  },
  {
   "cell_type": "code",
   "execution_count": null,
   "id": "b4880d1f-5bff-4d6c-8a86-7382e8951934",
   "metadata": {},
   "outputs": [],
   "source": [
    "lr_params = {\n",
    "    \"C\": [10 ** -2, 10 ** -1, 10 ** 0, 10 ** 1, 10 ** 2],\n",
    "    \"penalty\": [\"l1\", \"l2\"],\n",
    "    \"max_iter\": [20, 50, 100, 200],\n",
    "    \"class_weight\": [None, {0: 1, 1: 10}, {0: 1, 1: 25}],\n",
    "    \"solver\": [\"liblinear\"],\n",
    "    \"random_state\": [42],\n",
    "}\n",
    "\n",
    "lr_os = fit_gs(LogisticRegression(), lr_params)"
   ]
  },
  {
   "cell_type": "code",
   "execution_count": null,
   "id": "4619ad66-5f85-454f-ab87-f59e893f6873",
   "metadata": {},
   "outputs": [],
   "source": [
    "lr_os_result = eval_model(lr_os)\n",
    "lr_os_result"
   ]
  },
  {
   "cell_type": "markdown",
   "id": "41c717ae-65a2-46bd-bf8f-3af4ceab5d1a",
   "metadata": {},
   "source": [
    "## (4) K-nearest neighbours with Oversampling"
   ]
  },
  {
   "cell_type": "code",
   "execution_count": null,
   "id": "8188b244-79cb-4f88-8779-7a3ba191071f",
   "metadata": {},
   "outputs": [],
   "source": [
    "knn_params = {\"n_neighbors\": [5, 35, 65, 95]}\n",
    "\n",
    "knn_os = fit_gs(KNeighborsClassifier(), knn_params)"
   ]
  },
  {
   "cell_type": "code",
   "execution_count": null,
   "id": "5179790f-3e60-49d7-9ae3-ed2da7eebb8f",
   "metadata": {},
   "outputs": [],
   "source": [
    "knn_os_result = eval_model(knn_os)\n",
    "knn_os_result"
   ]
  },
  {
   "cell_type": "markdown",
   "id": "4ff48ece-7b10-4a0b-9bc8-0970dab1c549",
   "metadata": {},
   "source": [
    "## (5) Gradient boosting classifier with Oversampling"
   ]
  },
  {
   "cell_type": "code",
   "execution_count": null,
   "id": "8f47b1bb-b32d-4802-99e6-b2715d8a1eab",
   "metadata": {},
   "outputs": [],
   "source": [
    "gbc_params = {\n",
    "    \"n_estimators\": [150, 200, 250],\n",
    "    \"max_depth\": [3, 5],\n",
    "    \"random_state\": [42],\n",
    "}\n",
    "gbc_os = fit_gs(GradientBoostingClassifier(), gbc_params)"
   ]
  },
  {
   "cell_type": "code",
   "execution_count": null,
   "id": "cd1452e5-270c-450e-93bb-c04ccc87d5b9",
   "metadata": {},
   "outputs": [],
   "source": [
    "gbc_os_result = eval_model(gbc_os)\n",
    "gbc_os_result"
   ]
  },
  {
   "cell_type": "markdown",
   "id": "3f06508a-1e36-4667-9fe9-fef9c00739ee",
   "metadata": {},
   "source": [
    "## (6) XGB classifier with Oversampling"
   ]
  },
  {
   "cell_type": "code",
   "execution_count": null,
   "id": "b90f1052-ba09-46d6-93cb-67b456da851f",
   "metadata": {},
   "outputs": [],
   "source": [
    "xgb_params = {\n",
    "    \"use_label_encoder\": [False],\n",
    "    \"objective\": [\"binary:logistic\"],\n",
    "    \"eval_metric\": [\"auc\"],\n",
    "    \"learning_rate\": [0.2, 0.5],\n",
    "    \"max_depth\": [5, 8],\n",
    "    \"gamma\": np.linspace(5, 100, 8),\n",
    "    \"reg_alpha\": np.linspace(0.0001, 1, 8),\n",
    "    \"reg_lambda\": np.linspace(5, 100, 5),\n",
    "}\n",
    "\n",
    "xgb_os = fit_gs(XGBClassifier(random_state=42), xgb_params)"
   ]
  },
  {
   "cell_type": "code",
   "execution_count": null,
   "id": "c9ef0159-753e-4e7d-a86d-66ba2c3ce38a",
   "metadata": {},
   "outputs": [],
   "source": [
    "xgb_os_result = eval_model(xgb_os)\n",
    "xgb_os_result"
   ]
  },
  {
   "cell_type": "markdown",
   "id": "b34cc5ef-99df-4c8c-96a5-4908b7c56bae",
   "metadata": {},
   "source": [
    "## (7) Extra trees classifier with Oversampling"
   ]
  },
  {
   "cell_type": "code",
   "execution_count": null,
   "id": "ecddb837-f30a-45d2-89e0-bbee7144130e",
   "metadata": {},
   "outputs": [],
   "source": [
    "et_params = {\n",
    "    \"max_depth\": [3, 5, 10, 20],\n",
    "    \"min_samples_leaf\": [1, 3, 10, 20],\n",
    "    \"max_leaf_nodes\": [None, 5, 10],\n",
    "    \"random_state\": [42],\n",
    "}\n",
    "et_os = fit_gs(ExtraTreesClassifier(), et_params)"
   ]
  },
  {
   "cell_type": "code",
   "execution_count": null,
   "id": "3ef1eb09-b811-4887-b5c1-b26ee5708b5b",
   "metadata": {},
   "outputs": [],
   "source": [
    "et_os_result = eval_model(et_os)\n",
    "et_os_result"
   ]
  },
  {
   "cell_type": "markdown",
   "id": "6b96530e",
   "metadata": {},
   "source": [
    "# Evaluating and Interpreting Results\n",
    "## Summary of results for all models"
   ]
  },
  {
   "cell_type": "markdown",
   "id": "b4aec204-c34a-46dc-8586-ae1b6ca4bdfd",
   "metadata": {},
   "source": [
    "Summary results for models *without* oversampling"
   ]
  },
  {
   "cell_type": "code",
   "execution_count": null,
   "id": "3237085f",
   "metadata": {
    "scrolled": true
   },
   "outputs": [],
   "source": [
    "summary = pd.concat(\n",
    "    [\n",
    "        dummy_result,\n",
    "        rfc_result,\n",
    "        svc_result,\n",
    "        lr_result,\n",
    "        knn_result,\n",
    "        gbc_result,\n",
    "        xgb_result,\n",
    "        et_result,\n",
    "    ]\n",
    ")\n",
    "summary"
   ]
  },
  {
   "cell_type": "markdown",
   "id": "b3c26264-2b14-48d6-b970-d83d4250dd68",
   "metadata": {},
   "source": [
    "Summary results for models with oversampling"
   ]
  },
  {
   "cell_type": "code",
   "execution_count": null,
   "id": "d73f66c3-cbc7-47ff-a2ee-6d030196af79",
   "metadata": {},
   "outputs": [],
   "source": [
    "summary = pd.concat(\n",
    "    [\n",
    "        dummy_os_result,\n",
    "        rfc_os_result,\n",
    "        svc_os_result,\n",
    "        lr_os_result,\n",
    "        knn_os_result,\n",
    "        gbc_os_result,\n",
    "        xgb_os_result,\n",
    "        et_os_result,\n",
    "    ]\n",
    ")\n",
    "summary"
   ]
  },
  {
   "cell_type": "markdown",
   "id": "f506664f",
   "metadata": {},
   "source": [
    "Dummy, Extra Trees, K Nearest Neighbors and Logistic regression produced very similar results, which makes accuracy an unsuitable metric for evaluation - just by predicting all instances as negative (absence of WNV), one will get the highest accuracy rate).\n",
    "\n",
    "Instead, the following metrics will be used for evaluation:\n",
    "- ROC-AUC\n",
    "- False negatives\n",
    "\n",
    "False negatives: The classifier with the lowest false negative rate was SVC. SVC also had the 2nd highest ROC-AUC scores.\n",
    "\n",
    "ROC-AUC: Gradient Boosting Classifier outperformed all the other models and will be used as the final model for production."
   ]
  },
  {
   "cell_type": "markdown",
   "id": "21dba185",
   "metadata": {},
   "source": [
    "## ROC plot"
   ]
  },
  {
   "cell_type": "code",
   "execution_count": null,
   "id": "f98dabc9",
   "metadata": {},
   "outputs": [],
   "source": [
    "models = [dummy, rfc, svc, lr, knn, gbc, xgb, et]\n",
    "\n",
    "fig, ax = plt.subplots(figsize=(10, 8))\n",
    "plt.plot([0, 1], [0, 1], \"k--\")\n",
    "for i, model in enumerate(models):\n",
    "    RocCurveDisplay.from_estimator(\n",
    "        model, X_val, y_val, ax=ax, name=f\"{summary.index[i]}\"\n",
    "    )"
   ]
  },
  {
   "cell_type": "markdown",
   "id": "0ef39348",
   "metadata": {},
   "source": [
    "From the graph, it can be observed that the Gradient Boosting Classifier outperforms almost every other model in terms of ROC-AUC. The SVC is the 2nd best, but its accuracy score is very compromised."
   ]
  },
  {
   "cell_type": "markdown",
   "id": "7a24f5ea-ce98-4c85-bd58-f5b5b0818566",
   "metadata": {},
   "source": [
    "## Precision-Recall Curve plot"
   ]
  },
  {
   "cell_type": "code",
   "execution_count": null,
   "id": "3de9ec08-1bca-4e8e-866f-03971f0d6551",
   "metadata": {},
   "outputs": [],
   "source": [
    "models = [dummy, rfc, svc, lr, knn, gbc, xgb, et]\n",
    "\n",
    "fig, ax = plt.subplots(figsize=(10, 8))\n",
    "plt.plot([0, 1], [0, 1], \"k--\")\n",
    "for i, model in enumerate(models):\n",
    "    PrecisionRecallDisplay.from_estimator(\n",
    "        model, X_val, y_val, ax=ax, name=f\"{summary.index[i]}\"\n",
    "    )"
   ]
  },
  {
   "cell_type": "markdown",
   "id": "7e468949",
   "metadata": {},
   "source": [
    "## Important features"
   ]
  },
  {
   "cell_type": "code",
   "execution_count": null,
   "id": "07a768b1",
   "metadata": {},
   "outputs": [],
   "source": [
    "def get_impt_features(models):\n",
    "    result = pd.DataFrame()\n",
    "    for i, model in enumerate(models):\n",
    "        try:\n",
    "            importances = model.best_estimator_.feature_importances_\n",
    "            df = (\n",
    "                pd.DataFrame(\n",
    "                    zip(X_train.columns, importances),\n",
    "                    columns=[f\"{summary.index[i]}\", \"importance\"],\n",
    "                )\n",
    "                .sort_values(\"importance\", ascending=False)\n",
    "                .reset_index(drop=True)\n",
    "            )\n",
    "            result = pd.concat([result, df], axis=1)\n",
    "\n",
    "        except:\n",
    "            pass\n",
    "\n",
    "        try:\n",
    "            coef = model.best_estimator_.coef_\n",
    "            df = (\n",
    "                pd.DataFrame([X_train.columns, (*coef)])\n",
    "                .T.rename(columns={0: f\"{summary.index[i]}\", 1: \"coefficient\"})\n",
    "                .sort_values(\"coefficient\", ascending=False, key=abs)\n",
    "                .reset_index(drop=True)\n",
    "            )\n",
    "            result = pd.concat([result, df], axis=1)\n",
    "\n",
    "        except:\n",
    "            pass\n",
    "\n",
    "    return result"
   ]
  },
  {
   "cell_type": "code",
   "execution_count": null,
   "id": "6bdfb441",
   "metadata": {
    "scrolled": true
   },
   "outputs": [],
   "source": [
    "get_impt_features(models)"
   ]
  },
  {
   "cell_type": "markdown",
   "id": "045aa0df",
   "metadata": {},
   "source": [
    "The selected model, Gradient Boosting Classifier, predicted that these are the most important features;\n",
    "- Longitude & Latitude\n",
    "- Daylight\n",
    "- Lagged temperature\n",
    "- Temperature fluctuation\n",
    "- Relative humidity\n",
    "- Species pipiens\n",
    "\n",
    "Location (operationalized by longitude and latitude) is not surprising considering the fact that infected mosquitoes tend to cluster at certain locations.\n",
    "\n",
    "Light intensity (operationalized by daylight hours) and relative humidity are 2 of the features identified during EDA. However, what was unexpected was that lagged temperature and temperature fluctuation are more predictive of WNV presence as compared to max temperature or average temperature. For a more in depth interpretation of meterological features on WNV presence, it is best to consult a biologist specializing in WNV and other infectious diseases that are transmitted by mosquitoes.\n",
    "\n",
    "Culex Pipiens was also the most likely transmission vector of WNV, according to our model."
   ]
  },
  {
   "cell_type": "markdown",
   "id": "3e12fdcc",
   "metadata": {},
   "source": [
    "# Generating Predictions for Kaggle"
   ]
  },
  {
   "cell_type": "code",
   "execution_count": null,
   "id": "1081c77f",
   "metadata": {},
   "outputs": [],
   "source": [
    "# import test dataset and final weather data\n",
    "test = pd.read_csv(\"../input_data/test.csv\")\n",
    "weather = pd.read_csv(\"../output_data/weather_final.csv\")\n",
    "\n",
    "# check test dataframe\n",
    "test.info()"
   ]
  },
  {
   "cell_type": "code",
   "execution_count": null,
   "id": "d6f4797b",
   "metadata": {},
   "outputs": [],
   "source": [
    "# drop unnecessary columns\n",
    "test.drop(\n",
    "    columns=[\n",
    "        \"Address\",\n",
    "        \"Block\",\n",
    "        \"Street\",\n",
    "        \"Trap\",\n",
    "        \"AddressNumberAndStreet\",\n",
    "        \"AddressAccuracy\",\n",
    "    ],\n",
    "    inplace=True,\n",
    ")\n",
    "\n",
    "# rename columns to lowercase\n",
    "test.columns = test.columns.str.lower()\n",
    "\n",
    "# rename Species to drop 'CULEX'\n",
    "test[\"species\"] = [i[6:] for i in test[\"species\"]]\n",
    "\n",
    "# check dataframe\n",
    "test.head()"
   ]
  },
  {
   "cell_type": "code",
   "execution_count": null,
   "id": "4d2ca67c",
   "metadata": {},
   "outputs": [],
   "source": [
    "# check weather dataframe\n",
    "weather.head()"
   ]
  },
  {
   "cell_type": "code",
   "execution_count": null,
   "id": "21ff3b1c",
   "metadata": {},
   "outputs": [],
   "source": [
    "# merge test with weather\n",
    "test = test.merge(weather, on=\"date\", how=\"left\")\n",
    "test.head()"
   ]
  },
  {
   "cell_type": "code",
   "execution_count": null,
   "id": "8c9c53cf",
   "metadata": {},
   "outputs": [],
   "source": [
    "# transform feature matrix\n",
    "X = pd.DataFrame(\n",
    "    ct.fit_transform(test.drop(columns=[\"id\", \"date\"])),\n",
    "    columns=ct.get_feature_names_out(),\n",
    ")"
   ]
  },
  {
   "cell_type": "code",
   "execution_count": null,
   "id": "1875a397",
   "metadata": {
    "scrolled": true
   },
   "outputs": [],
   "source": [
    "X.columns"
   ]
  },
  {
   "cell_type": "code",
   "execution_count": null,
   "id": "77dffae5",
   "metadata": {},
   "outputs": [],
   "source": [
    "X.drop(columns=[\"species_IFIED CULEX\"], inplace=True)"
   ]
  },
  {
   "cell_type": "code",
   "execution_count": null,
   "id": "e9e23697",
   "metadata": {},
   "outputs": [],
   "source": [
    "# get predictions in csv format\n",
    "def get_predictions(model):\n",
    "    df = pd.DataFrame([test.id, model.predict_proba(X)[:, 1]]).T\n",
    "    df.rename(columns={\"Unnamed 0\": \"WnvPresent\", \"id\": \"Id\"}, inplace=True)\n",
    "    df.Id = df.Id.astype(int)\n",
    "    return df\n",
    "\n",
    "\n",
    "get_predictions(rfc).to_csv(\"../output_data/submit_rfc.csv\", index=False)\n",
    "get_predictions(svc).to_csv(\"../output_data/submit_svc.csv\", index=False)\n",
    "get_predictions(lr).to_csv(\"../output_data/submit_lr.csv\", index=False)\n",
    "get_predictions(knn).to_csv(\"../output_data/submit_knn.csv\", index=False)\n",
    "get_predictions(gbc).to_csv(\"../output_data/submit_gbc.csv\", index=False)\n",
    "get_predictions(xgb).to_csv(\"../output_data/submit_xgb.csv\", index=False)\n",
    "get_predictions(et).to_csv(\"../output_data/submit_et.csv\", index=False)"
   ]
  },
  {
   "cell_type": "code",
   "execution_count": null,
   "id": "e35f4529",
   "metadata": {},
   "outputs": [],
   "source": []
  }
 ],
 "metadata": {
  "kernelspec": {
   "display_name": "Python 3 (ipykernel)",
   "language": "python",
   "name": "python3"
  },
  "language_info": {
   "codemirror_mode": {
    "name": "ipython",
    "version": 3
   },
   "file_extension": ".py",
   "mimetype": "text/x-python",
   "name": "python",
   "nbconvert_exporter": "python",
   "pygments_lexer": "ipython3",
   "version": "3.8.12"
  }
 },
 "nbformat": 4,
 "nbformat_minor": 5
}
