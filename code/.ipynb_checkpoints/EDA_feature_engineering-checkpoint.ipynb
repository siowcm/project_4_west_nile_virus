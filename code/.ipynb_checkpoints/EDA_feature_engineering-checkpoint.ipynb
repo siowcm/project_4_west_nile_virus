{
 "cells": [
  {
   "cell_type": "markdown",
   "id": "058272f5-57aa-409c-86e1-e359e099d018",
   "metadata": {},
   "source": [
    "# EDA & Feature Engineering"
   ]
  },
  {
   "cell_type": "markdown",
   "id": "a4e6bc62-b9e2-4464-94e7-92b50d615b8e",
   "metadata": {},
   "source": [
    "# Library and data import"
   ]
  },
  {
   "cell_type": "code",
   "execution_count": 1,
   "id": "7a0e7e20-2355-4b8e-816a-52b2746c13e6",
   "metadata": {
    "tags": []
   },
   "outputs": [],
   "source": [
    "#import libraries\n",
    "import numpy as np\n",
    "import pandas as pd\n",
    "import matplotlib.pyplot as plt\n",
    "import seaborn as sns\n",
    "import matplotlib.dates as mdates\n",
    "from metpy.units import units\n",
    "from metpy.calc import relative_humidity_from_dewpoint\n",
    "import datetime\n",
    "\n",
    "pd.set_option(\"display.max_rows\", 500)\n",
    "pd.set_option(\"display.max_columns\", 25)\n",
    "\n",
    "# plot style\n",
    "plt.style.use('ggplot')"
   ]
  },
  {
   "cell_type": "code",
   "execution_count": 4,
   "id": "07cd0575-f63c-47a9-acfc-4bd209efca00",
   "metadata": {},
   "outputs": [],
   "source": [
    "# import train_cleaned clean\n",
    "train_cleaned = pd.read_csv(\"../output_data/train_clean.csv\")\n",
    "\n",
    "# import weather clean\n",
    "weather_cleaned = pd.read_csv(\"../output_data/weather_clean.csv\")\n",
    "\n",
    "# import spray clean\n",
    "spray_cleaned = pd.read_csv(\"../output_data/spray_clean.csv\")"
   ]
  },
  {
   "cell_type": "markdown",
   "id": "b8e5e493-c88d-44a3-a429-315f9285d980",
   "metadata": {},
   "source": [
    "# train_cleaned"
   ]
  },
  {
   "cell_type": "markdown",
   "id": "ef0fae21-284a-4b30-aec8-e0b60f7e9ce1",
   "metadata": {},
   "source": [
    "### Mosquito Species "
   ]
  },
  {
   "cell_type": "markdown",
   "id": "51e9bcf6-ec20-4051-9f5c-b3108f0899ea",
   "metadata": {},
   "source": [
    "The ability of different mosquito species to acquire and transmit WNV is highly variable. Culex mosquitoes are accepted as the dominant global transmission vector of WNV to humans; but their transmission rates among various species of the Culex genus may vary widely. As a result, it will be worth investigating which Culex mosquito species is the most dominant vector.\n",
    "\n",
    "\n",
    "\n",
    "According to https://www.ncbi.nlm.nih.gov/pmc/articles/PMC3485754/, Culex Tarsalis is the main mosquito vector of WNV in the USA, and is capable of injecting the virus into a variety of mammalian and avian hosts. Culex pipiens, Culex restuans, and Culex Salinarius are also widely viewed as important mosquito vectors by the scientific community.\n",
    "\n",
    "\n",
    "In fact, scientists view the mosquito species as a more important variable influencing WNV transmission compared to any other factor (eg. climate and weather). As a result, correct engineering of this feature is extremely pivotal."
   ]
  },
  {
   "cell_type": "markdown",
   "id": "0178fbfa-9447-4a75-859a-9c8359367676",
   "metadata": {},
   "source": [
    "## Mosquito Species: Feature Engineering & Encoding"
   ]
  },
  {
   "cell_type": "markdown",
   "id": "20a821fb-0a30-4ef0-b885-16bb1101f64d",
   "metadata": {},
   "source": [
    "Plotting a bar chart of frequency of WNV found per mosquito species."
   ]
  },
  {
   "cell_type": "code",
   "execution_count": 5,
   "id": "9ce3dc69-3296-494a-94ea-fb724b251ccf",
   "metadata": {},
   "outputs": [
    {
     "name": "stderr",
     "output_type": "stream",
     "text": [
      "/Users/JunnYiow/opt/anaconda3/lib/python3.8/site-packages/seaborn/_decorators.py:36: FutureWarning: Pass the following variables as keyword args: x, y. From version 0.12, the only valid positional argument will be `data`, and passing other arguments without an explicit keyword will result in an error or misinterpretation.\n",
      "  warnings.warn(\n"
     ]
    },
    {
     "data": {
      "image/png": "[encoded data removed]",
      "text/plain": [
       "<Figure size 432x432 with 1 Axes>"
      ]
     },
     "metadata": {},
     "output_type": "display_data"
    }
   ],
   "source": [
    "mosquitoes = train_cleaned[[\"Species\", \"NumMosquitos\", \"WnvPresent\"]].groupby(by = \"Species\").sum().reset_index()\n",
    "plt.figure(figsize = (6,6))\n",
    "sns.barplot(mosquitoes[\"WnvPresent\"], mosquitoes[\"Species\"], color = \"crimson\")\n",
    "plt.title(\"Mosquito Species Most Likely to Contain West Nile Virus\", fontsize = 16, y = 1.05)\n",
    "plt.yticks(fontsize = 11)\n",
    "plt.show()"
   ]
  },
  {
   "cell_type": "markdown",
   "id": "a048bf0f-d909-4901-94db-69980d09bd60",
   "metadata": {},
   "source": [
    "This dataframe shows the total number of each species present, as well as amount of species infected with WNV."
   ]
  },
  {
   "cell_type": "code",
   "execution_count": 6,
   "id": "597250dc-ed7c-471f-935f-a5cb628ea19d",
   "metadata": {
    "scrolled": true
   },
   "outputs": [
    {
     "data": {
      "text/html": [
       "<div>\n",
       "<style scoped>\n",
       "    .dataframe tbody tr th:only-of-type {\n",
       "        vertical-align: middle;\n",
       "    }\n",
       "\n",
       "    .dataframe tbody tr th {\n",
       "        vertical-align: top;\n",
       "    }\n",
       "\n",
       "    .dataframe thead th {\n",
       "        text-align: right;\n",
       "    }\n",
       "</style>\n",
       "<table border=\"1\" class=\"dataframe\">\n",
       "  <thead>\n",
       "    <tr style=\"text-align: right;\">\n",
       "      <th></th>\n",
       "      <th>NumMosquitos</th>\n",
       "      <th>WnvPresent</th>\n",
       "    </tr>\n",
       "    <tr>\n",
       "      <th>Species</th>\n",
       "      <th></th>\n",
       "      <th></th>\n",
       "    </tr>\n",
       "  </thead>\n",
       "  <tbody>\n",
       "    <tr>\n",
       "      <th>ERRATICUS</th>\n",
       "      <td>7</td>\n",
       "      <td>0</td>\n",
       "    </tr>\n",
       "    <tr>\n",
       "      <th>PIPIENS</th>\n",
       "      <td>44671</td>\n",
       "      <td>240</td>\n",
       "    </tr>\n",
       "    <tr>\n",
       "      <th>PIPIENS/RESTUANS</th>\n",
       "      <td>66268</td>\n",
       "      <td>262</td>\n",
       "    </tr>\n",
       "    <tr>\n",
       "      <th>RESTUANS</th>\n",
       "      <td>23431</td>\n",
       "      <td>49</td>\n",
       "    </tr>\n",
       "    <tr>\n",
       "      <th>SALINARIUS</th>\n",
       "      <td>145</td>\n",
       "      <td>0</td>\n",
       "    </tr>\n",
       "    <tr>\n",
       "      <th>TARSALIS</th>\n",
       "      <td>7</td>\n",
       "      <td>0</td>\n",
       "    </tr>\n",
       "    <tr>\n",
       "      <th>TERRITANS</th>\n",
       "      <td>510</td>\n",
       "      <td>0</td>\n",
       "    </tr>\n",
       "  </tbody>\n",
       "</table>\n",
       "</div>"
      ],
      "text/plain": [
       "                  NumMosquitos  WnvPresent\n",
       "Species                                   \n",
       "ERRATICUS                    7           0\n",
       "PIPIENS                  44671         240\n",
       "PIPIENS/RESTUANS         66268         262\n",
       "RESTUANS                 23431          49\n",
       "SALINARIUS                 145           0\n",
       "TARSALIS                     7           0\n",
       "TERRITANS                  510           0"
      ]
     },
     "execution_count": 6,
     "metadata": {},
     "output_type": "execute_result"
    }
   ],
   "source": [
    "mosquitoes = train_cleaned[[\"Species\", \"NumMosquitos\", \"WnvPresent\"]].groupby(by = \"Species\").sum()\n",
    "mosquitoes"
   ]
  },
  {
   "cell_type": "markdown",
   "id": "806c1001-13cd-446b-9ec1-ea04efffd521",
   "metadata": {},
   "source": [
    "Attempt to normalize mosquito species data by finding the proportion of mosquitoes found that contain the WNV, and using ordinal encoding to rank them based on importance."
   ]
  },
  {
   "cell_type": "code",
   "execution_count": 7,
   "id": "3872812f-a62a-4245-ad6d-388c75b492b9",
   "metadata": {},
   "outputs": [
    {
     "data": {
      "text/plain": [
       "Species\n",
       "ERRATICUS           0.000000\n",
       "PIPIENS             0.005373\n",
       "PIPIENS/RESTUANS    0.003954\n",
       "RESTUANS            0.002091\n",
       "SALINARIUS          0.000000\n",
       "TARSALIS            0.000000\n",
       "TERRITANS           0.000000\n",
       "Name: percentage, dtype: float64"
      ]
     },
     "execution_count": 7,
     "metadata": {},
     "output_type": "execute_result"
    }
   ],
   "source": [
    "mosquitoes[\"percentage\"] = mosquitoes[\"WnvPresent\"] / mosquitoes[\"NumMosquitos\"]\n",
    "mosquitoes[\"percentage\"]"
   ]
  },
  {
   "cell_type": "markdown",
   "id": "a6ee019d-4f01-4577-ac74-c881603559f5",
   "metadata": {},
   "source": [
    "Ordinal Encoding of the Mosquito variable based on probability of finding WNV in them."
   ]
  },
  {
   "cell_type": "code",
   "execution_count": 8,
   "id": "31a8f028-0853-43c1-afbd-464d052bb0f7",
   "metadata": {},
   "outputs": [],
   "source": [
    "train_cleaned[\"Species\"] = train_cleaned[\"Species\"].map({\"CULEX ERRATICUS\": 0, \"CULEX SALINARIUS\": 0, \"CULEX TARSALIS\": 0, \"CULEX TERRITANS\": 0,\n",
    "                                        \"CULEX RESTUANS\": 1, \"CULEX PIPIENS/RESTUANS\": 2, \"CULEX PIPIENS\": 3})"
   ]
  },
  {
   "cell_type": "markdown",
   "id": "91540821-02cf-49c2-9d7b-37ca1f42d93a",
   "metadata": {},
   "source": [
    "The final engineered feature shows a correlation of 0.122 with the target. Spearman is used because it is a non-parametric measure of correlation, and nothing can be assumed of the underlying mosquito distribution without further analysis (which is out of the scope of this). Pearson would assume that the underlying distribution of mosquitoes follows a Gaussian distribution."
   ]
  },
  {
   "cell_type": "code",
   "execution_count": 9,
   "id": "4ea0d490-133c-4509-a198-0714bd26eaf9",
   "metadata": {
    "tags": []
   },
   "outputs": [
    {
     "data": {
      "text/plain": [
       "nan"
      ]
     },
     "execution_count": 9,
     "metadata": {},
     "output_type": "execute_result"
    }
   ],
   "source": [
    "train_cleaned[\"Species\"].corr(train_cleaned[\"WnvPresent\"], method = \"spearman\")"
   ]
  },
  {
   "cell_type": "markdown",
   "id": "2e3c2b51-356f-4162-91a0-1bcde32a0f30",
   "metadata": {},
   "source": [
    "# Weather"
   ]
  },
  {
   "cell_type": "markdown",
   "id": "83dd8ea3-1306-471c-8417-e8faed597989",
   "metadata": {},
   "source": [
    "Research on NCBI suggests that weather is an extremely important factor influencing the mosquito lifecycle, with infection and dissemination rates positively correlating with temperatures (especially above 25 degrees).\n",
    "\n",
    "The most important weather factors:\n",
    "- Average temperature\n",
    "- Relative humidity\n",
    "- Rainfall/precipitation rates\n",
    "- Temperature fluctuation\n",
    "- Light intensity\n",
    "\n",
    "\n",
    "The Koppen weather classification classifies Chicago as a hot summer humid continental."
   ]
  },
  {
   "cell_type": "markdown",
   "id": "5e2dfcb7-f74f-47a0-979d-d71a6db25fef",
   "metadata": {},
   "source": [
    "Most laboratory mosquito research appears to elucidate the relationship between a static temperature and mosquito vector growth rate/ WNV transmission rates. However, in reality, temperature is not perfectly controlled, and instead follows a stochastic pattern. There is insufficient data displaying the effect of a fluctuating or dynamic temperature system on WNV replication and transmission rates.\n",
    "\n",
    "Instead, data regarding temperature fluctuation can be found about a closely related virus in the flavivirus family, Zika. As a result, a variable measuring the fluctuation of temperature would be engineered. As climate change intensifies, the importance of this variable will heighten."
   ]
  },
  {
   "cell_type": "code",
   "execution_count": 10,
   "id": "b6a49af4-8efc-482b-8c40-9d865aaaac9b",
   "metadata": {},
   "outputs": [],
   "source": [
    "weather_cleaned[\"temp_fluct\"] = weather_cleaned[\"tmax\"] - weather_cleaned[\"tmin\"]"
   ]
  },
  {
   "cell_type": "markdown",
   "id": "06ad0c57-4542-40a0-9641-8de4be7871b3",
   "metadata": {},
   "source": [
    "Research on NCBI shows that light intensity is also a critical factor to look at. The steps below show data preparation before engineering of the \"Light Intensity\" variable, operationalized by sunset - sunrise. Although this variable shows colinearity with average temperature, laboratory mosquito research has successfully isolated the two, and proven that light intensity alone (independent of temperature increase) would increase important biological steps in the WNV transmission process."
   ]
  },
  {
   "cell_type": "code",
   "execution_count": 11,
   "id": "92c99935-98ba-475d-8e6b-9b0e1fe01541",
   "metadata": {},
   "outputs": [
    {
     "data": {
      "text/plain": [
       "station          int64\n",
       "date            object\n",
       "tmax             int64\n",
       "tmin             int64\n",
       "tavg           float64\n",
       "depart         float64\n",
       "dewpoint         int64\n",
       "wetbulb        float64\n",
       "heat           float64\n",
       "cool           float64\n",
       "sunrise         object\n",
       "sunset          object\n",
       "preciptotal    float64\n",
       "stnpressure    float64\n",
       "sealevel       float64\n",
       "resultspeed    float64\n",
       "resultdir        int64\n",
       "avgspeed       float64\n",
       "temp_fluct       int64\n",
       "dtype: object"
      ]
     },
     "execution_count": 11,
     "metadata": {},
     "output_type": "execute_result"
    }
   ],
   "source": [
    "weather_cleaned.dtypes"
   ]
  },
  {
   "cell_type": "code",
   "execution_count": 12,
   "id": "35142cfd-75ab-4457-ad0d-ecccfaac4ad1",
   "metadata": {
    "tags": []
   },
   "outputs": [],
   "source": [
    "weather_cleaned['date'] = pd.to_datetime(weather_cleaned['date'])"
   ]
  },
  {
   "cell_type": "code",
   "execution_count": 13,
   "id": "a0689fab-d638-4a08-bbdd-fc4deb1ff141",
   "metadata": {},
   "outputs": [],
   "source": [
    "weather_cleaned['year'] = weather_cleaned['date'].dt.year"
   ]
  },
  {
   "cell_type": "code",
   "execution_count": 14,
   "id": "8bd4721e-7304-4d62-bb7b-2e03a2abb877",
   "metadata": {
    "tags": []
   },
   "outputs": [],
   "source": [
    "weather_cleaned['mth_day'] = weather_cleaned['date'].dt.strftime(\"%m-%d\")"
   ]
  },
  {
   "cell_type": "code",
   "execution_count": 15,
   "id": "dc3f49ad-c052-4e3d-a821-dd544143bcd6",
   "metadata": {
    "tags": []
   },
   "outputs": [],
   "source": [
    "weather_cleaned['week'] = weather_cleaned['date'].dt.isocalendar().week"
   ]
  },
  {
   "cell_type": "code",
   "execution_count": 17,
   "id": "df02f494-281a-442c-a890-c3e8a15037c7",
   "metadata": {},
   "outputs": [],
   "source": [
    "#new feature - daylight\n",
    "weather_cleaned['daylight'] = (weather_cleaned['sunset'].astype('datetime64') - \n",
    "                       weather_cleaned['sunrise'].astype('datetime64')).dt.seconds/3600"
   ]
  },
  {
   "cell_type": "code",
   "execution_count": 18,
   "id": "30d997e5-1cb8-4ef7-a9db-c77b6b325e61",
   "metadata": {
    "tags": []
   },
   "outputs": [],
   "source": [
    "def cal_rh(temp, dewpoint):\n",
    "    rh = relative_humidity_from_dewpoint(temperature= temp * units.fahrenheit, \n",
    "                                         dewpoint= dewpoint * units.fahrenheit).magnitude\n",
    "    return rh"
   ]
  },
  {
   "cell_type": "code",
   "execution_count": 19,
   "id": "52a081e0-eec1-4941-8dad-6256b1f6ded9",
   "metadata": {
    "tags": []
   },
   "outputs": [],
   "source": [
    "weather_cleaned['relative_hum'] = weather_cleaned.apply(lambda x: cal_rh(x['tavg'], x['dewpoint']), axis =1)"
   ]
  },
  {
   "cell_type": "code",
   "execution_count": 20,
   "id": "4cff86bf-73dc-4c0a-aaec-ad54b3de5214",
   "metadata": {
    "tags": []
   },
   "outputs": [
    {
     "data": {
      "text/html": [
       "<div>\n",
       "<style scoped>\n",
       "    .dataframe tbody tr th:only-of-type {\n",
       "        vertical-align: middle;\n",
       "    }\n",
       "\n",
       "    .dataframe tbody tr th {\n",
       "        vertical-align: top;\n",
       "    }\n",
       "\n",
       "    .dataframe thead th {\n",
       "        text-align: right;\n",
       "    }\n",
       "</style>\n",
       "<table border=\"1\" class=\"dataframe\">\n",
       "  <thead>\n",
       "    <tr style=\"text-align: right;\">\n",
       "      <th></th>\n",
       "      <th>station</th>\n",
       "      <th>date</th>\n",
       "      <th>tmax</th>\n",
       "      <th>tmin</th>\n",
       "      <th>tavg</th>\n",
       "      <th>depart</th>\n",
       "      <th>dewpoint</th>\n",
       "      <th>wetbulb</th>\n",
       "      <th>heat</th>\n",
       "      <th>cool</th>\n",
       "      <th>...</th>\n",
       "      <th>sealevel</th>\n",
       "      <th>resultspeed</th>\n",
       "      <th>resultdir</th>\n",
       "      <th>avgspeed</th>\n",
       "      <th>temp_fluct</th>\n",
       "      <th>year</th>\n",
       "      <th>mth_day</th>\n",
       "      <th>week</th>\n",
       "      <th>daylight</th>\n",
       "      <th>relative_hum</th>\n",
       "    </tr>\n",
       "  </thead>\n",
       "  <tbody>\n",
       "    <tr>\n",
       "      <th>0</th>\n",
       "      <td>1</td>\n",
       "      <td>2007-05-01</td>\n",
       "      <td>83</td>\n",
       "      <td>50</td>\n",
       "      <td>67.0</td>\n",
       "      <td>14.0</td>\n",
       "      <td>51</td>\n",
       "      <td>56.0</td>\n",
       "      <td>0.0</td>\n",
       "      <td>2.0</td>\n",
       "      <td>...</td>\n",
       "      <td>29.82</td>\n",
       "      <td>1.7</td>\n",
       "      <td>27</td>\n",
       "      <td>9.2</td>\n",
       "      <td>33</td>\n",
       "      <td>2007</td>\n",
       "      <td>05-01</td>\n",
       "      <td>18</td>\n",
       "      <td>14.016667</td>\n",
       "      <td>0.564102</td>\n",
       "    </tr>\n",
       "    <tr>\n",
       "      <th>1</th>\n",
       "      <td>2</td>\n",
       "      <td>2007-05-01</td>\n",
       "      <td>84</td>\n",
       "      <td>52</td>\n",
       "      <td>68.0</td>\n",
       "      <td>14.0</td>\n",
       "      <td>51</td>\n",
       "      <td>57.0</td>\n",
       "      <td>0.0</td>\n",
       "      <td>3.0</td>\n",
       "      <td>...</td>\n",
       "      <td>29.82</td>\n",
       "      <td>2.7</td>\n",
       "      <td>25</td>\n",
       "      <td>9.6</td>\n",
       "      <td>32</td>\n",
       "      <td>2007</td>\n",
       "      <td>05-01</td>\n",
       "      <td>18</td>\n",
       "      <td>14.016667</td>\n",
       "      <td>0.544973</td>\n",
       "    </tr>\n",
       "    <tr>\n",
       "      <th>2</th>\n",
       "      <td>1</td>\n",
       "      <td>2007-05-02</td>\n",
       "      <td>59</td>\n",
       "      <td>42</td>\n",
       "      <td>51.0</td>\n",
       "      <td>-3.0</td>\n",
       "      <td>42</td>\n",
       "      <td>47.0</td>\n",
       "      <td>14.0</td>\n",
       "      <td>0.0</td>\n",
       "      <td>...</td>\n",
       "      <td>30.09</td>\n",
       "      <td>13.0</td>\n",
       "      <td>4</td>\n",
       "      <td>13.4</td>\n",
       "      <td>17</td>\n",
       "      <td>2007</td>\n",
       "      <td>05-02</td>\n",
       "      <td>18</td>\n",
       "      <td>14.050000</td>\n",
       "      <td>0.711769</td>\n",
       "    </tr>\n",
       "    <tr>\n",
       "      <th>3</th>\n",
       "      <td>2</td>\n",
       "      <td>2007-05-02</td>\n",
       "      <td>60</td>\n",
       "      <td>43</td>\n",
       "      <td>52.0</td>\n",
       "      <td>-3.0</td>\n",
       "      <td>42</td>\n",
       "      <td>47.0</td>\n",
       "      <td>13.0</td>\n",
       "      <td>0.0</td>\n",
       "      <td>...</td>\n",
       "      <td>30.08</td>\n",
       "      <td>13.3</td>\n",
       "      <td>2</td>\n",
       "      <td>13.4</td>\n",
       "      <td>17</td>\n",
       "      <td>2007</td>\n",
       "      <td>05-02</td>\n",
       "      <td>18</td>\n",
       "      <td>14.050000</td>\n",
       "      <td>0.685947</td>\n",
       "    </tr>\n",
       "    <tr>\n",
       "      <th>4</th>\n",
       "      <td>1</td>\n",
       "      <td>2007-05-03</td>\n",
       "      <td>66</td>\n",
       "      <td>46</td>\n",
       "      <td>56.0</td>\n",
       "      <td>2.0</td>\n",
       "      <td>40</td>\n",
       "      <td>48.0</td>\n",
       "      <td>9.0</td>\n",
       "      <td>0.0</td>\n",
       "      <td>...</td>\n",
       "      <td>30.12</td>\n",
       "      <td>11.7</td>\n",
       "      <td>7</td>\n",
       "      <td>11.9</td>\n",
       "      <td>20</td>\n",
       "      <td>2007</td>\n",
       "      <td>05-03</td>\n",
       "      <td>18</td>\n",
       "      <td>14.083333</td>\n",
       "      <td>0.548489</td>\n",
       "    </tr>\n",
       "  </tbody>\n",
       "</table>\n",
       "<p>5 rows × 24 columns</p>\n",
       "</div>"
      ],
      "text/plain": [
       "   station       date  tmax  tmin  tavg  depart  dewpoint  wetbulb  heat  \\\n",
       "0        1 2007-05-01    83    50  67.0    14.0        51     56.0   0.0   \n",
       "1        2 2007-05-01    84    52  68.0    14.0        51     57.0   0.0   \n",
       "2        1 2007-05-02    59    42  51.0    -3.0        42     47.0  14.0   \n",
       "3        2 2007-05-02    60    43  52.0    -3.0        42     47.0  13.0   \n",
       "4        1 2007-05-03    66    46  56.0     2.0        40     48.0   9.0   \n",
       "\n",
       "   cool  ... sealevel resultspeed  resultdir  avgspeed  temp_fluct  year  \\\n",
       "0   2.0  ...    29.82         1.7         27       9.2          33  2007   \n",
       "1   3.0  ...    29.82         2.7         25       9.6          32  2007   \n",
       "2   0.0  ...    30.09        13.0          4      13.4          17  2007   \n",
       "3   0.0  ...    30.08        13.3          2      13.4          17  2007   \n",
       "4   0.0  ...    30.12        11.7          7      11.9          20  2007   \n",
       "\n",
       "   mth_day  week   daylight  relative_hum  \n",
       "0    05-01    18  14.016667      0.564102  \n",
       "1    05-01    18  14.016667      0.544973  \n",
       "2    05-02    18  14.050000      0.711769  \n",
       "3    05-02    18  14.050000      0.685947  \n",
       "4    05-03    18  14.083333      0.548489  \n",
       "\n",
       "[5 rows x 24 columns]"
      ]
     },
     "execution_count": 20,
     "metadata": {},
     "output_type": "execute_result"
    }
   ],
   "source": [
    "weather_cleaned.head()"
   ]
  },
  {
   "cell_type": "code",
   "execution_count": 26,
   "id": "c6faa16f-764b-48c2-938a-b20bd52439a5",
   "metadata": {
    "tags": []
   },
   "outputs": [
    {
     "ename": "TypeError",
     "evalue": "ufunc 'isfinite' not supported for the input types, and the inputs could not be safely coerced to any supported types according to the casting rule ''safe''",
     "output_type": "error",
     "traceback": [
      "\u001b[0;31m---------------------------------------------------------------------------\u001b[0m",
      "\u001b[0;31mTypeError\u001b[0m                                 Traceback (most recent call last)",
      "\u001b[0;32m<ipython-input-26-04649cefc70d>\u001b[0m in \u001b[0;36m<module>\u001b[0;34m\u001b[0m\n\u001b[1;32m      1\u001b[0m \u001b[0mfig\u001b[0m\u001b[0;34m,\u001b[0m \u001b[0max\u001b[0m \u001b[0;34m=\u001b[0m \u001b[0mplt\u001b[0m\u001b[0;34m.\u001b[0m\u001b[0msubplots\u001b[0m\u001b[0;34m(\u001b[0m\u001b[0mnrows\u001b[0m\u001b[0;34m=\u001b[0m\u001b[0;36m2\u001b[0m\u001b[0;34m,\u001b[0m \u001b[0mncols\u001b[0m\u001b[0;34m=\u001b[0m\u001b[0;36m1\u001b[0m\u001b[0;34m,\u001b[0m \u001b[0mfigsize\u001b[0m\u001b[0;34m=\u001b[0m\u001b[0;34m(\u001b[0m\u001b[0;36m15\u001b[0m\u001b[0;34m,\u001b[0m\u001b[0;36m7\u001b[0m\u001b[0;34m)\u001b[0m\u001b[0;34m,\u001b[0m \u001b[0mconstrained_layout\u001b[0m\u001b[0;34m=\u001b[0m\u001b[0;32mTrue\u001b[0m\u001b[0;34m)\u001b[0m\u001b[0;34m\u001b[0m\u001b[0;34m\u001b[0m\u001b[0m\n\u001b[1;32m      2\u001b[0m \u001b[0;34m\u001b[0m\u001b[0m\n\u001b[0;32m----> 3\u001b[0;31m \u001b[0msns\u001b[0m\u001b[0;34m.\u001b[0m\u001b[0mlineplot\u001b[0m\u001b[0;34m(\u001b[0m\u001b[0mdata\u001b[0m\u001b[0;34m=\u001b[0m\u001b[0mweather_cleaned\u001b[0m\u001b[0;34m,\u001b[0m \u001b[0mx\u001b[0m\u001b[0;34m=\u001b[0m\u001b[0;34m'week'\u001b[0m\u001b[0;34m,\u001b[0m \u001b[0my\u001b[0m\u001b[0;34m=\u001b[0m\u001b[0;34m'tavg'\u001b[0m\u001b[0;34m,\u001b[0m \u001b[0max\u001b[0m\u001b[0;34m=\u001b[0m\u001b[0max\u001b[0m\u001b[0;34m[\u001b[0m\u001b[0;36m0\u001b[0m\u001b[0;34m]\u001b[0m\u001b[0;34m)\u001b[0m\u001b[0;34m\u001b[0m\u001b[0;34m\u001b[0m\u001b[0m\n\u001b[0m\u001b[1;32m      4\u001b[0m \u001b[0msns\u001b[0m\u001b[0;34m.\u001b[0m\u001b[0mlineplot\u001b[0m\u001b[0;34m(\u001b[0m\u001b[0mdata\u001b[0m\u001b[0;34m=\u001b[0m\u001b[0mweather_cleaned\u001b[0m\u001b[0;34m.\u001b[0m\u001b[0mgroupby\u001b[0m\u001b[0;34m(\u001b[0m\u001b[0;34m'mth_day'\u001b[0m\u001b[0;34m)\u001b[0m\u001b[0;34m.\u001b[0m\u001b[0mmean\u001b[0m\u001b[0;34m(\u001b[0m\u001b[0;34m)\u001b[0m\u001b[0;34m,\u001b[0m \u001b[0mx\u001b[0m\u001b[0;34m=\u001b[0m\u001b[0;34m'week'\u001b[0m\u001b[0;34m,\u001b[0m \u001b[0my\u001b[0m\u001b[0;34m=\u001b[0m\u001b[0;34m'tavg'\u001b[0m\u001b[0;34m,\u001b[0m\u001b[0max\u001b[0m\u001b[0;34m=\u001b[0m\u001b[0max\u001b[0m\u001b[0;34m[\u001b[0m\u001b[0;36m0\u001b[0m\u001b[0;34m]\u001b[0m\u001b[0;34m)\u001b[0m\u001b[0;34m;\u001b[0m\u001b[0;34m\u001b[0m\u001b[0;34m\u001b[0m\u001b[0m\n\u001b[1;32m      5\u001b[0m \u001b[0;34m\u001b[0m\u001b[0m\n",
      "\u001b[0;32m~/opt/anaconda3/lib/python3.8/site-packages/seaborn/_decorators.py\u001b[0m in \u001b[0;36minner_f\u001b[0;34m(*args, **kwargs)\u001b[0m\n\u001b[1;32m     44\u001b[0m             )\n\u001b[1;32m     45\u001b[0m         \u001b[0mkwargs\u001b[0m\u001b[0;34m.\u001b[0m\u001b[0mupdate\u001b[0m\u001b[0;34m(\u001b[0m\u001b[0;34m{\u001b[0m\u001b[0mk\u001b[0m\u001b[0;34m:\u001b[0m \u001b[0marg\u001b[0m \u001b[0;32mfor\u001b[0m \u001b[0mk\u001b[0m\u001b[0;34m,\u001b[0m \u001b[0marg\u001b[0m \u001b[0;32min\u001b[0m \u001b[0mzip\u001b[0m\u001b[0;34m(\u001b[0m\u001b[0msig\u001b[0m\u001b[0;34m.\u001b[0m\u001b[0mparameters\u001b[0m\u001b[0;34m,\u001b[0m \u001b[0margs\u001b[0m\u001b[0;34m)\u001b[0m\u001b[0;34m}\u001b[0m\u001b[0;34m)\u001b[0m\u001b[0;34m\u001b[0m\u001b[0;34m\u001b[0m\u001b[0m\n\u001b[0;32m---> 46\u001b[0;31m         \u001b[0;32mreturn\u001b[0m \u001b[0mf\u001b[0m\u001b[0;34m(\u001b[0m\u001b[0;34m**\u001b[0m\u001b[0mkwargs\u001b[0m\u001b[0;34m)\u001b[0m\u001b[0;34m\u001b[0m\u001b[0;34m\u001b[0m\u001b[0m\n\u001b[0m\u001b[1;32m     47\u001b[0m     \u001b[0;32mreturn\u001b[0m \u001b[0minner_f\u001b[0m\u001b[0;34m\u001b[0m\u001b[0;34m\u001b[0m\u001b[0m\n\u001b[1;32m     48\u001b[0m \u001b[0;34m\u001b[0m\u001b[0m\n",
      "\u001b[0;32m~/opt/anaconda3/lib/python3.8/site-packages/seaborn/relational.py\u001b[0m in \u001b[0;36mlineplot\u001b[0;34m(x, y, hue, size, style, data, palette, hue_order, hue_norm, sizes, size_order, size_norm, dashes, markers, style_order, units, estimator, ci, n_boot, seed, sort, err_style, err_kws, legend, ax, **kwargs)\u001b[0m\n\u001b[1;32m    701\u001b[0m     \u001b[0mp\u001b[0m\u001b[0;34m.\u001b[0m\u001b[0m_attach\u001b[0m\u001b[0;34m(\u001b[0m\u001b[0max\u001b[0m\u001b[0;34m)\u001b[0m\u001b[0;34m\u001b[0m\u001b[0;34m\u001b[0m\u001b[0m\n\u001b[1;32m    702\u001b[0m \u001b[0;34m\u001b[0m\u001b[0m\n\u001b[0;32m--> 703\u001b[0;31m     \u001b[0mp\u001b[0m\u001b[0;34m.\u001b[0m\u001b[0mplot\u001b[0m\u001b[0;34m(\u001b[0m\u001b[0max\u001b[0m\u001b[0;34m,\u001b[0m \u001b[0mkwargs\u001b[0m\u001b[0;34m)\u001b[0m\u001b[0;34m\u001b[0m\u001b[0;34m\u001b[0m\u001b[0m\n\u001b[0m\u001b[1;32m    704\u001b[0m     \u001b[0;32mreturn\u001b[0m \u001b[0max\u001b[0m\u001b[0;34m\u001b[0m\u001b[0;34m\u001b[0m\u001b[0m\n\u001b[1;32m    705\u001b[0m \u001b[0;34m\u001b[0m\u001b[0m\n",
      "\u001b[0;32m~/opt/anaconda3/lib/python3.8/site-packages/seaborn/relational.py\u001b[0m in \u001b[0;36mplot\u001b[0;34m(self, ax, kws)\u001b[0m\n\u001b[1;32m    537\u001b[0m                 \u001b[0;32mif\u001b[0m \u001b[0mself\u001b[0m\u001b[0;34m.\u001b[0m\u001b[0merr_style\u001b[0m \u001b[0;34m==\u001b[0m \u001b[0;34m\"band\"\u001b[0m\u001b[0;34m:\u001b[0m\u001b[0;34m\u001b[0m\u001b[0;34m\u001b[0m\u001b[0m\n\u001b[1;32m    538\u001b[0m \u001b[0;34m\u001b[0m\u001b[0m\n\u001b[0;32m--> 539\u001b[0;31m                     \u001b[0max\u001b[0m\u001b[0;34m.\u001b[0m\u001b[0mfill_between\u001b[0m\u001b[0;34m(\u001b[0m\u001b[0mx\u001b[0m\u001b[0;34m,\u001b[0m \u001b[0mlow\u001b[0m\u001b[0;34m,\u001b[0m \u001b[0mhigh\u001b[0m\u001b[0;34m,\u001b[0m \u001b[0mcolor\u001b[0m\u001b[0;34m=\u001b[0m\u001b[0mline_color\u001b[0m\u001b[0;34m,\u001b[0m \u001b[0;34m**\u001b[0m\u001b[0merr_kws\u001b[0m\u001b[0;34m)\u001b[0m\u001b[0;34m\u001b[0m\u001b[0;34m\u001b[0m\u001b[0m\n\u001b[0m\u001b[1;32m    540\u001b[0m \u001b[0;34m\u001b[0m\u001b[0m\n\u001b[1;32m    541\u001b[0m                 \u001b[0;32melif\u001b[0m \u001b[0mself\u001b[0m\u001b[0;34m.\u001b[0m\u001b[0merr_style\u001b[0m \u001b[0;34m==\u001b[0m \u001b[0;34m\"bars\"\u001b[0m\u001b[0;34m:\u001b[0m\u001b[0;34m\u001b[0m\u001b[0;34m\u001b[0m\u001b[0m\n",
      "\u001b[0;32m~/opt/anaconda3/lib/python3.8/site-packages/matplotlib/__init__.py\u001b[0m in \u001b[0;36minner\u001b[0;34m(ax, data, *args, **kwargs)\u001b[0m\n\u001b[1;32m   1445\u001b[0m     \u001b[0;32mdef\u001b[0m \u001b[0minner\u001b[0m\u001b[0;34m(\u001b[0m\u001b[0max\u001b[0m\u001b[0;34m,\u001b[0m \u001b[0;34m*\u001b[0m\u001b[0margs\u001b[0m\u001b[0;34m,\u001b[0m \u001b[0mdata\u001b[0m\u001b[0;34m=\u001b[0m\u001b[0;32mNone\u001b[0m\u001b[0;34m,\u001b[0m \u001b[0;34m**\u001b[0m\u001b[0mkwargs\u001b[0m\u001b[0;34m)\u001b[0m\u001b[0;34m:\u001b[0m\u001b[0;34m\u001b[0m\u001b[0;34m\u001b[0m\u001b[0m\n\u001b[1;32m   1446\u001b[0m         \u001b[0;32mif\u001b[0m \u001b[0mdata\u001b[0m \u001b[0;32mis\u001b[0m \u001b[0;32mNone\u001b[0m\u001b[0;34m:\u001b[0m\u001b[0;34m\u001b[0m\u001b[0;34m\u001b[0m\u001b[0m\n\u001b[0;32m-> 1447\u001b[0;31m             \u001b[0;32mreturn\u001b[0m \u001b[0mfunc\u001b[0m\u001b[0;34m(\u001b[0m\u001b[0max\u001b[0m\u001b[0;34m,\u001b[0m \u001b[0;34m*\u001b[0m\u001b[0mmap\u001b[0m\u001b[0;34m(\u001b[0m\u001b[0msanitize_sequence\u001b[0m\u001b[0;34m,\u001b[0m \u001b[0margs\u001b[0m\u001b[0;34m)\u001b[0m\u001b[0;34m,\u001b[0m \u001b[0;34m**\u001b[0m\u001b[0mkwargs\u001b[0m\u001b[0;34m)\u001b[0m\u001b[0;34m\u001b[0m\u001b[0;34m\u001b[0m\u001b[0m\n\u001b[0m\u001b[1;32m   1448\u001b[0m \u001b[0;34m\u001b[0m\u001b[0m\n\u001b[1;32m   1449\u001b[0m         \u001b[0mbound\u001b[0m \u001b[0;34m=\u001b[0m \u001b[0mnew_sig\u001b[0m\u001b[0;34m.\u001b[0m\u001b[0mbind\u001b[0m\u001b[0;34m(\u001b[0m\u001b[0max\u001b[0m\u001b[0;34m,\u001b[0m \u001b[0;34m*\u001b[0m\u001b[0margs\u001b[0m\u001b[0;34m,\u001b[0m \u001b[0;34m**\u001b[0m\u001b[0mkwargs\u001b[0m\u001b[0;34m)\u001b[0m\u001b[0;34m\u001b[0m\u001b[0;34m\u001b[0m\u001b[0m\n",
      "\u001b[0;32m~/opt/anaconda3/lib/python3.8/site-packages/matplotlib/axes/_axes.py\u001b[0m in \u001b[0;36mfill_between\u001b[0;34m(self, x, y1, y2, where, interpolate, step, **kwargs)\u001b[0m\n\u001b[1;32m   5299\u001b[0m     def fill_between(self, x, y1, y2=0, where=None, interpolate=False,\n\u001b[1;32m   5300\u001b[0m                      step=None, **kwargs):\n\u001b[0;32m-> 5301\u001b[0;31m         return self._fill_between_x_or_y(\n\u001b[0m\u001b[1;32m   5302\u001b[0m             \u001b[0;34m\"x\"\u001b[0m\u001b[0;34m,\u001b[0m \u001b[0mx\u001b[0m\u001b[0;34m,\u001b[0m \u001b[0my1\u001b[0m\u001b[0;34m,\u001b[0m \u001b[0my2\u001b[0m\u001b[0;34m,\u001b[0m\u001b[0;34m\u001b[0m\u001b[0;34m\u001b[0m\u001b[0m\n\u001b[1;32m   5303\u001b[0m             where=where, interpolate=interpolate, step=step, **kwargs)\n",
      "\u001b[0;32m~/opt/anaconda3/lib/python3.8/site-packages/matplotlib/axes/_axes.py\u001b[0m in \u001b[0;36m_fill_between_x_or_y\u001b[0;34m(self, ind_dir, ind, dep1, dep2, where, interpolate, step, **kwargs)\u001b[0m\n\u001b[1;32m   5201\u001b[0m \u001b[0;34m\u001b[0m\u001b[0m\n\u001b[1;32m   5202\u001b[0m         \u001b[0;31m# Convert the arrays so we can work with them\u001b[0m\u001b[0;34m\u001b[0m\u001b[0;34m\u001b[0m\u001b[0;34m\u001b[0m\u001b[0m\n\u001b[0;32m-> 5203\u001b[0;31m         \u001b[0mind\u001b[0m \u001b[0;34m=\u001b[0m \u001b[0mma\u001b[0m\u001b[0;34m.\u001b[0m\u001b[0mmasked_invalid\u001b[0m\u001b[0;34m(\u001b[0m\u001b[0mgetattr\u001b[0m\u001b[0;34m(\u001b[0m\u001b[0mself\u001b[0m\u001b[0;34m,\u001b[0m \u001b[0;34mf\"convert_{ind_dir}units\"\u001b[0m\u001b[0;34m)\u001b[0m\u001b[0;34m(\u001b[0m\u001b[0mind\u001b[0m\u001b[0;34m)\u001b[0m\u001b[0;34m)\u001b[0m\u001b[0;34m\u001b[0m\u001b[0;34m\u001b[0m\u001b[0m\n\u001b[0m\u001b[1;32m   5204\u001b[0m         dep1 = ma.masked_invalid(\n\u001b[1;32m   5205\u001b[0m             getattr(self, f\"convert_{dep_dir}units\")(dep1))\n",
      "\u001b[0;32m~/.local/lib/python3.8/site-packages/numpy/ma/core.py\u001b[0m in \u001b[0;36mmasked_invalid\u001b[0;34m(a, copy)\u001b[0m\n\u001b[1;32m   2364\u001b[0m         \u001b[0mcls\u001b[0m \u001b[0;34m=\u001b[0m \u001b[0mtype\u001b[0m\u001b[0;34m(\u001b[0m\u001b[0ma\u001b[0m\u001b[0;34m)\u001b[0m\u001b[0;34m\u001b[0m\u001b[0;34m\u001b[0m\u001b[0m\n\u001b[1;32m   2365\u001b[0m     \u001b[0;32melse\u001b[0m\u001b[0;34m:\u001b[0m\u001b[0;34m\u001b[0m\u001b[0;34m\u001b[0m\u001b[0m\n\u001b[0;32m-> 2366\u001b[0;31m         \u001b[0mcondition\u001b[0m \u001b[0;34m=\u001b[0m \u001b[0;34m~\u001b[0m\u001b[0;34m(\u001b[0m\u001b[0mnp\u001b[0m\u001b[0;34m.\u001b[0m\u001b[0misfinite\u001b[0m\u001b[0;34m(\u001b[0m\u001b[0ma\u001b[0m\u001b[0;34m)\u001b[0m\u001b[0;34m)\u001b[0m\u001b[0;34m\u001b[0m\u001b[0;34m\u001b[0m\u001b[0m\n\u001b[0m\u001b[1;32m   2367\u001b[0m         \u001b[0mcls\u001b[0m \u001b[0;34m=\u001b[0m \u001b[0mMaskedArray\u001b[0m\u001b[0;34m\u001b[0m\u001b[0;34m\u001b[0m\u001b[0m\n\u001b[1;32m   2368\u001b[0m     \u001b[0mresult\u001b[0m \u001b[0;34m=\u001b[0m \u001b[0ma\u001b[0m\u001b[0;34m.\u001b[0m\u001b[0mview\u001b[0m\u001b[0;34m(\u001b[0m\u001b[0mcls\u001b[0m\u001b[0;34m)\u001b[0m\u001b[0;34m\u001b[0m\u001b[0;34m\u001b[0m\u001b[0m\n",
      "\u001b[0;31mTypeError\u001b[0m: ufunc 'isfinite' not supported for the input types, and the inputs could not be safely coerced to any supported types according to the casting rule ''safe''"
     ]
    },
    {
     "data": {
      "image/png": "[encoded data removed]",
      "text/plain": [
       "<Figure size 1080x504 with 2 Axes>"
      ]
     },
     "metadata": {},
     "output_type": "display_data"
    }
   ],
   "source": [
    "fig, ax = plt.subplots(nrows=2, ncols=1, figsize=(15,7), constrained_layout=True)\n",
    "\n",
    "sns.lineplot(data=weather_cleaned, x='week', y='tavg', ax=ax[0])\n",
    "sns.lineplot(data=weather_cleaned.groupby('mth_day').mean(), x='week', y='tavg',ax=ax[0]);\n",
    "\n",
    "sns.lineplot(data=weather_cleaned, x='week', y='relative_hum', ax=ax[1]);\n",
    "sns.lineplot(data=weather_cleaned.groupby('mth_day').mean(), x='week', y='relative_hum', ax=ax[1]);\n",
    "\n",
    "ax[0].set_title(\"Average temp from May to Oct\")\n",
    "ax[1].set_title(\"Average relative humidity from May to Oct\")"
   ]
  },
  {
   "cell_type": "code",
   "execution_count": null,
   "id": "6f13bed8-2658-4902-b794-a116bb4e1958",
   "metadata": {
    "tags": []
   },
   "outputs": [],
   "source": [
    "#create function for plotting\n",
    "def plot_func(dataframe, attr, **kwarg):\n",
    "    ''' Plot histogram, scatter plot, box plot, and qq plot in a figure.\n",
    "    \n",
    "    Note: \n",
    "    - For scatter plot, the attribute is plotted agaist saleprice.\n",
    "    - Box plot is overlaid with strip plot to provide a sense of distribution of the data. \n",
    "    - There for categorical features, there will be no qq plot\n",
    "    \n",
    "    Parameters:\n",
    "    data (dataframe): pandas dataframe \n",
    "    attr (list): list of dataframe column names to be plotted\n",
    "    kwarg (string): accept attr: saleprice\n",
    "\n",
    "    Returns:\n",
    "    Nil'''\n",
    "    row = len(attr)\n",
    "    col = 3\n",
    "    figsize = (20, row*4)\n",
    "    fig, ax = plt.subplots(nrows=row, ncols=col, figsize=figsize, constrain_cleaneded_layout=True) \n",
    "    for x in range(row):\n",
    "            #histogram plot\n",
    "            sns.histplot(x=attr[x], data=dataframe, ax=ax[x,0], color='tab:red', )\n",
    "            ax[x, 0].set_title(f'histogram: {attr[x]}')\n",
    "            ax[x, 0].tick_params(labelrotation=90, axis='x')\n",
    "            #scatter plot\n",
    "            sns.scatterplot(x='week', y=attr[x], data=dataframe, ax=ax[x,1])\n",
    "            ax[x, 1].set_title(f'scatter plot: {attr[x]}')\n",
    "            ax[x, 1].tick_params(labelrotation=90, axis='x')\n",
    "            #box plot\n",
    "            sns.boxplot(x=attr[x], data=dataframe, ax=ax[x,2])\n",
    "            sns.stripplot(x=attr[x], data=dataframe, ax=ax[x,2], alpha= 0.2)\n",
    "            ax[x, 2].set_title(f'boxplot: {attr[x]}')\n",
    "            ax[x, 2].tick_params(labelrotation=90, axis='x')\n",
    "            \n",
    "    plt.show()"
   ]
  },
  {
   "cell_type": "code",
   "execution_count": 22,
   "id": "3c82734c-d3dd-44d9-b282-31fdeec8551f",
   "metadata": {
    "tags": []
   },
   "outputs": [],
   "source": [
    "num_features = weather_cleaned.select_dtypes(include='number').columns.to_list()\n",
    "cat_features = weather_cleaned.select_dtypes(exclude='number').columns.to_list()"
   ]
  },
  {
   "cell_type": "code",
   "execution_count": 23,
   "id": "2b177a0d-91e9-4feb-872f-f4fc5266a87b",
   "metadata": {
    "tags": []
   },
   "outputs": [
    {
     "ename": "NameError",
     "evalue": "name 'plot_func' is not defined",
     "output_type": "error",
     "traceback": [
      "\u001b[0;31m---------------------------------------------------------------------------\u001b[0m",
      "\u001b[0;31mNameError\u001b[0m                                 Traceback (most recent call last)",
      "\u001b[0;32m<ipython-input-23-0b3743f21a8f>\u001b[0m in \u001b[0;36m<module>\u001b[0;34m\u001b[0m\n\u001b[0;32m----> 1\u001b[0;31m \u001b[0mplot_func\u001b[0m\u001b[0;34m(\u001b[0m\u001b[0mweather_cleaned\u001b[0m\u001b[0;34m,\u001b[0m \u001b[0mnum_features\u001b[0m\u001b[0;34m)\u001b[0m\u001b[0;34m\u001b[0m\u001b[0;34m\u001b[0m\u001b[0m\n\u001b[0m",
      "\u001b[0;31mNameError\u001b[0m: name 'plot_func' is not defined"
     ]
    }
   ],
   "source": [
    "plot_func(weather_cleaned, num_features)"
   ]
  },
  {
   "cell_type": "code",
   "execution_count": null,
   "id": "194ce19a-651d-4309-9130-8b55fea1f09c",
   "metadata": {},
   "outputs": [],
   "source": []
  }
 ],
 "metadata": {
  "kernelspec": {
   "display_name": "Python 3",
   "language": "python",
   "name": "python3"
  },
  "language_info": {
   "codemirror_mode": {
    "name": "ipython",
    "version": 3
   },
   "file_extension": ".py",
   "mimetype": "text/x-python",
   "name": "python",
   "nbconvert_exporter": "python",
   "pygments_lexer": "ipython3",
   "version": "3.8.8"
  }
 },
 "nbformat": 4,
 "nbformat_minor": 5
}
