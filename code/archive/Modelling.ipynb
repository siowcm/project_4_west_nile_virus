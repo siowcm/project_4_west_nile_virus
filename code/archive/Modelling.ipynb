{
 "cells": [
  {
   "cell_type": "markdown",
   "metadata": {},
   "source": [
    "# Project 4: West Nile Virus - Modelling\n",
    "\n",
    "---\n",
    "# Table of Contents\n",
    "\n",
    "- Import Libraries and Data\n",
    "- Preprocessing\n",
    "- Modelling\n",
    "- Evaluating and Interpreting Results\n",
    "- Generating Predictions for Kaggle\n",
    "- Conclusion\n",
    "---\n",
    "7 different models are tested & evaluated and the metric used for scoring is ROC-AUC."
   ]
  },
  {
   "cell_type": "markdown",
   "metadata": {},
   "source": [
    "# Import Libraries and Data"
   ]
  },
  {
   "cell_type": "code",
   "execution_count": 1,
   "metadata": {},
   "outputs": [],
   "source": [
    "# import libraries\n",
    "import pandas as pd\n",
    "import numpy as np\n",
    "import matplotlib.pyplot as plt\n",
    "\n",
    "from sklearn.model_selection import train_test_split, GridSearchCV\n",
    "from sklearn.preprocessing import StandardScaler, OneHotEncoder, OrdinalEncoder\n",
    "from sklearn.compose import make_column_transformer, make_column_selector\n",
    "\n",
    "from sklearn.dummy import DummyClassifier\n",
    "from sklearn.ensemble import RandomForestClassifier, GradientBoostingClassifier, ExtraTreesClassifier\n",
    "from sklearn.neighbors import KNeighborsClassifier\n",
    "from sklearn.linear_model import LogisticRegression\n",
    "from sklearn.svm import SVC\n",
    "from xgboost import XGBClassifier\n",
    "\n",
    "from sklearn.metrics import confusion_matrix, roc_auc_score, RocCurveDisplay"
   ]
  },
  {
   "cell_type": "code",
   "execution_count": 2,
   "metadata": {},
   "outputs": [
    {
     "name": "stdout",
     "output_type": "stream",
     "text": [
      "Features in training set : ['species', 'latitude', 'longitude', 'wnvpresent', 'tmax', 'tmin', 'tavg', 'depart', 'dewpoint', 'wetbulb', 'heat', 'cool', 'preciptotal', 'temp_fluct', 'daylight', 'relative_hum', 'tavg_weekly', 'relative_hum_weekly', 'preciptotal_weekly', 'tavg_weekly_lag1', 'tavg_weekly_lag2', 'relative_hum_weekly_lag1', 'relative_hum_weekly_lag2', 'preciptotal_weekly_lag1', 'preciptotal_weekly_lag2']\n"
     ]
    }
   ],
   "source": [
    "# import training dataset\n",
    "train = pd.read_csv('../output_data/merged_train.csv')\n",
    "\n",
    "# data cleaning\n",
    "train.set_index('date', inplace=True)\n",
    "\n",
    "# check the df columns\n",
    "print(f'Features in training set : {train.columns.tolist()}')"
   ]
  },
  {
   "cell_type": "code",
   "execution_count": 3,
   "metadata": {},
   "outputs": [],
   "source": [
    "# define feature matrix and target vector\n",
    "X = train.drop(columns='wnvpresent')\n",
    "y = train['wnvpresent']"
   ]
  },
  {
   "cell_type": "markdown",
   "metadata": {},
   "source": [
    "# Preprocessing \n",
    "## Train-validation  split"
   ]
  },
  {
   "cell_type": "markdown",
   "metadata": {},
   "source": [
    "The data is split into train & validation sets. Stratify = y was used because they generate better prediction results."
   ]
  },
  {
   "cell_type": "code",
   "execution_count": 4,
   "metadata": {},
   "outputs": [],
   "source": [
    "# split dataset into train and validation set\n",
    "X_train, X_val, y_train, y_val = train_test_split(X,\n",
    "                                                  y,\n",
    "                                                  random_state=42,\n",
    "                                                  stratify=y)"
   ]
  },
  {
   "cell_type": "code",
   "execution_count": 5,
   "metadata": {},
   "outputs": [
    {
     "name": "stdout",
     "output_type": "stream",
     "text": [
      "===== Train Set Shape =====\n",
      "Features X_train: (7879, 24)\n",
      "Targets y_train:  (7879,)\n",
      "\n",
      "== Validation Set Shape ==\n",
      "Features X_val:   (2627, 24)\n",
      "Targets y_val:    (2627,)\n"
     ]
    }
   ],
   "source": [
    "# check the shape of training and testing vectors\n",
    "print(\" Train Set Shape \".center(27, '='))\n",
    "print(f'Features X_train: {X_train.shape}')\n",
    "print(f'Targets y_train:  {y_train.shape}')\n",
    "print()\n",
    "print(\" Validation Set Shape \".center(26, '='))\n",
    "print(f'Features X_val:   {X_val.shape}')\n",
    "print(f'Targets y_val:    {y_val.shape}')"
   ]
  },
  {
   "cell_type": "markdown",
   "metadata": {},
   "source": [
    "## Features transformation "
   ]
  },
  {
   "cell_type": "markdown",
   "metadata": {},
   "source": [
    "One Hot Encoder was used for categorical features such as Mosquito Species, as explained on the EDA/ Feature Engineering notebook. Numerical features are transformed using StandardScaler to ensure that they have the same range, which is important for certain classifiers like Logistic Regression."
   ]
  },
  {
   "cell_type": "code",
   "execution_count": 6,
   "metadata": {},
   "outputs": [
    {
     "data": {
      "text/html": [
       "<div>\n",
       "<style scoped>\n",
       "    .dataframe tbody tr th:only-of-type {\n",
       "        vertical-align: middle;\n",
       "    }\n",
       "\n",
       "    .dataframe tbody tr th {\n",
       "        vertical-align: top;\n",
       "    }\n",
       "\n",
       "    .dataframe thead th {\n",
       "        text-align: right;\n",
       "    }\n",
       "</style>\n",
       "<table border=\"1\" class=\"dataframe\">\n",
       "  <thead>\n",
       "    <tr style=\"text-align: right;\">\n",
       "      <th></th>\n",
       "      <th>latitude</th>\n",
       "      <th>longitude</th>\n",
       "      <th>tmax</th>\n",
       "      <th>tmin</th>\n",
       "      <th>tavg</th>\n",
       "      <th>depart</th>\n",
       "      <th>dewpoint</th>\n",
       "      <th>wetbulb</th>\n",
       "      <th>heat</th>\n",
       "      <th>cool</th>\n",
       "      <th>...</th>\n",
       "      <th>relative_hum_weekly_lag2</th>\n",
       "      <th>preciptotal_weekly_lag1</th>\n",
       "      <th>preciptotal_weekly_lag2</th>\n",
       "      <th>species_ERRATICUS</th>\n",
       "      <th>species_PIPIENS</th>\n",
       "      <th>species_PIPIENS/RESTUANS</th>\n",
       "      <th>species_RESTUANS</th>\n",
       "      <th>species_SALINARIUS</th>\n",
       "      <th>species_TARSALIS</th>\n",
       "      <th>species_TERRITANS</th>\n",
       "    </tr>\n",
       "  </thead>\n",
       "  <tbody>\n",
       "    <tr>\n",
       "      <td>0</td>\n",
       "      <td>0.627512</td>\n",
       "      <td>-0.279292</td>\n",
       "      <td>0.074525</td>\n",
       "      <td>-0.149319</td>\n",
       "      <td>-0.065976</td>\n",
       "      <td>0.660970</td>\n",
       "      <td>-0.148577</td>\n",
       "      <td>-0.118680</td>\n",
       "      <td>-0.330573</td>\n",
       "      <td>-0.241910</td>\n",
       "      <td>...</td>\n",
       "      <td>0.890670</td>\n",
       "      <td>-0.718824</td>\n",
       "      <td>-0.185112</td>\n",
       "      <td>0.0</td>\n",
       "      <td>1.0</td>\n",
       "      <td>0.0</td>\n",
       "      <td>0.0</td>\n",
       "      <td>0.0</td>\n",
       "      <td>0.0</td>\n",
       "      <td>0.0</td>\n",
       "    </tr>\n",
       "    <tr>\n",
       "      <td>1</td>\n",
       "      <td>-0.351569</td>\n",
       "      <td>-0.658353</td>\n",
       "      <td>-1.856803</td>\n",
       "      <td>-2.343141</td>\n",
       "      <td>-2.202696</td>\n",
       "      <td>-1.646831</td>\n",
       "      <td>-2.182258</td>\n",
       "      <td>-2.268127</td>\n",
       "      <td>2.814834</td>\n",
       "      <td>-1.549664</td>\n",
       "      <td>...</td>\n",
       "      <td>0.890670</td>\n",
       "      <td>-0.718824</td>\n",
       "      <td>-0.185112</td>\n",
       "      <td>0.0</td>\n",
       "      <td>0.0</td>\n",
       "      <td>1.0</td>\n",
       "      <td>0.0</td>\n",
       "      <td>0.0</td>\n",
       "      <td>0.0</td>\n",
       "      <td>0.0</td>\n",
       "    </tr>\n",
       "    <tr>\n",
       "      <td>2</td>\n",
       "      <td>1.185404</td>\n",
       "      <td>-1.972897</td>\n",
       "      <td>-2.822467</td>\n",
       "      <td>-2.210182</td>\n",
       "      <td>-2.670104</td>\n",
       "      <td>-2.262245</td>\n",
       "      <td>-2.627126</td>\n",
       "      <td>-2.638722</td>\n",
       "      <td>4.110001</td>\n",
       "      <td>-1.549664</td>\n",
       "      <td>...</td>\n",
       "      <td>0.890670</td>\n",
       "      <td>-0.718824</td>\n",
       "      <td>-0.185112</td>\n",
       "      <td>0.0</td>\n",
       "      <td>1.0</td>\n",
       "      <td>0.0</td>\n",
       "      <td>0.0</td>\n",
       "      <td>0.0</td>\n",
       "      <td>0.0</td>\n",
       "      <td>0.0</td>\n",
       "    </tr>\n",
       "    <tr>\n",
       "      <td>3</td>\n",
       "      <td>1.035515</td>\n",
       "      <td>-2.390206</td>\n",
       "      <td>-0.408307</td>\n",
       "      <td>-0.016360</td>\n",
       "      <td>-0.266293</td>\n",
       "      <td>-0.877564</td>\n",
       "      <td>-1.610285</td>\n",
       "      <td>-1.008107</td>\n",
       "      <td>-0.330573</td>\n",
       "      <td>-0.503461</td>\n",
       "      <td>...</td>\n",
       "      <td>-1.930212</td>\n",
       "      <td>-0.103824</td>\n",
       "      <td>-1.033891</td>\n",
       "      <td>0.0</td>\n",
       "      <td>1.0</td>\n",
       "      <td>0.0</td>\n",
       "      <td>0.0</td>\n",
       "      <td>0.0</td>\n",
       "      <td>0.0</td>\n",
       "      <td>0.0</td>\n",
       "    </tr>\n",
       "    <tr>\n",
       "      <td>4</td>\n",
       "      <td>1.185404</td>\n",
       "      <td>-1.972897</td>\n",
       "      <td>-1.675741</td>\n",
       "      <td>-1.412429</td>\n",
       "      <td>-1.668516</td>\n",
       "      <td>-1.339124</td>\n",
       "      <td>-1.928048</td>\n",
       "      <td>-1.897533</td>\n",
       "      <td>1.334643</td>\n",
       "      <td>-1.549664</td>\n",
       "      <td>...</td>\n",
       "      <td>0.222000</td>\n",
       "      <td>-0.799921</td>\n",
       "      <td>0.096492</td>\n",
       "      <td>0.0</td>\n",
       "      <td>0.0</td>\n",
       "      <td>0.0</td>\n",
       "      <td>1.0</td>\n",
       "      <td>0.0</td>\n",
       "      <td>0.0</td>\n",
       "      <td>0.0</td>\n",
       "    </tr>\n",
       "  </tbody>\n",
       "</table>\n",
       "<p>5 rows × 30 columns</p>\n",
       "</div>"
      ],
      "text/plain": [
       "   latitude  longitude      tmax      tmin      tavg    depart  dewpoint  \\\n",
       "0  0.627512  -0.279292  0.074525 -0.149319 -0.065976  0.660970 -0.148577   \n",
       "1 -0.351569  -0.658353 -1.856803 -2.343141 -2.202696 -1.646831 -2.182258   \n",
       "2  1.185404  -1.972897 -2.822467 -2.210182 -2.670104 -2.262245 -2.627126   \n",
       "3  1.035515  -2.390206 -0.408307 -0.016360 -0.266293 -0.877564 -1.610285   \n",
       "4  1.185404  -1.972897 -1.675741 -1.412429 -1.668516 -1.339124 -1.928048   \n",
       "\n",
       "    wetbulb      heat      cool  ...  relative_hum_weekly_lag2  \\\n",
       "0 -0.118680 -0.330573 -0.241910  ...                  0.890670   \n",
       "1 -2.268127  2.814834 -1.549664  ...                  0.890670   \n",
       "2 -2.638722  4.110001 -1.549664  ...                  0.890670   \n",
       "3 -1.008107 -0.330573 -0.503461  ...                 -1.930212   \n",
       "4 -1.897533  1.334643 -1.549664  ...                  0.222000   \n",
       "\n",
       "   preciptotal_weekly_lag1  preciptotal_weekly_lag2  species_ERRATICUS  \\\n",
       "0                -0.718824                -0.185112                0.0   \n",
       "1                -0.718824                -0.185112                0.0   \n",
       "2                -0.718824                -0.185112                0.0   \n",
       "3                -0.103824                -1.033891                0.0   \n",
       "4                -0.799921                 0.096492                0.0   \n",
       "\n",
       "   species_PIPIENS  species_PIPIENS/RESTUANS  species_RESTUANS  \\\n",
       "0              1.0                       0.0               0.0   \n",
       "1              0.0                       1.0               0.0   \n",
       "2              1.0                       0.0               0.0   \n",
       "3              1.0                       0.0               0.0   \n",
       "4              0.0                       0.0               1.0   \n",
       "\n",
       "   species_SALINARIUS  species_TARSALIS  species_TERRITANS  \n",
       "0                 0.0               0.0                0.0  \n",
       "1                 0.0               0.0                0.0  \n",
       "2                 0.0               0.0                0.0  \n",
       "3                 0.0               0.0                0.0  \n",
       "4                 0.0               0.0                0.0  \n",
       "\n",
       "[5 rows x 30 columns]"
      ]
     },
     "execution_count": 6,
     "metadata": {},
     "output_type": "execute_result"
    }
   ],
   "source": [
    "# instantiate transformers \n",
    "ohe = OneHotEncoder(sparse=False, handle_unknown='ignore')\n",
    "sc = StandardScaler()\n",
    "\n",
    "\n",
    "# instantiate transformers into column transformer \n",
    "ct = make_column_transformer(\n",
    "    (sc, make_column_selector(dtype_include='number')),\n",
    "    (ohe, make_column_selector(dtype_exclude='number')),\n",
    "    remainder='passthrough', \n",
    "    verbose_feature_names_out=False\n",
    ")\n",
    "\n",
    "# transform feature matrix\n",
    "X_train = pd.DataFrame(ct.fit_transform(X_train), \n",
    "                       columns=ct.get_feature_names_out())\n",
    "\n",
    "X_val = pd.DataFrame(ct.transform(X_val), \n",
    "                       columns=ct.get_feature_names_out())\n",
    "\n",
    "# check X matrix after transformation\n",
    "X_train.head()"
   ]
  },
  {
   "cell_type": "code",
   "execution_count": 7,
   "metadata": {},
   "outputs": [
    {
     "name": "stdout",
     "output_type": "stream",
     "text": [
      "Features in X matrix: ['latitude', 'longitude', 'tmax', 'tmin', 'tavg', 'depart', 'dewpoint', 'wetbulb', 'heat', 'cool', 'preciptotal', 'temp_fluct', 'daylight', 'relative_hum', 'tavg_weekly', 'relative_hum_weekly', 'preciptotal_weekly', 'tavg_weekly_lag1', 'tavg_weekly_lag2', 'relative_hum_weekly_lag1', 'relative_hum_weekly_lag2', 'preciptotal_weekly_lag1', 'preciptotal_weekly_lag2', 'species_ERRATICUS', 'species_PIPIENS', 'species_PIPIENS/RESTUANS', 'species_RESTUANS', 'species_SALINARIUS', 'species_TARSALIS', 'species_TERRITANS']\n"
     ]
    }
   ],
   "source": [
    "# check the df cloumns\n",
    "print(f'Features in X matrix: {X_train.columns.tolist()}')"
   ]
  },
  {
   "cell_type": "code",
   "execution_count": 8,
   "metadata": {},
   "outputs": [
    {
     "name": "stdout",
     "output_type": "stream",
     "text": [
      "===== Train Set Shape =====\n",
      "Features X_train: (7879, 30)\n",
      "Targets y_train:  (7879,)\n",
      "\n",
      "== Validation Set Shape ==\n",
      "Features X_val:   (2627, 30)\n",
      "Targets y_val:    (2627,)\n"
     ]
    }
   ],
   "source": [
    "# check the shape of training and testing vectors\n",
    "print(\" Train Set Shape \".center(27, '='))\n",
    "print(f'Features X_train: {X_train.shape}')\n",
    "print(f'Targets y_train:  {y_train.shape}')\n",
    "print()\n",
    "print(\" Validation Set Shape \".center(26, '='))\n",
    "print(f'Features X_val:   {X_val.shape}')\n",
    "print(f'Targets y_val:    {y_val.shape}')"
   ]
  },
  {
   "cell_type": "markdown",
   "metadata": {},
   "source": [
    "We confirm that the train & validation set shapes are similar and proceed to the modelling section."
   ]
  },
  {
   "cell_type": "markdown",
   "metadata": {},
   "source": [
    "# Modelling\n"
   ]
  },
  {
   "cell_type": "markdown",
   "metadata": {},
   "source": [
    "In this section, we define a modelling and scoring function, as well as run the following models:\n",
    "\n",
    "- Dummy Classifier\n",
    "- Random Forest Classifier\n",
    "- Support Vector Classifier\n",
    "- Logistic Regression\n",
    "- K Nearest Neighbors\n",
    "- Gradient Boosting Classifier\n",
    "- XGBoost Classifier\n",
    "- Extra Trees Classifier"
   ]
  },
  {
   "cell_type": "markdown",
   "metadata": {},
   "source": [
    "## Functions used"
   ]
  },
  {
   "cell_type": "markdown",
   "metadata": {},
   "source": [
    "Two functions are defined here. Fit_gs fits a GridSearchCV to a classifier, prints best parameters and returns model. Eval_model returns a dataframe of scoring & evaluation metrics."
   ]
  },
  {
   "cell_type": "code",
   "execution_count": 9,
   "metadata": {},
   "outputs": [],
   "source": [
    "def fit_gs(clf, params):\n",
    "    \"\"\"fits a GridSearchCV to a classifier, prints best params and returns model\"\"\"\n",
    "    \n",
    "    gs = GridSearchCV(clf, params, cv=5, n_jobs=-1, scoring= \"roc_auc\")\n",
    "    gs.fit(X_train, y_train)\n",
    "    \n",
    "    print(f\"Best Parameters: {gs.best_params_}\")\n",
    "    \n",
    "    return gs"
   ]
  },
  {
   "cell_type": "code",
   "execution_count": 10,
   "metadata": {},
   "outputs": [],
   "source": [
    "def eval_model(model):\n",
    "    \"\"\"returns dataframe of evaluation metrics for classifier\"\"\"\n",
    "    \n",
    "    # get predictions\n",
    "    y_pred = model.predict(X_val)\n",
    "    y_proba = model.predict_proba(X_val)[:,1]\n",
    "        \n",
    "    # metrics for evaluating classifier\n",
    "    tn, fp, fn, tp = confusion_matrix(y_val, y_pred).ravel()\n",
    "    \n",
    "    accuracy = (tn + tp) / (tn + fp + fn + tp)\n",
    "    \n",
    "    if (tn + fp) != 0:\n",
    "        spec = tn / (tn + fp)\n",
    "    else:\n",
    "        spec = 'NA'\n",
    "        \n",
    "    if (tp + fn) != 0:\n",
    "        recall = tp / (tp + fn)\n",
    "    else:\n",
    "        recall = np.nan\n",
    "\n",
    "    if (tp + fp) != 0:\n",
    "        precision = tp / (tp + fp)\n",
    "    else:\n",
    "        precision = np.nan\n",
    "        \n",
    "    if recall == np.nan or precision == np.nan:\n",
    "        f1 = np.nan\n",
    "    else:\n",
    "        f1 = 2*((precision*recall)/(precision+recall))\n",
    "\n",
    "    roc = roc_auc_score(y_val, y_proba)\n",
    "    \n",
    "    try:\n",
    "        model_name = str(model.estimator)[:-2]\n",
    "        if len(model_name) > 30:\n",
    "            model_name = model_name[:13]\n",
    "    except:\n",
    "        model_name = 'Dummy'\n",
    "        \n",
    "    df = pd.DataFrame([np.round([accuracy, spec, recall, precision, f1, fp, fn, roc], 3)], \n",
    "                      columns = [\"Accuracy\", \n",
    "                                 \"Specificity\", \n",
    "                                 \"Recall\", \n",
    "                                 \"Precision\", \n",
    "                                 \"F1\", \n",
    "                                 \"False Positives\", \n",
    "                                 \"False Negatives\", \n",
    "                                 \"ROC-AUC\"], \n",
    "                      index = [model_name],\n",
    "                      dtype='str')\n",
    "    return df"
   ]
  },
  {
   "cell_type": "markdown",
   "metadata": {},
   "source": [
    "## (0) Dummy Model"
   ]
  },
  {
   "cell_type": "markdown",
   "metadata": {},
   "source": [
    "The dummy model is used as the baseline model, which is the simplest possible prediction of a model. Because this is an imbalanced classification problem with majority of the data being 0, the dummy classifier produces a high specificity (1.0) with a 0 recall (0.0) and a ROC-AUC of 0.5, which will be used as the baseline for comparison with relatively more complex models."
   ]
  },
  {
   "cell_type": "code",
   "execution_count": 11,
   "metadata": {},
   "outputs": [
    {
     "data": {
      "text/html": [
       "<div>\n",
       "<style scoped>\n",
       "    .dataframe tbody tr th:only-of-type {\n",
       "        vertical-align: middle;\n",
       "    }\n",
       "\n",
       "    .dataframe tbody tr th {\n",
       "        vertical-align: top;\n",
       "    }\n",
       "\n",
       "    .dataframe thead th {\n",
       "        text-align: right;\n",
       "    }\n",
       "</style>\n",
       "<table border=\"1\" class=\"dataframe\">\n",
       "  <thead>\n",
       "    <tr style=\"text-align: right;\">\n",
       "      <th></th>\n",
       "      <th>Accuracy</th>\n",
       "      <th>Specificity</th>\n",
       "      <th>Recall</th>\n",
       "      <th>Precision</th>\n",
       "      <th>F1</th>\n",
       "      <th>False Positives</th>\n",
       "      <th>False Negatives</th>\n",
       "      <th>ROC-AUC</th>\n",
       "    </tr>\n",
       "  </thead>\n",
       "  <tbody>\n",
       "    <tr>\n",
       "      <td>Dummy</td>\n",
       "      <td>0.947</td>\n",
       "      <td>1.0</td>\n",
       "      <td>0.0</td>\n",
       "      <td>NaN</td>\n",
       "      <td>NaN</td>\n",
       "      <td>0.0</td>\n",
       "      <td>138.0</td>\n",
       "      <td>0.5</td>\n",
       "    </tr>\n",
       "  </tbody>\n",
       "</table>\n",
       "</div>"
      ],
      "text/plain": [
       "      Accuracy Specificity Recall Precision   F1 False Positives  \\\n",
       "Dummy    0.947         1.0    0.0       NaN  NaN             0.0   \n",
       "\n",
       "      False Negatives ROC-AUC  \n",
       "Dummy           138.0     0.5  "
      ]
     },
     "execution_count": 11,
     "metadata": {},
     "output_type": "execute_result"
    }
   ],
   "source": [
    "# fit dummy model\n",
    "dummy = DummyClassifier(strategy=\"most_frequent\", random_state=42)\n",
    "dummy.fit(X_train, y_train)\n",
    "\n",
    "dummy_result = eval_model(dummy)\n",
    "dummy_result"
   ]
  },
  {
   "cell_type": "markdown",
   "metadata": {},
   "source": [
    "## (1) Random Forest Classifier"
   ]
  },
  {
   "cell_type": "markdown",
   "metadata": {},
   "source": [
    "Random Forest has its advantages in this classification problem because it is non-parameteric and makes no underlying assumptions of the data distribution. However, it has a tendency to overfit onto training & validation data and underperform on the test set (the Kaggle dataset).\n",
    "\n",
    "The best parameters of class weight 0:1 and 1:10 are unsurprising because of the imbalance in class. Max_depth and n_estimators are the most important parameters of this classifier."
   ]
  },
  {
   "cell_type": "code",
   "execution_count": 12,
   "metadata": {},
   "outputs": [
    {
     "name": "stdout",
     "output_type": "stream",
     "text": [
      "Best Parameters: {'class_weight': {0: 1, 1: 5}, 'max_depth': 5, 'n_estimators': 250, 'random_state': 42}\n"
     ]
    }
   ],
   "source": [
    "rfc_params = {\"n_estimators\": [10, 50, 100, 250], \n",
    "              \"max_depth\": [5, 10, 20],\n",
    "              \"class_weight\": [None, {0:1,1:5}, {0:1,1:10}, {0:1,1:25}],\n",
    "              \"random_state\": [42]\n",
    "             }\n",
    "rfc = fit_gs(RandomForestClassifier(), rfc_params)"
   ]
  },
  {
   "cell_type": "code",
   "execution_count": 13,
   "metadata": {},
   "outputs": [
    {
     "data": {
      "text/html": [
       "<div>\n",
       "<style scoped>\n",
       "    .dataframe tbody tr th:only-of-type {\n",
       "        vertical-align: middle;\n",
       "    }\n",
       "\n",
       "    .dataframe tbody tr th {\n",
       "        vertical-align: top;\n",
       "    }\n",
       "\n",
       "    .dataframe thead th {\n",
       "        text-align: right;\n",
       "    }\n",
       "</style>\n",
       "<table border=\"1\" class=\"dataframe\">\n",
       "  <thead>\n",
       "    <tr style=\"text-align: right;\">\n",
       "      <th></th>\n",
       "      <th>Accuracy</th>\n",
       "      <th>Specificity</th>\n",
       "      <th>Recall</th>\n",
       "      <th>Precision</th>\n",
       "      <th>F1</th>\n",
       "      <th>False Positives</th>\n",
       "      <th>False Negatives</th>\n",
       "      <th>ROC-AUC</th>\n",
       "    </tr>\n",
       "  </thead>\n",
       "  <tbody>\n",
       "    <tr>\n",
       "      <td>RandomForestClassifier</td>\n",
       "      <td>0.935</td>\n",
       "      <td>0.979</td>\n",
       "      <td>0.138</td>\n",
       "      <td>0.268</td>\n",
       "      <td>0.182</td>\n",
       "      <td>52.0</td>\n",
       "      <td>119.0</td>\n",
       "      <td>0.807</td>\n",
       "    </tr>\n",
       "  </tbody>\n",
       "</table>\n",
       "</div>"
      ],
      "text/plain": [
       "                       Accuracy Specificity Recall Precision     F1  \\\n",
       "RandomForestClassifier    0.935       0.979  0.138     0.268  0.182   \n",
       "\n",
       "                       False Positives False Negatives ROC-AUC  \n",
       "RandomForestClassifier            52.0           119.0   0.807  "
      ]
     },
     "execution_count": 13,
     "metadata": {},
     "output_type": "execute_result"
    }
   ],
   "source": [
    "rfc_result = eval_model(rfc)\n",
    "rfc_result"
   ]
  },
  {
   "cell_type": "markdown",
   "metadata": {},
   "source": [
    "## (2) Support Vector Classifier"
   ]
  },
  {
   "cell_type": "markdown",
   "metadata": {},
   "source": [
    "SVC has one of the lowest performing model accuracy but its ROC-AUC score is decent and comparable to other models. It talso has the lowest false negative rate, which is beneficial because false negatives are more dangerous than false positives in this problem set. It is worse to leave a WNV-positive mosquito undetected than to falsely predict a WNV-negative mosquito as WNV-positive."
   ]
  },
  {
   "cell_type": "code",
   "execution_count": 14,
   "metadata": {},
   "outputs": [
    {
     "name": "stdout",
     "output_type": "stream",
     "text": [
      "Best Parameters: {'C': 1, 'class_weight': {0: 1, 1: 10}, 'probability': True, 'random_state': 42}\n"
     ]
    }
   ],
   "source": [
    "svc_params = {\"C\": [10**-2, 10**-1, 10**0, 10**1, 10**2],\n",
    "              \"class_weight\": [None, {0:1,1:10}, {0:1,1:25}],\n",
    "              \"probability\": [True],\n",
    "              \"random_state\": [42]\n",
    "             }\n",
    "svc = fit_gs(SVC(), svc_params)"
   ]
  },
  {
   "cell_type": "code",
   "execution_count": 15,
   "metadata": {},
   "outputs": [
    {
     "data": {
      "text/html": [
       "<div>\n",
       "<style scoped>\n",
       "    .dataframe tbody tr th:only-of-type {\n",
       "        vertical-align: middle;\n",
       "    }\n",
       "\n",
       "    .dataframe tbody tr th {\n",
       "        vertical-align: top;\n",
       "    }\n",
       "\n",
       "    .dataframe thead th {\n",
       "        text-align: right;\n",
       "    }\n",
       "</style>\n",
       "<table border=\"1\" class=\"dataframe\">\n",
       "  <thead>\n",
       "    <tr style=\"text-align: right;\">\n",
       "      <th></th>\n",
       "      <th>Accuracy</th>\n",
       "      <th>Specificity</th>\n",
       "      <th>Recall</th>\n",
       "      <th>Precision</th>\n",
       "      <th>F1</th>\n",
       "      <th>False Positives</th>\n",
       "      <th>False Negatives</th>\n",
       "      <th>ROC-AUC</th>\n",
       "    </tr>\n",
       "  </thead>\n",
       "  <tbody>\n",
       "    <tr>\n",
       "      <td>SVC</td>\n",
       "      <td>0.809</td>\n",
       "      <td>0.818</td>\n",
       "      <td>0.63</td>\n",
       "      <td>0.161</td>\n",
       "      <td>0.257</td>\n",
       "      <td>452.0</td>\n",
       "      <td>51.0</td>\n",
       "      <td>0.815</td>\n",
       "    </tr>\n",
       "  </tbody>\n",
       "</table>\n",
       "</div>"
      ],
      "text/plain": [
       "    Accuracy Specificity Recall Precision     F1 False Positives  \\\n",
       "SVC    0.809       0.818   0.63     0.161  0.257           452.0   \n",
       "\n",
       "    False Negatives ROC-AUC  \n",
       "SVC            51.0   0.815  "
      ]
     },
     "execution_count": 15,
     "metadata": {},
     "output_type": "execute_result"
    }
   ],
   "source": [
    "svc_result = eval_model(svc)\n",
    "svc_result"
   ]
  },
  {
   "cell_type": "markdown",
   "metadata": {},
   "source": [
    "## (3) Logistic Regression"
   ]
  },
  {
   "cell_type": "markdown",
   "metadata": {},
   "source": [
    "The best penalty is L1 (Lasso) rather than L2 (Ridge), which implies that some features are given a weight of 0 during the modelling process. The C of 1 suggests a moderate level of regularization.\n",
    "\n",
    "The benefit of using Logistic Regression is the interpretability of coefficients. However, because its false negative rate is too high, it yields little benefit to our classification task."
   ]
  },
  {
   "cell_type": "code",
   "execution_count": 16,
   "metadata": {},
   "outputs": [
    {
     "name": "stdout",
     "output_type": "stream",
     "text": [
      "Best Parameters: {'C': 100, 'class_weight': None, 'max_iter': 20, 'penalty': 'l2', 'random_state': 42, 'solver': 'liblinear'}\n"
     ]
    }
   ],
   "source": [
    "lr_params = {\"C\": [10**-2, 10**-1, 10**0, 10**1, 10**2],\n",
    "             \"penalty\": ['l1', 'l2'],\n",
    "             \"max_iter\": [20, 50, 100, 200],\n",
    "             \"class_weight\": [None, {0:1,1:5}, {0:1,1:10}, {0:1,1:25}],\n",
    "             \"solver\": ['liblinear'],\n",
    "             \"random_state\": [42]\n",
    "            }\n",
    "\n",
    "lr = fit_gs(LogisticRegression(), lr_params)"
   ]
  },
  {
   "cell_type": "code",
   "execution_count": 17,
   "metadata": {},
   "outputs": [
    {
     "data": {
      "text/html": [
       "<div>\n",
       "<style scoped>\n",
       "    .dataframe tbody tr th:only-of-type {\n",
       "        vertical-align: middle;\n",
       "    }\n",
       "\n",
       "    .dataframe tbody tr th {\n",
       "        vertical-align: top;\n",
       "    }\n",
       "\n",
       "    .dataframe thead th {\n",
       "        text-align: right;\n",
       "    }\n",
       "</style>\n",
       "<table border=\"1\" class=\"dataframe\">\n",
       "  <thead>\n",
       "    <tr style=\"text-align: right;\">\n",
       "      <th></th>\n",
       "      <th>Accuracy</th>\n",
       "      <th>Specificity</th>\n",
       "      <th>Recall</th>\n",
       "      <th>Precision</th>\n",
       "      <th>F1</th>\n",
       "      <th>False Positives</th>\n",
       "      <th>False Negatives</th>\n",
       "      <th>ROC-AUC</th>\n",
       "    </tr>\n",
       "  </thead>\n",
       "  <tbody>\n",
       "    <tr>\n",
       "      <td>LogisticRegression</td>\n",
       "      <td>0.947</td>\n",
       "      <td>1.0</td>\n",
       "      <td>0.0</td>\n",
       "      <td>NaN</td>\n",
       "      <td>NaN</td>\n",
       "      <td>0.0</td>\n",
       "      <td>138.0</td>\n",
       "      <td>0.769</td>\n",
       "    </tr>\n",
       "  </tbody>\n",
       "</table>\n",
       "</div>"
      ],
      "text/plain": [
       "                   Accuracy Specificity Recall Precision   F1 False Positives  \\\n",
       "LogisticRegression    0.947         1.0    0.0       NaN  NaN             0.0   \n",
       "\n",
       "                   False Negatives ROC-AUC  \n",
       "LogisticRegression           138.0   0.769  "
      ]
     },
     "execution_count": 17,
     "metadata": {},
     "output_type": "execute_result"
    }
   ],
   "source": [
    "lr_result = eval_model(lr)\n",
    "lr_result"
   ]
  },
  {
   "cell_type": "markdown",
   "metadata": {},
   "source": [
    "## (4) K-nearest neighbours"
   ]
  },
  {
   "cell_type": "markdown",
   "metadata": {},
   "source": [
    "K Nearest Neighbors produced very similar results to Logistic Regression."
   ]
  },
  {
   "cell_type": "code",
   "execution_count": 18,
   "metadata": {},
   "outputs": [
    {
     "name": "stdout",
     "output_type": "stream",
     "text": [
      "Best Parameters: {'n_neighbors': 65}\n"
     ]
    }
   ],
   "source": [
    "knn_params = {\"n_neighbors\": [5,35,65,95]}\n",
    "\n",
    "knn = fit_gs(KNeighborsClassifier(), knn_params)"
   ]
  },
  {
   "cell_type": "code",
   "execution_count": 19,
   "metadata": {},
   "outputs": [
    {
     "data": {
      "text/html": [
       "<div>\n",
       "<style scoped>\n",
       "    .dataframe tbody tr th:only-of-type {\n",
       "        vertical-align: middle;\n",
       "    }\n",
       "\n",
       "    .dataframe tbody tr th {\n",
       "        vertical-align: top;\n",
       "    }\n",
       "\n",
       "    .dataframe thead th {\n",
       "        text-align: right;\n",
       "    }\n",
       "</style>\n",
       "<table border=\"1\" class=\"dataframe\">\n",
       "  <thead>\n",
       "    <tr style=\"text-align: right;\">\n",
       "      <th></th>\n",
       "      <th>Accuracy</th>\n",
       "      <th>Specificity</th>\n",
       "      <th>Recall</th>\n",
       "      <th>Precision</th>\n",
       "      <th>F1</th>\n",
       "      <th>False Positives</th>\n",
       "      <th>False Negatives</th>\n",
       "      <th>ROC-AUC</th>\n",
       "    </tr>\n",
       "  </thead>\n",
       "  <tbody>\n",
       "    <tr>\n",
       "      <td>KNeighborsClassifier</td>\n",
       "      <td>0.947</td>\n",
       "      <td>1.0</td>\n",
       "      <td>0.0</td>\n",
       "      <td>NaN</td>\n",
       "      <td>NaN</td>\n",
       "      <td>0.0</td>\n",
       "      <td>138.0</td>\n",
       "      <td>0.793</td>\n",
       "    </tr>\n",
       "  </tbody>\n",
       "</table>\n",
       "</div>"
      ],
      "text/plain": [
       "                     Accuracy Specificity Recall Precision   F1  \\\n",
       "KNeighborsClassifier    0.947         1.0    0.0       NaN  NaN   \n",
       "\n",
       "                     False Positives False Negatives ROC-AUC  \n",
       "KNeighborsClassifier             0.0           138.0   0.793  "
      ]
     },
     "execution_count": 19,
     "metadata": {},
     "output_type": "execute_result"
    }
   ],
   "source": [
    "knn_result = eval_model(knn)\n",
    "knn_result"
   ]
  },
  {
   "cell_type": "markdown",
   "metadata": {},
   "source": [
    "## (5) Gradient boosting classifier"
   ]
  },
  {
   "cell_type": "markdown",
   "metadata": {},
   "source": [
    "Gradient Boosting Classifier has the highest ROC-AUC score among all the models and will be selected as the production model."
   ]
  },
  {
   "cell_type": "code",
   "execution_count": 20,
   "metadata": {},
   "outputs": [
    {
     "name": "stdout",
     "output_type": "stream",
     "text": [
      "Best Parameters: {'max_depth': 3, 'n_estimators': 200, 'random_state': 42}\n"
     ]
    }
   ],
   "source": [
    "gbc_params = {\"n_estimators\": [150, 200, 250],\n",
    "              \"max_depth\": [3, 5],\n",
    "              \"random_state\": [42]\n",
    "             }\n",
    "gbc = fit_gs(GradientBoostingClassifier(), gbc_params)"
   ]
  },
  {
   "cell_type": "code",
   "execution_count": 21,
   "metadata": {},
   "outputs": [
    {
     "data": {
      "text/html": [
       "<div>\n",
       "<style scoped>\n",
       "    .dataframe tbody tr th:only-of-type {\n",
       "        vertical-align: middle;\n",
       "    }\n",
       "\n",
       "    .dataframe tbody tr th {\n",
       "        vertical-align: top;\n",
       "    }\n",
       "\n",
       "    .dataframe thead th {\n",
       "        text-align: right;\n",
       "    }\n",
       "</style>\n",
       "<table border=\"1\" class=\"dataframe\">\n",
       "  <thead>\n",
       "    <tr style=\"text-align: right;\">\n",
       "      <th></th>\n",
       "      <th>Accuracy</th>\n",
       "      <th>Specificity</th>\n",
       "      <th>Recall</th>\n",
       "      <th>Precision</th>\n",
       "      <th>F1</th>\n",
       "      <th>False Positives</th>\n",
       "      <th>False Negatives</th>\n",
       "      <th>ROC-AUC</th>\n",
       "    </tr>\n",
       "  </thead>\n",
       "  <tbody>\n",
       "    <tr>\n",
       "      <td>GradientBoostingClassifier</td>\n",
       "      <td>0.944</td>\n",
       "      <td>0.992</td>\n",
       "      <td>0.08</td>\n",
       "      <td>0.367</td>\n",
       "      <td>0.131</td>\n",
       "      <td>19.0</td>\n",
       "      <td>127.0</td>\n",
       "      <td>0.826</td>\n",
       "    </tr>\n",
       "  </tbody>\n",
       "</table>\n",
       "</div>"
      ],
      "text/plain": [
       "                           Accuracy Specificity Recall Precision     F1  \\\n",
       "GradientBoostingClassifier    0.944       0.992   0.08     0.367  0.131   \n",
       "\n",
       "                           False Positives False Negatives ROC-AUC  \n",
       "GradientBoostingClassifier            19.0           127.0   0.826  "
      ]
     },
     "execution_count": 21,
     "metadata": {},
     "output_type": "execute_result"
    }
   ],
   "source": [
    "gbc_result = eval_model(gbc)\n",
    "gbc_result"
   ]
  },
  {
   "cell_type": "markdown",
   "metadata": {},
   "source": [
    "## (6) XGB classifier"
   ]
  },
  {
   "cell_type": "markdown",
   "metadata": {},
   "source": [
    "XGB classifier is widely regarded as the best performing classifier. However, it has a very high computational cost. Disappointingly, it did not yield better ROC-AUC scores than Gradient Boost Classifier, although it had the best accuracy score among all of the models."
   ]
  },
  {
   "cell_type": "code",
   "execution_count": 22,
   "metadata": {},
   "outputs": [
    {
     "name": "stdout",
     "output_type": "stream",
     "text": [
      "Best Parameters: {'eval_metric': 'auc', 'gamma': 5.0, 'learning_rate': 0.5, 'max_depth': 8, 'max_leaf_nodes': None, 'objective': 'binary:logistic', 'reg_alpha': 0.0001, 'reg_lambda': 5.0, 'use_label_encoder': False}\n"
     ]
    }
   ],
   "source": [
    "xgb_params = {\"use_label_encoder\": [False],\n",
    "              \"objective\": [\"binary:logistic\"],\n",
    "              \"eval_metric\": ['auc'],\n",
    "              \"learning_rate\":[0.1, 0.2, 0.5],\n",
    "              \"max_depth\": [5,8],\n",
    "              \"max_leaf_nodes\": [None,], #tune params\n",
    "              \"gamma\": np.linspace(5, 100, 8),\n",
    "              \"reg_alpha\": np.linspace(0.0001, 1, 8),\n",
    "              \"reg_lambda\": np.linspace(5, 100, 5)} #tune params\n",
    "\n",
    "xgb = fit_gs(XGBClassifier(random_state = 42), xgb_params)"
   ]
  },
  {
   "cell_type": "code",
   "execution_count": 23,
   "metadata": {},
   "outputs": [
    {
     "data": {
      "text/html": [
       "<div>\n",
       "<style scoped>\n",
       "    .dataframe tbody tr th:only-of-type {\n",
       "        vertical-align: middle;\n",
       "    }\n",
       "\n",
       "    .dataframe tbody tr th {\n",
       "        vertical-align: top;\n",
       "    }\n",
       "\n",
       "    .dataframe thead th {\n",
       "        text-align: right;\n",
       "    }\n",
       "</style>\n",
       "<table border=\"1\" class=\"dataframe\">\n",
       "  <thead>\n",
       "    <tr style=\"text-align: right;\">\n",
       "      <th></th>\n",
       "      <th>Accuracy</th>\n",
       "      <th>Specificity</th>\n",
       "      <th>Recall</th>\n",
       "      <th>Precision</th>\n",
       "      <th>F1</th>\n",
       "      <th>False Positives</th>\n",
       "      <th>False Negatives</th>\n",
       "      <th>ROC-AUC</th>\n",
       "    </tr>\n",
       "  </thead>\n",
       "  <tbody>\n",
       "    <tr>\n",
       "      <td>XGBClassifier</td>\n",
       "      <td>0.946</td>\n",
       "      <td>0.996</td>\n",
       "      <td>0.029</td>\n",
       "      <td>0.308</td>\n",
       "      <td>0.053</td>\n",
       "      <td>9.0</td>\n",
       "      <td>134.0</td>\n",
       "      <td>0.813</td>\n",
       "    </tr>\n",
       "  </tbody>\n",
       "</table>\n",
       "</div>"
      ],
      "text/plain": [
       "              Accuracy Specificity Recall Precision     F1 False Positives  \\\n",
       "XGBClassifier    0.946       0.996  0.029     0.308  0.053             9.0   \n",
       "\n",
       "              False Negatives ROC-AUC  \n",
       "XGBClassifier           134.0   0.813  "
      ]
     },
     "execution_count": 23,
     "metadata": {},
     "output_type": "execute_result"
    }
   ],
   "source": [
    "xgb_result = eval_model(xgb)\n",
    "xgb_result"
   ]
  },
  {
   "cell_type": "markdown",
   "metadata": {},
   "source": [
    "## (7) Extra trees classifier"
   ]
  },
  {
   "cell_type": "markdown",
   "metadata": {},
   "source": [
    "Extra trees yielded one of the most impressive accuracy scores but with an ROC-AUC comparable to the other models. These results strongly suggest overfitting."
   ]
  },
  {
   "cell_type": "code",
   "execution_count": 24,
   "metadata": {},
   "outputs": [
    {
     "name": "stdout",
     "output_type": "stream",
     "text": [
      "Best Parameters: {'max_depth': 10, 'max_leaf_nodes': None, 'min_samples_leaf': 1, 'random_state': 42}\n"
     ]
    }
   ],
   "source": [
    "et_params = {\"max_depth\": [3,5,10,20],\n",
    "             \"min_samples_leaf\": [1, 3, 10, 20],\n",
    "             \"max_leaf_nodes\": [None, 5, 10],\n",
    "             \"random_state\": [42]\n",
    "            }\n",
    "et = fit_gs(ExtraTreesClassifier(), et_params)"
   ]
  },
  {
   "cell_type": "code",
   "execution_count": 25,
   "metadata": {},
   "outputs": [
    {
     "data": {
      "text/html": [
       "<div>\n",
       "<style scoped>\n",
       "    .dataframe tbody tr th:only-of-type {\n",
       "        vertical-align: middle;\n",
       "    }\n",
       "\n",
       "    .dataframe tbody tr th {\n",
       "        vertical-align: top;\n",
       "    }\n",
       "\n",
       "    .dataframe thead th {\n",
       "        text-align: right;\n",
       "    }\n",
       "</style>\n",
       "<table border=\"1\" class=\"dataframe\">\n",
       "  <thead>\n",
       "    <tr style=\"text-align: right;\">\n",
       "      <th></th>\n",
       "      <th>Accuracy</th>\n",
       "      <th>Specificity</th>\n",
       "      <th>Recall</th>\n",
       "      <th>Precision</th>\n",
       "      <th>F1</th>\n",
       "      <th>False Positives</th>\n",
       "      <th>False Negatives</th>\n",
       "      <th>ROC-AUC</th>\n",
       "    </tr>\n",
       "  </thead>\n",
       "  <tbody>\n",
       "    <tr>\n",
       "      <td>ExtraTreesClassifier</td>\n",
       "      <td>0.947</td>\n",
       "      <td>1.0</td>\n",
       "      <td>0.0</td>\n",
       "      <td>NaN</td>\n",
       "      <td>NaN</td>\n",
       "      <td>0.0</td>\n",
       "      <td>138.0</td>\n",
       "      <td>0.814</td>\n",
       "    </tr>\n",
       "  </tbody>\n",
       "</table>\n",
       "</div>"
      ],
      "text/plain": [
       "                     Accuracy Specificity Recall Precision   F1  \\\n",
       "ExtraTreesClassifier    0.947         1.0    0.0       NaN  NaN   \n",
       "\n",
       "                     False Positives False Negatives ROC-AUC  \n",
       "ExtraTreesClassifier             0.0           138.0   0.814  "
      ]
     },
     "execution_count": 25,
     "metadata": {},
     "output_type": "execute_result"
    }
   ],
   "source": [
    "et_result = eval_model(et)\n",
    "et_result"
   ]
  },
  {
   "cell_type": "markdown",
   "metadata": {},
   "source": [
    "# Evaluating and Interpreting Results\n",
    "## Summary of results for all models"
   ]
  },
  {
   "cell_type": "code",
   "execution_count": 26,
   "metadata": {
    "scrolled": true
   },
   "outputs": [
    {
     "data": {
      "text/html": [
       "<div>\n",
       "<style scoped>\n",
       "    .dataframe tbody tr th:only-of-type {\n",
       "        vertical-align: middle;\n",
       "    }\n",
       "\n",
       "    .dataframe tbody tr th {\n",
       "        vertical-align: top;\n",
       "    }\n",
       "\n",
       "    .dataframe thead th {\n",
       "        text-align: right;\n",
       "    }\n",
       "</style>\n",
       "<table border=\"1\" class=\"dataframe\">\n",
       "  <thead>\n",
       "    <tr style=\"text-align: right;\">\n",
       "      <th></th>\n",
       "      <th>Accuracy</th>\n",
       "      <th>Specificity</th>\n",
       "      <th>Recall</th>\n",
       "      <th>Precision</th>\n",
       "      <th>F1</th>\n",
       "      <th>False Positives</th>\n",
       "      <th>False Negatives</th>\n",
       "      <th>ROC-AUC</th>\n",
       "    </tr>\n",
       "  </thead>\n",
       "  <tbody>\n",
       "    <tr>\n",
       "      <td>Dummy</td>\n",
       "      <td>0.947</td>\n",
       "      <td>1.0</td>\n",
       "      <td>0.0</td>\n",
       "      <td>NaN</td>\n",
       "      <td>NaN</td>\n",
       "      <td>0.0</td>\n",
       "      <td>138.0</td>\n",
       "      <td>0.5</td>\n",
       "    </tr>\n",
       "    <tr>\n",
       "      <td>RandomForestClassifier</td>\n",
       "      <td>0.935</td>\n",
       "      <td>0.979</td>\n",
       "      <td>0.138</td>\n",
       "      <td>0.268</td>\n",
       "      <td>0.182</td>\n",
       "      <td>52.0</td>\n",
       "      <td>119.0</td>\n",
       "      <td>0.807</td>\n",
       "    </tr>\n",
       "    <tr>\n",
       "      <td>SVC</td>\n",
       "      <td>0.809</td>\n",
       "      <td>0.818</td>\n",
       "      <td>0.63</td>\n",
       "      <td>0.161</td>\n",
       "      <td>0.257</td>\n",
       "      <td>452.0</td>\n",
       "      <td>51.0</td>\n",
       "      <td>0.815</td>\n",
       "    </tr>\n",
       "    <tr>\n",
       "      <td>LogisticRegression</td>\n",
       "      <td>0.947</td>\n",
       "      <td>1.0</td>\n",
       "      <td>0.0</td>\n",
       "      <td>NaN</td>\n",
       "      <td>NaN</td>\n",
       "      <td>0.0</td>\n",
       "      <td>138.0</td>\n",
       "      <td>0.769</td>\n",
       "    </tr>\n",
       "    <tr>\n",
       "      <td>KNeighborsClassifier</td>\n",
       "      <td>0.947</td>\n",
       "      <td>1.0</td>\n",
       "      <td>0.0</td>\n",
       "      <td>NaN</td>\n",
       "      <td>NaN</td>\n",
       "      <td>0.0</td>\n",
       "      <td>138.0</td>\n",
       "      <td>0.793</td>\n",
       "    </tr>\n",
       "    <tr>\n",
       "      <td>GradientBoostingClassifier</td>\n",
       "      <td>0.944</td>\n",
       "      <td>0.992</td>\n",
       "      <td>0.08</td>\n",
       "      <td>0.367</td>\n",
       "      <td>0.131</td>\n",
       "      <td>19.0</td>\n",
       "      <td>127.0</td>\n",
       "      <td>0.826</td>\n",
       "    </tr>\n",
       "    <tr>\n",
       "      <td>XGBClassifier</td>\n",
       "      <td>0.946</td>\n",
       "      <td>0.996</td>\n",
       "      <td>0.029</td>\n",
       "      <td>0.308</td>\n",
       "      <td>0.053</td>\n",
       "      <td>9.0</td>\n",
       "      <td>134.0</td>\n",
       "      <td>0.813</td>\n",
       "    </tr>\n",
       "    <tr>\n",
       "      <td>ExtraTreesClassifier</td>\n",
       "      <td>0.947</td>\n",
       "      <td>1.0</td>\n",
       "      <td>0.0</td>\n",
       "      <td>NaN</td>\n",
       "      <td>NaN</td>\n",
       "      <td>0.0</td>\n",
       "      <td>138.0</td>\n",
       "      <td>0.814</td>\n",
       "    </tr>\n",
       "  </tbody>\n",
       "</table>\n",
       "</div>"
      ],
      "text/plain": [
       "                           Accuracy Specificity Recall Precision     F1  \\\n",
       "Dummy                         0.947         1.0    0.0       NaN    NaN   \n",
       "RandomForestClassifier        0.935       0.979  0.138     0.268  0.182   \n",
       "SVC                           0.809       0.818   0.63     0.161  0.257   \n",
       "LogisticRegression            0.947         1.0    0.0       NaN    NaN   \n",
       "KNeighborsClassifier          0.947         1.0    0.0       NaN    NaN   \n",
       "GradientBoostingClassifier    0.944       0.992   0.08     0.367  0.131   \n",
       "XGBClassifier                 0.946       0.996  0.029     0.308  0.053   \n",
       "ExtraTreesClassifier          0.947         1.0    0.0       NaN    NaN   \n",
       "\n",
       "                           False Positives False Negatives ROC-AUC  \n",
       "Dummy                                  0.0           138.0     0.5  \n",
       "RandomForestClassifier                52.0           119.0   0.807  \n",
       "SVC                                  452.0            51.0   0.815  \n",
       "LogisticRegression                     0.0           138.0   0.769  \n",
       "KNeighborsClassifier                   0.0           138.0   0.793  \n",
       "GradientBoostingClassifier            19.0           127.0   0.826  \n",
       "XGBClassifier                          9.0           134.0   0.813  \n",
       "ExtraTreesClassifier                   0.0           138.0   0.814  "
      ]
     },
     "execution_count": 26,
     "metadata": {},
     "output_type": "execute_result"
    }
   ],
   "source": [
    "summary = pd.concat([dummy_result, rfc_result, svc_result, lr_result, knn_result, gbc_result, xgb_result, \n",
    "                    et_result]) \n",
    "summary"
   ]
  },
  {
   "cell_type": "markdown",
   "metadata": {},
   "source": [
    "Dummy, Extra Trees, K Nearest Neighbors and Logistic regression produced very similar results, which makes accuracy an unsuitable metric for evaluation - just by predicting all instances as negative (absence of WNV), one will get the highest accuracy rate).\n",
    "\n",
    "Instead, the following metrics will be used for evaluation:\n",
    "- ROC-AUC\n",
    "- False negatives\n",
    "\n",
    "False negatives: The classifier with the lowest false negative rate was SVC. SVC also had the 2nd highest ROC-AUC scores.\n",
    "\n",
    "ROC-AUC: Gradient Boosting Classifier outperformed all the other models and will be used as the final model for production."
   ]
  },
  {
   "cell_type": "markdown",
   "metadata": {},
   "source": [
    "## ROC plot"
   ]
  },
  {
   "cell_type": "code",
   "execution_count": 27,
   "metadata": {
    "scrolled": false
   },
   "outputs": [
    {
     "data": {
      "image/png": "[encoded data removed]",
      "text/plain": [
       "<Figure size 720x576 with 1 Axes>"
      ]
     },
     "metadata": {
      "needs_background": "light"
     },
     "output_type": "display_data"
    }
   ],
   "source": [
    "models = [dummy, rfc, svc, lr, knn, gbc, xgb, et]\n",
    "\n",
    "fig, ax = plt.subplots(figsize=(10,8))\n",
    "plt.plot([0, 1], [0, 1], \"k--\")\n",
    "for i, model in enumerate(models):\n",
    "    RocCurveDisplay.from_estimator(model,\n",
    "                                   X_val,\n",
    "                                   y_val,\n",
    "                                   ax=ax,\n",
    "                                   name=f'{summary.index[i]}')"
   ]
  },
  {
   "cell_type": "markdown",
   "metadata": {},
   "source": [
    "From the graph, it can be observed that the Gradient Boosting Classifier outperforms almost every other model in terms of ROC-AUC. The SVC is the 2nd best, but its accuracy score is very compromised."
   ]
  },
  {
   "cell_type": "markdown",
   "metadata": {},
   "source": [
    "## Important features"
   ]
  },
  {
   "cell_type": "code",
   "execution_count": 28,
   "metadata": {},
   "outputs": [],
   "source": [
    "def get_impt_features(models):\n",
    "    result = pd.DataFrame()\n",
    "    for i, model in enumerate(models):\n",
    "        try:\n",
    "            importances = model.best_estimator_.feature_importances_\n",
    "            df = pd.DataFrame(zip(X_train.columns,importances), \n",
    "                              columns=[f'{summary.index[i]}','importance']).\\\n",
    "                sort_values('importance', ascending=False).reset_index(drop=True)\n",
    "            result = pd.concat([result,df], axis = 1)\n",
    "            \n",
    "        except:\n",
    "            pass\n",
    "        \n",
    "        try:\n",
    "            coef = model.best_estimator_.coef_\n",
    "            df = pd.DataFrame([X_train.columns,(*coef)]).T. \\\n",
    "                rename(columns={0:f'{summary.index[i]}', 1:'coefficient'}). \\\n",
    "                sort_values('coefficient', ascending=False, key=abs).reset_index(drop=True)\n",
    "            result = pd.concat([result,df], axis = 1)\n",
    "\n",
    "        except:\n",
    "            pass\n",
    "        \n",
    "    return result"
   ]
  },
  {
   "cell_type": "code",
   "execution_count": 29,
   "metadata": {
    "scrolled": true
   },
   "outputs": [
    {
     "data": {
      "text/html": [
       "<div>\n",
       "<style scoped>\n",
       "    .dataframe tbody tr th:only-of-type {\n",
       "        vertical-align: middle;\n",
       "    }\n",
       "\n",
       "    .dataframe tbody tr th {\n",
       "        vertical-align: top;\n",
       "    }\n",
       "\n",
       "    .dataframe thead th {\n",
       "        text-align: right;\n",
       "    }\n",
       "</style>\n",
       "<table border=\"1\" class=\"dataframe\">\n",
       "  <thead>\n",
       "    <tr style=\"text-align: right;\">\n",
       "      <th></th>\n",
       "      <th>RandomForestClassifier</th>\n",
       "      <th>importance</th>\n",
       "      <th>GradientBoostingClassifier</th>\n",
       "      <th>importance</th>\n",
       "      <th>XGBClassifier</th>\n",
       "      <th>importance</th>\n",
       "      <th>ExtraTreesClassifier</th>\n",
       "      <th>importance</th>\n",
       "    </tr>\n",
       "  </thead>\n",
       "  <tbody>\n",
       "    <tr>\n",
       "      <td>0</td>\n",
       "      <td>daylight</td>\n",
       "      <td>0.149238</td>\n",
       "      <td>longitude</td>\n",
       "      <td>0.212056</td>\n",
       "      <td>tavg_weekly_lag1</td>\n",
       "      <td>0.110388</td>\n",
       "      <td>longitude</td>\n",
       "      <td>0.164932</td>\n",
       "    </tr>\n",
       "    <tr>\n",
       "      <td>1</td>\n",
       "      <td>tavg_weekly_lag1</td>\n",
       "      <td>0.105896</td>\n",
       "      <td>daylight</td>\n",
       "      <td>0.199823</td>\n",
       "      <td>daylight</td>\n",
       "      <td>0.086401</td>\n",
       "      <td>latitude</td>\n",
       "      <td>0.131379</td>\n",
       "    </tr>\n",
       "    <tr>\n",
       "      <td>2</td>\n",
       "      <td>longitude</td>\n",
       "      <td>0.083673</td>\n",
       "      <td>latitude</td>\n",
       "      <td>0.113669</td>\n",
       "      <td>relative_hum_weekly_lag2</td>\n",
       "      <td>0.062645</td>\n",
       "      <td>daylight</td>\n",
       "      <td>0.065507</td>\n",
       "    </tr>\n",
       "    <tr>\n",
       "      <td>3</td>\n",
       "      <td>tavg_weekly_lag2</td>\n",
       "      <td>0.076149</td>\n",
       "      <td>tavg_weekly_lag1</td>\n",
       "      <td>0.059110</td>\n",
       "      <td>wetbulb</td>\n",
       "      <td>0.059319</td>\n",
       "      <td>tavg_weekly_lag1</td>\n",
       "      <td>0.050393</td>\n",
       "    </tr>\n",
       "    <tr>\n",
       "      <td>4</td>\n",
       "      <td>latitude</td>\n",
       "      <td>0.058246</td>\n",
       "      <td>temp_fluct</td>\n",
       "      <td>0.045789</td>\n",
       "      <td>relative_hum_weekly_lag1</td>\n",
       "      <td>0.056001</td>\n",
       "      <td>species_PIPIENS</td>\n",
       "      <td>0.046159</td>\n",
       "    </tr>\n",
       "    <tr>\n",
       "      <td>5</td>\n",
       "      <td>tavg</td>\n",
       "      <td>0.048256</td>\n",
       "      <td>tmin</td>\n",
       "      <td>0.042682</td>\n",
       "      <td>longitude</td>\n",
       "      <td>0.050417</td>\n",
       "      <td>tavg_weekly_lag2</td>\n",
       "      <td>0.042012</td>\n",
       "    </tr>\n",
       "    <tr>\n",
       "      <td>6</td>\n",
       "      <td>relative_hum_weekly_lag1</td>\n",
       "      <td>0.044005</td>\n",
       "      <td>relative_hum_weekly</td>\n",
       "      <td>0.034392</td>\n",
       "      <td>species_PIPIENS</td>\n",
       "      <td>0.047678</td>\n",
       "      <td>relative_hum_weekly</td>\n",
       "      <td>0.036359</td>\n",
       "    </tr>\n",
       "    <tr>\n",
       "      <td>7</td>\n",
       "      <td>cool</td>\n",
       "      <td>0.041407</td>\n",
       "      <td>species_PIPIENS</td>\n",
       "      <td>0.029557</td>\n",
       "      <td>depart</td>\n",
       "      <td>0.047139</td>\n",
       "      <td>relative_hum_weekly_lag1</td>\n",
       "      <td>0.036108</td>\n",
       "    </tr>\n",
       "    <tr>\n",
       "      <td>8</td>\n",
       "      <td>preciptotal_weekly_lag2</td>\n",
       "      <td>0.037240</td>\n",
       "      <td>relative_hum</td>\n",
       "      <td>0.027580</td>\n",
       "      <td>tavg</td>\n",
       "      <td>0.045311</td>\n",
       "      <td>species_RESTUANS</td>\n",
       "      <td>0.036084</td>\n",
       "    </tr>\n",
       "    <tr>\n",
       "      <td>9</td>\n",
       "      <td>relative_hum_weekly</td>\n",
       "      <td>0.036616</td>\n",
       "      <td>tavg_weekly_lag2</td>\n",
       "      <td>0.026898</td>\n",
       "      <td>tmin</td>\n",
       "      <td>0.043876</td>\n",
       "      <td>relative_hum_weekly_lag2</td>\n",
       "      <td>0.030214</td>\n",
       "    </tr>\n",
       "    <tr>\n",
       "      <td>10</td>\n",
       "      <td>relative_hum_weekly_lag2</td>\n",
       "      <td>0.035345</td>\n",
       "      <td>wetbulb</td>\n",
       "      <td>0.025606</td>\n",
       "      <td>tavg_weekly_lag2</td>\n",
       "      <td>0.042674</td>\n",
       "      <td>tavg</td>\n",
       "      <td>0.029235</td>\n",
       "    </tr>\n",
       "    <tr>\n",
       "      <td>11</td>\n",
       "      <td>tmax</td>\n",
       "      <td>0.032764</td>\n",
       "      <td>relative_hum_weekly_lag2</td>\n",
       "      <td>0.024106</td>\n",
       "      <td>tavg_weekly</td>\n",
       "      <td>0.041245</td>\n",
       "      <td>tmin</td>\n",
       "      <td>0.027669</td>\n",
       "    </tr>\n",
       "    <tr>\n",
       "      <td>12</td>\n",
       "      <td>temp_fluct</td>\n",
       "      <td>0.031474</td>\n",
       "      <td>dewpoint</td>\n",
       "      <td>0.023864</td>\n",
       "      <td>dewpoint</td>\n",
       "      <td>0.040291</td>\n",
       "      <td>cool</td>\n",
       "      <td>0.026851</td>\n",
       "    </tr>\n",
       "    <tr>\n",
       "      <td>13</td>\n",
       "      <td>depart</td>\n",
       "      <td>0.028192</td>\n",
       "      <td>tmax</td>\n",
       "      <td>0.023193</td>\n",
       "      <td>species_RESTUANS</td>\n",
       "      <td>0.038664</td>\n",
       "      <td>temp_fluct</td>\n",
       "      <td>0.025650</td>\n",
       "    </tr>\n",
       "    <tr>\n",
       "      <td>14</td>\n",
       "      <td>wetbulb</td>\n",
       "      <td>0.027943</td>\n",
       "      <td>preciptotal</td>\n",
       "      <td>0.019031</td>\n",
       "      <td>relative_hum_weekly</td>\n",
       "      <td>0.037458</td>\n",
       "      <td>tmax</td>\n",
       "      <td>0.025414</td>\n",
       "    </tr>\n",
       "    <tr>\n",
       "      <td>15</td>\n",
       "      <td>preciptotal_weekly_lag1</td>\n",
       "      <td>0.026177</td>\n",
       "      <td>species_PIPIENS/RESTUANS</td>\n",
       "      <td>0.018073</td>\n",
       "      <td>species_PIPIENS/RESTUANS</td>\n",
       "      <td>0.034278</td>\n",
       "      <td>species_PIPIENS/RESTUANS</td>\n",
       "      <td>0.024955</td>\n",
       "    </tr>\n",
       "    <tr>\n",
       "      <td>16</td>\n",
       "      <td>tmin</td>\n",
       "      <td>0.022935</td>\n",
       "      <td>tavg</td>\n",
       "      <td>0.015689</td>\n",
       "      <td>tmax</td>\n",
       "      <td>0.033773</td>\n",
       "      <td>wetbulb</td>\n",
       "      <td>0.024611</td>\n",
       "    </tr>\n",
       "    <tr>\n",
       "      <td>17</td>\n",
       "      <td>dewpoint</td>\n",
       "      <td>0.022579</td>\n",
       "      <td>relative_hum_weekly_lag1</td>\n",
       "      <td>0.011887</td>\n",
       "      <td>temp_fluct</td>\n",
       "      <td>0.030568</td>\n",
       "      <td>preciptotal_weekly_lag2</td>\n",
       "      <td>0.024426</td>\n",
       "    </tr>\n",
       "    <tr>\n",
       "      <td>18</td>\n",
       "      <td>relative_hum</td>\n",
       "      <td>0.018314</td>\n",
       "      <td>cool</td>\n",
       "      <td>0.011102</td>\n",
       "      <td>latitude</td>\n",
       "      <td>0.029491</td>\n",
       "      <td>relative_hum</td>\n",
       "      <td>0.023092</td>\n",
       "    </tr>\n",
       "    <tr>\n",
       "      <td>19</td>\n",
       "      <td>tavg_weekly</td>\n",
       "      <td>0.016780</td>\n",
       "      <td>species_RESTUANS</td>\n",
       "      <td>0.009000</td>\n",
       "      <td>preciptotal</td>\n",
       "      <td>0.027080</td>\n",
       "      <td>dewpoint</td>\n",
       "      <td>0.022477</td>\n",
       "    </tr>\n",
       "    <tr>\n",
       "      <td>20</td>\n",
       "      <td>species_PIPIENS</td>\n",
       "      <td>0.015152</td>\n",
       "      <td>depart</td>\n",
       "      <td>0.005723</td>\n",
       "      <td>relative_hum</td>\n",
       "      <td>0.018985</td>\n",
       "      <td>preciptotal_weekly_lag1</td>\n",
       "      <td>0.022037</td>\n",
       "    </tr>\n",
       "    <tr>\n",
       "      <td>21</td>\n",
       "      <td>species_RESTUANS</td>\n",
       "      <td>0.014643</td>\n",
       "      <td>preciptotal_weekly_lag1</td>\n",
       "      <td>0.005721</td>\n",
       "      <td>species_TERRITANS</td>\n",
       "      <td>0.016318</td>\n",
       "      <td>depart</td>\n",
       "      <td>0.020583</td>\n",
       "    </tr>\n",
       "    <tr>\n",
       "      <td>22</td>\n",
       "      <td>preciptotal_weekly</td>\n",
       "      <td>0.011985</td>\n",
       "      <td>preciptotal_weekly_lag2</td>\n",
       "      <td>0.005614</td>\n",
       "      <td>preciptotal_weekly</td>\n",
       "      <td>0.000000</td>\n",
       "      <td>preciptotal_weekly</td>\n",
       "      <td>0.019781</td>\n",
       "    </tr>\n",
       "    <tr>\n",
       "      <td>23</td>\n",
       "      <td>preciptotal</td>\n",
       "      <td>0.006428</td>\n",
       "      <td>preciptotal_weekly</td>\n",
       "      <td>0.004119</td>\n",
       "      <td>preciptotal_weekly_lag1</td>\n",
       "      <td>0.000000</td>\n",
       "      <td>tavg_weekly</td>\n",
       "      <td>0.018311</td>\n",
       "    </tr>\n",
       "    <tr>\n",
       "      <td>24</td>\n",
       "      <td>species_PIPIENS/RESTUANS</td>\n",
       "      <td>0.006134</td>\n",
       "      <td>species_TERRITANS</td>\n",
       "      <td>0.002136</td>\n",
       "      <td>preciptotal_weekly_lag2</td>\n",
       "      <td>0.000000</td>\n",
       "      <td>preciptotal</td>\n",
       "      <td>0.015458</td>\n",
       "    </tr>\n",
       "    <tr>\n",
       "      <td>25</td>\n",
       "      <td>heat</td>\n",
       "      <td>0.001550</td>\n",
       "      <td>species_ERRATICUS</td>\n",
       "      <td>0.001639</td>\n",
       "      <td>species_ERRATICUS</td>\n",
       "      <td>0.000000</td>\n",
       "      <td>heat</td>\n",
       "      <td>0.004761</td>\n",
       "    </tr>\n",
       "    <tr>\n",
       "      <td>26</td>\n",
       "      <td>species_TERRITANS</td>\n",
       "      <td>0.000799</td>\n",
       "      <td>heat</td>\n",
       "      <td>0.001143</td>\n",
       "      <td>cool</td>\n",
       "      <td>0.000000</td>\n",
       "      <td>species_TERRITANS</td>\n",
       "      <td>0.004150</td>\n",
       "    </tr>\n",
       "    <tr>\n",
       "      <td>27</td>\n",
       "      <td>species_SALINARIUS</td>\n",
       "      <td>0.000063</td>\n",
       "      <td>species_SALINARIUS</td>\n",
       "      <td>0.000548</td>\n",
       "      <td>heat</td>\n",
       "      <td>0.000000</td>\n",
       "      <td>species_ERRATICUS</td>\n",
       "      <td>0.000697</td>\n",
       "    </tr>\n",
       "    <tr>\n",
       "      <td>28</td>\n",
       "      <td>species_ERRATICUS</td>\n",
       "      <td>0.000019</td>\n",
       "      <td>tavg_weekly</td>\n",
       "      <td>0.000252</td>\n",
       "      <td>species_SALINARIUS</td>\n",
       "      <td>0.000000</td>\n",
       "      <td>species_SALINARIUS</td>\n",
       "      <td>0.000673</td>\n",
       "    </tr>\n",
       "    <tr>\n",
       "      <td>29</td>\n",
       "      <td>species_TARSALIS</td>\n",
       "      <td>0.000000</td>\n",
       "      <td>species_TARSALIS</td>\n",
       "      <td>0.000000</td>\n",
       "      <td>species_TARSALIS</td>\n",
       "      <td>0.000000</td>\n",
       "      <td>species_TARSALIS</td>\n",
       "      <td>0.000022</td>\n",
       "    </tr>\n",
       "  </tbody>\n",
       "</table>\n",
       "</div>"
      ],
      "text/plain": [
       "      RandomForestClassifier  importance GradientBoostingClassifier  \\\n",
       "0                   daylight    0.149238                  longitude   \n",
       "1           tavg_weekly_lag1    0.105896                   daylight   \n",
       "2                  longitude    0.083673                   latitude   \n",
       "3           tavg_weekly_lag2    0.076149           tavg_weekly_lag1   \n",
       "4                   latitude    0.058246                 temp_fluct   \n",
       "5                       tavg    0.048256                       tmin   \n",
       "6   relative_hum_weekly_lag1    0.044005        relative_hum_weekly   \n",
       "7                       cool    0.041407            species_PIPIENS   \n",
       "8    preciptotal_weekly_lag2    0.037240               relative_hum   \n",
       "9        relative_hum_weekly    0.036616           tavg_weekly_lag2   \n",
       "10  relative_hum_weekly_lag2    0.035345                    wetbulb   \n",
       "11                      tmax    0.032764   relative_hum_weekly_lag2   \n",
       "12                temp_fluct    0.031474                   dewpoint   \n",
       "13                    depart    0.028192                       tmax   \n",
       "14                   wetbulb    0.027943                preciptotal   \n",
       "15   preciptotal_weekly_lag1    0.026177   species_PIPIENS/RESTUANS   \n",
       "16                      tmin    0.022935                       tavg   \n",
       "17                  dewpoint    0.022579   relative_hum_weekly_lag1   \n",
       "18              relative_hum    0.018314                       cool   \n",
       "19               tavg_weekly    0.016780           species_RESTUANS   \n",
       "20           species_PIPIENS    0.015152                     depart   \n",
       "21          species_RESTUANS    0.014643    preciptotal_weekly_lag1   \n",
       "22        preciptotal_weekly    0.011985    preciptotal_weekly_lag2   \n",
       "23               preciptotal    0.006428         preciptotal_weekly   \n",
       "24  species_PIPIENS/RESTUANS    0.006134          species_TERRITANS   \n",
       "25                      heat    0.001550          species_ERRATICUS   \n",
       "26         species_TERRITANS    0.000799                       heat   \n",
       "27        species_SALINARIUS    0.000063         species_SALINARIUS   \n",
       "28         species_ERRATICUS    0.000019                tavg_weekly   \n",
       "29          species_TARSALIS    0.000000           species_TARSALIS   \n",
       "\n",
       "    importance             XGBClassifier  importance  \\\n",
       "0     0.212056          tavg_weekly_lag1    0.110388   \n",
       "1     0.199823                  daylight    0.086401   \n",
       "2     0.113669  relative_hum_weekly_lag2    0.062645   \n",
       "3     0.059110                   wetbulb    0.059319   \n",
       "4     0.045789  relative_hum_weekly_lag1    0.056001   \n",
       "5     0.042682                 longitude    0.050417   \n",
       "6     0.034392           species_PIPIENS    0.047678   \n",
       "7     0.029557                    depart    0.047139   \n",
       "8     0.027580                      tavg    0.045311   \n",
       "9     0.026898                      tmin    0.043876   \n",
       "10    0.025606          tavg_weekly_lag2    0.042674   \n",
       "11    0.024106               tavg_weekly    0.041245   \n",
       "12    0.023864                  dewpoint    0.040291   \n",
       "13    0.023193          species_RESTUANS    0.038664   \n",
       "14    0.019031       relative_hum_weekly    0.037458   \n",
       "15    0.018073  species_PIPIENS/RESTUANS    0.034278   \n",
       "16    0.015689                      tmax    0.033773   \n",
       "17    0.011887                temp_fluct    0.030568   \n",
       "18    0.011102                  latitude    0.029491   \n",
       "19    0.009000               preciptotal    0.027080   \n",
       "20    0.005723              relative_hum    0.018985   \n",
       "21    0.005721         species_TERRITANS    0.016318   \n",
       "22    0.005614        preciptotal_weekly    0.000000   \n",
       "23    0.004119   preciptotal_weekly_lag1    0.000000   \n",
       "24    0.002136   preciptotal_weekly_lag2    0.000000   \n",
       "25    0.001639         species_ERRATICUS    0.000000   \n",
       "26    0.001143                      cool    0.000000   \n",
       "27    0.000548                      heat    0.000000   \n",
       "28    0.000252        species_SALINARIUS    0.000000   \n",
       "29    0.000000          species_TARSALIS    0.000000   \n",
       "\n",
       "        ExtraTreesClassifier  importance  \n",
       "0                  longitude    0.164932  \n",
       "1                   latitude    0.131379  \n",
       "2                   daylight    0.065507  \n",
       "3           tavg_weekly_lag1    0.050393  \n",
       "4            species_PIPIENS    0.046159  \n",
       "5           tavg_weekly_lag2    0.042012  \n",
       "6        relative_hum_weekly    0.036359  \n",
       "7   relative_hum_weekly_lag1    0.036108  \n",
       "8           species_RESTUANS    0.036084  \n",
       "9   relative_hum_weekly_lag2    0.030214  \n",
       "10                      tavg    0.029235  \n",
       "11                      tmin    0.027669  \n",
       "12                      cool    0.026851  \n",
       "13                temp_fluct    0.025650  \n",
       "14                      tmax    0.025414  \n",
       "15  species_PIPIENS/RESTUANS    0.024955  \n",
       "16                   wetbulb    0.024611  \n",
       "17   preciptotal_weekly_lag2    0.024426  \n",
       "18              relative_hum    0.023092  \n",
       "19                  dewpoint    0.022477  \n",
       "20   preciptotal_weekly_lag1    0.022037  \n",
       "21                    depart    0.020583  \n",
       "22        preciptotal_weekly    0.019781  \n",
       "23               tavg_weekly    0.018311  \n",
       "24               preciptotal    0.015458  \n",
       "25                      heat    0.004761  \n",
       "26         species_TERRITANS    0.004150  \n",
       "27         species_ERRATICUS    0.000697  \n",
       "28        species_SALINARIUS    0.000673  \n",
       "29          species_TARSALIS    0.000022  "
      ]
     },
     "execution_count": 29,
     "metadata": {},
     "output_type": "execute_result"
    }
   ],
   "source": [
    "get_impt_features(models)"
   ]
  },
  {
   "cell_type": "markdown",
   "metadata": {},
   "source": [
    "The selected model, Gradient Boosting Classifier, predicted that these are the most important features;\n",
    "- Longitude & Latitude\n",
    "- Daylight\n",
    "- Lagged temperature\n",
    "- Temperature fluctuation\n",
    "- Relative humidity\n",
    "- Species pipiens\n",
    "\n",
    "Location (operationalized by longitude and latitude) is not surprising considering the fact that infected mosquitoes tend to cluster at certain locations.\n",
    "\n",
    "Light intensity (operationalized by daylight hours) and relative humidity are 2 of the features identified during EDA. However, what was unexpected was that lagged temperature and temperature fluctuation are more predictive of WNV presence as compared to max temperature or average temperature. For a more in depth interpretation of meterological features on WNV presence, it is best to consult a biologist specializing in WNV and other infectious diseases that are transmitted by mosquitoes.\n",
    "\n",
    "Culex Pipiens was also the most likely transmission vector of WNV, according to our model."
   ]
  },
  {
   "cell_type": "markdown",
   "metadata": {},
   "source": [
    "# Generating Predictions for Kaggle"
   ]
  },
  {
   "cell_type": "code",
   "execution_count": null,
   "metadata": {},
   "outputs": [],
   "source": [
    "# import test dataset and final weather data\n",
    "test = pd.read_csv('../input_data/test.csv')\n",
    "weather = pd.read_csv('../output_data/weather_final.csv')\n",
    "\n",
    "# check test dataframe\n",
    "test.info()"
   ]
  },
  {
   "cell_type": "code",
   "execution_count": null,
   "metadata": {},
   "outputs": [],
   "source": [
    "# drop unnecessary columns\n",
    "test.drop(columns=['Address', 'Block', 'Street', 'Trap', \n",
    "                   'AddressNumberAndStreet', 'AddressAccuracy'], inplace=True)\n",
    "\n",
    "# rename columns to lowercase\n",
    "test.columns = test.columns.str.lower()\n",
    "\n",
    "# rename Species to drop 'CULEX'\n",
    "test['species'] = [i[6:] for i in test['species']]\n",
    "\n",
    "# check dataframe\n",
    "test.head()"
   ]
  },
  {
   "cell_type": "code",
   "execution_count": null,
   "metadata": {},
   "outputs": [],
   "source": [
    "# check weather dataframe\n",
    "weather.head()"
   ]
  },
  {
   "cell_type": "code",
   "execution_count": null,
   "metadata": {},
   "outputs": [],
   "source": [
    "# merge test with weather\n",
    "test = test.merge(weather, on='date', how='left')\n",
    "test.head()"
   ]
  },
  {
   "cell_type": "code",
   "execution_count": null,
   "metadata": {},
   "outputs": [],
   "source": [
    "# transform feature matrix\n",
    "X = pd.DataFrame(ct.fit_transform(test.drop(columns=['id','date'])), \n",
    "                       columns=ct.get_feature_names_out())"
   ]
  },
  {
   "cell_type": "code",
   "execution_count": null,
   "metadata": {
    "scrolled": true
   },
   "outputs": [],
   "source": [
    "X.columns"
   ]
  },
  {
   "cell_type": "code",
   "execution_count": null,
   "metadata": {},
   "outputs": [],
   "source": [
    "X.drop(columns=['species_IFIED CULEX'], inplace=True)"
   ]
  },
  {
   "cell_type": "code",
   "execution_count": null,
   "metadata": {},
   "outputs": [],
   "source": [
    "# get predictions in csv format\n",
    "def get_predictions(model):\n",
    "    df = pd.DataFrame([test.id, model.predict_proba(X)[:,1]]).T\n",
    "    df.rename(columns={'Unnamed 0': 'WnvPresent', 'id': 'Id'}, inplace=True)\n",
    "    df.Id = df.Id.astype(int)\n",
    "    return df\n",
    "\n",
    "get_predictions(rfc).to_csv('../output_data/submit_rfc.csv', index=False)\n",
    "get_predictions(svc).to_csv('../output_data/submit_svc.csv', index=False)\n",
    "get_predictions(lr).to_csv('../output_data/submit_lr.csv', index=False)\n",
    "get_predictions(knn).to_csv('../output_data/submit_knn.csv', index=False)\n",
    "get_predictions(gbc).to_csv('../output_data/submit_gbc.csv', index=False)\n",
    "get_predictions(xgb).to_csv('../output_data/submit_xgb.csv', index=False)\n",
    "get_predictions(et).to_csv('../output_data/submit_et.csv', index=False)"
   ]
  },
  {
   "cell_type": "code",
   "execution_count": null,
   "metadata": {},
   "outputs": [],
   "source": []
  }
 ],
 "metadata": {
  "kernelspec": {
   "display_name": "Python 3",
   "language": "python",
   "name": "python3"
  },
  "language_info": {
   "codemirror_mode": {
    "name": "ipython",
    "version": 3
   },
   "file_extension": ".py",
   "mimetype": "text/x-python",
   "name": "python",
   "nbconvert_exporter": "python",
   "pygments_lexer": "ipython3",
   "version": "3.7.4"
  }
 },
 "nbformat": 4,
 "nbformat_minor": 5
}
