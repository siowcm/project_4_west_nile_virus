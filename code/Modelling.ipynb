{
 "cells": [
  {
   "cell_type": "markdown",
   "id": "ae41a6e4",
   "metadata": {},
   "source": [
    "# Project 4: West Nile Virus - Modelling\n",
    "\n",
    "---\n",
    "# Table of Contents\n",
    "\n",
    "1. Import libraries\n",
    "2. Import data\n",
    "3. TBC\n",
    "4. TBC\n",
    "---\n"
   ]
  },
  {
   "cell_type": "markdown",
   "id": "e5be2124",
   "metadata": {},
   "source": [
    "# Import libraries"
   ]
  },
  {
   "cell_type": "code",
   "execution_count": 1,
   "id": "4488c092",
   "metadata": {},
   "outputs": [],
   "source": [
    "# imports\n",
    "import pandas as pd\n",
    "import numpy as np\n",
    "import matplotlib.pyplot as plt\n",
    "import seaborn as sns\n",
    "\n",
    "from sklearn.model_selection import train_test_split, GridSearchCV\n",
    "from sklearn.preprocessing import StandardScaler, OneHotEncoder, OrdinalEncoder\n",
    "from sklearn.compose import make_column_transformer, make_column_selector\n",
    "\n",
    "from sklearn.dummy import DummyClassifier\n",
    "from sklearn.ensemble import RandomForestClassifier,\\\n",
    "GradientBoostingClassifier, ExtraTreesClassifier\n",
    "from sklearn.tree import DecisionTreeClassifier\n",
    "from sklearn.neighbors import KNeighborsClassifier\n",
    "from sklearn.linear_model import LogisticRegression\n",
    "from sklearn.svm import SVC\n",
    "from xgboost import XGBClassifier\n",
    "\n",
    "from sklearn.metrics import confusion_matrix, recall_score, precision_score, \\\n",
    "roc_auc_score, plot_roc_curve, roc_curve, plot_confusion_matrix, accuracy_score,\\\n",
    "f1_score,ConfusionMatrixDisplay, RocCurveDisplay"
   ]
  },
  {
   "cell_type": "markdown",
   "id": "629a17e4",
   "metadata": {},
   "source": [
    "# Import data"
   ]
  },
  {
   "cell_type": "code",
   "execution_count": 2,
   "id": "7b5b55cb",
   "metadata": {},
   "outputs": [
    {
     "name": "stdout",
     "output_type": "stream",
     "text": [
      "Features in training set : ['species', 'latitude', 'longitude', 'wnvpresent', 'tmax', 'tmin', 'tavg', 'depart', 'dewpoint', 'wetbulb', 'heat', 'cool', 'preciptotal', 'temp_fluct', 'daylight', 'relative_hum']\n"
     ]
    }
   ],
   "source": [
    "# import training dataset\n",
    "train = pd.read_csv('../output_data/merged_train.csv')\n",
    "\n",
    "# data cleaning\n",
    "train.set_index('date', inplace=True)\n",
    "train.drop(columns='nummosquitos', inplace=True)\n",
    "\n",
    "# check the df columns\n",
    "print(f'Features in training set : {train.columns.tolist()}')"
   ]
  },
  {
   "cell_type": "code",
   "execution_count": 3,
   "id": "ff44b73b",
   "metadata": {},
   "outputs": [],
   "source": [
    "# define feature matrix and target vector\n",
    "X = train.drop(columns='wnvpresent')\n",
    "y = train['wnvpresent']"
   ]
  },
  {
   "cell_type": "markdown",
   "id": "36892046",
   "metadata": {},
   "source": [
    "# Preprocessing \n",
    "## Train-validation  split"
   ]
  },
  {
   "cell_type": "code",
   "execution_count": 4,
   "id": "ec5776de",
   "metadata": {},
   "outputs": [],
   "source": [
    "# split dataset into train and validation set\n",
    "X_train, X_val, y_train, y_val = train_test_split(X,\n",
    "                                                  y,\n",
    "                                                  random_state=42,\n",
    "                                                  stratify=y)"
   ]
  },
  {
   "cell_type": "code",
   "execution_count": 13,
   "id": "29169f1e",
   "metadata": {},
   "outputs": [
    {
     "name": "stdout",
     "output_type": "stream",
     "text": [
      "===== Train Set Shape =====\n",
      "Features X_train: (7879, 15)\n",
      "Targets y_train:  (7879,)\n",
      "\n",
      "== Validation Set Shape ==\n",
      "Features X_val:   (2627, 15)\n",
      "Targets y_val:    (2627,)\n"
     ]
    }
   ],
   "source": [
    "# check the shape of training and testing vectors\n",
    "print(\" Train Set Shape \".center(27, '='))\n",
    "print(f'Features X_train: {X_train.shape}')\n",
    "print(f'Targets y_train:  {y_train.shape}')\n",
    "print()\n",
    "print(\" Validation Set Shape \".center(26, '='))\n",
    "print(f'Features X_val:   {X_val.shape}')\n",
    "print(f'Targets y_val:    {y_val.shape}')"
   ]
  },
  {
   "cell_type": "markdown",
   "id": "e9a73065",
   "metadata": {},
   "source": [
    "## Features transformation "
   ]
  },
  {
   "cell_type": "code",
   "execution_count": 14,
   "id": "5cf2995e",
   "metadata": {},
   "outputs": [
    {
     "data": {
      "text/html": [
       "<div>\n",
       "<style scoped>\n",
       "    .dataframe tbody tr th:only-of-type {\n",
       "        vertical-align: middle;\n",
       "    }\n",
       "\n",
       "    .dataframe tbody tr th {\n",
       "        vertical-align: top;\n",
       "    }\n",
       "\n",
       "    .dataframe thead th {\n",
       "        text-align: right;\n",
       "    }\n",
       "</style>\n",
       "<table border=\"1\" class=\"dataframe\">\n",
       "  <thead>\n",
       "    <tr style=\"text-align: right;\">\n",
       "      <th></th>\n",
       "      <th>latitude</th>\n",
       "      <th>longitude</th>\n",
       "      <th>tmax</th>\n",
       "      <th>tmin</th>\n",
       "      <th>tavg</th>\n",
       "      <th>depart</th>\n",
       "      <th>dewpoint</th>\n",
       "      <th>wetbulb</th>\n",
       "      <th>heat</th>\n",
       "      <th>cool</th>\n",
       "      <th>...</th>\n",
       "      <th>temp_fluct</th>\n",
       "      <th>daylight</th>\n",
       "      <th>relative_hum</th>\n",
       "      <th>species_ERRATICUS</th>\n",
       "      <th>species_PIPIENS</th>\n",
       "      <th>species_PIPIENS/RESTUANS</th>\n",
       "      <th>species_RESTUANS</th>\n",
       "      <th>species_SALINARIUS</th>\n",
       "      <th>species_TARSALIS</th>\n",
       "      <th>species_TERRITANS</th>\n",
       "    </tr>\n",
       "  </thead>\n",
       "  <tbody>\n",
       "    <tr>\n",
       "      <th>0</th>\n",
       "      <td>-0.863790</td>\n",
       "      <td>-0.329696</td>\n",
       "      <td>0.435022</td>\n",
       "      <td>-0.552766</td>\n",
       "      <td>-0.002088</td>\n",
       "      <td>0.350149</td>\n",
       "      <td>-0.412475</td>\n",
       "      <td>-0.198591</td>\n",
       "      <td>-0.328471</td>\n",
       "      <td>-0.157190</td>\n",
       "      <td>...</td>\n",
       "      <td>1.483017</td>\n",
       "      <td>-1.008347</td>\n",
       "      <td>-0.811214</td>\n",
       "      <td>0.0</td>\n",
       "      <td>1.0</td>\n",
       "      <td>0.0</td>\n",
       "      <td>0.0</td>\n",
       "      <td>0.0</td>\n",
       "      <td>0.0</td>\n",
       "      <td>0.0</td>\n",
       "    </tr>\n",
       "    <tr>\n",
       "      <th>1</th>\n",
       "      <td>0.515998</td>\n",
       "      <td>-0.176909</td>\n",
       "      <td>0.495685</td>\n",
       "      <td>0.048510</td>\n",
       "      <td>0.266496</td>\n",
       "      <td>1.120683</td>\n",
       "      <td>-0.092320</td>\n",
       "      <td>0.025375</td>\n",
       "      <td>-0.328471</td>\n",
       "      <td>0.193288</td>\n",
       "      <td>...</td>\n",
       "      <td>0.714862</td>\n",
       "      <td>-1.262680</td>\n",
       "      <td>-0.690378</td>\n",
       "      <td>0.0</td>\n",
       "      <td>1.0</td>\n",
       "      <td>0.0</td>\n",
       "      <td>0.0</td>\n",
       "      <td>0.0</td>\n",
       "      <td>0.0</td>\n",
       "      <td>0.0</td>\n",
       "    </tr>\n",
       "    <tr>\n",
       "      <th>2</th>\n",
       "      <td>-0.661906</td>\n",
       "      <td>1.428458</td>\n",
       "      <td>-2.962122</td>\n",
       "      <td>-2.356596</td>\n",
       "      <td>-2.822215</td>\n",
       "      <td>-1.653240</td>\n",
       "      <td>-2.333406</td>\n",
       "      <td>-2.662212</td>\n",
       "      <td>4.515917</td>\n",
       "      <td>-1.559102</td>\n",
       "      <td>...</td>\n",
       "      <td>-1.301544</td>\n",
       "      <td>-2.105158</td>\n",
       "      <td>0.402667</td>\n",
       "      <td>0.0</td>\n",
       "      <td>0.0</td>\n",
       "      <td>1.0</td>\n",
       "      <td>0.0</td>\n",
       "      <td>0.0</td>\n",
       "      <td>0.0</td>\n",
       "      <td>0.0</td>\n",
       "    </tr>\n",
       "    <tr>\n",
       "      <th>3</th>\n",
       "      <td>-1.013760</td>\n",
       "      <td>1.193503</td>\n",
       "      <td>0.980991</td>\n",
       "      <td>0.783404</td>\n",
       "      <td>0.937954</td>\n",
       "      <td>0.966576</td>\n",
       "      <td>1.380393</td>\n",
       "      <td>1.219858</td>\n",
       "      <td>-0.328471</td>\n",
       "      <td>1.069483</td>\n",
       "      <td>...</td>\n",
       "      <td>0.426804</td>\n",
       "      <td>-0.372515</td>\n",
       "      <td>1.018749</td>\n",
       "      <td>0.0</td>\n",
       "      <td>1.0</td>\n",
       "      <td>0.0</td>\n",
       "      <td>0.0</td>\n",
       "      <td>0.0</td>\n",
       "      <td>0.0</td>\n",
       "      <td>0.0</td>\n",
       "    </tr>\n",
       "    <tr>\n",
       "      <th>4</th>\n",
       "      <td>0.188928</td>\n",
       "      <td>0.531668</td>\n",
       "      <td>0.374358</td>\n",
       "      <td>0.716595</td>\n",
       "      <td>0.535079</td>\n",
       "      <td>0.041935</td>\n",
       "      <td>1.124269</td>\n",
       "      <td>0.921237</td>\n",
       "      <td>-0.328471</td>\n",
       "      <td>0.543766</td>\n",
       "      <td>...</td>\n",
       "      <td>-0.437370</td>\n",
       "      <td>0.819670</td>\n",
       "      <td>1.269894</td>\n",
       "      <td>0.0</td>\n",
       "      <td>1.0</td>\n",
       "      <td>0.0</td>\n",
       "      <td>0.0</td>\n",
       "      <td>0.0</td>\n",
       "      <td>0.0</td>\n",
       "      <td>0.0</td>\n",
       "    </tr>\n",
       "  </tbody>\n",
       "</table>\n",
       "<p>5 rows × 21 columns</p>\n",
       "</div>"
      ],
      "text/plain": [
       "   latitude  longitude      tmax      tmin      tavg    depart  dewpoint  \\\n",
       "0 -0.863790  -0.329696  0.435022 -0.552766 -0.002088  0.350149 -0.412475   \n",
       "1  0.515998  -0.176909  0.495685  0.048510  0.266496  1.120683 -0.092320   \n",
       "2 -0.661906   1.428458 -2.962122 -2.356596 -2.822215 -1.653240 -2.333406   \n",
       "3 -1.013760   1.193503  0.980991  0.783404  0.937954  0.966576  1.380393   \n",
       "4  0.188928   0.531668  0.374358  0.716595  0.535079  0.041935  1.124269   \n",
       "\n",
       "    wetbulb      heat      cool  ...  temp_fluct  daylight  relative_hum  \\\n",
       "0 -0.198591 -0.328471 -0.157190  ...    1.483017 -1.008347     -0.811214   \n",
       "1  0.025375 -0.328471  0.193288  ...    0.714862 -1.262680     -0.690378   \n",
       "2 -2.662212  4.515917 -1.559102  ...   -1.301544 -2.105158      0.402667   \n",
       "3  1.219858 -0.328471  1.069483  ...    0.426804 -0.372515      1.018749   \n",
       "4  0.921237 -0.328471  0.543766  ...   -0.437370  0.819670      1.269894   \n",
       "\n",
       "   species_ERRATICUS  species_PIPIENS  species_PIPIENS/RESTUANS  \\\n",
       "0                0.0              1.0                       0.0   \n",
       "1                0.0              1.0                       0.0   \n",
       "2                0.0              0.0                       1.0   \n",
       "3                0.0              1.0                       0.0   \n",
       "4                0.0              1.0                       0.0   \n",
       "\n",
       "   species_RESTUANS  species_SALINARIUS  species_TARSALIS  species_TERRITANS  \n",
       "0               0.0                 0.0               0.0                0.0  \n",
       "1               0.0                 0.0               0.0                0.0  \n",
       "2               0.0                 0.0               0.0                0.0  \n",
       "3               0.0                 0.0               0.0                0.0  \n",
       "4               0.0                 0.0               0.0                0.0  \n",
       "\n",
       "[5 rows x 21 columns]"
      ]
     },
     "execution_count": 14,
     "metadata": {},
     "output_type": "execute_result"
    }
   ],
   "source": [
    "# instantiate transformers \n",
    "ohe = OneHotEncoder(sparse=False, handle_unknown='ignore')\n",
    "sc = StandardScaler()\n",
    "\n",
    "\n",
    "# instantiate transformers into column transformer \n",
    "ct = make_column_transformer(\n",
    "    (sc, make_column_selector(dtype_include='number')),\n",
    "    (ohe, make_column_selector(dtype_exclude='number')),\n",
    "    remainder='passthrough', \n",
    "    verbose_feature_names_out=False\n",
    ")\n",
    "\n",
    "# transform feature matrix\n",
    "X_train = pd.DataFrame(ct.fit_transform(X_train), \n",
    "                       columns=ct.get_feature_names_out())\n",
    "\n",
    "X_val = pd.DataFrame(ct.transform(X_val), \n",
    "                       columns=ct.get_feature_names_out())\n",
    "\n",
    "# check X matrix after transformation\n",
    "X_train.head()"
   ]
  },
  {
   "cell_type": "code",
   "execution_count": 15,
   "id": "2f3be49c",
   "metadata": {},
   "outputs": [
    {
     "name": "stdout",
     "output_type": "stream",
     "text": [
      "Features in X matrix: ['latitude', 'longitude', 'tmax', 'tmin', 'tavg', 'depart', 'dewpoint', 'wetbulb', 'heat', 'cool', 'preciptotal', 'temp_fluct', 'daylight', 'relative_hum', 'species_ERRATICUS', 'species_PIPIENS', 'species_PIPIENS/RESTUANS', 'species_RESTUANS', 'species_SALINARIUS', 'species_TARSALIS', 'species_TERRITANS']\n"
     ]
    }
   ],
   "source": [
    "# check the df cloumns\n",
    "print(f'Features in X matrix: {X_train.columns.tolist()}')"
   ]
  },
  {
   "cell_type": "code",
   "execution_count": 16,
   "id": "2817a439",
   "metadata": {},
   "outputs": [
    {
     "name": "stdout",
     "output_type": "stream",
     "text": [
      "===== Train Set Shape =====\n",
      "Features X_train: (7879, 21)\n",
      "Targets y_train:  (7879,)\n",
      "\n",
      "== Validation Set Shape ==\n",
      "Features X_val:   (2627, 21)\n",
      "Targets y_val:    (2627,)\n"
     ]
    }
   ],
   "source": [
    "# check the shape of training and testing vectors\n",
    "print(\" Train Set Shape \".center(27, '='))\n",
    "print(f'Features X_train: {X_train.shape}')\n",
    "print(f'Targets y_train:  {y_train.shape}')\n",
    "print()\n",
    "print(\" Validation Set Shape \".center(26, '='))\n",
    "print(f'Features X_val:   {X_val.shape}')\n",
    "print(f'Targets y_val:    {y_val.shape}')"
   ]
  },
  {
   "cell_type": "markdown",
   "id": "ebb01bab",
   "metadata": {},
   "source": [
    "# Modelling\n",
    "## Functions used"
   ]
  },
  {
   "cell_type": "code",
   "execution_count": 42,
   "id": "4f8f8e50",
   "metadata": {},
   "outputs": [],
   "source": [
    "def fit_gs(clf, params):\n",
    "    \"\"\"fits a GridSearchCV to a classifier, prints best params and returns model\"\"\"\n",
    "    \n",
    "    gs = GridSearchCV(clf, params, cv=5, n_jobs=-1, scoring= \"roc_auc\")\n",
    "    gs.fit(X_train, y_train)\n",
    "    \n",
    "    print(f\"Best Parameters: {gs.best_params_}\")\n",
    "    \n",
    "    return gs"
   ]
  },
  {
   "cell_type": "code",
   "execution_count": 112,
   "id": "050be4aa",
   "metadata": {},
   "outputs": [],
   "source": [
    "def eval_model(model):\n",
    "    \"\"\"returns dataframe of evaluation metrics for classifier\"\"\"\n",
    "    \n",
    "    # get predictions\n",
    "    y_pred = model.predict(X_val)\n",
    "    y_proba = model.predict_proba(X_val)[:,1]\n",
    "        \n",
    "    # metrics for evaluating classifier\n",
    "    tn, fp, fn, tp = confusion_matrix(y_val, y_pred).ravel()\n",
    "    \n",
    "    accuracy = (tn + fn) / (tn + fp + fn + tp)\n",
    "    \n",
    "    if (tn + fp) != 0:\n",
    "        spec = tn / (tn + fp)\n",
    "    else:\n",
    "        spec = 'NA'\n",
    "        \n",
    "    if (tp + fn) != 0:\n",
    "        recall = tp / (tp + fn)\n",
    "    else:\n",
    "        recall = np.nan\n",
    "\n",
    "    if (tp + fp) != 0:\n",
    "        precision = tp / (tp + fp)\n",
    "    else:\n",
    "        precision = np.nan\n",
    "        \n",
    "    if recall == np.nan or precision == np.nan:\n",
    "        f1 = np.nan\n",
    "    else:\n",
    "        f1 = 2*((precision*recall)/(precision+recall))\n",
    "\n",
    "    roc = roc_auc_score(y_val, y_proba)\n",
    "    \n",
    "    try:\n",
    "        model_name = str(model.estimator)[:-2]\n",
    "    except:\n",
    "        model_name = 'Dummy'\n",
    "        \n",
    "    df = pd.DataFrame([np.round([accuracy, spec, recall, precision, f1, fp, fn, roc], 3)], \n",
    "                      columns = [\"Accuracy\", \n",
    "                                 \"Specificity\", \n",
    "                                 \"Recall\", \n",
    "                                 \"Precision\", \n",
    "                                 \"F1\", \n",
    "                                 \"False Positives\", \n",
    "                                 \"False Negatives\", \n",
    "                                 \"ROC-AUC\"], \n",
    "                      index = [model_name],\n",
    "                      dtype='str')\n",
    "    return df"
   ]
  },
  {
   "cell_type": "markdown",
   "id": "6189aa4e",
   "metadata": {},
   "source": [
    "## (0) Dummy model"
   ]
  },
  {
   "cell_type": "code",
   "execution_count": 114,
   "id": "66704f27",
   "metadata": {},
   "outputs": [
    {
     "data": {
      "text/html": [
       "<div>\n",
       "<style scoped>\n",
       "    .dataframe tbody tr th:only-of-type {\n",
       "        vertical-align: middle;\n",
       "    }\n",
       "\n",
       "    .dataframe tbody tr th {\n",
       "        vertical-align: top;\n",
       "    }\n",
       "\n",
       "    .dataframe thead th {\n",
       "        text-align: right;\n",
       "    }\n",
       "</style>\n",
       "<table border=\"1\" class=\"dataframe\">\n",
       "  <thead>\n",
       "    <tr style=\"text-align: right;\">\n",
       "      <th></th>\n",
       "      <th>Accuracy</th>\n",
       "      <th>Specificity</th>\n",
       "      <th>Recall</th>\n",
       "      <th>Precision</th>\n",
       "      <th>F1</th>\n",
       "      <th>False Positives</th>\n",
       "      <th>False Negatives</th>\n",
       "      <th>ROC-AUC</th>\n",
       "    </tr>\n",
       "  </thead>\n",
       "  <tbody>\n",
       "    <tr>\n",
       "      <th>Dummy</th>\n",
       "      <td>1.0</td>\n",
       "      <td>1.0</td>\n",
       "      <td>0.0</td>\n",
       "      <td>NaN</td>\n",
       "      <td>NaN</td>\n",
       "      <td>0.0</td>\n",
       "      <td>138.0</td>\n",
       "      <td>0.5</td>\n",
       "    </tr>\n",
       "  </tbody>\n",
       "</table>\n",
       "</div>"
      ],
      "text/plain": [
       "      Accuracy Specificity Recall Precision   F1 False Positives  \\\n",
       "Dummy      1.0         1.0    0.0       NaN  NaN             0.0   \n",
       "\n",
       "      False Negatives ROC-AUC  \n",
       "Dummy           138.0     0.5  "
      ]
     },
     "execution_count": 114,
     "metadata": {},
     "output_type": "execute_result"
    }
   ],
   "source": [
    "# fit dummy model\n",
    "dummy = DummyClassifier(strategy=\"most_frequent\", random_state=42)\n",
    "dummy.fit(X_train, y_train)\n",
    "\n",
    "dummy_result = eval_model(dummy)\n",
    "dummy_result"
   ]
  },
  {
   "cell_type": "markdown",
   "id": "f6cb7aa8",
   "metadata": {},
   "source": [
    "## (1) Random forest classifier"
   ]
  },
  {
   "cell_type": "code",
   "execution_count": 79,
   "id": "19aa94ac",
   "metadata": {},
   "outputs": [
    {
     "name": "stdout",
     "output_type": "stream",
     "text": [
      "Best Parameters: {'class_weight': {0: 1, 1: 10}, 'max_depth': 10, 'n_estimators': 100, 'random_state': 42}\n"
     ]
    }
   ],
   "source": [
    "rfc_params = {\"n_estimators\": [10, 50, 100, 250], \n",
    "              \"max_depth\": [5, 10, 20],\n",
    "              \"class_weight\": [None, {0:1,1:5}, {0:1,1:10}, {0:1,1:25}],\n",
    "              \"random_state\": [42]\n",
    "             }\n",
    "rfc = fit_gs(RandomForestClassifier(), rfc_params)"
   ]
  },
  {
   "cell_type": "code",
   "execution_count": 113,
   "id": "ed55eee8",
   "metadata": {},
   "outputs": [
    {
     "data": {
      "text/html": [
       "<div>\n",
       "<style scoped>\n",
       "    .dataframe tbody tr th:only-of-type {\n",
       "        vertical-align: middle;\n",
       "    }\n",
       "\n",
       "    .dataframe tbody tr th {\n",
       "        vertical-align: top;\n",
       "    }\n",
       "\n",
       "    .dataframe thead th {\n",
       "        text-align: right;\n",
       "    }\n",
       "</style>\n",
       "<table border=\"1\" class=\"dataframe\">\n",
       "  <thead>\n",
       "    <tr style=\"text-align: right;\">\n",
       "      <th></th>\n",
       "      <th>Accuracy</th>\n",
       "      <th>Specificity</th>\n",
       "      <th>Recall</th>\n",
       "      <th>Precision</th>\n",
       "      <th>F1</th>\n",
       "      <th>False Positives</th>\n",
       "      <th>False Negatives</th>\n",
       "      <th>ROC-AUC</th>\n",
       "    </tr>\n",
       "  </thead>\n",
       "  <tbody>\n",
       "    <tr>\n",
       "      <th>RandomForestClassifier</th>\n",
       "      <td>0.884</td>\n",
       "      <td>0.903</td>\n",
       "      <td>0.449</td>\n",
       "      <td>0.204</td>\n",
       "      <td>0.281</td>\n",
       "      <td>242.0</td>\n",
       "      <td>76.0</td>\n",
       "      <td>0.824</td>\n",
       "    </tr>\n",
       "  </tbody>\n",
       "</table>\n",
       "</div>"
      ],
      "text/plain": [
       "                       Accuracy Specificity Recall Precision     F1  \\\n",
       "RandomForestClassifier    0.884       0.903  0.449     0.204  0.281   \n",
       "\n",
       "                       False Positives False Negatives ROC-AUC  \n",
       "RandomForestClassifier           242.0            76.0   0.824  "
      ]
     },
     "execution_count": 113,
     "metadata": {},
     "output_type": "execute_result"
    }
   ],
   "source": [
    "rfc_result = eval_model(rfc)\n",
    "rfc_result"
   ]
  },
  {
   "cell_type": "markdown",
   "id": "cf94deb3",
   "metadata": {},
   "source": [
    "## (2) Support vector classifier"
   ]
  },
  {
   "cell_type": "code",
   "execution_count": 81,
   "id": "e56fb857",
   "metadata": {},
   "outputs": [
    {
     "name": "stdout",
     "output_type": "stream",
     "text": [
      "Best Parameters: {'C': 1, 'class_weight': {0: 1, 1: 10}, 'probability': True, 'random_state': 42}\n"
     ]
    }
   ],
   "source": [
    "svc_params = {\"C\": [10**-2, 10**-1, 10**0, 10**1, 10**2],\n",
    "              \"class_weight\": [None, {0:1,1:10}, {0:1,1:25}],\n",
    "              \"probability\": [True],\n",
    "              \"random_state\": [42]\n",
    "             }\n",
    "svc = fit_gs(SVC(), svc_params)"
   ]
  },
  {
   "cell_type": "code",
   "execution_count": 115,
   "id": "587f2e6c",
   "metadata": {},
   "outputs": [
    {
     "data": {
      "text/html": [
       "<div>\n",
       "<style scoped>\n",
       "    .dataframe tbody tr th:only-of-type {\n",
       "        vertical-align: middle;\n",
       "    }\n",
       "\n",
       "    .dataframe tbody tr th {\n",
       "        vertical-align: top;\n",
       "    }\n",
       "\n",
       "    .dataframe thead th {\n",
       "        text-align: right;\n",
       "    }\n",
       "</style>\n",
       "<table border=\"1\" class=\"dataframe\">\n",
       "  <thead>\n",
       "    <tr style=\"text-align: right;\">\n",
       "      <th></th>\n",
       "      <th>Accuracy</th>\n",
       "      <th>Specificity</th>\n",
       "      <th>Recall</th>\n",
       "      <th>Precision</th>\n",
       "      <th>F1</th>\n",
       "      <th>False Positives</th>\n",
       "      <th>False Negatives</th>\n",
       "      <th>ROC-AUC</th>\n",
       "    </tr>\n",
       "  </thead>\n",
       "  <tbody>\n",
       "    <tr>\n",
       "      <th>SVC</th>\n",
       "      <td>0.808</td>\n",
       "      <td>0.832</td>\n",
       "      <td>0.616</td>\n",
       "      <td>0.169</td>\n",
       "      <td>0.265</td>\n",
       "      <td>419.0</td>\n",
       "      <td>53.0</td>\n",
       "      <td>0.812</td>\n",
       "    </tr>\n",
       "  </tbody>\n",
       "</table>\n",
       "</div>"
      ],
      "text/plain": [
       "    Accuracy Specificity Recall Precision     F1 False Positives  \\\n",
       "SVC    0.808       0.832  0.616     0.169  0.265           419.0   \n",
       "\n",
       "    False Negatives ROC-AUC  \n",
       "SVC            53.0   0.812  "
      ]
     },
     "execution_count": 115,
     "metadata": {},
     "output_type": "execute_result"
    }
   ],
   "source": [
    "svc_result = eval_model(svc)\n",
    "svc_result"
   ]
  },
  {
   "cell_type": "markdown",
   "id": "80d96080",
   "metadata": {},
   "source": [
    "## (3) Logistic regression"
   ]
  },
  {
   "cell_type": "code",
   "execution_count": 83,
   "id": "5f76aa01",
   "metadata": {},
   "outputs": [
    {
     "name": "stdout",
     "output_type": "stream",
     "text": [
      "Best Parameters: {'C': 1, 'class_weight': {0: 1, 1: 5}, 'max_iter': 50, 'penalty': 'l1', 'random_state': 42, 'solver': 'liblinear'}\n"
     ]
    }
   ],
   "source": [
    "lr_params = {\"C\": [10**-2, 10**-1, 10**0, 10**1, 10**2],\n",
    "             \"penalty\": ['l1', 'l2'],\n",
    "             \"max_iter\": [50, 100, 250],\n",
    "             \"class_weight\": [None, {0:1,1:5}, {0:1,1:10}, {0:1,1:25}],\n",
    "             \"solver\": ['liblinear'],\n",
    "             \"random_state\": [42]\n",
    "            }\n",
    "\n",
    "lr = fit_gs(LogisticRegression(), lr_params)"
   ]
  },
  {
   "cell_type": "code",
   "execution_count": 116,
   "id": "3668fb9c",
   "metadata": {},
   "outputs": [
    {
     "data": {
      "text/html": [
       "<div>\n",
       "<style scoped>\n",
       "    .dataframe tbody tr th:only-of-type {\n",
       "        vertical-align: middle;\n",
       "    }\n",
       "\n",
       "    .dataframe tbody tr th {\n",
       "        vertical-align: top;\n",
       "    }\n",
       "\n",
       "    .dataframe thead th {\n",
       "        text-align: right;\n",
       "    }\n",
       "</style>\n",
       "<table border=\"1\" class=\"dataframe\">\n",
       "  <thead>\n",
       "    <tr style=\"text-align: right;\">\n",
       "      <th></th>\n",
       "      <th>Accuracy</th>\n",
       "      <th>Specificity</th>\n",
       "      <th>Recall</th>\n",
       "      <th>Precision</th>\n",
       "      <th>F1</th>\n",
       "      <th>False Positives</th>\n",
       "      <th>False Negatives</th>\n",
       "      <th>ROC-AUC</th>\n",
       "    </tr>\n",
       "  </thead>\n",
       "  <tbody>\n",
       "    <tr>\n",
       "      <th>LogisticRegression</th>\n",
       "      <td>0.953</td>\n",
       "      <td>0.961</td>\n",
       "      <td>0.188</td>\n",
       "      <td>0.211</td>\n",
       "      <td>0.199</td>\n",
       "      <td>97.0</td>\n",
       "      <td>112.0</td>\n",
       "      <td>0.792</td>\n",
       "    </tr>\n",
       "  </tbody>\n",
       "</table>\n",
       "</div>"
      ],
      "text/plain": [
       "                   Accuracy Specificity Recall Precision     F1  \\\n",
       "LogisticRegression    0.953       0.961  0.188     0.211  0.199   \n",
       "\n",
       "                   False Positives False Negatives ROC-AUC  \n",
       "LogisticRegression            97.0           112.0   0.792  "
      ]
     },
     "execution_count": 116,
     "metadata": {},
     "output_type": "execute_result"
    }
   ],
   "source": [
    "lr_result = eval_model(lr)\n",
    "lr_result"
   ]
  },
  {
   "cell_type": "markdown",
   "id": "dcd5a827",
   "metadata": {},
   "source": [
    "## (4) K-nearest neighbour"
   ]
  },
  {
   "cell_type": "code",
   "execution_count": 62,
   "id": "9cd9c025",
   "metadata": {},
   "outputs": [
    {
     "name": "stdout",
     "output_type": "stream",
     "text": [
      "Best Parameters: {'n_neighbors': 75}\n"
     ]
    }
   ],
   "source": [
    "knn_params = {\"n_neighbors\": [5,15,25,45,75]}\n",
    "\n",
    "knn = fit_gs(KNeighborsClassifier(), knn_params)"
   ]
  },
  {
   "cell_type": "code",
   "execution_count": 117,
   "id": "16c5422e",
   "metadata": {},
   "outputs": [
    {
     "data": {
      "text/html": [
       "<div>\n",
       "<style scoped>\n",
       "    .dataframe tbody tr th:only-of-type {\n",
       "        vertical-align: middle;\n",
       "    }\n",
       "\n",
       "    .dataframe tbody tr th {\n",
       "        vertical-align: top;\n",
       "    }\n",
       "\n",
       "    .dataframe thead th {\n",
       "        text-align: right;\n",
       "    }\n",
       "</style>\n",
       "<table border=\"1\" class=\"dataframe\">\n",
       "  <thead>\n",
       "    <tr style=\"text-align: right;\">\n",
       "      <th></th>\n",
       "      <th>Accuracy</th>\n",
       "      <th>Specificity</th>\n",
       "      <th>Recall</th>\n",
       "      <th>Precision</th>\n",
       "      <th>F1</th>\n",
       "      <th>False Positives</th>\n",
       "      <th>False Negatives</th>\n",
       "      <th>ROC-AUC</th>\n",
       "    </tr>\n",
       "  </thead>\n",
       "  <tbody>\n",
       "    <tr>\n",
       "      <th>KNeighborsClassifier</th>\n",
       "      <td>1.0</td>\n",
       "      <td>1.0</td>\n",
       "      <td>0.0</td>\n",
       "      <td>NaN</td>\n",
       "      <td>NaN</td>\n",
       "      <td>0.0</td>\n",
       "      <td>138.0</td>\n",
       "      <td>0.779</td>\n",
       "    </tr>\n",
       "  </tbody>\n",
       "</table>\n",
       "</div>"
      ],
      "text/plain": [
       "                     Accuracy Specificity Recall Precision   F1  \\\n",
       "KNeighborsClassifier      1.0         1.0    0.0       NaN  NaN   \n",
       "\n",
       "                     False Positives False Negatives ROC-AUC  \n",
       "KNeighborsClassifier             0.0           138.0   0.779  "
      ]
     },
     "execution_count": 117,
     "metadata": {},
     "output_type": "execute_result"
    }
   ],
   "source": [
    "knn_result = eval_model(knn)\n",
    "knn_result"
   ]
  },
  {
   "cell_type": "markdown",
   "id": "2359586e",
   "metadata": {},
   "source": [
    "## (5) Gradient boosting classifier"
   ]
  },
  {
   "cell_type": "code",
   "execution_count": 86,
   "id": "8da83a23",
   "metadata": {},
   "outputs": [
    {
     "name": "stdout",
     "output_type": "stream",
     "text": [
      "Best Parameters: {'max_depth': 5, 'n_estimators': 100, 'random_state': 42}\n"
     ]
    }
   ],
   "source": [
    "gbc_params = {\"n_estimators\": [10, 50, 100, 250],\n",
    "              \"max_depth\": [5, 10, 20],\n",
    "              \"random_state\": [42]\n",
    "             }\n",
    "gbc = fit_gs(GradientBoostingClassifier(), gbc_params)"
   ]
  },
  {
   "cell_type": "code",
   "execution_count": 118,
   "id": "bb553d78",
   "metadata": {},
   "outputs": [
    {
     "data": {
      "text/html": [
       "<div>\n",
       "<style scoped>\n",
       "    .dataframe tbody tr th:only-of-type {\n",
       "        vertical-align: middle;\n",
       "    }\n",
       "\n",
       "    .dataframe tbody tr th {\n",
       "        vertical-align: top;\n",
       "    }\n",
       "\n",
       "    .dataframe thead th {\n",
       "        text-align: right;\n",
       "    }\n",
       "</style>\n",
       "<table border=\"1\" class=\"dataframe\">\n",
       "  <thead>\n",
       "    <tr style=\"text-align: right;\">\n",
       "      <th></th>\n",
       "      <th>Accuracy</th>\n",
       "      <th>Specificity</th>\n",
       "      <th>Recall</th>\n",
       "      <th>Precision</th>\n",
       "      <th>F1</th>\n",
       "      <th>False Positives</th>\n",
       "      <th>False Negatives</th>\n",
       "      <th>ROC-AUC</th>\n",
       "    </tr>\n",
       "  </thead>\n",
       "  <tbody>\n",
       "    <tr>\n",
       "      <th>GradientBoostingClassifier</th>\n",
       "      <td>0.993</td>\n",
       "      <td>0.996</td>\n",
       "      <td>0.065</td>\n",
       "      <td>0.474</td>\n",
       "      <td>0.115</td>\n",
       "      <td>10.0</td>\n",
       "      <td>129.0</td>\n",
       "      <td>0.83</td>\n",
       "    </tr>\n",
       "  </tbody>\n",
       "</table>\n",
       "</div>"
      ],
      "text/plain": [
       "                           Accuracy Specificity Recall Precision     F1  \\\n",
       "GradientBoostingClassifier    0.993       0.996  0.065     0.474  0.115   \n",
       "\n",
       "                           False Positives False Negatives ROC-AUC  \n",
       "GradientBoostingClassifier            10.0           129.0    0.83  "
      ]
     },
     "execution_count": 118,
     "metadata": {},
     "output_type": "execute_result"
    }
   ],
   "source": [
    "gbc_result = eval_model(gbc)\n",
    "gbc_result"
   ]
  },
  {
   "cell_type": "markdown",
   "id": "3e7bb724",
   "metadata": {},
   "source": [
    "## (6) XGB classifier"
   ]
  },
  {
   "cell_type": "code",
   "execution_count": null,
   "id": "359b2621",
   "metadata": {},
   "outputs": [],
   "source": [
    "xgb_params = {\"use_label_encoder\": [False],\n",
    "              \"objective\": [\"binary:logistic\"],\n",
    "              \"eval_metric\": ['auc'],\n",
    "              \"learning_rate\":[0.1, 0.2, 0.5],\n",
    "              \"max_depth\": [5,8],\n",
    "              \"max_leaf_nodes\": [None,], #tune params\n",
    "              \"gamma\": np.linspace(5, 100, 8),\n",
    "              \"reg_alpha\": np.linspace(0.0001, 1, 8),\n",
    "              \"reg_lambda\": np.linspace(5, 100, 5)} #tune params\n",
    "\n",
    "xgb = fit_gs(XGBClassifier(random_state = 42), xgb_params)"
   ]
  },
  {
   "cell_type": "code",
   "execution_count": 119,
   "id": "1d4214af",
   "metadata": {},
   "outputs": [
    {
     "ename": "NameError",
     "evalue": "name 'xgb' is not defined",
     "output_type": "error",
     "traceback": [
      "\u001b[0;31m---------------------------------------------------------------------------\u001b[0m",
      "\u001b[0;31mNameError\u001b[0m                                 Traceback (most recent call last)",
      "\u001b[0;32m/var/folders/f5/csz5_csd4c11cy5h6lqwj2nw0000gp/T/ipykernel_50647/2717442378.py\u001b[0m in \u001b[0;36m<module>\u001b[0;34m\u001b[0m\n\u001b[0;32m----> 1\u001b[0;31m \u001b[0mxgb_result\u001b[0m \u001b[0;34m=\u001b[0m \u001b[0meval_model\u001b[0m\u001b[0;34m(\u001b[0m\u001b[0mxgb\u001b[0m\u001b[0;34m)\u001b[0m\u001b[0;34m\u001b[0m\u001b[0;34m\u001b[0m\u001b[0m\n\u001b[0m\u001b[1;32m      2\u001b[0m \u001b[0mxgb_result\u001b[0m\u001b[0;34m\u001b[0m\u001b[0;34m\u001b[0m\u001b[0m\n",
      "\u001b[0;31mNameError\u001b[0m: name 'xgb' is not defined"
     ]
    }
   ],
   "source": [
    "xgb_result = eval_model(xgb)\n",
    "xgb_result"
   ]
  },
  {
   "cell_type": "markdown",
   "id": "4f525080",
   "metadata": {},
   "source": [
    "## (7) Extra trees classifier"
   ]
  },
  {
   "cell_type": "code",
   "execution_count": 88,
   "id": "bf5b7a34",
   "metadata": {},
   "outputs": [
    {
     "name": "stdout",
     "output_type": "stream",
     "text": [
      "Best Parameters: {'max_depth': 10, 'max_leaf_nodes': None, 'min_samples_leaf': 10, 'random_state': 42}\n"
     ]
    }
   ],
   "source": [
    "et_params = {\"max_depth\": [3,5,10],\n",
    "             \"min_samples_leaf\": [1, 3, 10],\n",
    "             \"max_leaf_nodes\": [None, 5, 10],\n",
    "             \"random_state\": [42]\n",
    "            }\n",
    "et = fit_gs(ExtraTreesClassifier(), et_params)"
   ]
  },
  {
   "cell_type": "code",
   "execution_count": 120,
   "id": "be89e64d",
   "metadata": {},
   "outputs": [
    {
     "data": {
      "text/html": [
       "<div>\n",
       "<style scoped>\n",
       "    .dataframe tbody tr th:only-of-type {\n",
       "        vertical-align: middle;\n",
       "    }\n",
       "\n",
       "    .dataframe tbody tr th {\n",
       "        vertical-align: top;\n",
       "    }\n",
       "\n",
       "    .dataframe thead th {\n",
       "        text-align: right;\n",
       "    }\n",
       "</style>\n",
       "<table border=\"1\" class=\"dataframe\">\n",
       "  <thead>\n",
       "    <tr style=\"text-align: right;\">\n",
       "      <th></th>\n",
       "      <th>Accuracy</th>\n",
       "      <th>Specificity</th>\n",
       "      <th>Recall</th>\n",
       "      <th>Precision</th>\n",
       "      <th>F1</th>\n",
       "      <th>False Positives</th>\n",
       "      <th>False Negatives</th>\n",
       "      <th>ROC-AUC</th>\n",
       "    </tr>\n",
       "  </thead>\n",
       "  <tbody>\n",
       "    <tr>\n",
       "      <th>ExtraTreesClassifier</th>\n",
       "      <td>1.0</td>\n",
       "      <td>1.0</td>\n",
       "      <td>0.0</td>\n",
       "      <td>NaN</td>\n",
       "      <td>NaN</td>\n",
       "      <td>0.0</td>\n",
       "      <td>138.0</td>\n",
       "      <td>0.807</td>\n",
       "    </tr>\n",
       "  </tbody>\n",
       "</table>\n",
       "</div>"
      ],
      "text/plain": [
       "                     Accuracy Specificity Recall Precision   F1  \\\n",
       "ExtraTreesClassifier      1.0         1.0    0.0       NaN  NaN   \n",
       "\n",
       "                     False Positives False Negatives ROC-AUC  \n",
       "ExtraTreesClassifier             0.0           138.0   0.807  "
      ]
     },
     "execution_count": 120,
     "metadata": {},
     "output_type": "execute_result"
    }
   ],
   "source": [
    "et_result = eval_model(et)\n",
    "et_result"
   ]
  },
  {
   "cell_type": "markdown",
   "id": "916740ab",
   "metadata": {},
   "source": [
    "## Summary of results for all models"
   ]
  },
  {
   "cell_type": "code",
   "execution_count": 121,
   "id": "5ecc3c3e",
   "metadata": {},
   "outputs": [
    {
     "data": {
      "text/html": [
       "<div>\n",
       "<style scoped>\n",
       "    .dataframe tbody tr th:only-of-type {\n",
       "        vertical-align: middle;\n",
       "    }\n",
       "\n",
       "    .dataframe tbody tr th {\n",
       "        vertical-align: top;\n",
       "    }\n",
       "\n",
       "    .dataframe thead th {\n",
       "        text-align: right;\n",
       "    }\n",
       "</style>\n",
       "<table border=\"1\" class=\"dataframe\">\n",
       "  <thead>\n",
       "    <tr style=\"text-align: right;\">\n",
       "      <th></th>\n",
       "      <th>Accuracy</th>\n",
       "      <th>Specificity</th>\n",
       "      <th>Recall</th>\n",
       "      <th>Precision</th>\n",
       "      <th>F1</th>\n",
       "      <th>False Positives</th>\n",
       "      <th>False Negatives</th>\n",
       "      <th>ROC-AUC</th>\n",
       "    </tr>\n",
       "  </thead>\n",
       "  <tbody>\n",
       "    <tr>\n",
       "      <th>Dummy</th>\n",
       "      <td>1.0</td>\n",
       "      <td>1.0</td>\n",
       "      <td>0.0</td>\n",
       "      <td>NaN</td>\n",
       "      <td>NaN</td>\n",
       "      <td>0.0</td>\n",
       "      <td>138.0</td>\n",
       "      <td>0.5</td>\n",
       "    </tr>\n",
       "    <tr>\n",
       "      <th>RandomForestClassifier</th>\n",
       "      <td>0.884</td>\n",
       "      <td>0.903</td>\n",
       "      <td>0.449</td>\n",
       "      <td>0.204</td>\n",
       "      <td>0.281</td>\n",
       "      <td>242.0</td>\n",
       "      <td>76.0</td>\n",
       "      <td>0.824</td>\n",
       "    </tr>\n",
       "    <tr>\n",
       "      <th>SVC</th>\n",
       "      <td>0.808</td>\n",
       "      <td>0.832</td>\n",
       "      <td>0.616</td>\n",
       "      <td>0.169</td>\n",
       "      <td>0.265</td>\n",
       "      <td>419.0</td>\n",
       "      <td>53.0</td>\n",
       "      <td>0.812</td>\n",
       "    </tr>\n",
       "    <tr>\n",
       "      <th>LogisticRegression</th>\n",
       "      <td>0.953</td>\n",
       "      <td>0.961</td>\n",
       "      <td>0.188</td>\n",
       "      <td>0.211</td>\n",
       "      <td>0.199</td>\n",
       "      <td>97.0</td>\n",
       "      <td>112.0</td>\n",
       "      <td>0.792</td>\n",
       "    </tr>\n",
       "    <tr>\n",
       "      <th>KNeighborsClassifier</th>\n",
       "      <td>1.0</td>\n",
       "      <td>1.0</td>\n",
       "      <td>0.0</td>\n",
       "      <td>NaN</td>\n",
       "      <td>NaN</td>\n",
       "      <td>0.0</td>\n",
       "      <td>138.0</td>\n",
       "      <td>0.779</td>\n",
       "    </tr>\n",
       "    <tr>\n",
       "      <th>GradientBoostingClassifier</th>\n",
       "      <td>0.993</td>\n",
       "      <td>0.996</td>\n",
       "      <td>0.065</td>\n",
       "      <td>0.474</td>\n",
       "      <td>0.115</td>\n",
       "      <td>10.0</td>\n",
       "      <td>129.0</td>\n",
       "      <td>0.83</td>\n",
       "    </tr>\n",
       "    <tr>\n",
       "      <th>ExtraTreesClassifier</th>\n",
       "      <td>1.0</td>\n",
       "      <td>1.0</td>\n",
       "      <td>0.0</td>\n",
       "      <td>NaN</td>\n",
       "      <td>NaN</td>\n",
       "      <td>0.0</td>\n",
       "      <td>138.0</td>\n",
       "      <td>0.807</td>\n",
       "    </tr>\n",
       "  </tbody>\n",
       "</table>\n",
       "</div>"
      ],
      "text/plain": [
       "                           Accuracy Specificity Recall Precision     F1  \\\n",
       "Dummy                           1.0         1.0    0.0       NaN    NaN   \n",
       "RandomForestClassifier        0.884       0.903  0.449     0.204  0.281   \n",
       "SVC                           0.808       0.832  0.616     0.169  0.265   \n",
       "LogisticRegression            0.953       0.961  0.188     0.211  0.199   \n",
       "KNeighborsClassifier            1.0         1.0    0.0       NaN    NaN   \n",
       "GradientBoostingClassifier    0.993       0.996  0.065     0.474  0.115   \n",
       "ExtraTreesClassifier            1.0         1.0    0.0       NaN    NaN   \n",
       "\n",
       "                           False Positives False Negatives ROC-AUC  \n",
       "Dummy                                  0.0           138.0     0.5  \n",
       "RandomForestClassifier               242.0            76.0   0.824  \n",
       "SVC                                  419.0            53.0   0.812  \n",
       "LogisticRegression                    97.0           112.0   0.792  \n",
       "KNeighborsClassifier                   0.0           138.0   0.779  \n",
       "GradientBoostingClassifier            10.0           129.0    0.83  \n",
       "ExtraTreesClassifier                   0.0           138.0   0.807  "
      ]
     },
     "execution_count": 121,
     "metadata": {},
     "output_type": "execute_result"
    }
   ],
   "source": [
    "summary = pd.concat([dummy_result, rfc_result, svc_result, lr_result, knn_result, gbc_result,# xgb_result \n",
    "                    et_result]) \n",
    "summary"
   ]
  },
  {
   "cell_type": "markdown",
   "id": "e6141503",
   "metadata": {},
   "source": [
    "## ROC plot"
   ]
  },
  {
   "cell_type": "code",
   "execution_count": 122,
   "id": "9c76f520",
   "metadata": {},
   "outputs": [
    {
     "data": {
      "image/png": "[encoded data removed]",
      "text/plain": [
       "<Figure size 720x576 with 1 Axes>"
      ]
     },
     "metadata": {
      "needs_background": "light"
     },
     "output_type": "display_data"
    }
   ],
   "source": [
    "models = [dummy, rfc, svc, lr, knn, gbc, et]\n",
    "\n",
    "fig, ax = plt.subplots(figsize=(10,8))\n",
    "plt.plot([0, 1], [0, 1], \"k--\")\n",
    "for i, model in enumerate(models):\n",
    "    RocCurveDisplay.from_estimator(model,\n",
    "                                   X_val,\n",
    "                                   y_val,\n",
    "                                   ax=ax,\n",
    "                                   name=f'{summary.index[i]}')"
   ]
  },
  {
   "cell_type": "markdown",
   "id": "f17750a6",
   "metadata": {},
   "source": [
    "## Important features"
   ]
  },
  {
   "cell_type": "code",
   "execution_count": 130,
   "id": "08cb888b",
   "metadata": {},
   "outputs": [
    {
     "data": {
      "text/html": [
       "<div>\n",
       "<style scoped>\n",
       "    .dataframe tbody tr th:only-of-type {\n",
       "        vertical-align: middle;\n",
       "    }\n",
       "\n",
       "    .dataframe tbody tr th {\n",
       "        vertical-align: top;\n",
       "    }\n",
       "\n",
       "    .dataframe thead th {\n",
       "        text-align: right;\n",
       "    }\n",
       "</style>\n",
       "<table border=\"1\" class=\"dataframe\">\n",
       "  <thead>\n",
       "    <tr style=\"text-align: right;\">\n",
       "      <th></th>\n",
       "      <th>feature</th>\n",
       "      <th>importance</th>\n",
       "    </tr>\n",
       "  </thead>\n",
       "  <tbody>\n",
       "    <tr>\n",
       "      <th>12</th>\n",
       "      <td>daylight</td>\n",
       "      <td>0.182322</td>\n",
       "    </tr>\n",
       "    <tr>\n",
       "      <th>1</th>\n",
       "      <td>longitude</td>\n",
       "      <td>0.170955</td>\n",
       "    </tr>\n",
       "    <tr>\n",
       "      <th>0</th>\n",
       "      <td>latitude</td>\n",
       "      <td>0.132647</td>\n",
       "    </tr>\n",
       "    <tr>\n",
       "      <th>4</th>\n",
       "      <td>tavg</td>\n",
       "      <td>0.067102</td>\n",
       "    </tr>\n",
       "    <tr>\n",
       "      <th>2</th>\n",
       "      <td>tmax</td>\n",
       "      <td>0.050310</td>\n",
       "    </tr>\n",
       "    <tr>\n",
       "      <th>11</th>\n",
       "      <td>temp_fluct</td>\n",
       "      <td>0.048911</td>\n",
       "    </tr>\n",
       "    <tr>\n",
       "      <th>13</th>\n",
       "      <td>relative_hum</td>\n",
       "      <td>0.044527</td>\n",
       "    </tr>\n",
       "    <tr>\n",
       "      <th>9</th>\n",
       "      <td>cool</td>\n",
       "      <td>0.041424</td>\n",
       "    </tr>\n",
       "    <tr>\n",
       "      <th>7</th>\n",
       "      <td>wetbulb</td>\n",
       "      <td>0.039966</td>\n",
       "    </tr>\n",
       "    <tr>\n",
       "      <th>3</th>\n",
       "      <td>tmin</td>\n",
       "      <td>0.038181</td>\n",
       "    </tr>\n",
       "    <tr>\n",
       "      <th>6</th>\n",
       "      <td>dewpoint</td>\n",
       "      <td>0.036692</td>\n",
       "    </tr>\n",
       "    <tr>\n",
       "      <th>5</th>\n",
       "      <td>depart</td>\n",
       "      <td>0.036469</td>\n",
       "    </tr>\n",
       "    <tr>\n",
       "      <th>17</th>\n",
       "      <td>species_RESTUANS</td>\n",
       "      <td>0.034072</td>\n",
       "    </tr>\n",
       "    <tr>\n",
       "      <th>15</th>\n",
       "      <td>species_PIPIENS</td>\n",
       "      <td>0.025389</td>\n",
       "    </tr>\n",
       "    <tr>\n",
       "      <th>16</th>\n",
       "      <td>species_PIPIENS/RESTUANS</td>\n",
       "      <td>0.023366</td>\n",
       "    </tr>\n",
       "    <tr>\n",
       "      <th>10</th>\n",
       "      <td>preciptotal</td>\n",
       "      <td>0.019465</td>\n",
       "    </tr>\n",
       "    <tr>\n",
       "      <th>8</th>\n",
       "      <td>heat</td>\n",
       "      <td>0.005142</td>\n",
       "    </tr>\n",
       "    <tr>\n",
       "      <th>20</th>\n",
       "      <td>species_TERRITANS</td>\n",
       "      <td>0.002490</td>\n",
       "    </tr>\n",
       "    <tr>\n",
       "      <th>18</th>\n",
       "      <td>species_SALINARIUS</td>\n",
       "      <td>0.000463</td>\n",
       "    </tr>\n",
       "    <tr>\n",
       "      <th>14</th>\n",
       "      <td>species_ERRATICUS</td>\n",
       "      <td>0.000080</td>\n",
       "    </tr>\n",
       "    <tr>\n",
       "      <th>19</th>\n",
       "      <td>species_TARSALIS</td>\n",
       "      <td>0.000027</td>\n",
       "    </tr>\n",
       "  </tbody>\n",
       "</table>\n",
       "</div>"
      ],
      "text/plain": [
       "                     feature  importance\n",
       "12                  daylight    0.182322\n",
       "1                  longitude    0.170955\n",
       "0                   latitude    0.132647\n",
       "4                       tavg    0.067102\n",
       "2                       tmax    0.050310\n",
       "11                temp_fluct    0.048911\n",
       "13              relative_hum    0.044527\n",
       "9                       cool    0.041424\n",
       "7                    wetbulb    0.039966\n",
       "3                       tmin    0.038181\n",
       "6                   dewpoint    0.036692\n",
       "5                     depart    0.036469\n",
       "17          species_RESTUANS    0.034072\n",
       "15           species_PIPIENS    0.025389\n",
       "16  species_PIPIENS/RESTUANS    0.023366\n",
       "10               preciptotal    0.019465\n",
       "8                       heat    0.005142\n",
       "20         species_TERRITANS    0.002490\n",
       "18        species_SALINARIUS    0.000463\n",
       "14         species_ERRATICUS    0.000080\n",
       "19          species_TARSALIS    0.000027"
      ]
     },
     "execution_count": 130,
     "metadata": {},
     "output_type": "execute_result"
    }
   ],
   "source": [
    "# Random Forest Classifier\n",
    "importances = rfc.best_estimator_.feature_importances_\n",
    "pd.DataFrame(zip(X_train.columns,importances), columns=['feature','importance']).\\\n",
    "    sort_values('importance', ascending=False)"
   ]
  },
  {
   "cell_type": "code",
   "execution_count": 132,
   "id": "a548857d",
   "metadata": {},
   "outputs": [
    {
     "data": {
      "text/html": [
       "<div>\n",
       "<style scoped>\n",
       "    .dataframe tbody tr th:only-of-type {\n",
       "        vertical-align: middle;\n",
       "    }\n",
       "\n",
       "    .dataframe tbody tr th {\n",
       "        vertical-align: top;\n",
       "    }\n",
       "\n",
       "    .dataframe thead th {\n",
       "        text-align: right;\n",
       "    }\n",
       "</style>\n",
       "<table border=\"1\" class=\"dataframe\">\n",
       "  <thead>\n",
       "    <tr style=\"text-align: right;\">\n",
       "      <th></th>\n",
       "      <th>coef</th>\n",
       "    </tr>\n",
       "  </thead>\n",
       "  <tbody>\n",
       "    <tr>\n",
       "      <th>depart</th>\n",
       "      <td>-3.138318</td>\n",
       "    </tr>\n",
       "    <tr>\n",
       "      <th>species_TERRITANS</th>\n",
       "      <td>-2.912889</td>\n",
       "    </tr>\n",
       "    <tr>\n",
       "      <th>daylight</th>\n",
       "      <td>-2.445088</td>\n",
       "    </tr>\n",
       "    <tr>\n",
       "      <th>species_SALINARIUS</th>\n",
       "      <td>-1.800168</td>\n",
       "    </tr>\n",
       "    <tr>\n",
       "      <th>longitude</th>\n",
       "      <td>-0.429861</td>\n",
       "    </tr>\n",
       "    <tr>\n",
       "      <th>relative_hum</th>\n",
       "      <td>-0.288439</td>\n",
       "    </tr>\n",
       "    <tr>\n",
       "      <th>preciptotal</th>\n",
       "      <td>-0.074079</td>\n",
       "    </tr>\n",
       "    <tr>\n",
       "      <th>latitude</th>\n",
       "      <td>-0.051500</td>\n",
       "    </tr>\n",
       "    <tr>\n",
       "      <th>heat</th>\n",
       "      <td>-0.014914</td>\n",
       "    </tr>\n",
       "    <tr>\n",
       "      <th>wetbulb</th>\n",
       "      <td>0.000000</td>\n",
       "    </tr>\n",
       "    <tr>\n",
       "      <th>cool</th>\n",
       "      <td>0.000000</td>\n",
       "    </tr>\n",
       "    <tr>\n",
       "      <th>species_TARSALIS</th>\n",
       "      <td>0.000000</td>\n",
       "    </tr>\n",
       "    <tr>\n",
       "      <th>temp_fluct</th>\n",
       "      <td>0.000000</td>\n",
       "    </tr>\n",
       "    <tr>\n",
       "      <th>tavg</th>\n",
       "      <td>0.000000</td>\n",
       "    </tr>\n",
       "    <tr>\n",
       "      <th>species_ERRATICUS</th>\n",
       "      <td>0.000000</td>\n",
       "    </tr>\n",
       "    <tr>\n",
       "      <th>species_RESTUANS</th>\n",
       "      <td>0.000000</td>\n",
       "    </tr>\n",
       "    <tr>\n",
       "      <th>species_PIPIENS/RESTUANS</th>\n",
       "      <td>0.863588</td>\n",
       "    </tr>\n",
       "    <tr>\n",
       "      <th>dewpoint</th>\n",
       "      <td>1.008592</td>\n",
       "    </tr>\n",
       "    <tr>\n",
       "      <th>species_PIPIENS</th>\n",
       "      <td>1.170879</td>\n",
       "    </tr>\n",
       "    <tr>\n",
       "      <th>tmin</th>\n",
       "      <td>1.368925</td>\n",
       "    </tr>\n",
       "    <tr>\n",
       "      <th>tmax</th>\n",
       "      <td>1.627074</td>\n",
       "    </tr>\n",
       "  </tbody>\n",
       "</table>\n",
       "</div>"
      ],
      "text/plain": [
       "                              coef\n",
       "depart                   -3.138318\n",
       "species_TERRITANS        -2.912889\n",
       "daylight                 -2.445088\n",
       "species_SALINARIUS       -1.800168\n",
       "longitude                -0.429861\n",
       "relative_hum             -0.288439\n",
       "preciptotal              -0.074079\n",
       "latitude                 -0.051500\n",
       "heat                     -0.014914\n",
       "wetbulb                   0.000000\n",
       "cool                      0.000000\n",
       "species_TARSALIS          0.000000\n",
       "temp_fluct                0.000000\n",
       "tavg                      0.000000\n",
       "species_ERRATICUS         0.000000\n",
       "species_RESTUANS          0.000000\n",
       "species_PIPIENS/RESTUANS  0.863588\n",
       "dewpoint                  1.008592\n",
       "species_PIPIENS           1.170879\n",
       "tmin                      1.368925\n",
       "tmax                      1.627074"
      ]
     },
     "execution_count": 132,
     "metadata": {},
     "output_type": "execute_result"
    }
   ],
   "source": [
    "# Logistic Regression\n",
    "coef = lr.best_estimator_.coef_\n",
    "pd.DataFrame(coef, columns=X_train.columns, index=['coef']).T.sort_values('coef')"
   ]
  },
  {
   "cell_type": "code",
   "execution_count": null,
   "id": "d4d12db7",
   "metadata": {},
   "outputs": [],
   "source": []
  },
  {
   "cell_type": "code",
   "execution_count": null,
   "id": "26b106f4",
   "metadata": {},
   "outputs": [],
   "source": []
  },
  {
   "cell_type": "code",
   "execution_count": null,
   "id": "d9744be1",
   "metadata": {},
   "outputs": [],
   "source": []
  }
 ],
 "metadata": {
  "kernelspec": {
   "display_name": "Python 3 (ipykernel)",
   "language": "python",
   "name": "python3"
  },
  "language_info": {
   "codemirror_mode": {
    "name": "ipython",
    "version": 3
   },
   "file_extension": ".py",
   "mimetype": "text/x-python",
   "name": "python",
   "nbconvert_exporter": "python",
   "pygments_lexer": "ipython3",
   "version": "3.8.12"
  }
 },
 "nbformat": 4,
 "nbformat_minor": 5
}
