{
 "cells": [
  {
   "cell_type": "markdown",
   "id": "1ce630da",
   "metadata": {},
   "source": [
    "# Project 4: West Nile Virus - Modelling\n",
    "\n",
    "---\n",
    "# Table of Contents\n",
    "\n",
    "1. Import Libraries and Data\n",
    "2. Preprocessing\n",
    "3. Modelling\n",
    "4. Evaluating and Interpreting Results\n",
    "5. Generating Predictions for Kaggle\n",
    "6. Conclusion\n",
    "---\n"
   ]
  },
  {
   "cell_type": "markdown",
   "id": "d2191fac",
   "metadata": {},
   "source": [
    "# Import Libraries and Data"
   ]
  },
  {
   "cell_type": "code",
   "execution_count": 28,
   "id": "1bf9abf0",
   "metadata": {},
   "outputs": [],
   "source": [
    "# import libraries\n",
    "import pandas as pd\n",
    "import numpy as np\n",
    "import matplotlib.pyplot as plt\n",
    "# import seaborn as sns\n",
    "\n",
    "from sklearn.model_selection import train_test_split, GridSearchCV\n",
    "from sklearn.preprocessing import StandardScaler, OneHotEncoder, OrdinalEncoder\n",
    "from sklearn.compose import make_column_transformer, make_column_selector\n",
    "\n",
    "from sklearn.dummy import DummyClassifier\n",
    "from sklearn.ensemble import RandomForestClassifier, GradientBoostingClassifier, ExtraTreesClassifier\n",
    "from sklearn.neighbors import KNeighborsClassifier\n",
    "from sklearn.linear_model import LogisticRegression\n",
    "from sklearn.svm import SVC\n",
    "from xgboost import XGBClassifier\n",
    "\n",
    "from sklearn.metrics import confusion_matrix, roc_auc_score, RocCurveDisplay"
   ]
  },
  {
   "cell_type": "code",
   "execution_count": 2,
   "id": "2b3615a4",
   "metadata": {},
   "outputs": [
    {
     "name": "stdout",
     "output_type": "stream",
     "text": [
      "Features in training set : ['species', 'latitude', 'longitude', 'wnvpresent', 'tmax', 'tmin', 'tavg', 'depart', 'dewpoint', 'wetbulb', 'heat', 'cool', 'preciptotal', 'temp_fluct', 'daylight', 'relative_hum']\n"
     ]
    }
   ],
   "source": [
    "# import training dataset\n",
    "train = pd.read_csv('../output_data/merged_train.csv')\n",
    "\n",
    "# data cleaning\n",
    "train.set_index('date', inplace=True)\n",
    "train.drop(columns='nummosquitos', inplace=True)\n",
    "\n",
    "# check the df columns\n",
    "print(f'Features in training set : {train.columns.tolist()}')"
   ]
  },
  {
   "cell_type": "code",
   "execution_count": 3,
   "id": "a221c6a4",
   "metadata": {},
   "outputs": [],
   "source": [
    "# define feature matrix and target vector\n",
    "X = train.drop(columns='wnvpresent')\n",
    "y = train['wnvpresent']"
   ]
  },
  {
   "cell_type": "markdown",
   "id": "982ef4f1",
   "metadata": {},
   "source": [
    "# Preprocessing \n",
    "## Train-validation  split"
   ]
  },
  {
   "cell_type": "code",
   "execution_count": 4,
   "id": "21d6a14b",
   "metadata": {},
   "outputs": [],
   "source": [
    "# split dataset into train and validation set\n",
    "X_train, X_val, y_train, y_val = train_test_split(X,\n",
    "                                                  y,\n",
    "                                                  random_state=42,\n",
    "                                                  stratify=y)"
   ]
  },
  {
   "cell_type": "code",
   "execution_count": 5,
   "id": "31bc274f",
   "metadata": {},
   "outputs": [
    {
     "name": "stdout",
     "output_type": "stream",
     "text": [
      "===== Train Set Shape =====\n",
      "Features X_train: (7879, 15)\n",
      "Targets y_train:  (7879,)\n",
      "\n",
      "== Validation Set Shape ==\n",
      "Features X_val:   (2627, 15)\n",
      "Targets y_val:    (2627,)\n"
     ]
    }
   ],
   "source": [
    "# check the shape of training and testing vectors\n",
    "print(\" Train Set Shape \".center(27, '='))\n",
    "print(f'Features X_train: {X_train.shape}')\n",
    "print(f'Targets y_train:  {y_train.shape}')\n",
    "print()\n",
    "print(\" Validation Set Shape \".center(26, '='))\n",
    "print(f'Features X_val:   {X_val.shape}')\n",
    "print(f'Targets y_val:    {y_val.shape}')"
   ]
  },
  {
   "cell_type": "markdown",
   "id": "a53c5546",
   "metadata": {},
   "source": [
    "## Features transformation "
   ]
  },
  {
   "cell_type": "code",
   "execution_count": 6,
   "id": "73b8b6df",
   "metadata": {},
   "outputs": [
    {
     "data": {
      "text/html": [
       "<div>\n",
       "<style scoped>\n",
       "    .dataframe tbody tr th:only-of-type {\n",
       "        vertical-align: middle;\n",
       "    }\n",
       "\n",
       "    .dataframe tbody tr th {\n",
       "        vertical-align: top;\n",
       "    }\n",
       "\n",
       "    .dataframe thead th {\n",
       "        text-align: right;\n",
       "    }\n",
       "</style>\n",
       "<table border=\"1\" class=\"dataframe\">\n",
       "  <thead>\n",
       "    <tr style=\"text-align: right;\">\n",
       "      <th></th>\n",
       "      <th>latitude</th>\n",
       "      <th>longitude</th>\n",
       "      <th>tmax</th>\n",
       "      <th>tmin</th>\n",
       "      <th>tavg</th>\n",
       "      <th>depart</th>\n",
       "      <th>dewpoint</th>\n",
       "      <th>wetbulb</th>\n",
       "      <th>heat</th>\n",
       "      <th>cool</th>\n",
       "      <th>...</th>\n",
       "      <th>temp_fluct</th>\n",
       "      <th>daylight</th>\n",
       "      <th>relative_hum</th>\n",
       "      <th>species_ERRATICUS</th>\n",
       "      <th>species_PIPIENS</th>\n",
       "      <th>species_PIPIENS/RESTUANS</th>\n",
       "      <th>species_RESTUANS</th>\n",
       "      <th>species_SALINARIUS</th>\n",
       "      <th>species_TARSALIS</th>\n",
       "      <th>species_TERRITANS</th>\n",
       "    </tr>\n",
       "  </thead>\n",
       "  <tbody>\n",
       "    <tr>\n",
       "      <th>0</th>\n",
       "      <td>-0.863790</td>\n",
       "      <td>-0.329696</td>\n",
       "      <td>0.435022</td>\n",
       "      <td>-0.552766</td>\n",
       "      <td>-0.002088</td>\n",
       "      <td>0.350149</td>\n",
       "      <td>-0.412475</td>\n",
       "      <td>-0.198591</td>\n",
       "      <td>-0.328471</td>\n",
       "      <td>-0.157190</td>\n",
       "      <td>...</td>\n",
       "      <td>1.483017</td>\n",
       "      <td>-1.008347</td>\n",
       "      <td>-0.811214</td>\n",
       "      <td>0.0</td>\n",
       "      <td>1.0</td>\n",
       "      <td>0.0</td>\n",
       "      <td>0.0</td>\n",
       "      <td>0.0</td>\n",
       "      <td>0.0</td>\n",
       "      <td>0.0</td>\n",
       "    </tr>\n",
       "    <tr>\n",
       "      <th>1</th>\n",
       "      <td>0.515998</td>\n",
       "      <td>-0.176909</td>\n",
       "      <td>0.495685</td>\n",
       "      <td>0.048510</td>\n",
       "      <td>0.266496</td>\n",
       "      <td>1.120683</td>\n",
       "      <td>-0.092320</td>\n",
       "      <td>0.025375</td>\n",
       "      <td>-0.328471</td>\n",
       "      <td>0.193288</td>\n",
       "      <td>...</td>\n",
       "      <td>0.714862</td>\n",
       "      <td>-1.262680</td>\n",
       "      <td>-0.690378</td>\n",
       "      <td>0.0</td>\n",
       "      <td>1.0</td>\n",
       "      <td>0.0</td>\n",
       "      <td>0.0</td>\n",
       "      <td>0.0</td>\n",
       "      <td>0.0</td>\n",
       "      <td>0.0</td>\n",
       "    </tr>\n",
       "    <tr>\n",
       "      <th>2</th>\n",
       "      <td>-0.661906</td>\n",
       "      <td>1.428458</td>\n",
       "      <td>-2.962122</td>\n",
       "      <td>-2.356596</td>\n",
       "      <td>-2.822215</td>\n",
       "      <td>-1.653240</td>\n",
       "      <td>-2.333406</td>\n",
       "      <td>-2.662212</td>\n",
       "      <td>4.515917</td>\n",
       "      <td>-1.559102</td>\n",
       "      <td>...</td>\n",
       "      <td>-1.301544</td>\n",
       "      <td>-2.105158</td>\n",
       "      <td>0.402667</td>\n",
       "      <td>0.0</td>\n",
       "      <td>0.0</td>\n",
       "      <td>1.0</td>\n",
       "      <td>0.0</td>\n",
       "      <td>0.0</td>\n",
       "      <td>0.0</td>\n",
       "      <td>0.0</td>\n",
       "    </tr>\n",
       "    <tr>\n",
       "      <th>3</th>\n",
       "      <td>-1.013760</td>\n",
       "      <td>1.193503</td>\n",
       "      <td>0.980991</td>\n",
       "      <td>0.783404</td>\n",
       "      <td>0.937954</td>\n",
       "      <td>0.966576</td>\n",
       "      <td>1.380393</td>\n",
       "      <td>1.219858</td>\n",
       "      <td>-0.328471</td>\n",
       "      <td>1.069483</td>\n",
       "      <td>...</td>\n",
       "      <td>0.426804</td>\n",
       "      <td>-0.372515</td>\n",
       "      <td>1.018749</td>\n",
       "      <td>0.0</td>\n",
       "      <td>1.0</td>\n",
       "      <td>0.0</td>\n",
       "      <td>0.0</td>\n",
       "      <td>0.0</td>\n",
       "      <td>0.0</td>\n",
       "      <td>0.0</td>\n",
       "    </tr>\n",
       "    <tr>\n",
       "      <th>4</th>\n",
       "      <td>0.188928</td>\n",
       "      <td>0.531668</td>\n",
       "      <td>0.374358</td>\n",
       "      <td>0.716595</td>\n",
       "      <td>0.535079</td>\n",
       "      <td>0.041935</td>\n",
       "      <td>1.124269</td>\n",
       "      <td>0.921237</td>\n",
       "      <td>-0.328471</td>\n",
       "      <td>0.543766</td>\n",
       "      <td>...</td>\n",
       "      <td>-0.437370</td>\n",
       "      <td>0.819670</td>\n",
       "      <td>1.269894</td>\n",
       "      <td>0.0</td>\n",
       "      <td>1.0</td>\n",
       "      <td>0.0</td>\n",
       "      <td>0.0</td>\n",
       "      <td>0.0</td>\n",
       "      <td>0.0</td>\n",
       "      <td>0.0</td>\n",
       "    </tr>\n",
       "  </tbody>\n",
       "</table>\n",
       "<p>5 rows × 21 columns</p>\n",
       "</div>"
      ],
      "text/plain": [
       "   latitude  longitude      tmax      tmin      tavg    depart  dewpoint  \\\n",
       "0 -0.863790  -0.329696  0.435022 -0.552766 -0.002088  0.350149 -0.412475   \n",
       "1  0.515998  -0.176909  0.495685  0.048510  0.266496  1.120683 -0.092320   \n",
       "2 -0.661906   1.428458 -2.962122 -2.356596 -2.822215 -1.653240 -2.333406   \n",
       "3 -1.013760   1.193503  0.980991  0.783404  0.937954  0.966576  1.380393   \n",
       "4  0.188928   0.531668  0.374358  0.716595  0.535079  0.041935  1.124269   \n",
       "\n",
       "    wetbulb      heat      cool  ...  temp_fluct  daylight  relative_hum  \\\n",
       "0 -0.198591 -0.328471 -0.157190  ...    1.483017 -1.008347     -0.811214   \n",
       "1  0.025375 -0.328471  0.193288  ...    0.714862 -1.262680     -0.690378   \n",
       "2 -2.662212  4.515917 -1.559102  ...   -1.301544 -2.105158      0.402667   \n",
       "3  1.219858 -0.328471  1.069483  ...    0.426804 -0.372515      1.018749   \n",
       "4  0.921237 -0.328471  0.543766  ...   -0.437370  0.819670      1.269894   \n",
       "\n",
       "   species_ERRATICUS  species_PIPIENS  species_PIPIENS/RESTUANS  \\\n",
       "0                0.0              1.0                       0.0   \n",
       "1                0.0              1.0                       0.0   \n",
       "2                0.0              0.0                       1.0   \n",
       "3                0.0              1.0                       0.0   \n",
       "4                0.0              1.0                       0.0   \n",
       "\n",
       "   species_RESTUANS  species_SALINARIUS  species_TARSALIS  species_TERRITANS  \n",
       "0               0.0                 0.0               0.0                0.0  \n",
       "1               0.0                 0.0               0.0                0.0  \n",
       "2               0.0                 0.0               0.0                0.0  \n",
       "3               0.0                 0.0               0.0                0.0  \n",
       "4               0.0                 0.0               0.0                0.0  \n",
       "\n",
       "[5 rows x 21 columns]"
      ]
     },
     "execution_count": 6,
     "metadata": {},
     "output_type": "execute_result"
    }
   ],
   "source": [
    "# instantiate transformers \n",
    "ohe = OneHotEncoder(sparse=False, handle_unknown='ignore')\n",
    "sc = StandardScaler()\n",
    "\n",
    "\n",
    "# instantiate transformers into column transformer \n",
    "ct = make_column_transformer(\n",
    "    (sc, make_column_selector(dtype_include='number')),\n",
    "    (ohe, make_column_selector(dtype_exclude='number')),\n",
    "    remainder='passthrough', \n",
    "    verbose_feature_names_out=False\n",
    ")\n",
    "\n",
    "# transform feature matrix\n",
    "X_train = pd.DataFrame(ct.fit_transform(X_train), \n",
    "                       columns=ct.get_feature_names_out())\n",
    "\n",
    "X_val = pd.DataFrame(ct.transform(X_val), \n",
    "                       columns=ct.get_feature_names_out())\n",
    "\n",
    "# check X matrix after transformation\n",
    "X_train.head()"
   ]
  },
  {
   "cell_type": "code",
   "execution_count": 7,
   "id": "ebbce7b5",
   "metadata": {},
   "outputs": [
    {
     "name": "stdout",
     "output_type": "stream",
     "text": [
      "Features in X matrix: ['latitude', 'longitude', 'tmax', 'tmin', 'tavg', 'depart', 'dewpoint', 'wetbulb', 'heat', 'cool', 'preciptotal', 'temp_fluct', 'daylight', 'relative_hum', 'species_ERRATICUS', 'species_PIPIENS', 'species_PIPIENS/RESTUANS', 'species_RESTUANS', 'species_SALINARIUS', 'species_TARSALIS', 'species_TERRITANS']\n"
     ]
    }
   ],
   "source": [
    "# check the df cloumns\n",
    "print(f'Features in X matrix: {X_train.columns.tolist()}')"
   ]
  },
  {
   "cell_type": "code",
   "execution_count": 8,
   "id": "ad79e126",
   "metadata": {},
   "outputs": [
    {
     "name": "stdout",
     "output_type": "stream",
     "text": [
      "===== Train Set Shape =====\n",
      "Features X_train: (7879, 21)\n",
      "Targets y_train:  (7879,)\n",
      "\n",
      "== Validation Set Shape ==\n",
      "Features X_val:   (2627, 21)\n",
      "Targets y_val:    (2627,)\n"
     ]
    }
   ],
   "source": [
    "# check the shape of training and testing vectors\n",
    "print(\" Train Set Shape \".center(27, '='))\n",
    "print(f'Features X_train: {X_train.shape}')\n",
    "print(f'Targets y_train:  {y_train.shape}')\n",
    "print()\n",
    "print(\" Validation Set Shape \".center(26, '='))\n",
    "print(f'Features X_val:   {X_val.shape}')\n",
    "print(f'Targets y_val:    {y_val.shape}')"
   ]
  },
  {
   "cell_type": "markdown",
   "id": "7224859b",
   "metadata": {},
   "source": [
    "# Modelling\n",
    "## Functions used"
   ]
  },
  {
   "cell_type": "code",
   "execution_count": 9,
   "id": "101de6c0",
   "metadata": {},
   "outputs": [],
   "source": [
    "def fit_gs(clf, params):\n",
    "    \"\"\"fits a GridSearchCV to a classifier, prints best params and returns model\"\"\"\n",
    "    \n",
    "    gs = GridSearchCV(clf, params, cv=5, n_jobs=-1, scoring= \"roc_auc\")\n",
    "    gs.fit(X_train, y_train)\n",
    "    \n",
    "    print(f\"Best Parameters: {gs.best_params_}\")\n",
    "    \n",
    "    return gs"
   ]
  },
  {
   "cell_type": "code",
   "execution_count": 10,
   "id": "03bea450",
   "metadata": {},
   "outputs": [],
   "source": [
    "def eval_model(model):\n",
    "    \"\"\"returns dataframe of evaluation metrics for classifier\"\"\"\n",
    "    \n",
    "    # get predictions\n",
    "    y_pred = model.predict(X_val)\n",
    "    y_proba = model.predict_proba(X_val)[:,1]\n",
    "        \n",
    "    # metrics for evaluating classifier\n",
    "    tn, fp, fn, tp = confusion_matrix(y_val, y_pred).ravel()\n",
    "    \n",
    "    accuracy = (tn + fn) / (tn + fp + fn + tp)\n",
    "    \n",
    "    if (tn + fp) != 0:\n",
    "        spec = tn / (tn + fp)\n",
    "    else:\n",
    "        spec = 'NA'\n",
    "        \n",
    "    if (tp + fn) != 0:\n",
    "        recall = tp / (tp + fn)\n",
    "    else:\n",
    "        recall = np.nan\n",
    "\n",
    "    if (tp + fp) != 0:\n",
    "        precision = tp / (tp + fp)\n",
    "    else:\n",
    "        precision = np.nan\n",
    "        \n",
    "    if recall == np.nan or precision == np.nan:\n",
    "        f1 = np.nan\n",
    "    else:\n",
    "        f1 = 2*((precision*recall)/(precision+recall))\n",
    "\n",
    "    roc = roc_auc_score(y_val, y_proba)\n",
    "    \n",
    "    try:\n",
    "        model_name = str(model.estimator)[:-2]\n",
    "        if len(model_name) > 30:\n",
    "            model_name = model_name[:13]\n",
    "    except:\n",
    "        model_name = 'Dummy'\n",
    "        \n",
    "    df = pd.DataFrame([np.round([accuracy, spec, recall, precision, f1, fp, fn, roc], 3)], \n",
    "                      columns = [\"Accuracy\", \n",
    "                                 \"Specificity\", \n",
    "                                 \"Recall\", \n",
    "                                 \"Precision\", \n",
    "                                 \"F1\", \n",
    "                                 \"False Positives\", \n",
    "                                 \"False Negatives\", \n",
    "                                 \"ROC-AUC\"], \n",
    "                      index = [model_name],\n",
    "                      dtype='str')\n",
    "    return df"
   ]
  },
  {
   "cell_type": "markdown",
   "id": "938a5608",
   "metadata": {},
   "source": [
    "## (0) Dummy model"
   ]
  },
  {
   "cell_type": "code",
   "execution_count": 13,
   "id": "32555e62",
   "metadata": {},
   "outputs": [
    {
     "data": {
      "text/html": [
       "<div>\n",
       "<style scoped>\n",
       "    .dataframe tbody tr th:only-of-type {\n",
       "        vertical-align: middle;\n",
       "    }\n",
       "\n",
       "    .dataframe tbody tr th {\n",
       "        vertical-align: top;\n",
       "    }\n",
       "\n",
       "    .dataframe thead th {\n",
       "        text-align: right;\n",
       "    }\n",
       "</style>\n",
       "<table border=\"1\" class=\"dataframe\">\n",
       "  <thead>\n",
       "    <tr style=\"text-align: right;\">\n",
       "      <th></th>\n",
       "      <th>Accuracy</th>\n",
       "      <th>Specificity</th>\n",
       "      <th>Recall</th>\n",
       "      <th>Precision</th>\n",
       "      <th>F1</th>\n",
       "      <th>False Positives</th>\n",
       "      <th>False Negatives</th>\n",
       "      <th>ROC-AUC</th>\n",
       "    </tr>\n",
       "  </thead>\n",
       "  <tbody>\n",
       "    <tr>\n",
       "      <th>Dummy</th>\n",
       "      <td>1.0</td>\n",
       "      <td>1.0</td>\n",
       "      <td>0.0</td>\n",
       "      <td>NaN</td>\n",
       "      <td>NaN</td>\n",
       "      <td>0.0</td>\n",
       "      <td>138.0</td>\n",
       "      <td>0.5</td>\n",
       "    </tr>\n",
       "  </tbody>\n",
       "</table>\n",
       "</div>"
      ],
      "text/plain": [
       "      Accuracy Specificity Recall Precision   F1 False Positives  \\\n",
       "Dummy      1.0         1.0    0.0       NaN  NaN             0.0   \n",
       "\n",
       "      False Negatives ROC-AUC  \n",
       "Dummy           138.0     0.5  "
      ]
     },
     "execution_count": 13,
     "metadata": {},
     "output_type": "execute_result"
    }
   ],
   "source": [
    "# fit dummy model\n",
    "dummy = DummyClassifier(strategy=\"most_frequent\", random_state=42)\n",
    "dummy.fit(X_train, y_train)\n",
    "\n",
    "dummy_result = eval_model(dummy)\n",
    "dummy_result"
   ]
  },
  {
   "cell_type": "markdown",
   "id": "eada498c",
   "metadata": {},
   "source": [
    "## (1) Random forest classifier"
   ]
  },
  {
   "cell_type": "code",
   "execution_count": 14,
   "id": "bc0dd74e",
   "metadata": {},
   "outputs": [
    {
     "name": "stdout",
     "output_type": "stream",
     "text": [
      "Best Parameters: {'class_weight': {0: 1, 1: 10}, 'max_depth': 10, 'n_estimators': 100, 'random_state': 42}\n"
     ]
    }
   ],
   "source": [
    "rfc_params = {\"n_estimators\": [10, 50, 100, 250], \n",
    "              \"max_depth\": [5, 10, 20],\n",
    "              \"class_weight\": [None, {0:1,1:5}, {0:1,1:10}, {0:1,1:25}],\n",
    "              \"random_state\": [42]\n",
    "             }\n",
    "rfc = fit_gs(RandomForestClassifier(), rfc_params)"
   ]
  },
  {
   "cell_type": "code",
   "execution_count": 15,
   "id": "a64d31d4",
   "metadata": {},
   "outputs": [
    {
     "data": {
      "text/html": [
       "<div>\n",
       "<style scoped>\n",
       "    .dataframe tbody tr th:only-of-type {\n",
       "        vertical-align: middle;\n",
       "    }\n",
       "\n",
       "    .dataframe tbody tr th {\n",
       "        vertical-align: top;\n",
       "    }\n",
       "\n",
       "    .dataframe thead th {\n",
       "        text-align: right;\n",
       "    }\n",
       "</style>\n",
       "<table border=\"1\" class=\"dataframe\">\n",
       "  <thead>\n",
       "    <tr style=\"text-align: right;\">\n",
       "      <th></th>\n",
       "      <th>Accuracy</th>\n",
       "      <th>Specificity</th>\n",
       "      <th>Recall</th>\n",
       "      <th>Precision</th>\n",
       "      <th>F1</th>\n",
       "      <th>False Positives</th>\n",
       "      <th>False Negatives</th>\n",
       "      <th>ROC-AUC</th>\n",
       "    </tr>\n",
       "  </thead>\n",
       "  <tbody>\n",
       "    <tr>\n",
       "      <th>RandomForestClassifier</th>\n",
       "      <td>0.884</td>\n",
       "      <td>0.903</td>\n",
       "      <td>0.449</td>\n",
       "      <td>0.204</td>\n",
       "      <td>0.281</td>\n",
       "      <td>242.0</td>\n",
       "      <td>76.0</td>\n",
       "      <td>0.824</td>\n",
       "    </tr>\n",
       "  </tbody>\n",
       "</table>\n",
       "</div>"
      ],
      "text/plain": [
       "                       Accuracy Specificity Recall Precision     F1  \\\n",
       "RandomForestClassifier    0.884       0.903  0.449     0.204  0.281   \n",
       "\n",
       "                       False Positives False Negatives ROC-AUC  \n",
       "RandomForestClassifier           242.0            76.0   0.824  "
      ]
     },
     "execution_count": 15,
     "metadata": {},
     "output_type": "execute_result"
    }
   ],
   "source": [
    "rfc_result = eval_model(rfc)\n",
    "rfc_result"
   ]
  },
  {
   "cell_type": "markdown",
   "id": "bbe3729b",
   "metadata": {},
   "source": [
    "## (2) Support vector classifier"
   ]
  },
  {
   "cell_type": "code",
   "execution_count": 16,
   "id": "58daf5f6",
   "metadata": {},
   "outputs": [
    {
     "name": "stdout",
     "output_type": "stream",
     "text": [
      "Best Parameters: {'C': 1, 'class_weight': {0: 1, 1: 10}, 'probability': True, 'random_state': 42}\n"
     ]
    }
   ],
   "source": [
    "svc_params = {\"C\": [10**-2, 10**-1, 10**0, 10**1, 10**2],\n",
    "              \"class_weight\": [None, {0:1,1:10}, {0:1,1:25}],\n",
    "              \"probability\": [True],\n",
    "              \"random_state\": [42]\n",
    "             }\n",
    "svc = fit_gs(SVC(), svc_params)"
   ]
  },
  {
   "cell_type": "code",
   "execution_count": 17,
   "id": "815e573c",
   "metadata": {},
   "outputs": [
    {
     "data": {
      "text/html": [
       "<div>\n",
       "<style scoped>\n",
       "    .dataframe tbody tr th:only-of-type {\n",
       "        vertical-align: middle;\n",
       "    }\n",
       "\n",
       "    .dataframe tbody tr th {\n",
       "        vertical-align: top;\n",
       "    }\n",
       "\n",
       "    .dataframe thead th {\n",
       "        text-align: right;\n",
       "    }\n",
       "</style>\n",
       "<table border=\"1\" class=\"dataframe\">\n",
       "  <thead>\n",
       "    <tr style=\"text-align: right;\">\n",
       "      <th></th>\n",
       "      <th>Accuracy</th>\n",
       "      <th>Specificity</th>\n",
       "      <th>Recall</th>\n",
       "      <th>Precision</th>\n",
       "      <th>F1</th>\n",
       "      <th>False Positives</th>\n",
       "      <th>False Negatives</th>\n",
       "      <th>ROC-AUC</th>\n",
       "    </tr>\n",
       "  </thead>\n",
       "  <tbody>\n",
       "    <tr>\n",
       "      <th>SVC</th>\n",
       "      <td>0.808</td>\n",
       "      <td>0.832</td>\n",
       "      <td>0.616</td>\n",
       "      <td>0.169</td>\n",
       "      <td>0.265</td>\n",
       "      <td>419.0</td>\n",
       "      <td>53.0</td>\n",
       "      <td>0.812</td>\n",
       "    </tr>\n",
       "  </tbody>\n",
       "</table>\n",
       "</div>"
      ],
      "text/plain": [
       "    Accuracy Specificity Recall Precision     F1 False Positives  \\\n",
       "SVC    0.808       0.832  0.616     0.169  0.265           419.0   \n",
       "\n",
       "    False Negatives ROC-AUC  \n",
       "SVC            53.0   0.812  "
      ]
     },
     "execution_count": 17,
     "metadata": {},
     "output_type": "execute_result"
    }
   ],
   "source": [
    "svc_result = eval_model(svc)\n",
    "svc_result"
   ]
  },
  {
   "cell_type": "markdown",
   "id": "052eba20",
   "metadata": {},
   "source": [
    "## (3) Logistic regression"
   ]
  },
  {
   "cell_type": "code",
   "execution_count": 19,
   "id": "8961a830",
   "metadata": {},
   "outputs": [
    {
     "name": "stdout",
     "output_type": "stream",
     "text": [
      "Best Parameters: {'C': 1, 'class_weight': {0: 1, 1: 5}, 'max_iter': 50, 'penalty': 'l1', 'random_state': 42, 'solver': 'liblinear'}\n"
     ]
    }
   ],
   "source": [
    "lr_params = {\"C\": [10**-2, 10**-1, 10**0, 10**1, 10**2],\n",
    "             \"penalty\": ['l1', 'l2'],\n",
    "             \"max_iter\": [20, 50, 100, 200],\n",
    "             \"class_weight\": [None, {0:1,1:5}, {0:1,1:10}, {0:1,1:25}],\n",
    "             \"solver\": ['liblinear'],\n",
    "             \"random_state\": [42]\n",
    "            }\n",
    "\n",
    "lr = fit_gs(LogisticRegression(), lr_params)"
   ]
  },
  {
   "cell_type": "code",
   "execution_count": 20,
   "id": "01f89b20",
   "metadata": {},
   "outputs": [
    {
     "data": {
      "text/html": [
       "<div>\n",
       "<style scoped>\n",
       "    .dataframe tbody tr th:only-of-type {\n",
       "        vertical-align: middle;\n",
       "    }\n",
       "\n",
       "    .dataframe tbody tr th {\n",
       "        vertical-align: top;\n",
       "    }\n",
       "\n",
       "    .dataframe thead th {\n",
       "        text-align: right;\n",
       "    }\n",
       "</style>\n",
       "<table border=\"1\" class=\"dataframe\">\n",
       "  <thead>\n",
       "    <tr style=\"text-align: right;\">\n",
       "      <th></th>\n",
       "      <th>Accuracy</th>\n",
       "      <th>Specificity</th>\n",
       "      <th>Recall</th>\n",
       "      <th>Precision</th>\n",
       "      <th>F1</th>\n",
       "      <th>False Positives</th>\n",
       "      <th>False Negatives</th>\n",
       "      <th>ROC-AUC</th>\n",
       "    </tr>\n",
       "  </thead>\n",
       "  <tbody>\n",
       "    <tr>\n",
       "      <th>LogisticRegression</th>\n",
       "      <td>0.953</td>\n",
       "      <td>0.961</td>\n",
       "      <td>0.188</td>\n",
       "      <td>0.211</td>\n",
       "      <td>0.199</td>\n",
       "      <td>97.0</td>\n",
       "      <td>112.0</td>\n",
       "      <td>0.792</td>\n",
       "    </tr>\n",
       "  </tbody>\n",
       "</table>\n",
       "</div>"
      ],
      "text/plain": [
       "                   Accuracy Specificity Recall Precision     F1  \\\n",
       "LogisticRegression    0.953       0.961  0.188     0.211  0.199   \n",
       "\n",
       "                   False Positives False Negatives ROC-AUC  \n",
       "LogisticRegression            97.0           112.0   0.792  "
      ]
     },
     "execution_count": 20,
     "metadata": {},
     "output_type": "execute_result"
    }
   ],
   "source": [
    "lr_result = eval_model(lr)\n",
    "lr_result"
   ]
  },
  {
   "cell_type": "markdown",
   "id": "c3a01105",
   "metadata": {},
   "source": [
    "## (4) K-nearest neighbour"
   ]
  },
  {
   "cell_type": "code",
   "execution_count": 21,
   "id": "b15aeba9",
   "metadata": {},
   "outputs": [
    {
     "name": "stdout",
     "output_type": "stream",
     "text": [
      "Best Parameters: {'n_neighbors': 65}\n"
     ]
    }
   ],
   "source": [
    "knn_params = {\"n_neighbors\": [5,35,65,95]}\n",
    "\n",
    "knn = fit_gs(KNeighborsClassifier(), knn_params)"
   ]
  },
  {
   "cell_type": "code",
   "execution_count": 22,
   "id": "8132c645",
   "metadata": {},
   "outputs": [
    {
     "data": {
      "text/html": [
       "<div>\n",
       "<style scoped>\n",
       "    .dataframe tbody tr th:only-of-type {\n",
       "        vertical-align: middle;\n",
       "    }\n",
       "\n",
       "    .dataframe tbody tr th {\n",
       "        vertical-align: top;\n",
       "    }\n",
       "\n",
       "    .dataframe thead th {\n",
       "        text-align: right;\n",
       "    }\n",
       "</style>\n",
       "<table border=\"1\" class=\"dataframe\">\n",
       "  <thead>\n",
       "    <tr style=\"text-align: right;\">\n",
       "      <th></th>\n",
       "      <th>Accuracy</th>\n",
       "      <th>Specificity</th>\n",
       "      <th>Recall</th>\n",
       "      <th>Precision</th>\n",
       "      <th>F1</th>\n",
       "      <th>False Positives</th>\n",
       "      <th>False Negatives</th>\n",
       "      <th>ROC-AUC</th>\n",
       "    </tr>\n",
       "  </thead>\n",
       "  <tbody>\n",
       "    <tr>\n",
       "      <th>KNeighborsClassifier</th>\n",
       "      <td>1.0</td>\n",
       "      <td>1.0</td>\n",
       "      <td>0.0</td>\n",
       "      <td>NaN</td>\n",
       "      <td>NaN</td>\n",
       "      <td>0.0</td>\n",
       "      <td>138.0</td>\n",
       "      <td>0.781</td>\n",
       "    </tr>\n",
       "  </tbody>\n",
       "</table>\n",
       "</div>"
      ],
      "text/plain": [
       "                     Accuracy Specificity Recall Precision   F1  \\\n",
       "KNeighborsClassifier      1.0         1.0    0.0       NaN  NaN   \n",
       "\n",
       "                     False Positives False Negatives ROC-AUC  \n",
       "KNeighborsClassifier             0.0           138.0   0.781  "
      ]
     },
     "execution_count": 22,
     "metadata": {},
     "output_type": "execute_result"
    }
   ],
   "source": [
    "knn_result = eval_model(knn)\n",
    "knn_result"
   ]
  },
  {
   "cell_type": "markdown",
   "id": "ab10437e",
   "metadata": {},
   "source": [
    "## (5) Gradient boosting classifier"
   ]
  },
  {
   "cell_type": "code",
   "execution_count": 23,
   "id": "22f0cbbd",
   "metadata": {},
   "outputs": [
    {
     "name": "stdout",
     "output_type": "stream",
     "text": [
      "Best Parameters: {'max_depth': 3, 'n_estimators': 200, 'random_state': 42}\n"
     ]
    }
   ],
   "source": [
    "gbc_params = {\"n_estimators\": [150, 200, 250],\n",
    "              \"max_depth\": [3, 5],\n",
    "              \"random_state\": [42]\n",
    "             }\n",
    "gbc = fit_gs(GradientBoostingClassifier(), gbc_params)"
   ]
  },
  {
   "cell_type": "code",
   "execution_count": 24,
   "id": "ce301752",
   "metadata": {},
   "outputs": [
    {
     "data": {
      "text/html": [
       "<div>\n",
       "<style scoped>\n",
       "    .dataframe tbody tr th:only-of-type {\n",
       "        vertical-align: middle;\n",
       "    }\n",
       "\n",
       "    .dataframe tbody tr th {\n",
       "        vertical-align: top;\n",
       "    }\n",
       "\n",
       "    .dataframe thead th {\n",
       "        text-align: right;\n",
       "    }\n",
       "</style>\n",
       "<table border=\"1\" class=\"dataframe\">\n",
       "  <thead>\n",
       "    <tr style=\"text-align: right;\">\n",
       "      <th></th>\n",
       "      <th>Accuracy</th>\n",
       "      <th>Specificity</th>\n",
       "      <th>Recall</th>\n",
       "      <th>Precision</th>\n",
       "      <th>F1</th>\n",
       "      <th>False Positives</th>\n",
       "      <th>False Negatives</th>\n",
       "      <th>ROC-AUC</th>\n",
       "    </tr>\n",
       "  </thead>\n",
       "  <tbody>\n",
       "    <tr>\n",
       "      <th>GradientBoostingClassifier</th>\n",
       "      <td>0.994</td>\n",
       "      <td>0.997</td>\n",
       "      <td>0.065</td>\n",
       "      <td>0.562</td>\n",
       "      <td>0.117</td>\n",
       "      <td>7.0</td>\n",
       "      <td>129.0</td>\n",
       "      <td>0.833</td>\n",
       "    </tr>\n",
       "  </tbody>\n",
       "</table>\n",
       "</div>"
      ],
      "text/plain": [
       "                           Accuracy Specificity Recall Precision     F1  \\\n",
       "GradientBoostingClassifier    0.994       0.997  0.065     0.562  0.117   \n",
       "\n",
       "                           False Positives False Negatives ROC-AUC  \n",
       "GradientBoostingClassifier             7.0           129.0   0.833  "
      ]
     },
     "execution_count": 24,
     "metadata": {},
     "output_type": "execute_result"
    }
   ],
   "source": [
    "gbc_result = eval_model(gbc)\n",
    "gbc_result"
   ]
  },
  {
   "cell_type": "markdown",
   "id": "a1a3df04",
   "metadata": {},
   "source": [
    "## (6) XGB classifier"
   ]
  },
  {
   "cell_type": "code",
   "execution_count": null,
   "id": "b427a583",
   "metadata": {},
   "outputs": [],
   "source": [
    "xgb_params = {\"use_label_encoder\": [False],\n",
    "              \"objective\": [\"binary:logistic\"],\n",
    "              \"eval_metric\": ['auc'],\n",
    "              \"learning_rate\":[0.1, 0.2, 0.5],\n",
    "              \"max_depth\": [5,8],\n",
    "              \"max_leaf_nodes\": [None,], #tune params\n",
    "              \"gamma\": np.linspace(5, 100, 8),\n",
    "              \"reg_alpha\": np.linspace(0.0001, 1, 8),\n",
    "              \"reg_lambda\": np.linspace(5, 100, 5)} #tune params\n",
    "\n",
    "xgb = fit_gs(XGBClassifier(random_state = 42), xgb_params)"
   ]
  },
  {
   "cell_type": "code",
   "execution_count": null,
   "id": "f66638db",
   "metadata": {},
   "outputs": [],
   "source": [
    "xgb_result = eval_model(xgb)\n",
    "xgb_result"
   ]
  },
  {
   "cell_type": "markdown",
   "id": "76c50e13",
   "metadata": {},
   "source": [
    "## (7) Extra trees classifier"
   ]
  },
  {
   "cell_type": "code",
   "execution_count": null,
   "id": "2bcb2aa1",
   "metadata": {},
   "outputs": [],
   "source": [
    "et_params = {\"max_depth\": [3,5,10,20],\n",
    "             \"min_samples_leaf\": [1, 3, 10, 20],\n",
    "             \"max_leaf_nodes\": [None, 5, 10],\n",
    "             \"random_state\": [42]\n",
    "            }\n",
    "et = fit_gs(ExtraTreesClassifier(), et_params)"
   ]
  },
  {
   "cell_type": "code",
   "execution_count": null,
   "id": "07bc46f6",
   "metadata": {},
   "outputs": [],
   "source": [
    "et_result = eval_model(et)\n",
    "et_result"
   ]
  },
  {
   "cell_type": "markdown",
   "id": "ae8e10c3",
   "metadata": {},
   "source": [
    "# Evaluating and Interpreting Results\n",
    "## Summary of results for all models"
   ]
  },
  {
   "cell_type": "code",
   "execution_count": null,
   "id": "177fbdf0",
   "metadata": {},
   "outputs": [],
   "source": [
    "summary = pd.concat([dummy_result, rfc_result, svc_result, lr_result, knn_result, gbc_result, xgb_result, \n",
    "                    et_result]) \n",
    "summary"
   ]
  },
  {
   "cell_type": "markdown",
   "id": "9c3574eb",
   "metadata": {},
   "source": [
    "## ROC plot"
   ]
  },
  {
   "cell_type": "code",
   "execution_count": null,
   "id": "a775cc10",
   "metadata": {},
   "outputs": [],
   "source": [
    "models = [dummy, rfc, svc, lr, knn, gbc, xgb, et]\n",
    "\n",
    "fig, ax = plt.subplots(figsize=(10,8))\n",
    "plt.plot([0, 1], [0, 1], \"k--\")\n",
    "for i, model in enumerate(models):\n",
    "    RocCurveDisplay.from_estimator(model,\n",
    "                                   X_val,\n",
    "                                   y_val,\n",
    "                                   ax=ax,\n",
    "                                   name=f'{summary.index[i]}')"
   ]
  },
  {
   "cell_type": "markdown",
   "id": "36c59668",
   "metadata": {},
   "source": [
    "## Important features"
   ]
  },
  {
   "cell_type": "code",
   "execution_count": 30,
   "id": "f3da0957",
   "metadata": {},
   "outputs": [],
   "source": [
    "def get_impt_features(models):\n",
    "    result = pd.DataFrame()\n",
    "    for i, model in enumerate(models):\n",
    "        try:\n",
    "            importances = model.best_estimator_.feature_importances_\n",
    "            df = pd.DataFrame(zip(X_train.columns,importances), \n",
    "                              columns=[f'{summary.index[i]}','importance']).\\\n",
    "                sort_values('importance', ascending=False).reset_index(drop=True)\n",
    "            result = pd.concat([result,df], axis = 1)\n",
    "            \n",
    "        except:\n",
    "            pass\n",
    "        \n",
    "        try:\n",
    "            coef = model.best_estimator_.coef_\n",
    "            df = pd.DataFrame([X_train.columns,(*coef)]).T. \\\n",
    "                rename(columns={0:f'{summary.index[i]}', 1:'coefficient'}). \\\n",
    "                sort_values('coefficient', ascending=False, key=abs).reset_index(drop=True)\n",
    "            result = pd.concat([result,df], axis = 1)\n",
    "\n",
    "        except:\n",
    "            pass\n",
    "        \n",
    "    return result"
   ]
  },
  {
   "cell_type": "code",
   "execution_count": null,
   "id": "7eb94061",
   "metadata": {},
   "outputs": [],
   "source": [
    "get_impt_features(models)"
   ]
  },
  {
   "cell_type": "markdown",
   "id": "cd01bb79",
   "metadata": {},
   "source": [
    "# Generating Predictions for Kaggle"
   ]
  },
  {
   "cell_type": "code",
   "execution_count": 32,
   "id": "3ba8cfbc",
   "metadata": {},
   "outputs": [
    {
     "name": "stdout",
     "output_type": "stream",
     "text": [
      "<class 'pandas.core.frame.DataFrame'>\n",
      "RangeIndex: 116293 entries, 0 to 116292\n",
      "Data columns (total 11 columns):\n",
      " #   Column                  Non-Null Count   Dtype  \n",
      "---  ------                  --------------   -----  \n",
      " 0   Id                      116293 non-null  int64  \n",
      " 1   Date                    116293 non-null  object \n",
      " 2   Address                 116293 non-null  object \n",
      " 3   Species                 116293 non-null  object \n",
      " 4   Block                   116293 non-null  int64  \n",
      " 5   Street                  116293 non-null  object \n",
      " 6   Trap                    116293 non-null  object \n",
      " 7   AddressNumberAndStreet  116293 non-null  object \n",
      " 8   Latitude                116293 non-null  float64\n",
      " 9   Longitude               116293 non-null  float64\n",
      " 10  AddressAccuracy         116293 non-null  int64  \n",
      "dtypes: float64(2), int64(3), object(6)\n",
      "memory usage: 9.8+ MB\n"
     ]
    }
   ],
   "source": [
    "# import test dataset and final weather data\n",
    "test = pd.read_csv('../input_data/test.csv')\n",
    "weather = pd.read_csv('../output_data/weather_final.csv')\n",
    "\n",
    "# check test dataframe\n",
    "test.info()"
   ]
  },
  {
   "cell_type": "code",
   "execution_count": 33,
   "id": "ae55294c",
   "metadata": {},
   "outputs": [
    {
     "data": {
      "text/html": [
       "<div>\n",
       "<style scoped>\n",
       "    .dataframe tbody tr th:only-of-type {\n",
       "        vertical-align: middle;\n",
       "    }\n",
       "\n",
       "    .dataframe tbody tr th {\n",
       "        vertical-align: top;\n",
       "    }\n",
       "\n",
       "    .dataframe thead th {\n",
       "        text-align: right;\n",
       "    }\n",
       "</style>\n",
       "<table border=\"1\" class=\"dataframe\">\n",
       "  <thead>\n",
       "    <tr style=\"text-align: right;\">\n",
       "      <th></th>\n",
       "      <th>id</th>\n",
       "      <th>date</th>\n",
       "      <th>species</th>\n",
       "      <th>latitude</th>\n",
       "      <th>longitude</th>\n",
       "    </tr>\n",
       "  </thead>\n",
       "  <tbody>\n",
       "    <tr>\n",
       "      <th>0</th>\n",
       "      <td>1</td>\n",
       "      <td>2008-06-11</td>\n",
       "      <td>PIPIENS/RESTUANS</td>\n",
       "      <td>41.95469</td>\n",
       "      <td>-87.800991</td>\n",
       "    </tr>\n",
       "    <tr>\n",
       "      <th>1</th>\n",
       "      <td>2</td>\n",
       "      <td>2008-06-11</td>\n",
       "      <td>RESTUANS</td>\n",
       "      <td>41.95469</td>\n",
       "      <td>-87.800991</td>\n",
       "    </tr>\n",
       "    <tr>\n",
       "      <th>2</th>\n",
       "      <td>3</td>\n",
       "      <td>2008-06-11</td>\n",
       "      <td>PIPIENS</td>\n",
       "      <td>41.95469</td>\n",
       "      <td>-87.800991</td>\n",
       "    </tr>\n",
       "    <tr>\n",
       "      <th>3</th>\n",
       "      <td>4</td>\n",
       "      <td>2008-06-11</td>\n",
       "      <td>SALINARIUS</td>\n",
       "      <td>41.95469</td>\n",
       "      <td>-87.800991</td>\n",
       "    </tr>\n",
       "    <tr>\n",
       "      <th>4</th>\n",
       "      <td>5</td>\n",
       "      <td>2008-06-11</td>\n",
       "      <td>TERRITANS</td>\n",
       "      <td>41.95469</td>\n",
       "      <td>-87.800991</td>\n",
       "    </tr>\n",
       "  </tbody>\n",
       "</table>\n",
       "</div>"
      ],
      "text/plain": [
       "   id        date           species  latitude  longitude\n",
       "0   1  2008-06-11  PIPIENS/RESTUANS  41.95469 -87.800991\n",
       "1   2  2008-06-11          RESTUANS  41.95469 -87.800991\n",
       "2   3  2008-06-11           PIPIENS  41.95469 -87.800991\n",
       "3   4  2008-06-11        SALINARIUS  41.95469 -87.800991\n",
       "4   5  2008-06-11         TERRITANS  41.95469 -87.800991"
      ]
     },
     "execution_count": 33,
     "metadata": {},
     "output_type": "execute_result"
    }
   ],
   "source": [
    "# drop unnecessary columns\n",
    "test.drop(columns=['Address', 'Block', 'Street', 'Trap', \n",
    "                   'AddressNumberAndStreet', 'AddressAccuracy'], inplace=True)\n",
    "\n",
    "# rename columns to lowercase\n",
    "test.columns = test.columns.str.lower()\n",
    "\n",
    "# rename Species to drop 'CULEX'\n",
    "test['species'] = [i[6:] for i in test['species']]\n",
    "\n",
    "# check dataframe\n",
    "test.head()"
   ]
  },
  {
   "cell_type": "code",
   "execution_count": 34,
   "id": "8a4a41f9",
   "metadata": {},
   "outputs": [
    {
     "data": {
      "text/html": [
       "<div>\n",
       "<style scoped>\n",
       "    .dataframe tbody tr th:only-of-type {\n",
       "        vertical-align: middle;\n",
       "    }\n",
       "\n",
       "    .dataframe tbody tr th {\n",
       "        vertical-align: top;\n",
       "    }\n",
       "\n",
       "    .dataframe thead th {\n",
       "        text-align: right;\n",
       "    }\n",
       "</style>\n",
       "<table border=\"1\" class=\"dataframe\">\n",
       "  <thead>\n",
       "    <tr style=\"text-align: right;\">\n",
       "      <th></th>\n",
       "      <th>date</th>\n",
       "      <th>tmax</th>\n",
       "      <th>tmin</th>\n",
       "      <th>tavg</th>\n",
       "      <th>depart</th>\n",
       "      <th>dewpoint</th>\n",
       "      <th>wetbulb</th>\n",
       "      <th>heat</th>\n",
       "      <th>cool</th>\n",
       "      <th>preciptotal</th>\n",
       "      <th>temp_fluct</th>\n",
       "      <th>daylight</th>\n",
       "      <th>relative_hum</th>\n",
       "    </tr>\n",
       "  </thead>\n",
       "  <tbody>\n",
       "    <tr>\n",
       "      <th>0</th>\n",
       "      <td>2007-05-01</td>\n",
       "      <td>83.5</td>\n",
       "      <td>51.0</td>\n",
       "      <td>67.50</td>\n",
       "      <td>14.0</td>\n",
       "      <td>51.0</td>\n",
       "      <td>56.5</td>\n",
       "      <td>0.0</td>\n",
       "      <td>2.5</td>\n",
       "      <td>0.0</td>\n",
       "      <td>32.5</td>\n",
       "      <td>14.016667</td>\n",
       "      <td>0.554538</td>\n",
       "    </tr>\n",
       "    <tr>\n",
       "      <th>1</th>\n",
       "      <td>2007-05-02</td>\n",
       "      <td>59.5</td>\n",
       "      <td>42.5</td>\n",
       "      <td>51.50</td>\n",
       "      <td>-3.0</td>\n",
       "      <td>42.0</td>\n",
       "      <td>47.0</td>\n",
       "      <td>13.5</td>\n",
       "      <td>0.0</td>\n",
       "      <td>0.0</td>\n",
       "      <td>17.0</td>\n",
       "      <td>14.050000</td>\n",
       "      <td>0.698858</td>\n",
       "    </tr>\n",
       "    <tr>\n",
       "      <th>2</th>\n",
       "      <td>2007-05-03</td>\n",
       "      <td>66.5</td>\n",
       "      <td>47.0</td>\n",
       "      <td>57.00</td>\n",
       "      <td>2.0</td>\n",
       "      <td>40.0</td>\n",
       "      <td>49.0</td>\n",
       "      <td>8.0</td>\n",
       "      <td>0.0</td>\n",
       "      <td>0.0</td>\n",
       "      <td>19.5</td>\n",
       "      <td>14.083333</td>\n",
       "      <td>0.529395</td>\n",
       "    </tr>\n",
       "    <tr>\n",
       "      <th>3</th>\n",
       "      <td>2007-05-04</td>\n",
       "      <td>72.0</td>\n",
       "      <td>50.0</td>\n",
       "      <td>61.25</td>\n",
       "      <td>4.0</td>\n",
       "      <td>41.5</td>\n",
       "      <td>50.0</td>\n",
       "      <td>7.0</td>\n",
       "      <td>0.0</td>\n",
       "      <td>0.0</td>\n",
       "      <td>22.0</td>\n",
       "      <td>14.133333</td>\n",
       "      <td>0.484224</td>\n",
       "    </tr>\n",
       "    <tr>\n",
       "      <th>4</th>\n",
       "      <td>2007-05-05</td>\n",
       "      <td>66.0</td>\n",
       "      <td>53.5</td>\n",
       "      <td>60.00</td>\n",
       "      <td>5.0</td>\n",
       "      <td>38.5</td>\n",
       "      <td>49.5</td>\n",
       "      <td>5.0</td>\n",
       "      <td>0.0</td>\n",
       "      <td>0.0</td>\n",
       "      <td>12.5</td>\n",
       "      <td>14.166667</td>\n",
       "      <td>0.448141</td>\n",
       "    </tr>\n",
       "  </tbody>\n",
       "</table>\n",
       "</div>"
      ],
      "text/plain": [
       "         date  tmax  tmin   tavg  depart  dewpoint  wetbulb  heat  cool  \\\n",
       "0  2007-05-01  83.5  51.0  67.50    14.0      51.0     56.5   0.0   2.5   \n",
       "1  2007-05-02  59.5  42.5  51.50    -3.0      42.0     47.0  13.5   0.0   \n",
       "2  2007-05-03  66.5  47.0  57.00     2.0      40.0     49.0   8.0   0.0   \n",
       "3  2007-05-04  72.0  50.0  61.25     4.0      41.5     50.0   7.0   0.0   \n",
       "4  2007-05-05  66.0  53.5  60.00     5.0      38.5     49.5   5.0   0.0   \n",
       "\n",
       "   preciptotal  temp_fluct   daylight  relative_hum  \n",
       "0          0.0        32.5  14.016667      0.554538  \n",
       "1          0.0        17.0  14.050000      0.698858  \n",
       "2          0.0        19.5  14.083333      0.529395  \n",
       "3          0.0        22.0  14.133333      0.484224  \n",
       "4          0.0        12.5  14.166667      0.448141  "
      ]
     },
     "execution_count": 34,
     "metadata": {},
     "output_type": "execute_result"
    }
   ],
   "source": [
    "# check weather dataframe\n",
    "weather.head()"
   ]
  },
  {
   "cell_type": "code",
   "execution_count": 35,
   "id": "75d6684a",
   "metadata": {},
   "outputs": [
    {
     "data": {
      "text/html": [
       "<div>\n",
       "<style scoped>\n",
       "    .dataframe tbody tr th:only-of-type {\n",
       "        vertical-align: middle;\n",
       "    }\n",
       "\n",
       "    .dataframe tbody tr th {\n",
       "        vertical-align: top;\n",
       "    }\n",
       "\n",
       "    .dataframe thead th {\n",
       "        text-align: right;\n",
       "    }\n",
       "</style>\n",
       "<table border=\"1\" class=\"dataframe\">\n",
       "  <thead>\n",
       "    <tr style=\"text-align: right;\">\n",
       "      <th></th>\n",
       "      <th>id</th>\n",
       "      <th>date</th>\n",
       "      <th>species</th>\n",
       "      <th>latitude</th>\n",
       "      <th>longitude</th>\n",
       "      <th>tmax</th>\n",
       "      <th>tmin</th>\n",
       "      <th>tavg</th>\n",
       "      <th>depart</th>\n",
       "      <th>dewpoint</th>\n",
       "      <th>wetbulb</th>\n",
       "      <th>heat</th>\n",
       "      <th>cool</th>\n",
       "      <th>preciptotal</th>\n",
       "      <th>temp_fluct</th>\n",
       "      <th>daylight</th>\n",
       "      <th>relative_hum</th>\n",
       "    </tr>\n",
       "  </thead>\n",
       "  <tbody>\n",
       "    <tr>\n",
       "      <th>0</th>\n",
       "      <td>1</td>\n",
       "      <td>2008-06-11</td>\n",
       "      <td>PIPIENS/RESTUANS</td>\n",
       "      <td>41.95469</td>\n",
       "      <td>-87.800991</td>\n",
       "      <td>86.0</td>\n",
       "      <td>63.5</td>\n",
       "      <td>75.0</td>\n",
       "      <td>7.0</td>\n",
       "      <td>55.5</td>\n",
       "      <td>64.0</td>\n",
       "      <td>0.0</td>\n",
       "      <td>10.0</td>\n",
       "      <td>0.0</td>\n",
       "      <td>22.5</td>\n",
       "      <td>15.166667</td>\n",
       "      <td>0.507584</td>\n",
       "    </tr>\n",
       "    <tr>\n",
       "      <th>1</th>\n",
       "      <td>2</td>\n",
       "      <td>2008-06-11</td>\n",
       "      <td>RESTUANS</td>\n",
       "      <td>41.95469</td>\n",
       "      <td>-87.800991</td>\n",
       "      <td>86.0</td>\n",
       "      <td>63.5</td>\n",
       "      <td>75.0</td>\n",
       "      <td>7.0</td>\n",
       "      <td>55.5</td>\n",
       "      <td>64.0</td>\n",
       "      <td>0.0</td>\n",
       "      <td>10.0</td>\n",
       "      <td>0.0</td>\n",
       "      <td>22.5</td>\n",
       "      <td>15.166667</td>\n",
       "      <td>0.507584</td>\n",
       "    </tr>\n",
       "    <tr>\n",
       "      <th>2</th>\n",
       "      <td>3</td>\n",
       "      <td>2008-06-11</td>\n",
       "      <td>PIPIENS</td>\n",
       "      <td>41.95469</td>\n",
       "      <td>-87.800991</td>\n",
       "      <td>86.0</td>\n",
       "      <td>63.5</td>\n",
       "      <td>75.0</td>\n",
       "      <td>7.0</td>\n",
       "      <td>55.5</td>\n",
       "      <td>64.0</td>\n",
       "      <td>0.0</td>\n",
       "      <td>10.0</td>\n",
       "      <td>0.0</td>\n",
       "      <td>22.5</td>\n",
       "      <td>15.166667</td>\n",
       "      <td>0.507584</td>\n",
       "    </tr>\n",
       "    <tr>\n",
       "      <th>3</th>\n",
       "      <td>4</td>\n",
       "      <td>2008-06-11</td>\n",
       "      <td>SALINARIUS</td>\n",
       "      <td>41.95469</td>\n",
       "      <td>-87.800991</td>\n",
       "      <td>86.0</td>\n",
       "      <td>63.5</td>\n",
       "      <td>75.0</td>\n",
       "      <td>7.0</td>\n",
       "      <td>55.5</td>\n",
       "      <td>64.0</td>\n",
       "      <td>0.0</td>\n",
       "      <td>10.0</td>\n",
       "      <td>0.0</td>\n",
       "      <td>22.5</td>\n",
       "      <td>15.166667</td>\n",
       "      <td>0.507584</td>\n",
       "    </tr>\n",
       "    <tr>\n",
       "      <th>4</th>\n",
       "      <td>5</td>\n",
       "      <td>2008-06-11</td>\n",
       "      <td>TERRITANS</td>\n",
       "      <td>41.95469</td>\n",
       "      <td>-87.800991</td>\n",
       "      <td>86.0</td>\n",
       "      <td>63.5</td>\n",
       "      <td>75.0</td>\n",
       "      <td>7.0</td>\n",
       "      <td>55.5</td>\n",
       "      <td>64.0</td>\n",
       "      <td>0.0</td>\n",
       "      <td>10.0</td>\n",
       "      <td>0.0</td>\n",
       "      <td>22.5</td>\n",
       "      <td>15.166667</td>\n",
       "      <td>0.507584</td>\n",
       "    </tr>\n",
       "  </tbody>\n",
       "</table>\n",
       "</div>"
      ],
      "text/plain": [
       "   id        date           species  latitude  longitude  tmax  tmin  tavg  \\\n",
       "0   1  2008-06-11  PIPIENS/RESTUANS  41.95469 -87.800991  86.0  63.5  75.0   \n",
       "1   2  2008-06-11          RESTUANS  41.95469 -87.800991  86.0  63.5  75.0   \n",
       "2   3  2008-06-11           PIPIENS  41.95469 -87.800991  86.0  63.5  75.0   \n",
       "3   4  2008-06-11        SALINARIUS  41.95469 -87.800991  86.0  63.5  75.0   \n",
       "4   5  2008-06-11         TERRITANS  41.95469 -87.800991  86.0  63.5  75.0   \n",
       "\n",
       "   depart  dewpoint  wetbulb  heat  cool  preciptotal  temp_fluct   daylight  \\\n",
       "0     7.0      55.5     64.0   0.0  10.0          0.0        22.5  15.166667   \n",
       "1     7.0      55.5     64.0   0.0  10.0          0.0        22.5  15.166667   \n",
       "2     7.0      55.5     64.0   0.0  10.0          0.0        22.5  15.166667   \n",
       "3     7.0      55.5     64.0   0.0  10.0          0.0        22.5  15.166667   \n",
       "4     7.0      55.5     64.0   0.0  10.0          0.0        22.5  15.166667   \n",
       "\n",
       "   relative_hum  \n",
       "0      0.507584  \n",
       "1      0.507584  \n",
       "2      0.507584  \n",
       "3      0.507584  \n",
       "4      0.507584  "
      ]
     },
     "execution_count": 35,
     "metadata": {},
     "output_type": "execute_result"
    }
   ],
   "source": [
    "# merge test with weather\n",
    "test = test.merge(weather, on='date', how='left')\n",
    "test.head()"
   ]
  },
  {
   "cell_type": "code",
   "execution_count": 36,
   "id": "e3b30bdd",
   "metadata": {},
   "outputs": [],
   "source": [
    "# transform feature matrix\n",
    "X = pd.DataFrame(ct.fit_transform(test.drop(columns=['id','date'])), \n",
    "                       columns=ct.get_feature_names_out())"
   ]
  },
  {
   "cell_type": "code",
   "execution_count": 41,
   "id": "400cddd6",
   "metadata": {
    "scrolled": true
   },
   "outputs": [
    {
     "data": {
      "text/plain": [
       "Index(['latitude', 'longitude', 'tmax', 'tmin', 'tavg', 'depart', 'dewpoint',\n",
       "       'wetbulb', 'heat', 'cool', 'preciptotal', 'temp_fluct', 'daylight',\n",
       "       'relative_hum', 'species_ERRATICUS', 'species_IFIED CULEX',\n",
       "       'species_PIPIENS', 'species_PIPIENS/RESTUANS', 'species_RESTUANS',\n",
       "       'species_SALINARIUS', 'species_TARSALIS', 'species_TERRITANS'],\n",
       "      dtype='object')"
      ]
     },
     "execution_count": 41,
     "metadata": {},
     "output_type": "execute_result"
    }
   ],
   "source": [
    "X.columns"
   ]
  },
  {
   "cell_type": "code",
   "execution_count": 42,
   "id": "0d33a63e",
   "metadata": {},
   "outputs": [],
   "source": [
    "X.drop(columns=['species_IFIED CULEX'], inplace=True)"
   ]
  },
  {
   "cell_type": "code",
   "execution_count": null,
   "id": "56f5b57c",
   "metadata": {},
   "outputs": [],
   "source": [
    "# get predictions in csv format\n",
    "def get_predictions(model):\n",
    "    df = pd.DataFrame([test.id, model.predict_proba(X)[:,1]]).T\n",
    "    df.rename(columns={'Unnamed 0': 'WnvPresent', 'id': 'Id'}, inplace=True)\n",
    "    df.Id = df.Id.astype(int)\n",
    "    return df\n",
    "\n",
    "get_predictions(rfc).to_csv('../output_data/submit_rfc.csv', index=False)\n",
    "get_predictions(svc).to_csv('../output_data/submit_svc.csv', index=False)\n",
    "get_predictions(lr).to_csv('../output_data/submit_lr.csv', index=False)\n",
    "get_predictions(knn).to_csv('../output_data/submit_knn.csv', index=False)\n",
    "get_predictions(gbc).to_csv('../output_data/submit_gbc.csv', index=False)\n",
    "get_predictions(xgb).to_csv('../output_data/submit_xgb.csv', index=False)\n",
    "get_predictions(et).to_csv('../output_data/submit_et.csv', index=False)"
   ]
  },
  {
   "cell_type": "code",
   "execution_count": null,
   "id": "3185067f",
   "metadata": {},
   "outputs": [],
   "source": []
  }
 ],
 "metadata": {
  "kernelspec": {
   "display_name": "Python 3 (ipykernel)",
   "language": "python",
   "name": "python3"
  },
  "language_info": {
   "codemirror_mode": {
    "name": "ipython",
    "version": 3
   },
   "file_extension": ".py",
   "mimetype": "text/x-python",
   "name": "python",
   "nbconvert_exporter": "python",
   "pygments_lexer": "ipython3",
   "version": "3.8.12"
  }
 },
 "nbformat": 4,
 "nbformat_minor": 5
}
