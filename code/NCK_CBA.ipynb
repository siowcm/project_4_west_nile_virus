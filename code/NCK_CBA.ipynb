{
 "cells": [
  {
   "cell_type": "markdown",
   "metadata": {},
   "source": [
    "# NCK's Cost Benefit Analysis"
   ]
  },
  {
   "cell_type": "markdown",
   "metadata": {},
   "source": [
    "## Annual Cost Projection "
   ]
  },
  {
   "cell_type": "markdown",
   "metadata": {},
   "source": [
    "#larvicides\n",
    "\n",
    "#volume of spraying\n",
    "#frequency: once every 7-14 days\n",
    "\n",
    "http://www.gfmosquito.com/wp-content/uploads/2013/06/2013-North-Dakota-Bid-Tabulation.pdf\n",
    "    \n",
    "This document shows price of North Dakota insecticide prices, but the"
   ]
  },
  {
   "cell_type": "markdown",
   "metadata": {},
   "source": [
    "## Benefits "
   ]
  },
  {
   "cell_type": "code",
   "execution_count": null,
   "metadata": {},
   "outputs": [],
   "source": [
    "#healthcare savings\n",
    "#hospital cost\n",
    "\n",
    "#average hospitalization stay\n",
    "#medical costs\n",
    "#doctor visits\n",
    "#medication"
   ]
  },
  {
   "cell_type": "markdown",
   "metadata": {},
   "source": [
    "## Effectiveness of the spray "
   ]
  },
  {
   "cell_type": "markdown",
   "metadata": {},
   "source": [
    "#how many % quantification"
   ]
  },
  {
   "cell_type": "markdown",
   "metadata": {},
   "source": [
    "## Species & Life Cycle"
   ]
  },
  {
   "cell_type": "markdown",
   "metadata": {},
   "source": [
    "- Another NCBI article also suggests that Culex Restuans are more likely to transmit WNV than Culex Pipiens, despite being less likely to be infected. (Cx. restuans were much more likely to have a disseminated infection and to transmit. This finding suggests that there may be more barriers to dissemination and infection of the salivary glands in Cx. pipiens than in Cx. restuans.)\n",
    "\n",
    "\n",
    "Because Culex Restuans and Tarsalis are among the most likely species to transmit WNV <sup>[1](https://www.ncbi.nlm.nih.gov/pmc/articles/PMC2929059/)</sup>, the government should prioritize spraying neighborhoods with a higher incidence of these mosquitoes. If possible, drone technology can be used to track mosquito growth and spray mosquitoes.\n",
    "\n",
    "- CDC has also shown that Culex mosquitoes have a life cycle of approximately 7-10 days (from larvae to adulthood)<sup>[2](https://www.cdc.gov/westnile/resources/pdfs/FS_MosquitoLifeCycle-508.pdf)</sup>. There is also a two weeks lag between mosquito growth and virus transmission (EDA). As a result, the spraying cycle can be aligned with the mosquito growth cycle in order to maximize results."
   ]
  },
  {
   "cell_type": "markdown",
   "metadata": {},
   "source": [
    "## Weather Features & Climate Change"
   ]
  },
  {
   "cell_type": "markdown",
   "metadata": {},
   "source": [
    "Monte Carlo simulation or other simulation strategies can be used to model the effect of climate change on Culex mosquito growth and WNV transmission. Moving forward, summer temperatures are expected to increase because of global warming, and more extreme weather conditions are expected (eg. extreme changes between daily precipitation rate). According to NCBI, these meterological factors are more favourable for mosquito growth rate <sup>[3](\"https://www.ncbi.nlm.nih.gov/pmc/articles/PMC4342965/\")</sup>. The government organizations should take these factors into account when crafting a strategy in order to best tackle this virus."
   ]
  },
  {
   "cell_type": "markdown",
   "metadata": {},
   "source": [
    "## Neighborhood Location "
   ]
  },
  {
   "cell_type": "markdown",
   "metadata": {},
   "source": [
    "According to our EDA analysis, it has been discovered that more spraying has been conducted in wealthier neighborhoods as opposed to less privileged neighborhoods. Because less privileged individuals are less able to afford the exorbitant costs of insurance and American healthcare, it would be more prudent to spray these neighborhoods.\n",
    "\n",
    "Neighborhood age should also be taken into account because older individuals (ages 60-89) have a thinner blood brain barrier and are more likely to get more severe neurological effects from the West Nile Virus<sup>[4](https://www.ncbi.nlm.nih.gov/pmc/articles/PMC3320478/)</sup>."
   ]
  },
  {
   "cell_type": "markdown",
   "metadata": {},
   "source": [
    "## Working with Experts"
   ]
  },
  {
   "cell_type": "markdown",
   "metadata": {},
   "source": [
    "In addition to biostatisticians and epidemologists, these data can be presented to scientists specializing in mosquito biology and infectious diseases, as these scientists will have a greater mastery of this subject matter and more expertise in feature selection and feature engineering. For example, they have more knowledge of the mosquitoes' habitats and breeding habits. As a result, they have an edge in creating a model that generates more outstanding results in predicting WNV transmission.\n",
    "\n",
    "Further collaborations with medical doctors, particularly infectious diseases specialists and internists, can also help them more rapidly identify and treat WNV cases before the individual progresses to a more severe stage of the disease, especially in neighborhoods with a high infection rate."
   ]
  },
  {
   "cell_type": "markdown",
   "metadata": {},
   "source": [
    "# Conclusions"
   ]
  },
  {
   "cell_type": "markdown",
   "metadata": {},
   "source": []
  }
 ],
 "metadata": {
  "kernelspec": {
   "display_name": "Python 3",
   "language": "python",
   "name": "python3"
  },
  "language_info": {
   "codemirror_mode": {
    "name": "ipython",
    "version": 3
   },
   "file_extension": ".py",
   "mimetype": "text/x-python",
   "name": "python",
   "nbconvert_exporter": "python",
   "pygments_lexer": "ipython3",
   "version": "3.7.4"
  }
 },
 "nbformat": 4,
 "nbformat_minor": 2
}
